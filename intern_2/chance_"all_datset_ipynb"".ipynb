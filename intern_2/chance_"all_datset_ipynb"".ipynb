{
  "nbformat": 4,
  "nbformat_minor": 0,
  "metadata": {
    "colab": {
      "provenance": [],
      "authorship_tag": "ABX9TyOwuG1VHpHF58U4r4LBB9dv",
      "include_colab_link": true
    },
    "kernelspec": {
      "name": "python3",
      "display_name": "Python 3"
    },
    "language_info": {
      "name": "python"
    }
  },
  "cells": [
    {
      "cell_type": "markdown",
      "metadata": {
        "id": "view-in-github",
        "colab_type": "text"
      },
      "source": [
        "<a href=\"https://colab.research.google.com/github/DGKobelev/Home/blob/main/intern_2/chance_%22all_datset_ipynb%22%22.ipynb\" target=\"_parent\"><img src=\"https://colab.research.google.com/assets/colab-badge.svg\" alt=\"Open In Colab\"/></a>"
      ]
    },
    {
      "cell_type": "markdown",
      "source": [
        "В ходе проекта была выполнена серия шагов по предобработке данных, созданию модели и её тестированию. Вот краткий обзор всех этапов работы:\n",
        "\n",
        "### 1. **Создание и загрузка файлов**\n",
        "   - Был создан скрипт для загрузки файлов в Google Colab и сохранения их в определённую директорию. Все загруженные файлы были перемещены в папку `/content/drive/MyDrive/Стажировка/Dataset`.\n",
        "   - **Результат:** Успешно загружены и сохранены несколько файлов с датасетами.\n",
        "\n",
        "### 2. **Объединение данных из нескольких файлов**\n",
        "   - Чтение всех Excel-файлов из папки с использованием Pandas и последующее объединение в один DataFrame. При этом обрабатывались столбцы, где отсутствовали данные, добавлялись недостающие столбцы, а данные выравнивались.\n",
        "   - **Результат:** Создан единый DataFrame, содержащий все данные из различных файлов.\n",
        "\n",
        "### 3. **Очистка данных**\n",
        "   - Была произведена очистка данных, в том числе удаление ненужных столбцов и исправление значений в столбце 'Portal User Group'. Удалены строки с пропусками в столбцах 'Description' и 'Portal User Group'.\n",
        "   - **Результат:** Очищенные данные сохранены в отдельный файл.\n",
        "\n",
        "### 4. **Замена сокращений и кодов аэропортов**\n",
        "   - Было разработано несколько функций для замены сокращений на полные формы и для замены кодов аэропортов на соответствующие имена аэропортов. Эти изменения применены к столбцу 'Description'.\n",
        "   - **Результат:** Файл с обновленными текстовыми данными сохранён в формате CSV.\n",
        "\n",
        "### 5. **Нормализация текста и токенизация**\n",
        "   - Тексты были очищены от специальных символов, нормализованы с использованием библиотеки Pymorphy2 для приведения всех слов к начальной форме, и затем токенизированы. Также были удалены стоп-слова, не влияющие на смысл текста.\n",
        "   - **Результат:** Нормализованные и токенизированные данные сохранены в файл.\n",
        "\n",
        "### 6. **Извлечение биграмм**\n",
        "   - Был использован алгоритм для извлечения биграмм из текстов, представленных в столбце 'Description'. Эти биграммы затем добавлены в DataFrame для дальнейшего анализа.\n",
        "   - **Результат:** Файл с биграммами сохранён для последующего использования.\n",
        "\n",
        "### 7. **Поиск дубликатов и очистка данных**\n",
        "   - Создан скрипт для поиска дубликатов биграмм, принадлежащих разным классам. После этого дубликаты были удалены, а очищенные данные сохранены.\n",
        "   - **Результат:** Дубликаты удалены, и данные очищены для дальнейшего анализа.\n",
        "\n",
        "### 8. **Построение матрицы переходов на основе цепей Маркова**\n",
        "   - Построена матрица переходов для каждого класса на основе биграмм, где для каждой биграммы вычислялась вероятность перехода на следующую биграмму. Эти данные нормализованы и сохранены в файл.\n",
        "   - **Результат:** Сохранена матрица переходов для использования в модели на основе цепей Маркова.\n",
        "\n",
        "### 9. **Тестирование модели на основе цепей Маркова**\n",
        "   - Используя ранее построенную матрицу переходов, был реализован алгоритм классификации на основе цепей Маркова. Данные были разделены на обучающую и тестовую выборки, после чего был выполнен процесс предсказания классов для тестовой выборки.\n",
        "   - **Результат:** Модель продемонстрировала точность 0.8904, что является довольно высоким результатом для задачи с 119 уникальными классами.\n",
        "\n",
        "### **Обзор результатов: с 119 уникальными классами**\n",
        "- Модель на основе цепей Маркова показала точность 0.8904, что является хорошим результатом для такой многоклассовой задачи.\n",
        "- Однако некоторые классы имели очень низкие показатели precision и recall, что говорит о недостаточном количестве данных для этих классов или о сложностях в их классификации.\n",
        "- Важно отметить, что классы с малым количеством данных или уникальными особенностями требуют дальнейшей проработки, возможно, через объединение классов или применение других методов обработки данных.\n",
        "\n",
        "Итоговый результат — хорошо работающая модель для большинства классов, с возможностями для дальнейшего улучшения через более сложные методы классификации и работу с редкими классами."
      ],
      "metadata": {
        "id": "XKaVovEg5xOJ"
      }
    },
    {
      "cell_type": "markdown",
      "source": [
        "### Обзор замены классов и тестирования модели на 95 классах\n",
        "\n",
        "#### 1. **Замена классов**\n",
        "В рамках улучшения качества классификации и уменьшения количества классов был проведен процесс объединения и упрощения некоторых классов. Для этого использовался словарь замен классов, в котором малочисленные классы либо объединялись с похожими по смыслу, либо преобразовывались в более общие категории. Примером такого объединения может служить:\n",
        "- Классы вроде \"PRODUCT VIETNAM\", \"PRODUCT SPAIN\", \"PRODUCT CLAIM\" были объединены в более общий класс \"PRODUCT\".\n",
        "- Классы с менее значимыми различиями, такие как \"DIRECT SALES\" и \"ONLINE SALES\", также были объединены, чтобы уменьшить количество классов.\n",
        "\n",
        "#### 2. **Тестирование модели на 119 классах**\n",
        "Результаты тестирования на 119 классах показали точность модели в **0.8904**. Однако в этом тесте было много классов с очень малым количеством данных, что приводило к низким показателям precision и recall для некоторых из них. Например:\n",
        "- Классы вроде `BOOKING B2C`, `DEP3 CLAIM`, и `DEP3 Seychelles` имели крайне низкие значения precision и recall из-за малочисленных примеров.\n",
        "- Это создало ситуацию, когда модель могла классифицировать эти классы почти наугад, что ухудшало общие результаты.\n",
        "\n",
        "#### 3. **Тестирование модели на 95 классах**\n",
        "После выполнения замены и объединения классов, модель была повторно протестирована на 95 классах. Новый результат показал **улучшенную точность** в **0.8918**, что стало небольшим, но значимым улучшением. Вот несколько ключевых наблюдений:\n",
        "- **Объединение редких классов**: После удаления и объединения классов, таких как \"PRODUCT\", \"DEP3\", и \"INFO\", показатели для этих классов значительно улучшились. Например, класс \"PRODUCT\" после объединения с другими схожими классами показал улучшенные результаты, увеличив значение f1-score до **0.91**.\n",
        "- **Более сбалансированные классы**: Теперь меньше классов с очень малым количеством данных, таких как \"BOOKING B2C\" и \"DEP3 CLAIM\". Благодаря этому удалось улучшить макро показатели precision и recall, которые выросли до **0.80 и 0.95** соответственно, что стало большим шагом вперёд по сравнению с тестированием на 119 классах.\n",
        "  \n",
        "#### 4. **Анализ результатов**\n",
        "- **Точность**: Точность увеличилась с **0.8904** на 119 классах до **0.8918** на 95 классах. Хотя это увеличение может показаться небольшим, оно демонстрирует, что упрощение классов привело к более точным результатам.\n",
        "- **F1-score**: С объединением классов и уменьшением количества редких классов удалось улучшить показатели для классов, которые ранее имели низкие результаты. Общие показатели f1-score улучшились, особенно для классов, таких как \"PRODUCT\" и \"ACCOUNTING NOTE\", что в итоге подняло средневзвешенное значение f1-score для всей модели.\n",
        "\n",
        "#### 5. **Заключение**\n",
        "- **Объединение малочисленных классов** и **упрощение категорий** помогли улучшить общие показатели модели, минимизировав влияние малочисленных классов на результаты.\n",
        "- Несмотря на небольшое улучшение в точности, было замечено значительное улучшение в более сбалансированных классах, что помогает модели предсказывать результаты с большей уверенностью и точностью.\n",
        "- Однако стоит отметить, что некоторая потеря информации из-за объединения классов может в будущем потребовать более тонкой настройки и работы с данными, чтобы не терять важные признаки классов при дальнейших улучшениях модели."
      ],
      "metadata": {
        "id": "lU255atD8FDU"
      }
    },
    {
      "cell_type": "code",
      "execution_count": null,
      "metadata": {
        "colab": {
          "base_uri": "https://localhost:8080/"
        },
        "id": "IxoHqaytSMJd",
        "outputId": "faef7ae6-280e-402d-9379-98607667ea59"
      },
      "outputs": [
        {
          "output_type": "stream",
          "name": "stdout",
          "text": [
            "Mounted at /content/drive\n"
          ]
        }
      ],
      "source": [
        "from google.colab import drive\n",
        "drive.mount('/content/drive')\n"
      ]
    },
    {
      "cell_type": "markdown",
      "metadata": {
        "id": "6ugGwQmF_r7-"
      },
      "source": [
        "**Загрузка датасета**"
      ]
    },
    {
      "cell_type": "code",
      "execution_count": null,
      "metadata": {
        "colab": {
          "base_uri": "https://localhost:8080/",
          "height": 576
        },
        "id": "rLPZYLLwlwZz",
        "outputId": "795d55e2-685a-4716-e7d1-f8fabed1633e"
      },
      "outputs": [
        {
          "data": {
            "text/html": [
              "\n",
              "     <input type=\"file\" id=\"files-f2e5e6f1-2310-4099-9ddf-df6c636db023\" name=\"files[]\" multiple disabled\n",
              "        style=\"border:none\" />\n",
              "     <output id=\"result-f2e5e6f1-2310-4099-9ddf-df6c636db023\">\n",
              "      Upload widget is only available when the cell has been executed in the\n",
              "      current browser session. Please rerun this cell to enable.\n",
              "      </output>\n",
              "      <script>// Copyright 2017 Google LLC\n",
              "//\n",
              "// Licensed under the Apache License, Version 2.0 (the \"License\");\n",
              "// you may not use this file except in compliance with the License.\n",
              "// You may obtain a copy of the License at\n",
              "//\n",
              "//      http://www.apache.org/licenses/LICENSE-2.0\n",
              "//\n",
              "// Unless required by applicable law or agreed to in writing, software\n",
              "// distributed under the License is distributed on an \"AS IS\" BASIS,\n",
              "// WITHOUT WARRANTIES OR CONDITIONS OF ANY KIND, either express or implied.\n",
              "// See the License for the specific language governing permissions and\n",
              "// limitations under the License.\n",
              "\n",
              "/**\n",
              " * @fileoverview Helpers for google.colab Python module.\n",
              " */\n",
              "(function(scope) {\n",
              "function span(text, styleAttributes = {}) {\n",
              "  const element = document.createElement('span');\n",
              "  element.textContent = text;\n",
              "  for (const key of Object.keys(styleAttributes)) {\n",
              "    element.style[key] = styleAttributes[key];\n",
              "  }\n",
              "  return element;\n",
              "}\n",
              "\n",
              "// Max number of bytes which will be uploaded at a time.\n",
              "const MAX_PAYLOAD_SIZE = 100 * 1024;\n",
              "\n",
              "function _uploadFiles(inputId, outputId) {\n",
              "  const steps = uploadFilesStep(inputId, outputId);\n",
              "  const outputElement = document.getElementById(outputId);\n",
              "  // Cache steps on the outputElement to make it available for the next call\n",
              "  // to uploadFilesContinue from Python.\n",
              "  outputElement.steps = steps;\n",
              "\n",
              "  return _uploadFilesContinue(outputId);\n",
              "}\n",
              "\n",
              "// This is roughly an async generator (not supported in the browser yet),\n",
              "// where there are multiple asynchronous steps and the Python side is going\n",
              "// to poll for completion of each step.\n",
              "// This uses a Promise to block the python side on completion of each step,\n",
              "// then passes the result of the previous step as the input to the next step.\n",
              "function _uploadFilesContinue(outputId) {\n",
              "  const outputElement = document.getElementById(outputId);\n",
              "  const steps = outputElement.steps;\n",
              "\n",
              "  const next = steps.next(outputElement.lastPromiseValue);\n",
              "  return Promise.resolve(next.value.promise).then((value) => {\n",
              "    // Cache the last promise value to make it available to the next\n",
              "    // step of the generator.\n",
              "    outputElement.lastPromiseValue = value;\n",
              "    return next.value.response;\n",
              "  });\n",
              "}\n",
              "\n",
              "/**\n",
              " * Generator function which is called between each async step of the upload\n",
              " * process.\n",
              " * @param {string} inputId Element ID of the input file picker element.\n",
              " * @param {string} outputId Element ID of the output display.\n",
              " * @return {!Iterable<!Object>} Iterable of next steps.\n",
              " */\n",
              "function* uploadFilesStep(inputId, outputId) {\n",
              "  const inputElement = document.getElementById(inputId);\n",
              "  inputElement.disabled = false;\n",
              "\n",
              "  const outputElement = document.getElementById(outputId);\n",
              "  outputElement.innerHTML = '';\n",
              "\n",
              "  const pickedPromise = new Promise((resolve) => {\n",
              "    inputElement.addEventListener('change', (e) => {\n",
              "      resolve(e.target.files);\n",
              "    });\n",
              "  });\n",
              "\n",
              "  const cancel = document.createElement('button');\n",
              "  inputElement.parentElement.appendChild(cancel);\n",
              "  cancel.textContent = 'Cancel upload';\n",
              "  const cancelPromise = new Promise((resolve) => {\n",
              "    cancel.onclick = () => {\n",
              "      resolve(null);\n",
              "    };\n",
              "  });\n",
              "\n",
              "  // Wait for the user to pick the files.\n",
              "  const files = yield {\n",
              "    promise: Promise.race([pickedPromise, cancelPromise]),\n",
              "    response: {\n",
              "      action: 'starting',\n",
              "    }\n",
              "  };\n",
              "\n",
              "  cancel.remove();\n",
              "\n",
              "  // Disable the input element since further picks are not allowed.\n",
              "  inputElement.disabled = true;\n",
              "\n",
              "  if (!files) {\n",
              "    return {\n",
              "      response: {\n",
              "        action: 'complete',\n",
              "      }\n",
              "    };\n",
              "  }\n",
              "\n",
              "  for (const file of files) {\n",
              "    const li = document.createElement('li');\n",
              "    li.append(span(file.name, {fontWeight: 'bold'}));\n",
              "    li.append(span(\n",
              "        `(${file.type || 'n/a'}) - ${file.size} bytes, ` +\n",
              "        `last modified: ${\n",
              "            file.lastModifiedDate ? file.lastModifiedDate.toLocaleDateString() :\n",
              "                                    'n/a'} - `));\n",
              "    const percent = span('0% done');\n",
              "    li.appendChild(percent);\n",
              "\n",
              "    outputElement.appendChild(li);\n",
              "\n",
              "    const fileDataPromise = new Promise((resolve) => {\n",
              "      const reader = new FileReader();\n",
              "      reader.onload = (e) => {\n",
              "        resolve(e.target.result);\n",
              "      };\n",
              "      reader.readAsArrayBuffer(file);\n",
              "    });\n",
              "    // Wait for the data to be ready.\n",
              "    let fileData = yield {\n",
              "      promise: fileDataPromise,\n",
              "      response: {\n",
              "        action: 'continue',\n",
              "      }\n",
              "    };\n",
              "\n",
              "    // Use a chunked sending to avoid message size limits. See b/62115660.\n",
              "    let position = 0;\n",
              "    do {\n",
              "      const length = Math.min(fileData.byteLength - position, MAX_PAYLOAD_SIZE);\n",
              "      const chunk = new Uint8Array(fileData, position, length);\n",
              "      position += length;\n",
              "\n",
              "      const base64 = btoa(String.fromCharCode.apply(null, chunk));\n",
              "      yield {\n",
              "        response: {\n",
              "          action: 'append',\n",
              "          file: file.name,\n",
              "          data: base64,\n",
              "        },\n",
              "      };\n",
              "\n",
              "      let percentDone = fileData.byteLength === 0 ?\n",
              "          100 :\n",
              "          Math.round((position / fileData.byteLength) * 100);\n",
              "      percent.textContent = `${percentDone}% done`;\n",
              "\n",
              "    } while (position < fileData.byteLength);\n",
              "  }\n",
              "\n",
              "  // All done.\n",
              "  yield {\n",
              "    response: {\n",
              "      action: 'complete',\n",
              "    }\n",
              "  };\n",
              "}\n",
              "\n",
              "scope.google = scope.google || {};\n",
              "scope.google.colab = scope.google.colab || {};\n",
              "scope.google.colab._files = {\n",
              "  _uploadFiles,\n",
              "  _uploadFilesContinue,\n",
              "};\n",
              "})(self);\n",
              "</script> "
            ],
            "text/plain": [
              "<IPython.core.display.HTML object>"
            ]
          },
          "metadata": {},
          "output_type": "display_data"
        },
        {
          "name": "stdout",
          "output_type": "stream",
          "text": [
            "Saving AI_dataset_2022-3Q.xlsx to AI_dataset_2022-3Q.xlsx\n",
            "Saving AI_dataset_2022-4Q.xlsx to AI_dataset_2022-4Q.xlsx\n",
            "Saving AI_dataset_2023-1Q.xlsx to AI_dataset_2023-1Q.xlsx\n",
            "Saving AI_dataset_2023-2Q.xlsx to AI_dataset_2023-2Q.xlsx\n",
            "Saving AI_dataset_2023-3Q.xlsx to AI_dataset_2023-3Q.xlsx\n",
            "Saving AI_dataset_2023-4Q.xlsx to AI_dataset_2023-4Q.xlsx\n",
            "Saving AI_dataset_2024-1Q.xlsx to AI_dataset_2024-1Q.xlsx\n",
            "Saving AI_dataset_2024-2Q(28.05.2024).xlsx to AI_dataset_2024-2Q(28.05.2024).xlsx\n",
            "Saving AI_dataset_2024-2Q(29.05.2024).xlsx to AI_dataset_2024-2Q(29.05.2024).xlsx\n",
            "Saving AI_dataset_2024-2Q(30.05.2024-03.06.2024).xlsx to AI_dataset_2024-2Q(30.05.2024-03.06.2024).xlsx\n",
            "Файл успешно сохранен в /content/drive/MyDrive/Стажировка/Dataset/AI_dataset_2022-3Q.xlsx\n",
            "Файл успешно сохранен в /content/drive/MyDrive/Стажировка/Dataset/AI_dataset_2022-4Q.xlsx\n",
            "Файл успешно сохранен в /content/drive/MyDrive/Стажировка/Dataset/AI_dataset_2023-1Q.xlsx\n",
            "Файл успешно сохранен в /content/drive/MyDrive/Стажировка/Dataset/AI_dataset_2023-2Q.xlsx\n",
            "Файл успешно сохранен в /content/drive/MyDrive/Стажировка/Dataset/AI_dataset_2023-3Q.xlsx\n",
            "Файл успешно сохранен в /content/drive/MyDrive/Стажировка/Dataset/AI_dataset_2023-4Q.xlsx\n",
            "Файл успешно сохранен в /content/drive/MyDrive/Стажировка/Dataset/AI_dataset_2024-1Q.xlsx\n",
            "Файл успешно сохранен в /content/drive/MyDrive/Стажировка/Dataset/AI_dataset_2024-2Q(28.05.2024).xlsx\n",
            "Файл успешно сохранен в /content/drive/MyDrive/Стажировка/Dataset/AI_dataset_2024-2Q(29.05.2024).xlsx\n",
            "Файл успешно сохранен в /content/drive/MyDrive/Стажировка/Dataset/AI_dataset_2024-2Q(30.05.2024-03.06.2024).xlsx\n"
          ]
        }
      ],
      "source": [
        "import os\n",
        "from google.colab import files\n",
        "\n",
        "# Создание директории для сохранения датасета, если она не существует\n",
        "save_path = \"/content/drive/MyDrive/Стажировка/Dataset\"\n",
        "if not os.path.exists(save_path):\n",
        "    os.makedirs(save_path)\n",
        "\n",
        "# Загрузка файлов в среду выполнения Colab\n",
        "uploaded = files.upload()\n",
        "\n",
        "# Проверка успешности загрузки\n",
        "if len(uploaded) > 0:\n",
        "    # Сохранение загруженных файлов в созданную директорию\n",
        "    for filename, data in uploaded.items():\n",
        "        file_path = os.path.join(save_path, filename)\n",
        "        with open(file_path, \"wb\") as f:\n",
        "            f.write(data)\n",
        "        print(\"Файл успешно сохранен в\", file_path)\n",
        "\n",
        "    # Удаление файлов из текущей директории (/content), если они были загружены\n",
        "    for filename in os.listdir('/content'):\n",
        "        if filename in uploaded.keys():\n",
        "            os.remove(os.path.join('/content', filename))\n",
        "\n",
        "else:\n",
        "    print(\"Не удалось загрузить файлы.\")"
      ]
    },
    {
      "cell_type": "markdown",
      "source": [
        "**Объединение всех файлов в один.**"
      ],
      "metadata": {
        "id": "_Y0Q4I2rXGln"
      }
    },
    {
      "cell_type": "code",
      "execution_count": null,
      "metadata": {
        "colab": {
          "base_uri": "https://localhost:8080/"
        },
        "id": "fn8G_0YyAnbD",
        "outputId": "f87bbaa2-ad9c-439f-d0b5-712f7ae2af51"
      },
      "outputs": [
        {
          "output_type": "stream",
          "name": "stdout",
          "text": [
            "Requirement already satisfied: openpyxl in /usr/local/lib/python3.10/dist-packages (3.1.5)\n",
            "Requirement already satisfied: et-xmlfile in /usr/local/lib/python3.10/dist-packages (from openpyxl) (1.1.0)\n"
          ]
        }
      ],
      "source": [
        "!pip install openpyxl\n"
      ]
    },
    {
      "cell_type": "code",
      "execution_count": null,
      "metadata": {
        "colab": {
          "base_uri": "https://localhost:8080/"
        },
        "id": "ojXLmE83EhN-",
        "outputId": "f6207ba8-8b17-47df-f579-e1bbb13b41cd"
      },
      "outputs": [
        {
          "name": "stderr",
          "output_type": "stream",
          "text": [
            "/usr/local/lib/python3.10/dist-packages/openpyxl/worksheet/_reader.py:329: UserWarning: Data Validation extension is not supported and will be removed\n",
            "  warn(msg)\n",
            "/usr/local/lib/python3.10/dist-packages/openpyxl/styles/stylesheet.py:237: UserWarning: Workbook contains no default style, apply openpyxl's default\n",
            "  warn(\"Workbook contains no default style, apply openpyxl's default\")\n",
            "/usr/local/lib/python3.10/dist-packages/openpyxl/styles/stylesheet.py:237: UserWarning: Workbook contains no default style, apply openpyxl's default\n",
            "  warn(\"Workbook contains no default style, apply openpyxl's default\")\n",
            "/usr/local/lib/python3.10/dist-packages/openpyxl/styles/stylesheet.py:237: UserWarning: Workbook contains no default style, apply openpyxl's default\n",
            "  warn(\"Workbook contains no default style, apply openpyxl's default\")\n",
            "/usr/local/lib/python3.10/dist-packages/openpyxl/worksheet/_reader.py:329: UserWarning: Data Validation extension is not supported and will be removed\n",
            "  warn(msg)\n"
          ]
        }
      ],
      "source": [
        "import pandas as pd\n",
        "import os\n",
        "\n",
        "# Указать путь к папке с файлами\n",
        "folder_path = '/content/drive/MyDrive/Стажировка/Dataset'\n",
        "\n",
        "# Создать список для хранения DataFrame\n",
        "dataframes = []\n",
        "columns_set = set()\n",
        "\n",
        "# Пройтись по всем файлам в папке и прочитать их\n",
        "for filename in os.listdir(folder_path):\n",
        "    if filename.endswith('.xlsx'):\n",
        "        file_path = os.path.join(folder_path, filename)\n",
        "        df = pd.read_excel(file_path)\n",
        "        dataframes.append(df)\n",
        "        columns_set.update(df.columns)\n",
        "\n",
        "# Преобразовать set в список для сохранения порядка столбцов\n",
        "all_columns = list(columns_set)\n",
        "\n",
        "# Заполнить недостающие столбцы NaN значениями\n",
        "for i, df in enumerate(dataframes):\n",
        "    missing_cols = set(all_columns) - set(df.columns)\n",
        "    for col in missing_cols:\n",
        "        df[col] = pd.NA\n",
        "    # Переупорядочить столбцы в соответствии с all_columns\n",
        "    dataframes[i] = df[all_columns]\n",
        "\n",
        "# Объединить все DataFrame в один\n",
        "combined_df = pd.concat(dataframes, ignore_index=True)\n",
        "\n",
        "# Сохранить объединённый DataFrame в новый файл с использованием openpyxl\n",
        "combined_df.to_excel('/content/drive/MyDrive/Стажировка/Dataset/combined_file.xlsx', index=False, engine='openpyxl')\n"
      ]
    },
    {
      "cell_type": "markdown",
      "source": [
        "**Удаление не нужных столбцов, слов и строк с пустыми текстами.**"
      ],
      "metadata": {
        "id": "YawecAyDXaQA"
      }
    },
    {
      "cell_type": "code",
      "execution_count": null,
      "metadata": {
        "id": "9heVfRnzKfmB"
      },
      "outputs": [],
      "source": [
        "import pandas as pd\n",
        "\n",
        "# Загрузка файла CSV\n",
        "combined_df = pd.read_csv('/content/drive/MyDrive/Стажировка/Dataset/combined_file.csv')\n",
        "\n",
        "# Удаление указанных столбцов\n",
        "columns_to_drop = [\n",
        "    '(Do Not Modify) Case',\n",
        "    '(Do Not Modify) Row Checksum',\n",
        "    '(Do Not Modify) Modified On',\n",
        "    'Created On',\n",
        "    'Reservation Date (Reservation) (Voucher)',\n",
        "    'Reservation Begin Date (Reservation) (Voucher)',\n",
        "    'Reservation End Date (Reservation) (Voucher)'\n",
        "]\n",
        "combined_df = combined_df.drop(columns=columns_to_drop)\n",
        "\n",
        "# Удаление слов \"(Coral)\" и \"(Sunmar)\" из столбца Portal User Group\n",
        "combined_df['Portal User Group'] = combined_df['Portal User Group'].str.replace(r'\\(Coral\\)', '', regex=True)\n",
        "combined_df['Portal User Group'] = combined_df['Portal User Group'].str.replace(r'\\(Sunmar\\)', '', regex=True)\n",
        "\n",
        "# Удаление строк с пустыми значениями в столбцах Description и Portal User Group\n",
        "combined_df = combined_df.dropna(subset=['Description', 'Portal User Group'])\n",
        "\n",
        "# Сохранение объединенного DataFrame в формате CSV\n",
        "combined_df.to_csv('/content/drive/MyDrive/Стажировка/Dataset/combined_part_file.csv', index=False)\n"
      ]
    },
    {
      "cell_type": "markdown",
      "source": [
        "**Замены сокращений и кодов аэропортов.**"
      ],
      "metadata": {
        "id": "KWyDYA9f3slZ"
      }
    },
    {
      "cell_type": "code",
      "source": [
        "!pip install python-docx"
      ],
      "metadata": {
        "colab": {
          "base_uri": "https://localhost:8080/"
        },
        "id": "94X5OEih_VJb",
        "outputId": "d6d309e1-347b-496b-8361-1bdb2d2d979d"
      },
      "execution_count": null,
      "outputs": [
        {
          "output_type": "stream",
          "name": "stdout",
          "text": [
            "Collecting python-docx\n",
            "  Downloading python_docx-1.1.2-py3-none-any.whl.metadata (2.0 kB)\n",
            "Requirement already satisfied: lxml>=3.1.0 in /usr/local/lib/python3.10/dist-packages (from python-docx) (4.9.4)\n",
            "Requirement already satisfied: typing-extensions>=4.9.0 in /usr/local/lib/python3.10/dist-packages (from python-docx) (4.12.2)\n",
            "Downloading python_docx-1.1.2-py3-none-any.whl (244 kB)\n",
            "\u001b[?25l   \u001b[90m━━━━━━━━━━━━━━━━━━━━━━━━━━━━━━━━━━━━━━━━\u001b[0m \u001b[32m0.0/244.3 kB\u001b[0m \u001b[31m?\u001b[0m eta \u001b[36m-:--:--\u001b[0m\r\u001b[2K   \u001b[90m━━━━━━━━━━━━━━━━━━━━━━━━━━━━━━━━━━━━━━━━\u001b[0m \u001b[32m244.3/244.3 kB\u001b[0m \u001b[31m11.3 MB/s\u001b[0m eta \u001b[36m0:00:00\u001b[0m\n",
            "\u001b[?25hInstalling collected packages: python-docx\n",
            "Successfully installed python-docx-1.1.2\n"
          ]
        }
      ]
    },
    {
      "cell_type": "code",
      "source": [
        "import pandas as pd\n",
        "import re\n",
        "import ast\n",
        "import docx\n",
        "\n",
        "# Создание словаря сокращений\n",
        "abbreviations = {\n",
        "    # Список сокращений...\n",
        "}\n",
        "\n",
        "# Преобразование ключей словаря к нижнему регистру для учёта обоих регистров\n",
        "abbreviations = {k.lower(): v for k, v in abbreviations.items()}\n",
        "\n",
        "# Функция для замены сокращений на полные формы с учётом чисел от 1 до 9 перед или после сокращений\n",
        "def replace_abbreviations(text, abbreviations):\n",
        "    if isinstance(text, list):\n",
        "        cleaned_text = []\n",
        "        for sublist in text:\n",
        "            cleaned_sublist = []\n",
        "            for word in sublist:\n",
        "                match = re.match(r'(\\d{1,2})?(.*?)(\\d{1,2})?$', word.lower())\n",
        "                if match:\n",
        "                    prefix, abbrev, suffix = match.groups()\n",
        "                    word_replaced = abbreviations.get(abbrev, word)\n",
        "                    if prefix:\n",
        "                        word_replaced = prefix + ' ' + word_replaced\n",
        "                    if suffix:\n",
        "                        word_replaced = word_replaced + ' ' + suffix\n",
        "                    cleaned_sublist.append(word_replaced)\n",
        "                else:\n",
        "                    cleaned_sublist.append(word)\n",
        "            cleaned_text.append(cleaned_sublist)\n",
        "        return cleaned_text\n",
        "    return text\n",
        "\n",
        "# Функция для безопасной оценки строк\n",
        "def safe_eval(text):\n",
        "    try:\n",
        "        if text.startswith('[') and text.endswith(']'):\n",
        "            return ast.literal_eval(text)\n",
        "    except Exception as e:\n",
        "        print(f\"Ошибка при преобразовании текста: {e}\")\n",
        "        return text\n",
        "    return text\n",
        "\n",
        "# Функция для чтения таблицы из документа Word\n",
        "def read_airport_codes(doc_path):\n",
        "    doc = docx.Document(doc_path)\n",
        "    airport_dict = {}\n",
        "    for table in doc.tables:\n",
        "        for row in table.rows:\n",
        "            city = row.cells[0].text.strip()\n",
        "            code = row.cells[1].text.strip()\n",
        "            airport_dict[code.lower()] = f\"аэропорт {city}\"\n",
        "    return airport_dict\n",
        "\n",
        "# Путь к файлу с кодами аэропортов\n",
        "doc_path = '/content/drive/MyDrive/Last/Список аэропорт.docx'\n",
        "\n",
        "# Загрузка словаря с кодами аэропортов\n",
        "airport_codes = read_airport_codes(doc_path)\n",
        "\n",
        "# Загрузка данных из combined_part_file.csv\n",
        "df = pd.read_csv('/content/drive/MyDrive/Стажировка/Dataset/combined_part_file.csv')\n",
        "\n",
        "# Преобразование строковых представлений списков обратно в списки\n",
        "df['Description'] = df['Description'].apply(lambda x: safe_eval(x) if isinstance(x, str) else x)\n",
        "\n",
        "# Применение функции замены сокращений к столбцу 'Description'\n",
        "df['Description'] = df['Description'].apply(lambda x: replace_abbreviations(x, abbreviations))\n",
        "\n",
        "# Применение функции замены кодов аэропортов\n",
        "df['Description'] = df['Description'].apply(lambda x: replace_abbreviations(x, airport_codes))\n",
        "\n",
        "# Сохранение данных после замены\n",
        "output_csv_path = '/content/drive/MyDrive/Last_1/final_dataset.csv'\n",
        "df.to_csv(output_csv_path, index=False)\n",
        "print(\"Сокращения и коды аэропортов успешно заменены и данные сохранены в формате CSV.\")\n"
      ],
      "metadata": {
        "colab": {
          "base_uri": "https://localhost:8080/"
        },
        "id": "f3uccMWUeCZK",
        "outputId": "ec303e71-415f-436e-8da7-d5e05d31d791"
      },
      "execution_count": null,
      "outputs": [
        {
          "output_type": "stream",
          "name": "stdout",
          "text": [
            "Сокращения и коды аэропортов успешно заменены и данные сохранены в формате CSV.\n"
          ]
        }
      ]
    },
    {
      "cell_type": "markdown",
      "source": [
        "**Перевод текстов в столбце Description к нижнему регистру и удаление лишних пробелов и символов.**"
      ],
      "metadata": {
        "id": "-WPShUCyHrFM"
      }
    },
    {
      "cell_type": "code",
      "execution_count": null,
      "metadata": {
        "colab": {
          "base_uri": "https://localhost:8080/"
        },
        "id": "o9ufrJGHxpPt",
        "outputId": "c9c13aba-9f51-4ad4-a32d-56356a904413"
      },
      "outputs": [
        {
          "output_type": "stream",
          "name": "stdout",
          "text": [
            "Collecting pymorphy2\n",
            "  Downloading pymorphy2-0.9.1-py3-none-any.whl.metadata (3.6 kB)\n",
            "Collecting dawg-python>=0.7.1 (from pymorphy2)\n",
            "  Downloading DAWG_Python-0.7.2-py2.py3-none-any.whl.metadata (7.0 kB)\n",
            "Collecting pymorphy2-dicts-ru<3.0,>=2.4 (from pymorphy2)\n",
            "  Downloading pymorphy2_dicts_ru-2.4.417127.4579844-py2.py3-none-any.whl.metadata (2.1 kB)\n",
            "Collecting docopt>=0.6 (from pymorphy2)\n",
            "  Downloading docopt-0.6.2.tar.gz (25 kB)\n",
            "  Preparing metadata (setup.py) ... \u001b[?25l\u001b[?25hdone\n",
            "Downloading pymorphy2-0.9.1-py3-none-any.whl (55 kB)\n",
            "\u001b[2K   \u001b[90m━━━━━━━━━━━━━━━━━━━━━━━━━━━━━━━━━━━━━━━━\u001b[0m \u001b[32m55.5/55.5 kB\u001b[0m \u001b[31m2.5 MB/s\u001b[0m eta \u001b[36m0:00:00\u001b[0m\n",
            "\u001b[?25hDownloading DAWG_Python-0.7.2-py2.py3-none-any.whl (11 kB)\n",
            "Downloading pymorphy2_dicts_ru-2.4.417127.4579844-py2.py3-none-any.whl (8.2 MB)\n",
            "\u001b[2K   \u001b[90m━━━━━━━━━━━━━━━━━━━━━━━━━━━━━━━━━━━━━━━━\u001b[0m \u001b[32m8.2/8.2 MB\u001b[0m \u001b[31m64.3 MB/s\u001b[0m eta \u001b[36m0:00:00\u001b[0m\n",
            "\u001b[?25hBuilding wheels for collected packages: docopt\n",
            "  Building wheel for docopt (setup.py) ... \u001b[?25l\u001b[?25hdone\n",
            "  Created wheel for docopt: filename=docopt-0.6.2-py2.py3-none-any.whl size=13704 sha256=acc9a680b2a72367703da5daadec28a9fa0a2d9187835318de5c6f43b1ab943b\n",
            "  Stored in directory: /root/.cache/pip/wheels/fc/ab/d4/5da2067ac95b36618c629a5f93f809425700506f72c9732fac\n",
            "Successfully built docopt\n",
            "Installing collected packages: pymorphy2-dicts-ru, docopt, dawg-python, pymorphy2\n",
            "Successfully installed dawg-python-0.7.2 docopt-0.6.2 pymorphy2-0.9.1 pymorphy2-dicts-ru-2.4.417127.4579844\n"
          ]
        }
      ],
      "source": [
        "!pip install pymorphy2\n"
      ]
    },
    {
      "cell_type": "code",
      "source": [
        "import pandas as pd\n",
        "import pymorphy2\n",
        "import re\n",
        "import nltk\n",
        "from nltk.corpus import stopwords\n",
        "from tqdm import tqdm\n",
        "\n",
        "# Инициализация анализатора pymorphy2\n",
        "ma = pymorphy2.MorphAnalyzer()\n",
        "\n",
        "# Загрузка стоп-слов из NLTK\n",
        "nltk.download('stopwords')\n",
        "stop_words = set(stopwords.words('russian'))\n",
        "\n",
        "# Добавление дополнительных стоп-слов\n",
        "additional_stop_words = {'коллеги', 'коллега', 'добрый', 'день', 'вечер', 'пожалуйста', 'уважаемый', 'здравствуйте'}\n",
        "stop_words.update(additional_stop_words)\n",
        "\n",
        "# Функция для очистки и нормализации текста\n",
        "def clean_text(text):\n",
        "    # Удаление ненужных символов\n",
        "    text = re.sub(r'[^\\w\\s]', '', text)\n",
        "    text = text.replace(\"\\\\\", \" \").replace(u\"╚\", \" \").replace(u\"╩\", \" \")\n",
        "    text = text.lower()\n",
        "    text = re.sub('-\\s*\\r\\n|\\r\\n', '', text)  # удаление переносов строк\n",
        "    text = \" \".join(ma.parse(word)[0].normal_form for word in text.split())\n",
        "    text = re.sub('\\s+', ' ', text)  # замена нескольких пробелов одним\n",
        "    text = ' '.join(word for word in text.split() if word not in stop_words)\n",
        "    return text\n",
        "\n",
        "# Загрузка данных\n",
        "file_path = '/content/drive/MyDrive/Last_1/final_dataset.csv'\n",
        "combined_df = pd.read_csv(file_path)\n",
        "\n",
        "# Применение функции очистки и нормализации к столбцу 'Description' с индикацией выполнения\n",
        "tqdm.pandas()\n",
        "combined_df['Description_reduct'] = combined_df['Description'].progress_apply(clean_text)\n",
        "\n",
        "# Сохранение очищенного DataFrame в формате CSV\n",
        "output_csv_path = '/content/drive/MyDrive/Last_1/final_dataset_cleaned.csv'\n",
        "combined_df.to_csv(output_csv_path, index=False)\n",
        "\n",
        "print(\"DataFrame успешно сохранен в формате CSV.\")\n"
      ],
      "metadata": {
        "colab": {
          "base_uri": "https://localhost:8080/"
        },
        "id": "SLLzUC1joOye",
        "outputId": "c4dcb40d-aaf9-4170-f2b6-55a28afe8316"
      },
      "execution_count": null,
      "outputs": [
        {
          "output_type": "stream",
          "name": "stderr",
          "text": [
            "[nltk_data] Downloading package stopwords to /root/nltk_data...\n",
            "[nltk_data]   Package stopwords is already up-to-date!\n",
            "100%|██████████| 918781/918781 [1:42:51<00:00, 148.86it/s]\n"
          ]
        },
        {
          "output_type": "stream",
          "name": "stdout",
          "text": [
            "DataFrame успешно сохранен в формате CSV.\n"
          ]
        }
      ]
    },
    {
      "cell_type": "markdown",
      "source": [
        "**Разбивка текста на отдельные слова.**\n",
        "\n",
        "---\n",
        "Разделение текста на слова позволяет позже легко извлекать биграммы.\n"
      ],
      "metadata": {
        "id": "wbalpIGrWM2k"
      }
    },
    {
      "cell_type": "code",
      "source": [
        "import pandas as pd\n",
        "\n",
        "# Загрузка данных\n",
        "file_path = '/content/drive/MyDrive/Last_1/final_dataset_cleaned.csv'\n",
        "df = pd.read_csv(file_path)\n",
        "\n",
        "# Функция для разбиения текста на слова и исключения чисел\n",
        "def split_text(text):\n",
        "    if pd.isna(text) or not isinstance(text, str) or text.strip() == '':  # Проверка на пустые и пропущенные строки\n",
        "        return []  # Возвращаем пустой список, если текст отсутствует или пустой\n",
        "    words = text.split()\n",
        "    words = [word for word in words if not word.isdigit()]  # Исключаем числа\n",
        "    return words\n",
        "\n",
        "# Применение функции к столбцу 'Description_reduct'\n",
        "df['Description_reduct_words'] = df['Description_reduct'].apply(split_text)\n",
        "\n",
        "# Сохранение обновленного DataFrame в формате CSV\n",
        "output_csv_path = '/content/drive/MyDrive/Last_1/final_dataset_words.csv'\n",
        "df.to_csv(output_csv_path, index=False)\n",
        "\n",
        "print(\"DataFrame успешно сохранен в формате CSV.\")\n"
      ],
      "metadata": {
        "colab": {
          "base_uri": "https://localhost:8080/"
        },
        "id": "ySZnM6s-pc8p",
        "outputId": "a52b22ff-1013-4f44-88c8-a620001f8435"
      },
      "execution_count": null,
      "outputs": [
        {
          "output_type": "stream",
          "name": "stdout",
          "text": [
            "DataFrame успешно сохранен в формате CSV.\n"
          ]
        }
      ]
    },
    {
      "cell_type": "markdown",
      "source": [
        "Получим файл со списком всех уникальных слов, отсортированных по частоте"
      ],
      "metadata": {
        "id": "phudShGV_mVn"
      }
    },
    {
      "cell_type": "code",
      "source": [
        "import pandas as pd\n",
        "from collections import Counter\n",
        "import os\n",
        "\n",
        "# Загрузка данных из CSV файла\n",
        "file_path = '/content/drive/MyDrive/Last_1/final_dataset_words.csv'\n",
        "df = pd.read_csv(file_path)\n",
        "\n",
        "# Проверка наличия столбца 'Description_reduct'\n",
        "if 'Description_reduct' not in df.columns:\n",
        "    raise ValueError(\"В файле отсутствует столбец 'Description_reduct'.\")\n",
        "\n",
        "# Объединение всех текстов в столбце 'Description_reduct' в один список слов\n",
        "all_words = ' '.join(df['Description_reduct'].fillna('')).split()\n",
        "\n",
        "# Подсчет частоты каждого уникального слова\n",
        "word_counts = Counter(all_words)\n",
        "\n",
        "# Преобразование результата в DataFrame и сортировка по убыванию частоты\n",
        "word_freq_df = pd.DataFrame(word_counts.items(), columns=['Word', 'Frequency']).sort_values(by='Frequency', ascending=False)\n",
        "\n",
        "# Путь для сохранения результата\n",
        "output_folder = '/content/drive/MyDrive/Chance'\n",
        "output_file = os.path.join(output_folder, 'word_frequency_list.csv')\n",
        "\n",
        "# Создание директории, если она не существует\n",
        "os.makedirs(output_folder, exist_ok=True)\n",
        "\n",
        "# Сохранение результата в файл CSV\n",
        "word_freq_df.to_csv(output_file, index=False)\n",
        "\n",
        "print(f\"Список уникальных слов с их частотой использования сохранен в: {output_file}\")\n"
      ],
      "metadata": {
        "colab": {
          "base_uri": "https://localhost:8080/"
        },
        "id": "dgwRE7Ht_nuf",
        "outputId": "4609bc52-9e9d-4191-dbaa-b7f431e4923c"
      },
      "execution_count": null,
      "outputs": [
        {
          "output_type": "stream",
          "name": "stdout",
          "text": [
            "Список уникальных слов с их частотой использования сохранен в: /content/drive/MyDrive/Chance/word_frequency_list.csv\n"
          ]
        }
      ]
    },
    {
      "cell_type": "markdown",
      "source": [],
      "metadata": {
        "id": "xduWUiBT_mbH"
      }
    },
    {
      "cell_type": "markdown",
      "source": [],
      "metadata": {
        "id": "hrr186Nk_mfn"
      }
    },
    {
      "cell_type": "markdown",
      "source": [],
      "metadata": {
        "id": "mAjp7Omk_mjA"
      }
    },
    {
      "cell_type": "markdown",
      "source": [],
      "metadata": {
        "id": "4n60V4Zq_m_3"
      }
    },
    {
      "cell_type": "markdown",
      "source": [
        "**Создание функции и извлечение биграмм.**\n",
        "\n",
        "---\n",
        " В столбце 'Bigrams' для каждого текста биграммы сохраняются в том порядке, в котором слова следуют друг за другом в тексте. Это означает, что порядок биграмм соответствует порядку слов в исходном тексте, сохраняя смысловую структуру.\n"
      ],
      "metadata": {
        "id": "cU5xUnWmZstK"
      }
    },
    {
      "cell_type": "code",
      "source": [
        "import pandas as pd\n",
        "from nltk import ngrams\n",
        "\n",
        "# Функция для извлечения биграмм\n",
        "def extract_bigrams(words_list):\n",
        "    if len(words_list) >= 2:  # Проверяем, что список содержит хотя бы 2 слова\n",
        "        return list(ngrams(words_list, 2))\n",
        "    return []  # Возвращаем пустой список, если недостаточно слов для создания биграмм\n",
        "\n",
        "# Загрузка данных\n",
        "file_path = '/content/drive/MyDrive/Last_1/final_dataset_words.csv'\n",
        "df = pd.read_csv(file_path)\n",
        "\n",
        "# Преобразуем столбец 'Description_reduct_words' в список слов (eval)\n",
        "df['Description_reduct_words'] = df['Description_reduct_words'].apply(eval)\n",
        "\n",
        "# Применение функций для извлечения биграмм\n",
        "df['Bigrams'] = df['Description_reduct_words'].apply(extract_bigrams)\n",
        "\n",
        "# Сохранение обновленного DataFrame в формате CSV\n",
        "output_csv_path = '/content/drive/MyDrive/Last_1/final_dataset_ngrams.csv'\n",
        "df.to_csv(output_csv_path, index=False)\n",
        "\n",
        "print(\"DataFrame успешно сохранен в формате CSV.\")\n"
      ],
      "metadata": {
        "colab": {
          "base_uri": "https://localhost:8080/"
        },
        "id": "UTTRBW9mrbpt",
        "outputId": "a59b9e79-5577-4e39-8f9f-6fdf6d296dec"
      },
      "execution_count": null,
      "outputs": [
        {
          "output_type": "stream",
          "name": "stdout",
          "text": [
            "DataFrame успешно сохранен в формате CSV.\n"
          ]
        }
      ]
    },
    {
      "cell_type": "markdown",
      "source": [
        "**Подсчет количества уникальных биграмм в столбце 'Bigrams'.**"
      ],
      "metadata": {
        "id": "sRcsFOa8vM0N"
      }
    },
    {
      "cell_type": "code",
      "source": [
        "import pandas as pd\n",
        "from tqdm import tqdm\n",
        "\n",
        "# Загрузка данных из файла\n",
        "file_path = '/content/drive/MyDrive/Last_1/final_dataset_ngrams.csv'\n",
        "df = pd.read_csv(file_path)\n",
        "\n",
        "# Преобразование строки в список кортежей\n",
        "df['Bigrams'] = df['Bigrams'].apply(eval)\n",
        "\n",
        "# Инициализация множества для хранения уникальных биграмм\n",
        "unique_bigrams = set()\n",
        "\n",
        "# Извлечение уникальных биграмм с индикацией хода выполнения\n",
        "for bigrams in tqdm(df['Bigrams'], desc=\"Подсчет уникальных биграмм\"):\n",
        "    unique_bigrams.update(bigrams)\n",
        "\n",
        "# Подсчет количества уникальных биграмм\n",
        "num_unique_bigrams = len(unique_bigrams)\n",
        "\n",
        "print(f\"Количество уникальных биграмм: {num_unique_bigrams}\")\n"
      ],
      "metadata": {
        "colab": {
          "base_uri": "https://localhost:8080/"
        },
        "id": "PJRuPG4RwIkl",
        "outputId": "f9fb2c9d-8007-4395-ce3a-5d407256583a"
      },
      "execution_count": null,
      "outputs": [
        {
          "output_type": "stream",
          "name": "stderr",
          "text": [
            "Подсчет уникальных биграмм: 100%|██████████| 918781/918781 [00:12<00:00, 72723.76it/s]"
          ]
        },
        {
          "output_type": "stream",
          "name": "stdout",
          "text": [
            "Количество уникальных биграмм: 1976607\n"
          ]
        },
        {
          "output_type": "stream",
          "name": "stderr",
          "text": [
            "\n"
          ]
        }
      ]
    },
    {
      "cell_type": "markdown",
      "source": [
        "**Находим и удаляем строки, где тексты идентичны по биграммам, но классы разные.**"
      ],
      "metadata": {
        "id": "4c1pBzi-_aX4"
      }
    },
    {
      "cell_type": "code",
      "source": [
        "import pandas as pd\n",
        "from tqdm import tqdm\n",
        "\n",
        "# Загрузка данных\n",
        "file_path = '/content/drive/MyDrive/Last_1/final_dataset_ngrams.csv'\n",
        "df = pd.read_csv(file_path)\n",
        "\n",
        "# Преобразование строковых списков в списки кортежей\n",
        "df['Bigrams'] = df['Bigrams'].apply(eval)\n",
        "\n",
        "# Создание словаря для хранения уникальных биграмм с их индексами\n",
        "bigrams_dict = {}\n",
        "\n",
        "# Проход по каждому тексту и добавление в словарь\n",
        "for index, row in tqdm(df.iterrows(), total=len(df), desc=\"Поиск дубликатов\"):\n",
        "    bigrams = tuple(row['Bigrams'])  # Преобразуем список биграмм в кортеж для хэширования\n",
        "    if bigrams in bigrams_dict:\n",
        "        bigrams_dict[bigrams].append((row['Portal User Group'], index))  # Добавляем класс и индекс\n",
        "    else:\n",
        "        bigrams_dict[bigrams] = [(row['Portal User Group'], index)]\n",
        "\n",
        "# Поиск строк с одинаковыми биграммами, но разными классами\n",
        "duplicate_rows = []\n",
        "\n",
        "for bigrams, occurrences in bigrams_dict.items():\n",
        "    classes = {occurrence[0] for occurrence in occurrences}  # Собираем уникальные классы\n",
        "    if len(classes) > 1:  # Если классы разные\n",
        "        for occurrence in occurrences:\n",
        "            duplicate_rows.append((occurrence[1], occurrence[0]))  # Добавляем индекс и класс\n",
        "\n",
        "# Создание DataFrame с ошибочными строками\n",
        "duplicate_df = df.loc[[row[0] for row in duplicate_rows]].copy()\n",
        "duplicate_df['Class'] = [row[1] for row in duplicate_rows]\n",
        "\n",
        "# Сохранение дубликатов в файл\n",
        "output_duplicates_csv_path = '/content/drive/MyDrive/Last_1/duplicate_bigrams.csv'\n",
        "duplicate_df.to_csv(output_duplicates_csv_path, index=False)\n",
        "\n",
        "# Удаление строк с ошибками из оригинального DataFrame\n",
        "df_cleaned = df.drop(index=[row[0] for row in duplicate_rows])\n",
        "\n",
        "# Сохранение очищенных данных\n",
        "output_cleaned_csv_path = '/content/drive/MyDrive/Last_1/cleaned_dataset_ngrams.csv'\n",
        "df_cleaned.to_csv(output_cleaned_csv_path, index=False)\n",
        "\n",
        "print(f\"Ошибочные строки сохранены в файл: {output_duplicates_csv_path}\")\n",
        "print(f\"Очищенные данные сохранены в файл: {output_cleaned_csv_path}\")\n"
      ],
      "metadata": {
        "colab": {
          "base_uri": "https://localhost:8080/"
        },
        "id": "0QIHJQEwGoJ8",
        "outputId": "c28f098a-ccbb-465d-f691-3e2498f3bbcc"
      },
      "execution_count": null,
      "outputs": [
        {
          "output_type": "stream",
          "name": "stderr",
          "text": [
            "Поиск дубликатов: 100%|██████████| 918781/918781 [01:09<00:00, 13250.02it/s]\n"
          ]
        },
        {
          "output_type": "stream",
          "name": "stdout",
          "text": [
            "Ошибочные строки сохранены в файл: /content/drive/MyDrive/Last_1/duplicate_bigrams.csv\n",
            "Очищенные данные сохранены в файл: /content/drive/MyDrive/Last_1/cleaned_dataset_ngrams.csv\n"
          ]
        }
      ]
    },
    {
      "cell_type": "code",
      "source": [
        "import pandas as pd\n",
        "\n",
        "# Загрузка данных из CSV-файла\n",
        "file_path = '/content/drive/MyDrive/Last_1/duplicate_bigrams.csv'\n",
        "df = pd.read_csv(file_path)\n",
        "\n",
        "# Сохранение данных в формате XLSX\n",
        "output_file_path = '/content/drive/MyDrive/Last_1/duplicate_bigrams.xlsx'\n",
        "df.to_excel(output_file_path, index=False)\n",
        "\n",
        "print(f\"Файл успешно преобразован и сохранен в формате XLSX: {output_file_path}\")\n"
      ],
      "metadata": {
        "colab": {
          "base_uri": "https://localhost:8080/"
        },
        "id": "Lfbe5glVBUN0",
        "outputId": "e66fa300-7018-4ff4-c23f-9f69d2819949"
      },
      "execution_count": null,
      "outputs": [
        {
          "output_type": "stream",
          "name": "stdout",
          "text": [
            "Файл успешно преобразован и сохранен в формате XLSX: /content/drive/MyDrive/Last_1/duplicate_bigrams.xlsx\n"
          ]
        }
      ]
    },
    {
      "cell_type": "code",
      "source": [
        "import pandas as pd\n",
        "\n",
        "# Загрузка данных из CSV-файла\n",
        "file_path = '/content/drive/MyDrive/Last_1/cleaned_dataset_ngrams.csv'\n",
        "df = pd.read_csv(file_path)\n",
        "\n",
        "# Сохранение данных в формате XLSX\n",
        "output_file_path = '/content/drive/MyDrive/Last_1/cleaned_dataset_ngrams.xlsx'\n",
        "df.to_excel(output_file_path, index=False)\n",
        "\n",
        "print(f\"Файл успешно преобразован и сохранен в формате XLSX: {output_file_path}\")\n"
      ],
      "metadata": {
        "colab": {
          "base_uri": "https://localhost:8080/"
        },
        "outputId": "1ef75d89-3e7b-4eeb-eb70-80842e0a58c6",
        "id": "wWeR8BxOt8Z8"
      },
      "execution_count": null,
      "outputs": [
        {
          "output_type": "stream",
          "name": "stdout",
          "text": [
            "Файл успешно преобразован и сохранен в формате XLSX: /content/drive/MyDrive/Last_1/cleaned_dataset_ngrams.xlsx\n"
          ]
        }
      ]
    },
    {
      "cell_type": "code",
      "source": [
        "import pandas as pd\n",
        "\n",
        "# Путь к файлу\n",
        "file_path = '/content/drive/MyDrive/Last_1/cleaned_dataset_ngrams.csv'\n",
        "\n",
        "# Загрузка данных\n",
        "df = pd.read_csv(file_path)\n",
        "\n",
        "# Подсчет количества классов\n",
        "classes_before = df['Portal User Group'].nunique()\n",
        "print(f\"Количество классов: {classes_before}\")"
      ],
      "metadata": {
        "colab": {
          "base_uri": "https://localhost:8080/"
        },
        "outputId": "1f2b0ac2-3e5f-4946-893c-5ada2192a683",
        "id": "G8g_cQvP4ygI"
      },
      "execution_count": null,
      "outputs": [
        {
          "output_type": "stream",
          "name": "stdout",
          "text": [
            "Количество классов: 121\n"
          ]
        }
      ]
    },
    {
      "cell_type": "markdown",
      "source": [
        "**Удалим пустые  строки по столбцу 'Description'.**\n"
      ],
      "metadata": {
        "id": "4rKl6HNq5n7W"
      }
    },
    {
      "cell_type": "code",
      "source": [
        "import pandas as pd\n",
        "\n",
        "# Путь к файлу\n",
        "file_path = \"/content/drive/MyDrive/Last_1/cleaned_dataset_ngrams.csv\"\n",
        "\n",
        "# Загрузка данных из файла\n",
        "df = pd.read_csv(file_path)\n",
        "\n",
        "# Удаление строк, у которых столбец 'Description' пустой\n",
        "df_cleaned = df[df['Description'].notna()]\n",
        "\n",
        "# Подсчет количества данных в каждом классе\n",
        "class_counts = df_cleaned['Portal User Group'].value_counts()\n",
        "\n",
        "# Удаление строк, где классы имеют нулевое количество данных\n",
        "classes_with_data = class_counts[class_counts > 0].index  # Классы с данными\n",
        "df_cleaned = df_cleaned[df_cleaned['Portal User Group'].isin(classes_with_data)]\n",
        "\n",
        "# Подсчет количества уникальных классов после очистки\n",
        "unique_classes_after = df_cleaned['Portal User Group'].nunique()\n",
        "print(f\"Количество уникальных классов после очистки: {unique_classes_after}\")\n",
        "\n",
        "# Сохранение очищенного DataFrame в новый файл\n",
        "output_file_path = \"/content/drive/MyDrive/Last_1/full_dataset_ngrams_cleaned.csv\"\n",
        "df_cleaned.to_csv(output_file_path, index=False)\n",
        "\n",
        "print(f\"Строки с пустыми значениями и нулевыми данными в классах удалены. Результат сохранен в: {output_file_path}\")\n"
      ],
      "metadata": {
        "colab": {
          "base_uri": "https://localhost:8080/"
        },
        "id": "uN7lJJFhHBOx",
        "outputId": "5ac18a19-a977-448d-a62a-b77828a9ff77"
      },
      "execution_count": null,
      "outputs": [
        {
          "output_type": "stream",
          "name": "stdout",
          "text": [
            "Количество уникальных классов после очистки: 121\n",
            "Строки с пустыми значениями и нулевыми данными в классах удалены. Результат сохранен в: /content/drive/MyDrive/Last_1/full_dataset_ngrams_cleaned.csv\n"
          ]
        }
      ]
    },
    {
      "cell_type": "code",
      "source": [
        "import pandas as pd\n",
        "import matplotlib.pyplot as plt\n",
        "\n",
        "# Путь к очищенному файлу\n",
        "file_path = \"/content/drive/MyDrive/Last_1/full_dataset_ngrams_cleaned.csv\"\n",
        "\n",
        "# Загрузка данных из файла\n",
        "df = pd.read_csv(file_path)\n",
        "\n",
        "# Подсчет количества данных в каждом классе\n",
        "class_counts = df['Portal User Group'].value_counts()\n",
        "\n",
        "# Фильтрация классов, у которых есть данные (больше 0 записей)\n",
        "classes_with_data = class_counts[class_counts > 0].index  # Оставляем только те классы, которые имеют данные\n",
        "df_filtered = df[df['Portal User Group'].isin(classes_with_data)]  # Оставляем только строки с этими классами\n",
        "\n",
        "# Подсчет общего количества уникальных классов и записей после фильтрации\n",
        "unique_classes = df_filtered['Portal User Group'].nunique()  # Количество уникальных классов\n",
        "total_data = len(df_filtered)  # Общее количество записей\n",
        "\n",
        "print(f\"Общее количество уникальных классов: {unique_classes}\")\n",
        "print(f\"Общее количество данных: {total_data}\\n\")\n",
        "\n",
        "# Построение столбчатой диаграммы\n",
        "plt.figure(figsize=(12, 6))\n",
        "df_filtered['Portal User Group'].value_counts().plot(kind='bar')\n",
        "plt.title('Количество данных в каждом классе')\n",
        "plt.xlabel('Класс')\n",
        "plt.ylabel('Количество записей')\n",
        "\n",
        "# Настройка меток оси x\n",
        "plt.xticks(rotation=45, ha='right', fontsize=5)\n",
        "plt.gca().xaxis.set_tick_params(pad=10)\n",
        "\n",
        "plt.tight_layout()\n",
        "\n",
        "# Отображение диаграммы\n",
        "plt.show()\n",
        "\n",
        "# Сохранение очищенного DataFrame в новый файл\n",
        "output_file_path = \"/content/drive/MyDrive/Last_1/full_dataset_ngrams_filtered.csv\"\n",
        "df_filtered.to_csv(output_file_path, index=False)\n",
        "\n",
        "print(f\"Данные классов без записей удалены. Результат сохранен в: {output_file_path}\")\n"
      ],
      "metadata": {
        "colab": {
          "base_uri": "https://localhost:8080/",
          "height": 623
        },
        "id": "XnBkhmWTJG5l",
        "outputId": "dcae8db4-0d81-49d0-eb14-f1e83973e661"
      },
      "execution_count": null,
      "outputs": [
        {
          "output_type": "stream",
          "name": "stdout",
          "text": [
            "Общее количество уникальных классов: 121\n",
            "Общее количество данных: 814250\n",
            "\n"
          ]
        },
        {
          "output_type": "display_data",
          "data": {
            "text/plain": [
              "<Figure size 1200x600 with 1 Axes>"
            ],
            "image/png": "[encoded data removed]"
          },
          "metadata": {}
        },
        {
          "output_type": "stream",
          "name": "stdout",
          "text": [
            "Данные классов без записей удалены. Результат сохранен в: /content/drive/MyDrive/Last_1/full_dataset_ngrams_filtered.csv\n"
          ]
        }
      ]
    },
    {
      "cell_type": "markdown",
      "source": [
        "Проверим каждую строку в столбце 'Bigrams' на наличие синтаксических ошибок при попытке преобразовать строку в список."
      ],
      "metadata": {
        "id": "IQPb4Az6yjBZ"
      }
    },
    {
      "cell_type": "code",
      "source": [
        "import pandas as pd\n",
        "from ast import literal_eval\n",
        "from tqdm import tqdm  # Для индикации\n",
        "\n",
        "# Загрузка данных\n",
        "file_path = '/content/drive/MyDrive/Last_1/full_dataset_ngrams_filtered.csv'\n",
        "df = pd.read_csv(file_path)\n",
        "\n",
        "# Функция для проверки корректности строки в столбце 'Bigrams'\n",
        "def check_bigrams_syntax():\n",
        "    errors = []\n",
        "    for index, row in tqdm(df.iterrows(), total=len(df), desc=\"Проверка биграмм\"):\n",
        "        try:\n",
        "            if pd.isna(row['Bigrams']):  # Пропускаем пустые строки\n",
        "                continue\n",
        "            literal_eval(row['Bigrams'])  # Попытка интерпретации строки как списка\n",
        "        except (ValueError, SyntaxError) as e:\n",
        "            errors.append((index, row['Bigrams'], str(e)))\n",
        "\n",
        "    return errors\n",
        "\n",
        "# Проверка столбца 'Bigrams'\n",
        "bigrams_errors = check_bigrams_syntax()\n",
        "if bigrams_errors:\n",
        "    print(\"Ошибки в столбце 'Bigrams':\")\n",
        "    for error in bigrams_errors:\n",
        "        print(f\"Строка {error[0]}: {error[1]} - Ошибка: {error[2]}\")\n",
        "else:\n",
        "    print(\"Ошибок в столбце 'Bigrams' не найдено.\")\n"
      ],
      "metadata": {
        "colab": {
          "base_uri": "https://localhost:8080/"
        },
        "id": "vEsQwraVHMVL",
        "outputId": "4262f62b-513d-4929-c9fd-c8feaffdadb8"
      },
      "execution_count": null,
      "outputs": [
        {
          "output_type": "stream",
          "name": "stderr",
          "text": [
            "Проверка биграмм: 100%|██████████| 814250/814250 [02:58<00:00, 4561.87it/s]\n"
          ]
        },
        {
          "output_type": "stream",
          "name": "stdout",
          "text": [
            "Ошибок в столбце 'Bigrams' не найдено.\n"
          ]
        }
      ]
    },
    {
      "cell_type": "markdown",
      "source": [
        "**Подсчитаем вероятности переходов между биграммами для каждого класса.**"
      ],
      "metadata": {
        "id": "tjbmH4155m_W"
      }
    },
    {
      "cell_type": "code",
      "source": [
        "import pandas as pd\n",
        "from collections import defaultdict\n",
        "import csv\n",
        "from tqdm import tqdm\n",
        "\n",
        "# Загрузка данных\n",
        "file_path = '/content/drive/MyDrive/Last_1/full_dataset_ngrams_filtered.csv'\n",
        "df = pd.read_csv(file_path)\n",
        "\n",
        "# Преобразование строки в список кортежей\n",
        "df['Bigrams'] = df['Bigrams'].apply(eval)\n",
        "\n",
        "# Создание словаря для матрицы переходов для каждого класса\n",
        "transition_matrix = defaultdict(lambda: defaultdict(lambda: defaultdict(float)))\n",
        "\n",
        "# Подсчет переходов между биграммами для каждого класса с индикацией выполнения\n",
        "for class_name, group in tqdm(df.groupby('Portal User Group'), desc=\"Создание матрицы переходов\"):\n",
        "    for bigrams in group['Bigrams']:\n",
        "        for i in range(len(bigrams) - 1):\n",
        "            current_bigram = bigrams[i]\n",
        "            next_bigram = bigrams[i + 1]\n",
        "            transition_matrix[class_name][current_bigram][next_bigram] += 1\n",
        "\n",
        "# Преобразование счетчиков в вероятности (нормализация)\n",
        "for class_name in tqdm(transition_matrix, desc=\"Нормализация данных\"):\n",
        "    for current_bigram in transition_matrix[class_name]:\n",
        "        total = sum(transition_matrix[class_name][current_bigram].values())\n",
        "        for next_bigram in transition_matrix[class_name][current_bigram]:\n",
        "            transition_matrix[class_name][current_bigram][next_bigram] /= total\n",
        "\n",
        "# Сохранение матрицы переходов в CSV файл\n",
        "output_file_path = '/content/drive/MyDrive/Last_1/transition_matrix.csv'\n",
        "\n",
        "# Запись в CSV файл\n",
        "with open(output_file_path, 'w', newline='') as csvfile:\n",
        "    writer = csv.writer(csvfile)\n",
        "    writer.writerow(['Class', 'Current Bigram', 'Next Bigram', 'Probability'])\n",
        "\n",
        "    for class_name in transition_matrix:\n",
        "        for current_bigram in transition_matrix[class_name]:\n",
        "            for next_bigram, probability in transition_matrix[class_name][current_bigram].items():\n",
        "                writer.writerow([class_name, current_bigram, next_bigram, probability])\n",
        "\n",
        "print(f\"Матрица переходов успешно сохранена в файл CSV: {output_file_path}\")\n"
      ],
      "metadata": {
        "colab": {
          "base_uri": "https://localhost:8080/"
        },
        "id": "szLVcga26Mr4",
        "outputId": "35486158-bbdc-4f4f-c01f-fd08edcf91ea"
      },
      "execution_count": null,
      "outputs": [
        {
          "output_type": "stream",
          "name": "stderr",
          "text": [
            "Создание матрицы переходов: 100%|██████████| 121/121 [00:31<00:00,  3.79it/s]\n",
            "Нормализация данных: 100%|██████████| 121/121 [00:09<00:00, 12.22it/s]\n"
          ]
        },
        {
          "output_type": "stream",
          "name": "stdout",
          "text": [
            "Матрица переходов успешно сохранена в файл CSV: /content/drive/MyDrive/Last_1/transition_matrix.csv\n"
          ]
        }
      ]
    },
    {
      "cell_type": "markdown",
      "source": [
        "**Модель цепей Маркова.**\n",
        "\n",
        "---\n",
        "Модель цепей Маркова: Модель основывается на вероятностях переходов между биграммами в каждом классе. Для каждого класса есть матрица переходов, которая показывает, с какой вероятностью одна биграмма переходит в другую.\n",
        "\n",
        "Для каждого нового текста (в тестовой выборке) можем использовать эту матрицу для вычисления вероятности того, что этот текст принадлежит определенному классу.\n",
        "\n",
        "Во время тестирования для каждого класса из матрицы переходов вычисляется общая вероятность того, что последовательность биграмм принадлежит этому классу. Вероятность вычисляется путем перемножения вероятностей переходов между биграммами. Класс с наибольшей общей вероятностью назначается как предсказанный для данного текста.\n",
        "* Модель берет только последовательности биграмм из тестовой выборки (X_test), а метки классов (y_test) не используются для предсказаний.\n",
        "* Модель предсказывает класс текста, основываясь исключительно на вероятностях переходов между биграммами, хранящихся в матрице переходов, которая была создана на основе данных для каждого класса.\n",
        "* После того как модель сделала предсказание, эти предсказанные классы сравниваются с реальными метками классов (y_test) для оценки точности модели и формирования отчета о классификации.\n"
      ],
      "metadata": {
        "id": "fa3JAxYPUysT"
      }
    },
    {
      "cell_type": "markdown",
      "source": [
        "В обучающей и тестовой выборках сохраняется та же пропорция классов, что и в исходных данных.\n",
        "\n",
        "Если классы с одним экземпляром данных не критичны, можно удалить их из набора данных.\n",
        "\n",
        "---\n",
        "Для корректной работы train_test_split с параметром stratify необходимо, чтобы в каждом классе было как минимум два экземпляра, чтобы можно было разделить данные на обучающую и тестовую выборки."
      ],
      "metadata": {
        "id": "6xeo3vyPgwG3"
      }
    },
    {
      "cell_type": "code",
      "source": [
        "import pandas as pd\n",
        "from collections import defaultdict\n",
        "from sklearn.model_selection import train_test_split\n",
        "from sklearn.metrics import accuracy_score, classification_report\n",
        "\n",
        "# Загрузка сохранённой матрицы переходов\n",
        "transition_matrix_df = pd.read_csv('/content/drive/MyDrive/Last_1/transition_matrix.csv')\n",
        "\n",
        "# Преобразование матрицы в формат словаря\n",
        "transition_matrix = defaultdict(lambda: defaultdict(lambda: defaultdict(float)))\n",
        "\n",
        "for _, row in transition_matrix_df.iterrows():\n",
        "    class_name = row['Class']\n",
        "    current_bigram = eval(row['Current Bigram'])\n",
        "    next_bigram = eval(row['Next Bigram'])\n",
        "    probability = row['Probability']\n",
        "    transition_matrix[class_name][current_bigram][next_bigram] = probability\n",
        "\n",
        "# Разделение данных на обучающую и тестовую выборки\n",
        "file_path = '/content/drive/MyDrive/Last_1/full_dataset_ngrams_filtered.csv'\n",
        "df = pd.read_csv(file_path)\n",
        "\n",
        "# Удаление классов, содержащих только один экземпляр\n",
        "df = df.groupby('Portal User Group').filter(lambda x: len(x) > 1)\n",
        "\n",
        "# Разделение данных на обучающую и тестовую выборки с использованием stratify\n",
        "X_train, X_test, y_train, y_test = train_test_split(\n",
        "    df['Bigrams'],  # входные данные (биграммы)\n",
        "    df['Portal User Group'],  # метки классов\n",
        "    test_size=0.3,  # процент данных, который попадет в тестовую выборку\n",
        "    stratify=df['Portal User Group'],  # использование этого параметра для учета классов\n",
        "    random_state=42\n",
        ")\n",
        "\n",
        "print(\"Данные успешно разделены на обучающую и тестовую выборку с учётом классов.\")\n",
        "\n",
        "# Функция для предсказания класса текста на основе цепей Маркова\n",
        "def predict_class(bigrams_sequence, transition_matrix):\n",
        "    class_probabilities = defaultdict(float)\n",
        "\n",
        "    # Для каждого класса вычисляем вероятность биграмм\n",
        "    for class_name, class_transitions in transition_matrix.items():\n",
        "        total_probability = 1.0\n",
        "\n",
        "        for i in range(len(bigrams_sequence) - 1):\n",
        "            current_bigram = bigrams_sequence[i]\n",
        "            next_bigram = bigrams_sequence[i + 1]\n",
        "\n",
        "            # Если биграмма есть в матрице переходов, умножаем на вероятность перехода\n",
        "            if current_bigram in class_transitions and next_bigram in class_transitions[current_bigram]:\n",
        "                total_probability *= class_transitions[current_bigram][next_bigram]\n",
        "            else:\n",
        "                total_probability *= 0.01  # Маленькое значение вместо 0, чтобы не обнулить вероятность\n",
        "\n",
        "        class_probabilities[class_name] = total_probability\n",
        "\n",
        "    # Выбираем класс с наибольшей вероятностью\n",
        "    predicted_class = max(class_probabilities, key=class_probabilities.get)\n",
        "    return predicted_class\n",
        "\n",
        "# Предсказание классов для тестовой выборки\n",
        "y_pred = []\n",
        "\n",
        "for bigrams_sequence in X_test:\n",
        "    predicted_class = predict_class(eval(bigrams_sequence), transition_matrix)\n",
        "    y_pred.append(predicted_class)\n",
        "\n",
        "# Оценка модели\n",
        "print(\"Классификационный отчет:\\n\")\n",
        "print(classification_report(y_test, y_pred))\n",
        "print(f\"Точность модели: {accuracy_score(y_test, y_pred):.4f}\")\n"
      ],
      "metadata": {
        "colab": {
          "base_uri": "https://localhost:8080/"
        },
        "id": "R3t4-CUjX3_H",
        "outputId": "f1a135fe-d13f-4cc0-a94c-4f053a2763d8"
      },
      "execution_count": null,
      "outputs": [
        {
          "output_type": "stream",
          "name": "stdout",
          "text": [
            "Данные успешно разделены на обучающую и тестовую выборку с учётом классов.\n",
            "Классификационный отчет:\n",
            "\n"
          ]
        },
        {
          "output_type": "stream",
          "name": "stderr",
          "text": [
            "/usr/local/lib/python3.10/dist-packages/sklearn/metrics/_classification.py:1471: UndefinedMetricWarning: Recall and F-score are ill-defined and being set to 0.0 in labels with no true samples. Use `zero_division` parameter to control this behavior.\n",
            "  _warn_prf(average, modifier, msg_start, len(result))\n",
            "/usr/local/lib/python3.10/dist-packages/sklearn/metrics/_classification.py:1471: UndefinedMetricWarning: Recall and F-score are ill-defined and being set to 0.0 in labels with no true samples. Use `zero_division` parameter to control this behavior.\n",
            "  _warn_prf(average, modifier, msg_start, len(result))\n",
            "/usr/local/lib/python3.10/dist-packages/sklearn/metrics/_classification.py:1471: UndefinedMetricWarning: Recall and F-score are ill-defined and being set to 0.0 in labels with no true samples. Use `zero_division` parameter to control this behavior.\n",
            "  _warn_prf(average, modifier, msg_start, len(result))\n"
          ]
        },
        {
          "output_type": "stream",
          "name": "stdout",
          "text": [
            "                                  precision    recall  f1-score   support\n",
            "\n",
            "             #TEST#CORAL#RUSSIA#       0.00      0.00      0.00         0\n",
            "                     ACCOUNTING        0.56      0.93      0.70      1190\n",
            "                 ACCOUNTING ATM        0.80      0.86      0.83      2533\n",
            "           ACCOUNTING CONTRACTS        0.94      0.95      0.95      2539\n",
            "                 ACCOUNTING MIR        0.42      0.96      0.58        99\n",
            "            ACCOUNTING NON-CASH        0.78      0.82      0.80      2821\n",
            "                ACCOUNTING NOTE        0.83      0.90      0.87       858\n",
            "            ACCOUNTING PAYMENTS        0.52      0.99      0.68       166\n",
            "             ACCOUNTING REPORTS        0.94      0.93      0.94      1749\n",
            "              ACCOUNTING RETURN        0.98      0.79      0.87     14712\n",
            "               ACCOUNTING VZAIM        0.77      0.85      0.81      2390\n",
            "                        BELARUS        0.56      1.00      0.72       414\n",
            "                        BOOKING        0.99      0.81      0.89     39995\n",
            "                    BOOKING B2C        0.28      1.00      0.44        13\n",
            "                  BOOKING CLAIM        0.52      1.00      0.68        15\n",
            "                   CHARTER AVIA        0.93      0.84      0.88      5453\n",
            "           CHARTER AVIA VYPISKA        0.90      0.78      0.83      4805\n",
            "                          CLAIM        0.89      0.95      0.92      1604\n",
            "                        CONFIRM        0.61      0.99      0.76       301\n",
            "                      CONFIRM 1        0.61      0.98      0.75       301\n",
            "                      CONFIRM 2        0.69      0.97      0.80      1001\n",
            "                      CONFIRM 3        0.51      1.00      0.67        36\n",
            "          CORAL BUSINESS SCHOOL        0.93      1.00      0.97        14\n",
            "                            CRM        1.00      0.85      0.92        46\n",
            "                  CTM CoralBonus       0.82      0.99      0.90        76\n",
            "                     CTM Franch        0.96      1.00      0.98        25\n",
            "                  CTM Gift Card        0.89      0.98      0.93        50\n",
            "                 CTM SunmarBonus       0.67      1.00      0.80         6\n",
            "                           CTM1        0.75      0.99      0.85       340\n",
            "                           DEP3        0.87      0.95      0.91      3607\n",
            "                   DEP3 Bahrein        0.00      0.00      0.00         0\n",
            "                     DEP3 CLAIM        0.67      1.00      0.80         2\n",
            "                 DEP3 Indonesia        0.57      1.00      0.72        46\n",
            "                     DEP3 Kenia        0.50      1.00      0.67         1\n",
            "                  DEP3 Maldives        0.84      0.98      0.91      1496\n",
            "                 DEP3 Mauritius        0.58      1.00      0.74        49\n",
            "                     DEP3 Qatar        1.00      1.00      1.00         2\n",
            "                DEP3 Seychelles        0.70      1.00      0.82       103\n",
            "                 DEP3 Sri-Lanka        0.70      1.00      0.82       128\n",
            "                  DEP3 Tanzania        0.63      1.00      0.77        17\n",
            "                   DIGITAL SALE        1.00      1.00      1.00        19\n",
            "                   DIRECT SALES        0.80      1.00      0.89         4\n",
            "                       DOMESTIC        0.96      0.93      0.95      8367\n",
            "                DOMESTIC  Claim        1.00      1.00      1.00         1\n",
            "                    ELITE CLAIM        0.30      1.00      0.46        36\n",
            "                        FINANCE        0.98      0.84      0.90     12035\n",
            "                            GDS        0.96      0.93      0.94      8231\n",
            "                GUEST RELATIONS        0.98      0.97      0.98      8581\n",
            "        HEADS OF REGIONAL SALES        0.50      1.00      0.67         2\n",
            "                           INFO        0.94      0.91      0.93      7897\n",
            "                     INFO CLAIM        0.31      1.00      0.47        19\n",
            "               MANAGEMENT CLAIM        0.70      1.00      0.82        28\n",
            "              MARKETING ACTIONS        0.90      0.97      0.93       923\n",
            "                MARKETING CLAIM        0.25      1.00      0.40         2\n",
            "               MARKETING EVENTS        0.96      0.99      0.98      1374\n",
            "                MARKETING SITES        0.96      0.98      0.97       892\n",
            "                           MICE        0.91      0.99      0.95       256\n",
            "                   MINIMIZATION        0.85      0.90      0.87       782\n",
            "                         MNENIE        0.61      0.96      0.75        26\n",
            "                      ODEONBEDS        0.47      1.00      0.64        16\n",
            "                   ONLINE SALES        1.00      1.00      1.00         4\n",
            "                PRODUCT BAHRAIN        0.70      1.00      0.82        35\n",
            "               PRODUCT BULGARIA        1.00      1.00      1.00         1\n",
            "                  PRODUCT CLAIM        0.92      1.00      0.96        23\n",
            "                   PRODUCT CUBA        0.81      1.00      0.90        66\n",
            "                 PRODUCT CYPRUS        1.00      1.00      1.00         1\n",
            "         PRODUCT DOMINICAN REP.        1.00      1.00      1.00         2\n",
            "                  PRODUCT EGYPT        0.91      0.99      0.95       411\n",
            "                 PRODUCT GREECE        0.75      1.00      0.86         3\n",
            "                  PRODUCT INDIA        0.92      1.00      0.96        22\n",
            "                 PRODUCT MEXICO        0.78      1.00      0.88         7\n",
            "             PRODUCT MONTENEGRO        1.00      1.00      1.00         1\n",
            "                PRODUCT MOROCCO        1.00      1.00      1.00         1\n",
            "                    PRODUCT SKI        0.92      0.99      0.96       123\n",
            "                  PRODUCT SPAIN        0.57      1.00      0.73         4\n",
            "               PRODUCT TANZANIA        0.60      1.00      0.75         6\n",
            "               PRODUCT THAILAND        0.87      0.99      0.93       436\n",
            "                 PRODUCT TURKEY        0.95      0.99      0.97       853\n",
            "                    PRODUCT UAE        0.93      0.99      0.96       488\n",
            "                PRODUCT VIETNAM        0.74      1.00      0.85        17\n",
            "           REGION BOOKING Kazan        0.88      0.93      0.91      4402\n",
            "REGION BOOKING Saint-Petersburg        0.85      0.94      0.90      4187\n",
            "            REGION FLIGHT Kazan        0.65      0.92      0.76       947\n",
            " REGION FLIGHT Saint-Petersburg        0.70      0.89      0.78      1394\n",
            "       REGION SALES Arkhangelsk        0.73      0.97      0.83      1396\n",
            "          REGION SALES Belgorod        0.47      0.99      0.64       118\n",
            "       REGION SALES Chelyabinsk        0.86      0.93      0.89      3806\n",
            "      REGION SALES Ekaterinburg        0.92      0.88      0.90      7649\n",
            "           REGION SALES Irkutsk        0.80      0.95      0.87      1972\n",
            "       REGION SALES Kaliningrad        0.76      0.96      0.85      1631\n",
            "             REGION SALES Kazan        0.87      0.94      0.90      3538\n",
            "          REGION SALES Kemerovo        0.68      0.98      0.80       990\n",
            "        REGION SALES Khabarovsk        0.69      0.98      0.81      1100\n",
            "         REGION SALES Krasnodar        0.78      0.96      0.86      1725\n",
            "       REGION SALES Krasnoyarsk        0.80      0.95      0.87      2099\n",
            "          REGION SALES Murmansk        0.53      1.00      0.69        30\n",
            "  REGION SALES Nizhniy Novgorod        0.71      0.95      0.81      1376\n",
            "       REGION SALES Novosibirsk        0.88      0.91      0.90      4209\n",
            "              REGION SALES Omsk        0.79      0.96      0.87      2240\n",
            "              REGION SALES Perm        0.83      0.94      0.88      2996\n",
            "        REGION SALES Pyatigorsk        0.63      0.99      0.77       623\n",
            "     REGION SALES Rostov on Don        0.82      0.96      0.88      2436\n",
            "   REGION SALES Saint-Peterburg        0.93      0.90      0.92      8069\n",
            "            REGION SALES Samara        0.86      0.93      0.90      3206\n",
            "            REGION SALES Surgut        0.73      0.97      0.83      1143\n",
            "             REGION SALES Tumen        0.85      0.94      0.89      2486\n",
            "               REGION SALES Ufa        0.86      0.91      0.89      3630\n",
            "          REGION SALES Voronezh        0.69      0.98      0.81      1064\n",
            "                    RESERVATION        0.71      0.98      0.82       702\n",
            "                  RESERVATION 1        0.71      0.99      0.82       564\n",
            "                  RESERVATION 2        0.80      0.95      0.87      1922\n",
            "                  RESERVATION 3        0.59      1.00      0.74       134\n",
            "                          SALES        0.95      0.90      0.92      9797\n",
            "                    SALES HEADS        1.00      1.00      1.00         1\n",
            "                            SFC        1.00      1.00      1.00         1\n",
            "                           VISA        0.93      0.96      0.94       763\n",
            "                      VISA HELP        0.85      0.91      0.88       140\n",
            "       elite@ELITE RESERVATIONS        0.94      0.93      0.94      7507\n",
            "          special@ELITE SERVICE        0.95      0.89      0.92     11283\n",
            "\n",
            "                        accuracy                           0.89    244274\n",
            "                       macro avg       0.77      0.94      0.83    244274\n",
            "                    weighted avg       0.91      0.89      0.90    244274\n",
            "\n",
            "Точность модели: 0.8904\n"
          ]
        }
      ]
    },
    {
      "cell_type": "markdown",
      "source": [
        "*После удаления классов с одним экземпляром данных тестировалось 119 классов.*"
      ],
      "metadata": {
        "id": "7C9CPMXFhb5X"
      }
    },
    {
      "cell_type": "markdown",
      "source": [
        "**Пробуем сгенерировать дополнительные предполагаемые матрицы переходов для каждого класса, которые не пересекаются с другими классами.**"
      ],
      "metadata": {
        "id": "1LlDG8WUbZOf"
      }
    },
    {
      "cell_type": "markdown",
      "source": [
        "Генерация биграмм для каждого класса в этом коде происходит следующим образом:\n",
        "\n",
        "1. **Загрузка матрицы переходов**:\n",
        "   Сначала загружаем существующую матрицу переходов для каждого класса из файла `transition_matrix.csv`. Эта матрица содержит информацию о том, какие биграммы переходят в другие биграммы внутри каждого класса, а также вероятность таких переходов.\n",
        "\n",
        "   В каждой строке матрицы хранится текущая биграмма (Current Bigram), следующая биграмма (Next Bigram) и вероятность перехода между ними (Probability).\n",
        "\n",
        "2. **Цель — создание уникальных биграмм для каждого класса**:\n",
        "   Мы хотим гарантировать, что биграммы в одном классе не пересекаются с биграммами из других классов, сохраняя при этом порядок переходов и их вероятности.\n",
        "\n",
        "3. **Проверка и фильтрация биграмм**:\n",
        "   Для каждого класса (например, класса A) выполняются следующие шаги:\n",
        "   \n",
        "   - **Извлечение биграмм**: Из матрицы переходов извлекаются все биграммы и вероятности переходов для данного класса.\n",
        "   \n",
        "   - **Сравнение с другими классами**: Далее класс A сравнивается с каждым другим классом (например, B, C, D и т.д.). Для каждой биграммы текущего класса A проверяется, не присутствует ли она (и её последовательности) в других классах.\n",
        "\n",
        "4. **Фильтрация пересекающихся биграмм**:\n",
        "   - Если биграмма из класса A **не встречается** в других классах, она добавляется в новый набор переходов (new_transitions).\n",
        "   - Если биграмма **встречается** в другом классе, алгоритм проверяет, какой переход к следующей биграмме был бы уникальным. Если следующий переход уникален, он добавляется в набор переходов.\n",
        "\n",
        "   Таким образом, даже если какая-то биграмма встречается в других классах, порядок и уникальность её последующих переходов могут обеспечить её сохранение в текущем классе.\n",
        "\n",
        "5. **Результат — уникальные переходы**:\n",
        "   Для каждого класса создаётся новая матрица переходов, которая включает только уникальные биграммы и их последовательности.\n",
        "\n",
        "6. **Сохранение результата**:\n",
        "   В конце код сохраняет новую матрицу переходов в файл `unique_transition_matrix.csv`, которая содержит уникальные биграммы и их вероятности переходов.\n",
        "\n",
        "Таким образом, генерация биграмм для каждого класса включает в себя фильтрацию на уникальность и поиск уникальных переходов для обеспечения их использования в классификации без пересечений с другими классами."
      ],
      "metadata": {
        "id": "1lTVonRYmnhm"
      }
    },
    {
      "cell_type": "code",
      "source": [
        "!pip install tqdm"
      ],
      "metadata": {
        "id": "IgoDGvRzDPe2",
        "colab": {
          "base_uri": "https://localhost:8080/"
        },
        "outputId": "13d3cb34-ce56-45e1-c41a-6d9de3e7d0b9"
      },
      "execution_count": null,
      "outputs": [
        {
          "output_type": "stream",
          "name": "stdout",
          "text": [
            "Requirement already satisfied: tqdm in /usr/local/lib/python3.10/dist-packages (4.66.5)\n"
          ]
        }
      ]
    },
    {
      "cell_type": "code",
      "source": [
        "import pandas as pd\n",
        "from collections import defaultdict\n",
        "import csv\n",
        "from tqdm import tqdm\n",
        "\n",
        "# Загрузка данных из transition_matrix.csv\n",
        "file_path = '/content/drive/MyDrive/Last_1/transition_matrix.csv'\n",
        "df = pd.read_csv(file_path)\n",
        "\n",
        "# Преобразование данных в словарь для быстрого доступа\n",
        "transition_matrix = defaultdict(lambda: defaultdict(lambda: defaultdict(float)))\n",
        "\n",
        "for _, row in df.iterrows():\n",
        "    class_name = row['Class']\n",
        "    current_bigram = eval(row['Current Bigram'])\n",
        "    next_bigram = eval(row['Next Bigram'])\n",
        "    probability = row['Probability']\n",
        "\n",
        "    transition_matrix[class_name][current_bigram][next_bigram] = probability\n",
        "\n",
        "# Функция для генерации уникальных переходов с учетом порядка следования\n",
        "def generate_unique_transitions(class_name, transition_matrix):\n",
        "    new_transitions = defaultdict(lambda: defaultdict(float))\n",
        "\n",
        "    # Получаем биграммы текущего класса\n",
        "    class_transitions = transition_matrix[class_name]\n",
        "\n",
        "    # Проходим по каждому классу, кроме текущего\n",
        "    for other_class in transition_matrix:\n",
        "        if other_class != class_name:\n",
        "            # Извлекаем биграммы и их переходы для другого класса\n",
        "            other_transitions = transition_matrix[other_class]\n",
        "\n",
        "            # Проходим по каждому биграмму текущего класса\n",
        "            for current_bigram in class_transitions:\n",
        "                unique = True\n",
        "                # Проверяем наличие совпадений в других классах\n",
        "                if current_bigram in other_transitions:\n",
        "                    for next_bigram in class_transitions[current_bigram]:\n",
        "                        # Если следующая биграмма не пересекается\n",
        "                        if next_bigram in other_transitions[current_bigram]:\n",
        "                            unique = False\n",
        "                            break\n",
        "                # Если пересечения не найдено, добавляем биграмму\n",
        "                if unique:\n",
        "                    new_transitions[current_bigram] = class_transitions[current_bigram]\n",
        "                else:\n",
        "                    # Генерация нового перехода для уникальности\n",
        "                    for next_bigram in class_transitions[current_bigram]:\n",
        "                        if next_bigram not in other_transitions[current_bigram]:\n",
        "                            new_transitions[current_bigram][next_bigram] = class_transitions[current_bigram][next_bigram]\n",
        "\n",
        "    return new_transitions\n",
        "\n",
        "# Применение функции к каждому классу\n",
        "unique_transition_matrix = defaultdict(lambda: defaultdict(lambda: defaultdict(float)))\n",
        "\n",
        "for class_name in tqdm(transition_matrix, desc=\"Генерация уникальных переходов\"):\n",
        "    unique_transitions = generate_unique_transitions(class_name, transition_matrix)\n",
        "    unique_transition_matrix[class_name] = unique_transitions\n",
        "\n",
        "# Сохранение уникальных матриц переходов в новый CSV файл\n",
        "output_file_path = '/content/drive/MyDrive/Last_1/unique_transition_matrix.csv'\n",
        "\n",
        "with open(output_file_path, 'w', newline='') as csvfile:\n",
        "    writer = csv.writer(csvfile)\n",
        "    writer.writerow(['Class', 'Current Bigram', 'Next Bigram', 'Probability'])\n",
        "\n",
        "    for class_name in unique_transition_matrix:\n",
        "        for current_bigram in unique_transition_matrix[class_name]:\n",
        "            for next_bigram, probability in unique_transition_matrix[class_name][current_bigram].items():\n",
        "                writer.writerow([class_name, current_bigram, next_bigram, probability])\n",
        "\n",
        "print(f\"Уникальные матрицы переходов сохранены в файл CSV: {output_file_path}\")\n"
      ],
      "metadata": {
        "colab": {
          "base_uri": "https://localhost:8080/"
        },
        "id": "nWehvVUMmDK_",
        "outputId": "9111087f-7f08-4db1-daa1-dcaeb2aff99a"
      },
      "execution_count": null,
      "outputs": [
        {
          "output_type": "stream",
          "name": "stderr",
          "text": [
            "Генерация уникальных переходов: 100%|██████████| 121/121 [07:11<00:00,  3.57s/it]\n"
          ]
        },
        {
          "output_type": "stream",
          "name": "stdout",
          "text": [
            "Уникальные матрицы переходов сохранены в файл CSV: /content/drive/MyDrive/Last_1/unique_transition_matrix.csv\n"
          ]
        }
      ]
    },
    {
      "cell_type": "markdown",
      "source": [
        "**Тестируем снова на сгенерированных данных для матрицы перехода.**"
      ],
      "metadata": {
        "id": "5jV_Nz9kswe1"
      }
    },
    {
      "cell_type": "code",
      "source": [
        "import pandas as pd\n",
        "from collections import defaultdict\n",
        "from sklearn.model_selection import train_test_split\n",
        "from sklearn.metrics import accuracy_score, classification_report\n",
        "\n",
        "# Загрузка сохранённой матрицы переходов\n",
        "transition_matrix_df = pd.read_csv('/content/drive/MyDrive/Last_1/unique_transition_matrix.csv')\n",
        "\n",
        "# Преобразование матрицы в формат словаря\n",
        "transition_matrix = defaultdict(lambda: defaultdict(lambda: defaultdict(float)))\n",
        "\n",
        "for _, row in transition_matrix_df.iterrows():\n",
        "    class_name = row['Class']\n",
        "    current_bigram = eval(row['Current Bigram'])\n",
        "    next_bigram = eval(row['Next Bigram'])\n",
        "    probability = row['Probability']\n",
        "    transition_matrix[class_name][current_bigram][next_bigram] = probability\n",
        "\n",
        "# Разделение данных на обучающую и тестовую выборки\n",
        "file_path = '/content/drive/MyDrive/Last_1/full_dataset_ngrams_filtered.csv'\n",
        "df = pd.read_csv(file_path)\n",
        "\n",
        "# Удаление классов, содержащих только один экземпляр\n",
        "df = df.groupby('Portal User Group').filter(lambda x: len(x) > 1)\n",
        "\n",
        "# Разделение данных на обучающую и тестовую выборки с использованием stratify\n",
        "X_train, X_test, y_train, y_test = train_test_split(\n",
        "    df['Bigrams'],  # входные данные (биграммы)\n",
        "    df['Portal User Group'],  # метки классов\n",
        "    test_size=0.3,  # процент данных, который попадет в тестовую выборку\n",
        "    stratify=df['Portal User Group'],  # использование этого параметра для учета классов\n",
        "    random_state=42\n",
        ")\n",
        "\n",
        "print(\"Данные успешно разделены на обучающую и тестовую выборку с учётом классов.\")\n",
        "\n",
        "# Функция для предсказания класса текста на основе цепей Маркова\n",
        "def predict_class(bigrams_sequence, transition_matrix):\n",
        "    class_probabilities = defaultdict(float)\n",
        "\n",
        "    # Для каждого класса вычисляем вероятность биграмм\n",
        "    for class_name, class_transitions in transition_matrix.items():\n",
        "        total_probability = 1.0\n",
        "\n",
        "        for i in range(len(bigrams_sequence) - 1):\n",
        "            current_bigram = bigrams_sequence[i]\n",
        "            next_bigram = bigrams_sequence[i + 1]\n",
        "\n",
        "            # Если биграмма есть в матрице переходов, умножаем на вероятность перехода\n",
        "            if current_bigram in class_transitions and next_bigram in class_transitions[current_bigram]:\n",
        "                total_probability *= class_transitions[current_bigram][next_bigram]\n",
        "            else:\n",
        "                total_probability *= 0.01  # Маленькое значение вместо 0, чтобы не обнулить вероятность\n",
        "\n",
        "        class_probabilities[class_name] = total_probability\n",
        "\n",
        "    # Выбираем класс с наибольшей вероятностью\n",
        "    predicted_class = max(class_probabilities, key=class_probabilities.get)\n",
        "    return predicted_class\n",
        "\n",
        "# Предсказание классов для тестовой выборки\n",
        "y_pred = []\n",
        "\n",
        "for bigrams_sequence in X_test:\n",
        "    predicted_class = predict_class(eval(bigrams_sequence), transition_matrix)\n",
        "    y_pred.append(predicted_class)\n",
        "\n",
        "# Оценка модели\n",
        "print(\"Классификационный отчет:\\n\")\n",
        "print(classification_report(y_test, y_pred))\n",
        "print(f\"Точность модели: {accuracy_score(y_test, y_pred):.4f}\")\n"
      ],
      "metadata": {
        "colab": {
          "base_uri": "https://localhost:8080/"
        },
        "outputId": "9b2dc830-305c-410b-cde1-211597bbad15",
        "id": "nxE_XS2RsyRy"
      },
      "execution_count": null,
      "outputs": [
        {
          "output_type": "stream",
          "name": "stdout",
          "text": [
            "Данные успешно разделены на обучающую и тестовую выборку с учётом классов.\n",
            "Классификационный отчет:\n",
            "\n"
          ]
        },
        {
          "output_type": "stream",
          "name": "stderr",
          "text": [
            "/usr/local/lib/python3.10/dist-packages/sklearn/metrics/_classification.py:1471: UndefinedMetricWarning: Recall and F-score are ill-defined and being set to 0.0 in labels with no true samples. Use `zero_division` parameter to control this behavior.\n",
            "  _warn_prf(average, modifier, msg_start, len(result))\n",
            "/usr/local/lib/python3.10/dist-packages/sklearn/metrics/_classification.py:1471: UndefinedMetricWarning: Recall and F-score are ill-defined and being set to 0.0 in labels with no true samples. Use `zero_division` parameter to control this behavior.\n",
            "  _warn_prf(average, modifier, msg_start, len(result))\n",
            "/usr/local/lib/python3.10/dist-packages/sklearn/metrics/_classification.py:1471: UndefinedMetricWarning: Recall and F-score are ill-defined and being set to 0.0 in labels with no true samples. Use `zero_division` parameter to control this behavior.\n",
            "  _warn_prf(average, modifier, msg_start, len(result))\n"
          ]
        },
        {
          "output_type": "stream",
          "name": "stdout",
          "text": [
            "                                  precision    recall  f1-score   support\n",
            "\n",
            "             #TEST#CORAL#RUSSIA#       0.00      0.00      0.00         0\n",
            "                     ACCOUNTING        0.56      0.93      0.70      1190\n",
            "                 ACCOUNTING ATM        0.80      0.86      0.83      2533\n",
            "           ACCOUNTING CONTRACTS        0.94      0.95      0.95      2539\n",
            "                 ACCOUNTING MIR        0.42      0.96      0.58        99\n",
            "            ACCOUNTING NON-CASH        0.78      0.82      0.80      2821\n",
            "                ACCOUNTING NOTE        0.83      0.90      0.87       858\n",
            "            ACCOUNTING PAYMENTS        0.52      0.99      0.68       166\n",
            "             ACCOUNTING REPORTS        0.94      0.93      0.94      1749\n",
            "              ACCOUNTING RETURN        0.98      0.79      0.87     14712\n",
            "               ACCOUNTING VZAIM        0.77      0.85      0.81      2390\n",
            "                        BELARUS        0.56      1.00      0.72       414\n",
            "                        BOOKING        0.99      0.81      0.89     39995\n",
            "                    BOOKING B2C        0.28      1.00      0.44        13\n",
            "                  BOOKING CLAIM        0.52      1.00      0.68        15\n",
            "                   CHARTER AVIA        0.93      0.84      0.88      5453\n",
            "           CHARTER AVIA VYPISKA        0.90      0.78      0.83      4805\n",
            "                          CLAIM        0.89      0.95      0.92      1604\n",
            "                        CONFIRM        0.61      0.99      0.76       301\n",
            "                      CONFIRM 1        0.61      0.98      0.75       301\n",
            "                      CONFIRM 2        0.69      0.97      0.80      1001\n",
            "                      CONFIRM 3        0.51      1.00      0.67        36\n",
            "          CORAL BUSINESS SCHOOL        0.93      1.00      0.97        14\n",
            "                            CRM        1.00      0.85      0.92        46\n",
            "                  CTM CoralBonus       0.82      0.99      0.90        76\n",
            "                     CTM Franch        0.96      1.00      0.98        25\n",
            "                  CTM Gift Card        0.89      0.98      0.93        50\n",
            "                 CTM SunmarBonus       0.67      1.00      0.80         6\n",
            "                           CTM1        0.75      0.99      0.85       340\n",
            "                           DEP3        0.87      0.95      0.91      3607\n",
            "                   DEP3 Bahrein        0.00      0.00      0.00         0\n",
            "                     DEP3 CLAIM        0.67      1.00      0.80         2\n",
            "                 DEP3 Indonesia        0.57      1.00      0.72        46\n",
            "                     DEP3 Kenia        0.50      1.00      0.67         1\n",
            "                  DEP3 Maldives        0.84      0.98      0.91      1496\n",
            "                 DEP3 Mauritius        0.58      1.00      0.74        49\n",
            "                     DEP3 Qatar        1.00      1.00      1.00         2\n",
            "                DEP3 Seychelles        0.70      1.00      0.82       103\n",
            "                 DEP3 Sri-Lanka        0.70      1.00      0.82       128\n",
            "                  DEP3 Tanzania        0.63      1.00      0.77        17\n",
            "                   DIGITAL SALE        1.00      1.00      1.00        19\n",
            "                   DIRECT SALES        0.80      1.00      0.89         4\n",
            "                       DOMESTIC        0.96      0.93      0.95      8367\n",
            "                DOMESTIC  Claim        1.00      1.00      1.00         1\n",
            "                    ELITE CLAIM        0.30      1.00      0.46        36\n",
            "                        FINANCE        0.98      0.84      0.90     12035\n",
            "                            GDS        0.96      0.93      0.94      8231\n",
            "                GUEST RELATIONS        0.98      0.97      0.98      8581\n",
            "        HEADS OF REGIONAL SALES        0.50      1.00      0.67         2\n",
            "                           INFO        0.94      0.91      0.93      7897\n",
            "                     INFO CLAIM        0.31      1.00      0.47        19\n",
            "               MANAGEMENT CLAIM        0.70      1.00      0.82        28\n",
            "              MARKETING ACTIONS        0.90      0.97      0.93       923\n",
            "                MARKETING CLAIM        0.25      1.00      0.40         2\n",
            "               MARKETING EVENTS        0.96      0.99      0.98      1374\n",
            "                MARKETING SITES        0.96      0.98      0.97       892\n",
            "                           MICE        0.91      0.99      0.95       256\n",
            "                   MINIMIZATION        0.85      0.90      0.87       782\n",
            "                         MNENIE        0.61      0.96      0.75        26\n",
            "                      ODEONBEDS        0.47      1.00      0.64        16\n",
            "                   ONLINE SALES        1.00      1.00      1.00         4\n",
            "                PRODUCT BAHRAIN        0.70      1.00      0.82        35\n",
            "               PRODUCT BULGARIA        1.00      1.00      1.00         1\n",
            "                  PRODUCT CLAIM        0.92      1.00      0.96        23\n",
            "                   PRODUCT CUBA        0.81      1.00      0.90        66\n",
            "                 PRODUCT CYPRUS        1.00      1.00      1.00         1\n",
            "         PRODUCT DOMINICAN REP.        1.00      1.00      1.00         2\n",
            "                  PRODUCT EGYPT        0.91      0.99      0.95       411\n",
            "                 PRODUCT GREECE        0.75      1.00      0.86         3\n",
            "                  PRODUCT INDIA        0.92      1.00      0.96        22\n",
            "                 PRODUCT MEXICO        0.78      1.00      0.88         7\n",
            "             PRODUCT MONTENEGRO        1.00      1.00      1.00         1\n",
            "                PRODUCT MOROCCO        1.00      1.00      1.00         1\n",
            "                    PRODUCT SKI        0.92      0.99      0.96       123\n",
            "                  PRODUCT SPAIN        0.57      1.00      0.73         4\n",
            "               PRODUCT TANZANIA        0.60      1.00      0.75         6\n",
            "               PRODUCT THAILAND        0.87      0.99      0.93       436\n",
            "                 PRODUCT TURKEY        0.95      0.99      0.97       853\n",
            "                    PRODUCT UAE        0.93      0.99      0.96       488\n",
            "                PRODUCT VIETNAM        0.74      1.00      0.85        17\n",
            "           REGION BOOKING Kazan        0.88      0.93      0.91      4402\n",
            "REGION BOOKING Saint-Petersburg        0.85      0.94      0.90      4187\n",
            "            REGION FLIGHT Kazan        0.65      0.92      0.76       947\n",
            " REGION FLIGHT Saint-Petersburg        0.70      0.89      0.78      1394\n",
            "       REGION SALES Arkhangelsk        0.73      0.97      0.83      1396\n",
            "          REGION SALES Belgorod        0.47      0.99      0.64       118\n",
            "       REGION SALES Chelyabinsk        0.86      0.93      0.89      3806\n",
            "      REGION SALES Ekaterinburg        0.92      0.88      0.90      7649\n",
            "           REGION SALES Irkutsk        0.80      0.95      0.87      1972\n",
            "       REGION SALES Kaliningrad        0.76      0.96      0.85      1631\n",
            "             REGION SALES Kazan        0.87      0.94      0.90      3538\n",
            "          REGION SALES Kemerovo        0.68      0.98      0.80       990\n",
            "        REGION SALES Khabarovsk        0.69      0.98      0.81      1100\n",
            "         REGION SALES Krasnodar        0.78      0.96      0.86      1725\n",
            "       REGION SALES Krasnoyarsk        0.80      0.95      0.87      2099\n",
            "          REGION SALES Murmansk        0.53      1.00      0.69        30\n",
            "  REGION SALES Nizhniy Novgorod        0.71      0.95      0.81      1376\n",
            "       REGION SALES Novosibirsk        0.88      0.91      0.90      4209\n",
            "              REGION SALES Omsk        0.79      0.96      0.87      2240\n",
            "              REGION SALES Perm        0.83      0.94      0.88      2996\n",
            "        REGION SALES Pyatigorsk        0.63      0.99      0.77       623\n",
            "     REGION SALES Rostov on Don        0.82      0.96      0.88      2436\n",
            "   REGION SALES Saint-Peterburg        0.93      0.90      0.92      8069\n",
            "            REGION SALES Samara        0.86      0.93      0.90      3206\n",
            "            REGION SALES Surgut        0.73      0.97      0.83      1143\n",
            "             REGION SALES Tumen        0.85      0.94      0.89      2486\n",
            "               REGION SALES Ufa        0.86      0.91      0.89      3630\n",
            "          REGION SALES Voronezh        0.69      0.98      0.81      1064\n",
            "                    RESERVATION        0.71      0.98      0.82       702\n",
            "                  RESERVATION 1        0.71      0.99      0.82       564\n",
            "                  RESERVATION 2        0.80      0.95      0.87      1922\n",
            "                  RESERVATION 3        0.59      1.00      0.74       134\n",
            "                          SALES        0.95      0.90      0.92      9797\n",
            "                    SALES HEADS        1.00      1.00      1.00         1\n",
            "                            SFC        1.00      1.00      1.00         1\n",
            "                           VISA        0.93      0.96      0.94       763\n",
            "                      VISA HELP        0.85      0.91      0.88       140\n",
            "       elite@ELITE RESERVATIONS        0.94      0.93      0.94      7507\n",
            "          special@ELITE SERVICE        0.95      0.89      0.92     11283\n",
            "\n",
            "                        accuracy                           0.89    244274\n",
            "                       macro avg       0.77      0.94      0.83    244274\n",
            "                    weighted avg       0.91      0.89      0.90    244274\n",
            "\n",
            "Точность модели: 0.8904\n"
          ]
        }
      ]
    },
    {
      "cell_type": "markdown",
      "source": [
        "Подсчет количества уникальных классов перед заменой наименований."
      ],
      "metadata": {
        "id": "aPpBguy3cUUv"
      }
    },
    {
      "cell_type": "code",
      "source": [
        "import pandas as pd\n",
        "\n",
        "# Путь к файлу\n",
        "file_path = '/content/drive/MyDrive/Last_1/full_dataset_ngrams_filtered.csv'\n",
        "\n",
        "# Загрузка данных из файла\n",
        "df = pd.read_csv(file_path)\n",
        "\n",
        "# Подсчет количества уникальных классов\n",
        "unique_classes = df['Portal User Group'].unique()\n",
        "\n",
        "# Вывод количества уникальных классов и их названий\n",
        "print(f\"Количество уникальных классов: {len(unique_classes)}\")\n",
        "print(\"Названия классов:\")\n",
        "for class_name in unique_classes:\n",
        "    print(class_name)\n"
      ],
      "metadata": {
        "colab": {
          "base_uri": "https://localhost:8080/"
        },
        "id": "-FKrSXIEcVAP",
        "outputId": "3775b2cb-c851-4fd4-aaac-3fd5ad836087"
      },
      "execution_count": null,
      "outputs": [
        {
          "output_type": "stream",
          "name": "stdout",
          "text": [
            "Количество уникальных классов: 121\n",
            "Названия классов:\n",
            "MARKETING ACTIONS \n",
            "REGION SALES Kazan \n",
            "DEP3 \n",
            "CHARTER AVIA \n",
            "elite@ELITE RESERVATIONS \n",
            "SALES \n",
            "GUEST RELATIONS \n",
            "CLAIM \n",
            "DEP3 Sri-Lanka \n",
            "MICE \n",
            "INFO CLAIM \n",
            "GDS \n",
            "PRODUCT CLAIM \n",
            "REGION SALES Krasnodar \n",
            "ACCOUNTING CONTRACTS \n",
            "ACCOUNTING \n",
            "DOMESTIC \n",
            "MANAGEMENT CLAIM \n",
            "ACCOUNTING RETURN \n",
            "special@ELITE SERVICE \n",
            "CTM Gift Card \n",
            "REGION BOOKING Saint-Petersburg \n",
            "ELITE CLAIM \n",
            "PRODUCT CUBA \n",
            "REGION FLIGHT Saint-Petersburg \n",
            "REGION SALES Saint-Peterburg \n",
            "ACCOUNTING MIR \n",
            "CRM \n",
            "DEP3 Seychelles \n",
            "ACCOUNTING REPORTS \n",
            "FINANCE \n",
            "REGION SALES Khabarovsk \n",
            "REGION SALES Arkhangelsk \n",
            "REGION SALES Samara \n",
            "BOOKING \n",
            "CTM1 \n",
            "REGION SALES Tumen \n",
            "PRODUCT BAHRAIN \n",
            "REGION SALES Chelyabinsk \n",
            "REGION FLIGHT Kazan \n",
            "REGION SALES Kemerovo \n",
            "REGION SALES Pyatigorsk \n",
            "REGION SALES Murmansk \n",
            "REGION SALES Omsk \n",
            "REGION SALES Kaliningrad \n",
            "RESERVATION 3 \n",
            "ACCOUNTING NOTE \n",
            "VISA \n",
            "INFO \n",
            "REGION SALES Irkutsk \n",
            "REGION SALES Ufa \n",
            "REGION BOOKING Kazan \n",
            "REGION SALES Voronezh \n",
            "REGION SALES Belgorod \n",
            "REGION SALES Krasnoyarsk \n",
            "CTM CoralBonus\n",
            "REGION SALES Perm \n",
            "REGION SALES Surgut \n",
            "REGION SALES Nizhniy Novgorod \n",
            "CHARTER AVIA VYPISKA \n",
            "REGION SALES Novosibirsk \n",
            "HEADS OF REGIONAL SALES \n",
            "MARKETING SITES \n",
            "DEP3 Maldives \n",
            "MARKETING EVENTS \n",
            "BELARUS \n",
            "REGION SALES Rostov on Don \n",
            "ACCOUNTING NON-CASH \n",
            "ACCOUNTING ATM \n",
            "RESERVATION \n",
            "PRODUCT TURKEY \n",
            "DEP3 Mauritius \n",
            "PRODUCT UAE \n",
            "ACCOUNTING PAYMENTS \n",
            "REGION SALES Ekaterinburg \n",
            "MNENIE \n",
            "CONFIRM 2 \n",
            "ACCOUNTING VZAIM \n",
            "RESERVATION 2 \n",
            "PRODUCT THAILAND \n",
            "RESERVATION 1 \n",
            "BOOKING B2C \n",
            "CONFIRM 1 \n",
            "CONFIRM \n",
            "PRODUCT EGYPT \n",
            "CONFIRM 3 \n",
            "DEP3 Kenia \n",
            "ONLINE SALES \n",
            "PRODUCT GREECE \n",
            "CTM Franch \n",
            "DEP3 Indonesia \n",
            "DEP3 Tanzania \n",
            "PRODUCT TANZANIA \n",
            "PRODUCT VIETNAM \n",
            "PRODUCT SKI \n",
            "DEP3 Bahrein \n",
            "BOOKING CLAIM \n",
            "PRODUCT MEXICO \n",
            "PRODUCT DOMINICAN REP. \n",
            "MARKETING CLAIM \n",
            "PRODUCT MONTENEGRO \n",
            "CORAL BUSINESS SCHOOL \n",
            "#TEST#CORAL#RUSSIA#\n",
            "PRODUCT INDIA \n",
            "MINIMIZATION \n",
            "SALES HEADS \n",
            "VISA HELP \n",
            "DEP3 CLAIM \n",
            "DEP3 Qatar \n",
            "DIRECT SALES \n",
            "DIGITAL SALE \n",
            "PRODUCT SPAIN \n",
            "SALES CLAIM \n",
            "SFC \n",
            "PRODUCT CYPRUS \n",
            "PRODUCT BULGARIA \n",
            "DOMESTIC  Claim \n",
            "PRODUCT MOROCCO \n",
            "CTM SunmarBonus\n",
            "ODEONBEDS \n",
            "ROBOT ELITE \n"
          ]
        }
      ]
    },
    {
      "cell_type": "markdown",
      "source": [
        "**Замена классов**\n",
        "\n",
        "---\n",
        "класс \"ODEONBEDS\" переименовать в класс \"INFO\";\n",
        "класс \"HEADS OF REGIONAL SALES\" переименовать в класс \"INFO\";\n",
        "класс \"MARKETING CLAIM\" переименовать в класс \"INFO\";\n",
        "класс \"SALES CLAIM\" переименовать в класс \"INFO\";\n",
        "класс \"ELITE CLAIM\" переименовать в класс \"INFO\";\n",
        "класс \"DEP3 Tanzania\" переименовать в класс \"DEP3\";\n",
        "класс \"DEP3 CLAIM\" переименовать в класс \"DEP3\";\n",
        "класс \"DEP3 Bahrein\" переименовать в класс \"DEP3\";\n",
        "класс \"DEP3 Mauritius\" переименовать в класс \"DEP3\";\n",
        "класс \"DEP3 Seychelles\" переименовать в класс \"DEP3\";\n",
        "класс \"CTM Gift Card\" переименовать в класс \"CTM1\";\n",
        "класс \"CTM Franch\" переименовать в класс \"CTM1\";\n",
        "класс \"CORAL BUSINESS SCHOOL\" переименовать в класс \"CTM1\";\n",
        "класс \"DIRECT SALES\" переименовать в класс \"ONLINE SALES\";\n",
        "класс \"PRODUCT VIETNAM\" переименовать в класс \"PRODUCT\";\n",
        "класс \"PRODUCT MEXICO\" переименовать в класс \"PRODUCT\";\n",
        "класс \"PRODUCT TANZANIA\" переименовать в класс \"PRODUCT\";\n",
        "класс \"PRODUCT SPAIN\" переименовать в класс \"PRODUCT\";\n",
        "класс \"PRODUCT CLAIM\" переименовать в класс \"PRODUCT\";\n",
        "класс \"PRODUCT DOMINICAN REP.\" переименовать в класс \"PRODUCT\";\n",
        "класс \"PRODUCT GREECE\" переименовать в класс \"PRODUCT\";\n",
        "класс \"PRODUCT MONTENEGRO\" переименовать в класс \"PRODUCT\";\n",
        "класс \"PRODUCT BULGARIA\" переименовать в класс \"PRODUCT\";\n",
        "класс \"PRODUCT INDIA\" переименовать в класс \"PRODUCT\";\n",
        "класс \"#TEST#CORAL#RUSSIA#\" переименовать в класс \"CRM\";\n",
        "класс \"DOMESTIC Claim\" переименовать в класс \"DOMESTIC\";\n",
        "класс \"REGION SALES Murmansk\" переименовать в класс \"REGION SALES Saint-Peterburg\";\n",
        "класс \"ACCOUNTING MIR\" переименовать в класс \"ACCOUNTING NOTE\";"
      ],
      "metadata": {
        "id": "INpS5t53IQ08"
      }
    },
    {
      "cell_type": "code",
      "source": [
        "import pandas as pd\n",
        "\n",
        "# Путь к файлу\n",
        "file_path = '/content/drive/MyDrive/Last_1/full_dataset_ngrams_filtered.csv'\n",
        "\n",
        "# Загрузка данных\n",
        "df = pd.read_csv(file_path)\n",
        "\n",
        "# Словарь для замены классов\n",
        "class_replacements = {\n",
        "    \"ODEONBEDS\": \"INFO\",\n",
        "    \"HEADS OF REGIONAL SALES\": \"INFO\",\n",
        "    \"MARKETING CLAIM\": \"INFO\",\n",
        "    \"SALES CLAIM\": \"INFO\",\n",
        "    \"ELITE CLAIM\": \"INFO\",\n",
        "    \"DEP3 Tanzania\": \"DEP3\",\n",
        "    \"DEP3 CLAIM\": \"DEP3\",\n",
        "    \"DEP3 Bahrein\": \"DEP3\",\n",
        "    \"DEP3 Mauritius\": \"DEP3\",\n",
        "    \"DEP3 Seychelles\": \"DEP3\",\n",
        "    \"CTM Gift Card\": \"CTM1\",\n",
        "    \"CTM Franch\": \"CTM1\",\n",
        "    \"CORAL BUSINESS SCHOOL\": \"CTM1\",\n",
        "    \"DIRECT SALES\": \"ONLINE SALES\",\n",
        "    \"PRODUCT VIETNAM\": \"PRODUCT\",\n",
        "    \"PRODUCT MEXICO\": \"PRODUCT\",\n",
        "    \"PRODUCT TANZANIA\": \"PRODUCT\",\n",
        "    \"PRODUCT SPAIN\": \"PRODUCT\",\n",
        "    \"PRODUCT CLAIM\": \"PRODUCT\",\n",
        "    \"PRODUCT DOMINICAN REP.\": \"PRODUCT\",\n",
        "    \"PRODUCT GREECE\": \"PRODUCT\",\n",
        "    \"PRODUCT MONTENEGRO\": \"PRODUCT\",\n",
        "    \"PRODUCT BULGARIA\": \"PRODUCT\",\n",
        "    \"PRODUCT INDIA\": \"PRODUCT\",\n",
        "    \"#TEST#CORAL#RUSSIA#\": \"CRM\",\n",
        "    \"DOMESTIC Claim\": \"DOMESTIC\",\n",
        "    \"REGION SALES Murmansk\": \"REGION SALES Saint-Peterburg\",\n",
        "    \"ACCOUNTING MIR\": \"ACCOUNTING NOTE\"\n",
        "}\n",
        "\n",
        "# Удаление лишних пробелов и приведение классов к нижнему регистру\n",
        "df['Portal User Group'] = df['Portal User Group'].str.strip().str.upper()\n",
        "\n",
        "# Приведение всех ключей словаря к верхнему регистру для соответствия\n",
        "class_replacements = {k.upper(): v.upper() for k, v in class_replacements.items()}\n",
        "\n",
        "# Замена названий классов\n",
        "df['Portal User Group'] = df['Portal User Group'].replace(class_replacements)\n",
        "\n",
        "# Сохранение результата в новый файл\n",
        "output_file_path = '/content/drive/MyDrive/Last_1/full_dataset_ngrams_renamed.csv'\n",
        "df.to_csv(output_file_path, index=False)\n",
        "\n",
        "print(f\"Названия классов успешно заменены. Результат сохранен в: {output_file_path}\")\n",
        "\n",
        "# Проверка количества уникальных классов после замены\n",
        "unique_classes_after = df['Portal User Group'].nunique()\n",
        "print(f\"Количество уникальных классов после переименования: {unique_classes_after}\")\n"
      ],
      "metadata": {
        "colab": {
          "base_uri": "https://localhost:8080/"
        },
        "id": "HOkqHuHnl5tX",
        "outputId": "d408db29-7669-4069-d7ba-b9e448cb19f8"
      },
      "execution_count": null,
      "outputs": [
        {
          "output_type": "stream",
          "name": "stdout",
          "text": [
            "Названия классов успешно заменены. Результат сохранен в: /content/drive/MyDrive/Last_1/full_dataset_ngrams_renamed.csv\n",
            "Количество уникальных классов после переименования: 95\n"
          ]
        }
      ]
    },
    {
      "cell_type": "markdown",
      "source": [
        "Подсчет количества уникальных классов после замены наименований."
      ],
      "metadata": {
        "id": "KoN45TwTeV9L"
      }
    },
    {
      "cell_type": "code",
      "source": [
        "import pandas as pd\n",
        "\n",
        "# Путь к файлу\n",
        "file_path = '/content/drive/MyDrive/Last_1/full_dataset_ngrams_renamed.csv'\n",
        "\n",
        "# Загрузка данных из файла\n",
        "df = pd.read_csv(file_path)\n",
        "\n",
        "# Подсчет количества уникальных классов\n",
        "unique_classes = df['Portal User Group'].unique()\n",
        "\n",
        "# Вывод количества уникальных классов и их названий\n",
        "print(f\"Количество уникальных классов: {len(unique_classes)}\")\n",
        "print(\"Названия классов:\")\n",
        "for class_name in unique_classes:\n",
        "    print(class_name)\n"
      ],
      "metadata": {
        "colab": {
          "base_uri": "https://localhost:8080/"
        },
        "id": "Gu19X5Bmenfh",
        "outputId": "6d243758-6230-4f47-806a-15d031f804db"
      },
      "execution_count": null,
      "outputs": [
        {
          "output_type": "stream",
          "name": "stdout",
          "text": [
            "Количество уникальных классов: 95\n",
            "Названия классов:\n",
            "MARKETING ACTIONS\n",
            "REGION SALES KAZAN\n",
            "DEP3\n",
            "CHARTER AVIA\n",
            "ELITE@ELITE RESERVATIONS\n",
            "SALES\n",
            "GUEST RELATIONS\n",
            "CLAIM\n",
            "DEP3 SRI-LANKA\n",
            "MICE\n",
            "INFO CLAIM\n",
            "GDS\n",
            "PRODUCT\n",
            "REGION SALES KRASNODAR\n",
            "ACCOUNTING CONTRACTS\n",
            "ACCOUNTING\n",
            "DOMESTIC\n",
            "MANAGEMENT CLAIM\n",
            "ACCOUNTING RETURN\n",
            "SPECIAL@ELITE SERVICE\n",
            "CTM1\n",
            "REGION BOOKING SAINT-PETERSBURG\n",
            "INFO\n",
            "PRODUCT CUBA\n",
            "REGION FLIGHT SAINT-PETERSBURG\n",
            "REGION SALES SAINT-PETERBURG\n",
            "ACCOUNTING NOTE\n",
            "CRM\n",
            "ACCOUNTING REPORTS\n",
            "FINANCE\n",
            "REGION SALES KHABAROVSK\n",
            "REGION SALES ARKHANGELSK\n",
            "REGION SALES SAMARA\n",
            "BOOKING\n",
            "REGION SALES TUMEN\n",
            "PRODUCT BAHRAIN\n",
            "REGION SALES CHELYABINSK\n",
            "REGION FLIGHT KAZAN\n",
            "REGION SALES KEMEROVO\n",
            "REGION SALES PYATIGORSK\n",
            "REGION SALES OMSK\n",
            "REGION SALES KALININGRAD\n",
            "RESERVATION 3\n",
            "VISA\n",
            "REGION SALES IRKUTSK\n",
            "REGION SALES UFA\n",
            "REGION BOOKING KAZAN\n",
            "REGION SALES VORONEZH\n",
            "REGION SALES BELGOROD\n",
            "REGION SALES KRASNOYARSK\n",
            "CTM CORALBONUS\n",
            "REGION SALES PERM\n",
            "REGION SALES SURGUT\n",
            "REGION SALES NIZHNIY NOVGOROD\n",
            "CHARTER AVIA VYPISKA\n",
            "REGION SALES NOVOSIBIRSK\n",
            "MARKETING SITES\n",
            "DEP3 MALDIVES\n",
            "MARKETING EVENTS\n",
            "BELARUS\n",
            "REGION SALES ROSTOV ON DON\n",
            "ACCOUNTING NON-CASH\n",
            "ACCOUNTING ATM\n",
            "RESERVATION\n",
            "PRODUCT TURKEY\n",
            "PRODUCT UAE\n",
            "ACCOUNTING PAYMENTS\n",
            "REGION SALES EKATERINBURG\n",
            "MNENIE\n",
            "CONFIRM 2\n",
            "ACCOUNTING VZAIM\n",
            "RESERVATION 2\n",
            "PRODUCT THAILAND\n",
            "RESERVATION 1\n",
            "BOOKING B2C\n",
            "CONFIRM 1\n",
            "CONFIRM\n",
            "PRODUCT EGYPT\n",
            "CONFIRM 3\n",
            "DEP3 KENIA\n",
            "ONLINE SALES\n",
            "DEP3 INDONESIA\n",
            "PRODUCT SKI\n",
            "BOOKING CLAIM\n",
            "MINIMIZATION\n",
            "SALES HEADS\n",
            "VISA HELP\n",
            "DEP3 QATAR\n",
            "DIGITAL SALE\n",
            "SFC\n",
            "PRODUCT CYPRUS\n",
            "DOMESTIC  CLAIM\n",
            "PRODUCT MOROCCO\n",
            "CTM SUNMARBONUS\n",
            "ROBOT ELITE\n"
          ]
        }
      ]
    },
    {
      "cell_type": "markdown",
      "source": [
        "Подсчитаем вероятности переходов между биграммами для каждого класса."
      ],
      "metadata": {
        "id": "YaNW6qKEgD7q"
      }
    },
    {
      "cell_type": "code",
      "source": [
        "import pandas as pd\n",
        "from collections import defaultdict\n",
        "import csv\n",
        "from tqdm import tqdm\n",
        "\n",
        "# Загрузка данных\n",
        "file_path = '/content/drive/MyDrive/Last_1/full_dataset_ngrams_renamed.csv'\n",
        "df = pd.read_csv(file_path)\n",
        "\n",
        "# Преобразование строки в список кортежей\n",
        "df['Bigrams'] = df['Bigrams'].apply(eval)\n",
        "\n",
        "# Создание словаря для матрицы переходов для каждого класса\n",
        "transition_matrix = defaultdict(lambda: defaultdict(lambda: defaultdict(float)))\n",
        "\n",
        "# Подсчет переходов между биграммами для каждого класса с индикацией выполнения\n",
        "for class_name, group in tqdm(df.groupby('Portal User Group'), desc=\"Создание матрицы переходов\"):\n",
        "    for bigrams in group['Bigrams']:\n",
        "        for i in range(len(bigrams) - 1):\n",
        "            current_bigram = bigrams[i]\n",
        "            next_bigram = bigrams[i + 1]\n",
        "            transition_matrix[class_name][current_bigram][next_bigram] += 1\n",
        "\n",
        "# Преобразование счетчиков в вероятности (нормализация)\n",
        "for class_name in tqdm(transition_matrix, desc=\"Нормализация данных\"):\n",
        "    for current_bigram in transition_matrix[class_name]:\n",
        "        total = sum(transition_matrix[class_name][current_bigram].values())\n",
        "        for next_bigram in transition_matrix[class_name][current_bigram]:\n",
        "            transition_matrix[class_name][current_bigram][next_bigram] /= total\n",
        "\n",
        "# Сохранение матрицы переходов в CSV файл\n",
        "output_file_path = '/content/drive/MyDrive/Last_1/transition_matrix_renamed.csv'\n",
        "\n",
        "# Запись в CSV файл\n",
        "with open(output_file_path, 'w', newline='') as csvfile:\n",
        "    writer = csv.writer(csvfile)\n",
        "    writer.writerow(['Class', 'Current Bigram', 'Next Bigram', 'Probability'])\n",
        "\n",
        "    for class_name in transition_matrix:\n",
        "        for current_bigram in transition_matrix[class_name]:\n",
        "            for next_bigram, probability in transition_matrix[class_name][current_bigram].items():\n",
        "                writer.writerow([class_name, current_bigram, next_bigram, probability])\n",
        "\n",
        "print(f\"Матрица переходов успешно сохранена в файл CSV: {output_file_path}\")\n"
      ],
      "metadata": {
        "colab": {
          "base_uri": "https://localhost:8080/"
        },
        "outputId": "5cb0a0fd-6f93-40b3-a83b-f4eed02ebfe9",
        "id": "_q7kjNfigYJD"
      },
      "execution_count": null,
      "outputs": [
        {
          "output_type": "stream",
          "name": "stderr",
          "text": [
            "Создание матрицы переходов: 100%|██████████| 95/95 [00:24<00:00,  3.86it/s]\n",
            "Нормализация данных: 100%|██████████| 95/95 [00:08<00:00, 11.04it/s]\n"
          ]
        },
        {
          "output_type": "stream",
          "name": "stdout",
          "text": [
            "Матрица переходов успешно сохранена в файл CSV: /content/drive/MyDrive/Last_1/transition_matrix_renamed.csv\n"
          ]
        }
      ]
    },
    {
      "cell_type": "markdown",
      "source": [
        "**Тестируем 95 классов.**"
      ],
      "metadata": {
        "id": "u9dbGhi0offM"
      }
    },
    {
      "cell_type": "code",
      "source": [
        "import pandas as pd\n",
        "from collections import defaultdict\n",
        "from sklearn.model_selection import train_test_split\n",
        "from sklearn.metrics import accuracy_score, classification_report\n",
        "\n",
        "# Загрузка сохранённой матрицы переходов\n",
        "transition_matrix_df = pd.read_csv('/content/drive/MyDrive/Last_1/transition_matrix_renamed.csv')\n",
        "\n",
        "# Преобразование матрицы в формат словаря\n",
        "transition_matrix = defaultdict(lambda: defaultdict(lambda: defaultdict(float)))\n",
        "\n",
        "for _, row in transition_matrix_df.iterrows():\n",
        "    class_name = row['Class']\n",
        "    current_bigram = eval(row['Current Bigram'])\n",
        "    next_bigram = eval(row['Next Bigram'])\n",
        "    probability = row['Probability']\n",
        "    transition_matrix[class_name][current_bigram][next_bigram] = probability\n",
        "\n",
        "# Разделение данных на обучающую и тестовую выборки\n",
        "file_path = '/content/drive/MyDrive/Last_1/full_dataset_ngrams_renamed.csv'\n",
        "df = pd.read_csv(file_path)\n",
        "\n",
        "# Удаление классов, содержащих только один экземпляр\n",
        "df = df.groupby('Portal User Group').filter(lambda x: len(x) > 1)\n",
        "\n",
        "# Разделение данных на обучающую и тестовую выборки с использованием stratify\n",
        "X_train, X_test, y_train, y_test = train_test_split(\n",
        "    df['Bigrams'],  # входные данные (биграммы)\n",
        "    df['Portal User Group'],  # метки классов\n",
        "    test_size=0.3,  # процент данных, который попадет в тестовую выборку\n",
        "    stratify=df['Portal User Group'],  # использование этого параметра для учета классов\n",
        "    random_state=42\n",
        ")\n",
        "\n",
        "print(\"Данные успешно разделены на обучающую и тестовую выборку с учётом классов.\")\n",
        "\n",
        "# Функция для предсказания класса текста на основе цепей Маркова\n",
        "def predict_class(bigrams_sequence, transition_matrix):\n",
        "    class_probabilities = defaultdict(float)\n",
        "\n",
        "    # Для каждого класса вычисляем вероятность биграмм\n",
        "    for class_name, class_transitions in transition_matrix.items():\n",
        "        total_probability = 1.0\n",
        "\n",
        "        for i in range(len(bigrams_sequence) - 1):\n",
        "            current_bigram = bigrams_sequence[i]\n",
        "            next_bigram = bigrams_sequence[i + 1]\n",
        "\n",
        "            # Если биграмма есть в матрице переходов, умножаем на вероятность перехода\n",
        "            if current_bigram in class_transitions and next_bigram in class_transitions[current_bigram]:\n",
        "                total_probability *= class_transitions[current_bigram][next_bigram]\n",
        "            else:\n",
        "                total_probability *= 0.01  # Маленькое значение вместо 0, чтобы не обнулить вероятность\n",
        "\n",
        "        class_probabilities[class_name] = total_probability\n",
        "\n",
        "    # Выбираем класс с наибольшей вероятностью\n",
        "    predicted_class = max(class_probabilities, key=class_probabilities.get)\n",
        "    return predicted_class\n",
        "\n",
        "# Предсказание классов для тестовой выборки\n",
        "y_pred = []\n",
        "\n",
        "for bigrams_sequence in X_test:\n",
        "    predicted_class = predict_class(eval(bigrams_sequence), transition_matrix)\n",
        "    y_pred.append(predicted_class)\n",
        "\n",
        "# Оценка модели\n",
        "print(\"Классификационный отчет:\\n\")\n",
        "print(classification_report(y_test, y_pred))\n",
        "print(f\"Точность модели: {accuracy_score(y_test, y_pred):.4f}\")\n"
      ],
      "metadata": {
        "colab": {
          "base_uri": "https://localhost:8080/"
        },
        "outputId": "1f4427e1-df1d-4766-a130-c043d76379a7",
        "id": "vYbp_8bDokUm"
      },
      "execution_count": null,
      "outputs": [
        {
          "output_type": "stream",
          "name": "stdout",
          "text": [
            "Данные успешно разделены на обучающую и тестовую выборку с учётом классов.\n",
            "Классификационный отчет:\n",
            "\n",
            "                                 precision    recall  f1-score   support\n",
            "\n",
            "                     ACCOUNTING       0.31      0.94      0.47      1190\n",
            "                 ACCOUNTING ATM       0.80      0.87      0.83      2533\n",
            "           ACCOUNTING CONTRACTS       0.94      0.95      0.95      2539\n",
            "            ACCOUNTING NON-CASH       0.79      0.82      0.80      2821\n",
            "                ACCOUNTING NOTE       0.82      0.90      0.86       957\n",
            "            ACCOUNTING PAYMENTS       0.52      0.99      0.68       166\n",
            "             ACCOUNTING REPORTS       0.95      0.93      0.94      1749\n",
            "              ACCOUNTING RETURN       0.98      0.79      0.87     14712\n",
            "               ACCOUNTING VZAIM       0.77      0.85      0.81      2390\n",
            "                        BELARUS       0.56      1.00      0.72       414\n",
            "                        BOOKING       0.99      0.81      0.89     39995\n",
            "                    BOOKING B2C       0.33      1.00      0.49        13\n",
            "                  BOOKING CLAIM       0.48      1.00      0.65        15\n",
            "                   CHARTER AVIA       0.93      0.84      0.88      5453\n",
            "           CHARTER AVIA VYPISKA       0.90      0.77      0.83      4804\n",
            "                          CLAIM       0.89      0.95      0.92      1604\n",
            "                        CONFIRM       0.60      0.99      0.75       301\n",
            "                      CONFIRM 1       0.62      0.99      0.76       301\n",
            "                      CONFIRM 2       0.71      0.97      0.82      1001\n",
            "                      CONFIRM 3       0.43      1.00      0.60        36\n",
            "                            CRM       1.00      0.85      0.92        47\n",
            "                 CTM CORALBONUS       0.82      0.99      0.89        76\n",
            "                CTM SUNMARBONUS       0.75      1.00      0.86         6\n",
            "                           CTM1       0.73      0.99      0.84       430\n",
            "                           DEP3       0.87      0.94      0.90      3779\n",
            "                 DEP3 INDONESIA       0.61      1.00      0.75        46\n",
            "                     DEP3 KENIA       0.50      1.00      0.67         1\n",
            "                  DEP3 MALDIVES       0.84      0.99      0.91      1496\n",
            "                     DEP3 QATAR       1.00      1.00      1.00         2\n",
            "                 DEP3 SRI-LANKA       0.65      1.00      0.79       128\n",
            "                   DIGITAL SALE       1.00      1.00      1.00        19\n",
            "                       DOMESTIC       0.96      0.93      0.94      8367\n",
            "                DOMESTIC  CLAIM       1.00      1.00      1.00         1\n",
            "       ELITE@ELITE RESERVATIONS       0.94      0.93      0.94      7507\n",
            "                        FINANCE       0.98      0.84      0.91     12035\n",
            "                            GDS       0.96      0.93      0.95      8230\n",
            "                GUEST RELATIONS       0.98      0.97      0.97      8581\n",
            "                           INFO       0.94      0.91      0.93      7954\n",
            "                     INFO CLAIM       0.35      1.00      0.52        19\n",
            "               MANAGEMENT CLAIM       0.67      1.00      0.80        28\n",
            "              MARKETING ACTIONS       0.91      0.97      0.94       923\n",
            "               MARKETING EVENTS       0.96      0.99      0.97      1374\n",
            "                MARKETING SITES       0.96      0.98      0.97       892\n",
            "                           MICE       0.85      0.99      0.91       256\n",
            "                   MINIMIZATION       0.85      0.90      0.88       782\n",
            "                         MNENIE       0.69      0.96      0.81        26\n",
            "                   ONLINE SALES       0.69      1.00      0.82         9\n",
            "                        PRODUCT       0.83      1.00      0.91        86\n",
            "                PRODUCT BAHRAIN       0.77      0.97      0.86        35\n",
            "                   PRODUCT CUBA       0.81      1.00      0.90        66\n",
            "                 PRODUCT CYPRUS       1.00      1.00      1.00         1\n",
            "                  PRODUCT EGYPT       0.92      1.00      0.96       411\n",
            "                PRODUCT MOROCCO       1.00      1.00      1.00         1\n",
            "                    PRODUCT SKI       0.88      0.98      0.93       123\n",
            "               PRODUCT THAILAND       0.88      0.99      0.93       436\n",
            "                 PRODUCT TURKEY       0.95      0.99      0.97       853\n",
            "                    PRODUCT UAE       0.92      0.98      0.95       488\n",
            "           REGION BOOKING KAZAN       0.89      0.93      0.91      4402\n",
            "REGION BOOKING SAINT-PETERSBURG       0.85      0.94      0.89      4187\n",
            "            REGION FLIGHT KAZAN       0.64      0.90      0.75       947\n",
            " REGION FLIGHT SAINT-PETERSBURG       0.70      0.90      0.78      1394\n",
            "       REGION SALES ARKHANGELSK       0.74      0.97      0.84      1396\n",
            "          REGION SALES BELGOROD       0.48      1.00      0.65       118\n",
            "       REGION SALES CHELYABINSK       0.86      0.93      0.89      3806\n",
            "      REGION SALES EKATERINBURG       0.92      0.88      0.90      7649\n",
            "           REGION SALES IRKUTSK       0.81      0.95      0.88      1972\n",
            "       REGION SALES KALININGRAD       0.75      0.96      0.84      1631\n",
            "             REGION SALES KAZAN       0.87      0.93      0.90      3538\n",
            "          REGION SALES KEMEROVO       0.69      0.98      0.81       990\n",
            "        REGION SALES KHABAROVSK       0.71      0.97      0.82      1100\n",
            "         REGION SALES KRASNODAR       0.78      0.96      0.86      1725\n",
            "       REGION SALES KRASNOYARSK       0.79      0.95      0.86      2099\n",
            "  REGION SALES NIZHNIY NOVGOROD       0.71      0.96      0.82      1376\n",
            "       REGION SALES NOVOSIBIRSK       0.88      0.92      0.90      4209\n",
            "              REGION SALES OMSK       0.80      0.96      0.87      2240\n",
            "              REGION SALES PERM       0.83      0.94      0.88      2995\n",
            "        REGION SALES PYATIGORSK       0.63      0.98      0.77       623\n",
            "     REGION SALES ROSTOV ON DON       0.82      0.95      0.88      2436\n",
            "   REGION SALES SAINT-PETERBURG       0.93      0.91      0.92      8098\n",
            "            REGION SALES SAMARA       0.85      0.94      0.89      3206\n",
            "            REGION SALES SURGUT       0.73      0.97      0.84      1143\n",
            "             REGION SALES TUMEN       0.85      0.95      0.90      2486\n",
            "               REGION SALES UFA       0.87      0.92      0.90      3630\n",
            "          REGION SALES VORONEZH       0.69      0.98      0.81      1064\n",
            "                    RESERVATION       0.71      0.98      0.82       702\n",
            "                  RESERVATION 1       0.74      0.99      0.84       564\n",
            "                  RESERVATION 2       0.80      0.96      0.88      1922\n",
            "                  RESERVATION 3       0.58      0.99      0.73       134\n",
            "                          SALES       0.95      0.90      0.93      9797\n",
            "                    SALES HEADS       1.00      1.00      1.00         1\n",
            "                            SFC       1.00      1.00      1.00         1\n",
            "          SPECIAL@ELITE SERVICE       0.95      0.89      0.92     11283\n",
            "                           VISA       0.93      0.95      0.94       763\n",
            "                      VISA HELP       0.85      0.87      0.86       140\n",
            "\n",
            "                       accuracy                           0.89    244275\n",
            "                      macro avg       0.80      0.95      0.86    244275\n",
            "                   weighted avg       0.91      0.89      0.90    244275\n",
            "\n",
            "Точность модели: 0.8918\n"
          ]
        }
      ]
    },
    {
      "cell_type": "markdown",
      "source": [
        "**Генерация более сложных n-грамм (триграммы, 4-граммы, 5-граммы) и сохранение как прямых, так и обратных зависимостей.**"
      ],
      "metadata": {
        "id": "vefz16N1Th_F"
      }
    },
    {
      "cell_type": "code",
      "source": [
        "import pandas as pd\n",
        "from collections import defaultdict\n",
        "from sklearn.model_selection import train_test_split\n",
        "from sklearn.metrics import accuracy_score, classification_report\n",
        "from tqdm import tqdm\n",
        "import numpy as np\n",
        "\n",
        "# Загрузка данных\n",
        "file_path = '/content/drive/MyDrive/Last_1/full_dataset_ngrams_renamed.csv'\n",
        "df = pd.read_csv(file_path)\n",
        "\n",
        "# Преобразование строки в список кортежей (биграмм)\n",
        "df['Bigrams'] = df['Bigrams'].apply(eval)\n",
        "\n",
        "# Удаление классов, содержащих только один экземпляр\n",
        "df = df.groupby('Portal User Group').filter(lambda x: len(x) > 1)\n",
        "\n",
        "# Разделение данных на обучающую и тестовую выборки с использованием stratify\n",
        "X_train, X_test, y_train, y_test = train_test_split(\n",
        "    df['Bigrams'],  # входные данные (биграммы)\n",
        "    df['Portal User Group'],  # метки классов\n",
        "    test_size=0.3,  # процент данных, который попадет в тестовую выборку\n",
        "    stratify=df['Portal User Group'],  # использование этого параметра для учета классов\n",
        "    random_state=42\n",
        ")\n",
        "\n",
        "print(\"Данные успешно разделены на обучающую и тестовую выборку с учётом классов.\")\n",
        "\n",
        "# --- Блок 1: Создание сложных n-грамм (триграммы, 4-граммы, 5-граммы), включая обратные зависимости ---\n",
        "\n",
        "def generate_ngrams(bigrams, n):\n",
        "    \"\"\"Функция для генерации n-грамм из биграмм.\"\"\"\n",
        "    ngrams = []\n",
        "    for i in range(len(bigrams) - (n - 2)):\n",
        "        ngrams.append(tuple(bigrams[i:i + n]))\n",
        "    return ngrams\n",
        "\n",
        "# Добавляем прямые и обратные зависимости\n",
        "df_train = df[df.index.isin(X_train.index)].copy()\n",
        "\n",
        "# Генерация триграмм, 4-грамм и 5-грамм с обратными зависимостями\n",
        "df_train['Trigrams'] = df_train['Bigrams'].apply(lambda x: generate_ngrams(x, 3))\n",
        "df_train['Fourgrams'] = df_train['Bigrams'].apply(lambda x: generate_ngrams(x, 4))\n",
        "df_train['Fivegrams'] = df_train['Bigrams'].apply(lambda x: generate_ngrams(x, 5))\n",
        "\n",
        "# Создание двунаправленных цепей Маркова\n",
        "transition_matrix = defaultdict(lambda: defaultdict(lambda: defaultdict(float)))\n",
        "\n",
        "# Подсчет переходов между n-граммами для каждого класса\n",
        "for class_name, group in tqdm(df_train.groupby('Portal User Group'), desc=\"Создание матрицы переходов\"):\n",
        "    for ngram_column in ['Trigrams', 'Fourgrams', 'Fivegrams']:\n",
        "        for ngrams in group[ngram_column]:\n",
        "            for i in range(len(ngrams) - 1):\n",
        "                current_ngram = ngrams[i]\n",
        "                next_ngram = ngrams[i + 1]\n",
        "                transition_matrix[class_name][current_ngram][next_ngram] += 1\n",
        "\n",
        "# Преобразование счетчиков в вероятности (нормализация)\n",
        "for class_name in tqdm(transition_matrix, desc=\"Нормализация данных\"):\n",
        "    for current_ngram in transition_matrix[class_name]:\n",
        "        total = sum(transition_matrix[class_name][current_ngram].values())\n",
        "        for next_ngram in transition_matrix[class_name][current_ngram]:\n",
        "            transition_matrix[class_name][current_ngram][next_ngram] /= total\n",
        "\n",
        "# --- Блок 2: Предсказание на тестовой выборке ---\n",
        "\n",
        "# Функция для предсказания класса текста на основе цепей Маркова\n",
        "def predict_class(ngrams_sequence, transition_matrix):\n",
        "    class_probabilities = defaultdict(float)\n",
        "\n",
        "    # Для каждого класса вычисляем вероятность n-грамм\n",
        "    for class_name, class_transitions in transition_matrix.items():\n",
        "        total_probability = 1.0\n",
        "\n",
        "        for i in range(len(ngrams_sequence) - 1):\n",
        "            current_ngram = ngrams_sequence[i]\n",
        "            next_ngram = ngrams_sequence[i + 1]\n",
        "\n",
        "            # Если n-грамма есть в матрице переходов, умножаем на вероятность перехода\n",
        "            if current_ngram in class_transitions and next_ngram in class_transitions[current_ngram]:\n",
        "                total_probability *= class_transitions[current_ngram][next_ngram]\n",
        "            else:\n",
        "                total_probability *= 0.01  # Маленькое значение вместо 0, чтобы не обнулить вероятность\n",
        "\n",
        "        class_probabilities[class_name] = total_probability\n",
        "\n",
        "    # Выбираем класс с наибольшей вероятностью\n",
        "    predicted_class = max(class_probabilities, key=class_probabilities.get)\n",
        "    return predicted_class\n",
        "\n",
        "# Предсказание классов для тестовой выборки\n",
        "y_pred = []\n",
        "\n",
        "for bigrams_sequence in tqdm(X_test, desc=\"Предсказание классов\"):\n",
        "    trigrams_sequence = generate_ngrams(bigrams_sequence, 3)\n",
        "    predicted_class = predict_class(trigrams_sequence, transition_matrix)  # Используем треграммы для предсказания\n",
        "    y_pred.append(predicted_class)\n",
        "\n",
        "# Оценка модели\n",
        "print(\"Классификационный отчет:\\n\")\n",
        "print(classification_report(y_test, y_pred))\n",
        "print(f\"Точность модели: {accuracy_score(y_test, y_pred):.4f}\")\n",
        "\n"
      ],
      "metadata": {
        "colab": {
          "base_uri": "https://localhost:8080/"
        },
        "id": "fkw-ysf4WNDK",
        "outputId": "deee6705-bf13-43d7-f097-b0fa9de42986"
      },
      "execution_count": null,
      "outputs": [
        {
          "output_type": "stream",
          "name": "stdout",
          "text": [
            "Данные успешно разделены на обучающую и тестовую выборку с учётом классов.\n"
          ]
        },
        {
          "output_type": "stream",
          "name": "stderr",
          "text": [
            "Создание матрицы переходов: 100%|██████████| 94/94 [00:49<00:00,  1.91it/s]\n",
            "Нормализация данных: 100%|██████████| 94/94 [00:20<00:00,  4.64it/s]\n",
            "Предсказание классов: 100%|██████████| 244275/244275 [01:35<00:00, 2548.10it/s]\n"
          ]
        },
        {
          "output_type": "stream",
          "name": "stdout",
          "text": [
            "Классификационный отчет:\n",
            "\n"
          ]
        },
        {
          "output_type": "stream",
          "name": "stderr",
          "text": [
            "/usr/local/lib/python3.10/dist-packages/sklearn/metrics/_classification.py:1471: UndefinedMetricWarning: Precision and F-score are ill-defined and being set to 0.0 in labels with no predicted samples. Use `zero_division` parameter to control this behavior.\n",
            "  _warn_prf(average, modifier, msg_start, len(result))\n",
            "/usr/local/lib/python3.10/dist-packages/sklearn/metrics/_classification.py:1471: UndefinedMetricWarning: Precision and F-score are ill-defined and being set to 0.0 in labels with no predicted samples. Use `zero_division` parameter to control this behavior.\n",
            "  _warn_prf(average, modifier, msg_start, len(result))\n",
            "/usr/local/lib/python3.10/dist-packages/sklearn/metrics/_classification.py:1471: UndefinedMetricWarning: Precision and F-score are ill-defined and being set to 0.0 in labels with no predicted samples. Use `zero_division` parameter to control this behavior.\n",
            "  _warn_prf(average, modifier, msg_start, len(result))\n"
          ]
        },
        {
          "output_type": "stream",
          "name": "stdout",
          "text": [
            "                                 precision    recall  f1-score   support\n",
            "\n",
            "                     ACCOUNTING       0.01      0.66      0.01      1190\n",
            "                 ACCOUNTING ATM       0.40      0.26      0.32      2533\n",
            "           ACCOUNTING CONTRACTS       0.71      0.27      0.39      2539\n",
            "            ACCOUNTING NON-CASH       0.39      0.23      0.29      2821\n",
            "                ACCOUNTING NOTE       0.45      0.24      0.31       957\n",
            "            ACCOUNTING PAYMENTS       0.13      0.05      0.07       166\n",
            "             ACCOUNTING REPORTS       0.83      0.38      0.52      1749\n",
            "              ACCOUNTING RETURN       0.80      0.44      0.56     14712\n",
            "               ACCOUNTING VZAIM       0.36      0.19      0.25      2390\n",
            "                        BELARUS       0.09      0.09      0.09       414\n",
            "                        BOOKING       0.45      0.24      0.31     39995\n",
            "                    BOOKING B2C       0.09      0.08      0.08        13\n",
            "                  BOOKING CLAIM       0.00      0.00      0.00        15\n",
            "                   CHARTER AVIA       0.27      0.13      0.18      5453\n",
            "           CHARTER AVIA VYPISKA       0.36      0.18      0.24      4804\n",
            "                          CLAIM       0.47      0.19      0.27      1604\n",
            "                        CONFIRM       0.08      0.05      0.06       301\n",
            "                      CONFIRM 1       0.09      0.07      0.08       301\n",
            "                      CONFIRM 2       0.07      0.05      0.06      1001\n",
            "                      CONFIRM 3       0.07      0.06      0.06        36\n",
            "                            CRM       0.71      0.11      0.19        47\n",
            "                 CTM CORALBONUS       0.43      0.04      0.07        76\n",
            "                CTM SUNMARBONUS       0.00      0.00      0.00         6\n",
            "                           CTM1       0.33      0.08      0.13       430\n",
            "                           DEP3       0.22      0.12      0.15      3779\n",
            "                 DEP3 INDONESIA       0.17      0.07      0.09        46\n",
            "                     DEP3 KENIA       0.00      0.00      0.00         1\n",
            "                  DEP3 MALDIVES       0.25      0.15      0.19      1496\n",
            "                     DEP3 QATAR       0.33      0.50      0.40         2\n",
            "                 DEP3 SRI-LANKA       0.16      0.09      0.11       128\n",
            "                   DIGITAL SALE       0.00      0.00      0.00        19\n",
            "                       DOMESTIC       0.42      0.15      0.22      8367\n",
            "                DOMESTIC  CLAIM       0.00      0.00      0.00         1\n",
            "       ELITE@ELITE RESERVATIONS       0.24      0.12      0.16      7507\n",
            "                        FINANCE       0.81      0.29      0.43     12035\n",
            "                            GDS       0.55      0.16      0.25      8230\n",
            "                GUEST RELATIONS       0.63      0.23      0.34      8581\n",
            "                           INFO       0.19      0.08      0.11      7954\n",
            "                     INFO CLAIM       0.22      0.11      0.14        19\n",
            "               MANAGEMENT CLAIM       0.00      0.00      0.00        28\n",
            "              MARKETING ACTIONS       0.50      0.12      0.19       923\n",
            "               MARKETING EVENTS       0.50      0.17      0.26      1374\n",
            "                MARKETING SITES       0.29      0.06      0.10       892\n",
            "                           MICE       0.23      0.09      0.13       256\n",
            "                   MINIMIZATION       0.36      0.17      0.23       782\n",
            "                         MNENIE       0.00      0.00      0.00        26\n",
            "                   ONLINE SALES       0.50      0.11      0.18         9\n",
            "                        PRODUCT       0.12      0.06      0.08        86\n",
            "                PRODUCT BAHRAIN       0.00      0.00      0.00        35\n",
            "                   PRODUCT CUBA       0.12      0.03      0.05        66\n",
            "                 PRODUCT CYPRUS       1.00      1.00      1.00         1\n",
            "                  PRODUCT EGYPT       0.30      0.10      0.15       411\n",
            "                PRODUCT MOROCCO       0.00      0.00      0.00         1\n",
            "                    PRODUCT SKI       0.48      0.19      0.27       123\n",
            "               PRODUCT THAILAND       0.15      0.06      0.09       436\n",
            "                 PRODUCT TURKEY       0.24      0.09      0.13       853\n",
            "                    PRODUCT UAE       0.22      0.09      0.12       488\n",
            "           REGION BOOKING KAZAN       0.22      0.12      0.16      4402\n",
            "REGION BOOKING SAINT-PETERSBURG       0.17      0.09      0.12      4187\n",
            "            REGION FLIGHT KAZAN       0.19      0.10      0.13       947\n",
            " REGION FLIGHT SAINT-PETERSBURG       0.29      0.14      0.19      1394\n",
            "       REGION SALES ARKHANGELSK       0.15      0.09      0.11      1396\n",
            "          REGION SALES BELGOROD       0.06      0.03      0.04       118\n",
            "       REGION SALES CHELYABINSK       0.21      0.10      0.13      3806\n",
            "      REGION SALES EKATERINBURG       0.21      0.09      0.12      7649\n",
            "           REGION SALES IRKUTSK       0.22      0.10      0.14      1972\n",
            "       REGION SALES KALININGRAD       0.24      0.13      0.17      1631\n",
            "             REGION SALES KAZAN       0.15      0.06      0.09      3538\n",
            "          REGION SALES KEMEROVO       0.16      0.08      0.11       990\n",
            "        REGION SALES KHABAROVSK       0.15      0.09      0.11      1100\n",
            "         REGION SALES KRASNODAR       0.17      0.08      0.11      1725\n",
            "       REGION SALES KRASNOYARSK       0.18      0.07      0.10      2099\n",
            "  REGION SALES NIZHNIY NOVGOROD       0.17      0.08      0.10      1376\n",
            "       REGION SALES NOVOSIBIRSK       0.19      0.08      0.11      4209\n",
            "              REGION SALES OMSK       0.23      0.10      0.14      2240\n",
            "              REGION SALES PERM       0.22      0.09      0.13      2995\n",
            "        REGION SALES PYATIGORSK       0.16      0.07      0.10       623\n",
            "     REGION SALES ROSTOV ON DON       0.21      0.08      0.12      2436\n",
            "   REGION SALES SAINT-PETERBURG       0.21      0.08      0.11      8098\n",
            "            REGION SALES SAMARA       0.22      0.09      0.12      3206\n",
            "            REGION SALES SURGUT       0.18      0.08      0.12      1143\n",
            "             REGION SALES TUMEN       0.22      0.08      0.12      2486\n",
            "               REGION SALES UFA       0.28      0.11      0.16      3630\n",
            "          REGION SALES VORONEZH       0.13      0.05      0.07      1064\n",
            "                    RESERVATION       0.11      0.03      0.05       702\n",
            "                  RESERVATION 1       0.13      0.05      0.07       564\n",
            "                  RESERVATION 2       0.13      0.05      0.07      1922\n",
            "                  RESERVATION 3       0.15      0.04      0.06       134\n",
            "                          SALES       0.24      0.07      0.11      9797\n",
            "                    SALES HEADS       0.00      0.00      0.00         1\n",
            "                            SFC       0.00      0.00      0.00         1\n",
            "          SPECIAL@ELITE SERVICE       0.31      0.11      0.16     11283\n",
            "                           VISA       0.55      0.10      0.16       763\n",
            "                      VISA HELP       0.64      0.24      0.35       140\n",
            "\n",
            "                       accuracy                           0.17    244275\n",
            "                      macro avg       0.26      0.12      0.15    244275\n",
            "                   weighted avg       0.38      0.17      0.23    244275\n",
            "\n",
            "Точность модели: 0.1710\n"
          ]
        }
      ]
    },
    {
      "cell_type": "markdown",
      "source": [
        "**Черновик**"
      ],
      "metadata": {
        "id": "Nkju11J0TtFF"
      }
    },
    {
      "cell_type": "code",
      "source": [
        "import pandas as pd\n",
        "from collections import defaultdict\n",
        "from tqdm import tqdm\n",
        "import csv\n",
        "\n",
        "# Загрузка данных\n",
        "file_path = '/content/drive/MyDrive/Last_1/full_dataset_ngrams_renamed.csv'\n",
        "df = pd.read_csv(file_path)\n",
        "\n",
        "# Преобразование строки в список кортежей (биграмм)\n",
        "df['Bigrams'] = df['Bigrams'].apply(eval)\n",
        "\n",
        "# Функция для генерации n-грамм (триграммы, 4-граммы и 5-граммы)\n",
        "def generate_ngrams(bigrams_sequence, n):\n",
        "    return [tuple(bigrams_sequence[i:i+n]) for i in range(len(bigrams_sequence)-n+1)]\n",
        "\n",
        "# Создание словаря для матрицы переходов (как для прямых, так и для обратных цепей)\n",
        "transition_matrix = defaultdict(lambda: defaultdict(lambda: defaultdict(float)))\n",
        "\n",
        "# Генерация n-грамм и подсчет переходов для каждого класса\n",
        "for class_name, group in tqdm(df.groupby('Portal User Group'), desc=\"Генерация n-грамм\"):\n",
        "    for bigrams in group['Bigrams']:\n",
        "        for n in range(3, 6):  # Генерируем триграммы, 4-граммы и 5-граммы\n",
        "            ngrams = generate_ngrams(bigrams, n)\n",
        "            for i in range(len(ngrams) - 1):\n",
        "                current_ngram = ngrams[i]\n",
        "                next_ngram = ngrams[i + 1]\n",
        "                transition_matrix[class_name][current_ngram][next_ngram] += 1\n",
        "                # Для обратных цепей\n",
        "                transition_matrix[class_name][next_ngram][current_ngram] += 1\n",
        "\n",
        "# Преобразование счетчиков в вероятности (нормализация)\n",
        "for class_name in tqdm(transition_matrix, desc=\"Нормализация данных\"):\n",
        "    for current_ngram in transition_matrix[class_name]:\n",
        "        total = sum(transition_matrix[class_name][current_ngram].values())\n",
        "        for next_ngram in transition_matrix[class_name][current_ngram]:\n",
        "            transition_matrix[class_name][current_ngram][next_ngram] /= total\n",
        "\n",
        "# Сохранение матрицы переходов с n-граммами в CSV файл\n",
        "output_file_path = '/content/drive/MyDrive/Last_1/transition_matrix_ngrams_2.csv'\n",
        "\n",
        "# Запись в CSV файл\n",
        "with open(output_file_path, 'w', newline='') as csvfile:\n",
        "    writer = csv.writer(csvfile)\n",
        "    writer.writerow(['Class', 'Current N-gram', 'Next N-gram', 'Probability'])\n",
        "\n",
        "    for class_name in transition_matrix:\n",
        "        for current_ngram in transition_matrix[class_name]:\n",
        "            for next_ngram, probability in transition_matrix[class_name][current_ngram].items():\n",
        "                writer.writerow([class_name, current_ngram, next_ngram, probability])\n",
        "\n",
        "print(f\"Матрица переходов с n-граммами успешно сохранена в файл: {output_file_path}\")\n"
      ],
      "metadata": {
        "colab": {
          "base_uri": "https://localhost:8080/",
          "height": 245
        },
        "id": "XwPaOFhcTk0F",
        "outputId": "efd5f7ee-46e5-4ea6-f306-89354cad0198"
      },
      "execution_count": null,
      "outputs": [
        {
          "output_type": "stream",
          "name": "stderr",
          "text": [
            "Генерация n-грамм: 100%|██████████| 95/95 [01:24<00:00,  1.13it/s]\n",
            "Нормализация данных: 100%|██████████| 95/95 [00:32<00:00,  2.89it/s]\n"
          ]
        },
        {
          "output_type": "error",
          "ename": "KeyboardInterrupt",
          "evalue": "",
          "traceback": [
            "\u001b[0;31m---------------------------------------------------------------------------\u001b[0m",
            "\u001b[0;31mKeyboardInterrupt\u001b[0m                         Traceback (most recent call last)",
            "\u001b[0;32m<ipython-input-2-0bc9fee49b70>\u001b[0m in \u001b[0;36m<cell line: 43>\u001b[0;34m()\u001b[0m\n\u001b[1;32m     48\u001b[0m         \u001b[0;32mfor\u001b[0m \u001b[0mcurrent_ngram\u001b[0m \u001b[0;32min\u001b[0m \u001b[0mtransition_matrix\u001b[0m\u001b[0;34m[\u001b[0m\u001b[0mclass_name\u001b[0m\u001b[0;34m]\u001b[0m\u001b[0;34m:\u001b[0m\u001b[0;34m\u001b[0m\u001b[0;34m\u001b[0m\u001b[0m\n\u001b[1;32m     49\u001b[0m             \u001b[0;32mfor\u001b[0m \u001b[0mnext_ngram\u001b[0m\u001b[0;34m,\u001b[0m \u001b[0mprobability\u001b[0m \u001b[0;32min\u001b[0m \u001b[0mtransition_matrix\u001b[0m\u001b[0;34m[\u001b[0m\u001b[0mclass_name\u001b[0m\u001b[0;34m]\u001b[0m\u001b[0;34m[\u001b[0m\u001b[0mcurrent_ngram\u001b[0m\u001b[0;34m]\u001b[0m\u001b[0;34m.\u001b[0m\u001b[0mitems\u001b[0m\u001b[0;34m(\u001b[0m\u001b[0;34m)\u001b[0m\u001b[0;34m:\u001b[0m\u001b[0;34m\u001b[0m\u001b[0;34m\u001b[0m\u001b[0m\n\u001b[0;32m---> 50\u001b[0;31m                 \u001b[0mwriter\u001b[0m\u001b[0;34m.\u001b[0m\u001b[0mwriterow\u001b[0m\u001b[0;34m(\u001b[0m\u001b[0;34m[\u001b[0m\u001b[0mclass_name\u001b[0m\u001b[0;34m,\u001b[0m \u001b[0mcurrent_ngram\u001b[0m\u001b[0;34m,\u001b[0m \u001b[0mnext_ngram\u001b[0m\u001b[0;34m,\u001b[0m \u001b[0mprobability\u001b[0m\u001b[0;34m]\u001b[0m\u001b[0;34m)\u001b[0m\u001b[0;34m\u001b[0m\u001b[0;34m\u001b[0m\u001b[0m\n\u001b[0m\u001b[1;32m     51\u001b[0m \u001b[0;34m\u001b[0m\u001b[0m\n\u001b[1;32m     52\u001b[0m \u001b[0mprint\u001b[0m\u001b[0;34m(\u001b[0m\u001b[0;34mf\"Матрица переходов с n-граммами успешно сохранена в файл: {output_file_path}\"\u001b[0m\u001b[0;34m)\u001b[0m\u001b[0;34m\u001b[0m\u001b[0;34m\u001b[0m\u001b[0m\n",
            "\u001b[0;31mKeyboardInterrupt\u001b[0m: "
          ]
        }
      ]
    },
    {
      "cell_type": "code",
      "source": [
        "import pandas as pd\n",
        "from collections import defaultdict\n",
        "from sklearn.model_selection import train_test_split\n",
        "from sklearn.metrics import accuracy_score, classification_report\n",
        "from tqdm import tqdm\n",
        "\n",
        "# Загрузка данных\n",
        "file_path = '/content/drive/MyDrive/Last_1/full_dataset_ngrams_renamed.csv'\n",
        "df = pd.read_csv(file_path)\n",
        "\n",
        "# Преобразование строки в список кортежей (биграмм)\n",
        "df['Bigrams'] = df['Bigrams'].apply(eval)\n",
        "\n",
        "# Удаление классов, содержащих только один экземпляр\n",
        "df = df.groupby('Portal User Group').filter(lambda x: len(x) > 1)\n",
        "\n",
        "# Разделение данных на обучающую и тестовую выборки с использованием stratify\n",
        "X_train, X_test, y_train, y_test = train_test_split(\n",
        "    df['Bigrams'],  # входные данные (биграммы)\n",
        "    df['Portal User Group'],  # метки классов\n",
        "    test_size=0.3,  # процент данных, который попадет в тестовую выборку\n",
        "    stratify=df['Portal User Group'],  # использование этого параметра для учета классов\n",
        "    random_state=42\n",
        ")\n",
        "\n",
        "print(\"Данные успешно разделены на обучающую и тестовую выборку с учётом классов.\")\n",
        "\n",
        "# Создание словаря для матрицы переходов только на обучающих данных\n",
        "transition_matrix = defaultdict(lambda: defaultdict(lambda: defaultdict(float)))\n",
        "\n",
        "# Подсчет переходов между биграммами для каждого класса\n",
        "for class_name, group in tqdm(df[df.index.isin(X_train.index)].groupby('Portal User Group'), desc=\"Создание матрицы переходов\"):\n",
        "    for bigrams in group['Bigrams']:\n",
        "        for i in range(len(bigrams) - 1):\n",
        "            current_bigram = bigrams[i]\n",
        "            next_bigram = bigrams[i + 1]\n",
        "            transition_matrix[class_name][current_bigram][next_bigram] += 1\n",
        "\n",
        "# Преобразование счетчиков в вероятности (нормализация)\n",
        "for class_name in tqdm(transition_matrix, desc=\"Нормализация данных\"):\n",
        "    for current_bigram in transition_matrix[class_name]:\n",
        "        total = sum(transition_matrix[class_name][current_bigram].values())\n",
        "        for next_bigram in transition_matrix[class_name][current_bigram]:\n",
        "            transition_matrix[class_name][current_bigram][next_bigram] /= total\n",
        "\n",
        "# Функция для предсказания класса текста на основе цепей Маркова\n",
        "def predict_class(bigrams_sequence, transition_matrix):\n",
        "    class_probabilities = defaultdict(float)\n",
        "\n",
        "    # Для каждого класса вычисляем вероятность биграмм\n",
        "    for class_name, class_transitions in transition_matrix.items():\n",
        "        total_probability = 1.0\n",
        "\n",
        "        for i in range(len(bigrams_sequence) - 1):\n",
        "            current_bigram = bigrams_sequence[i]\n",
        "            next_bigram = bigrams_sequence[i + 1]\n",
        "\n",
        "            # Если биграмма есть в матрице переходов, умножаем на вероятность перехода\n",
        "            if current_bigram in class_transitions and next_bigram in class_transitions[current_bigram]:\n",
        "                total_probability *= class_transitions[current_bigram][next_bigram]\n",
        "            else:\n",
        "                total_probability *= 0.01  # Маленькое значение вместо 0, чтобы не обнулить вероятность\n",
        "\n",
        "        class_probabilities[class_name] = total_probability\n",
        "\n",
        "    # Выбираем класс с наибольшей вероятностью\n",
        "    predicted_class = max(class_probabilities, key=class_probabilities.get)\n",
        "    return predicted_class\n",
        "\n",
        "# Предсказание классов для тестовой выборки\n",
        "y_pred = []\n",
        "\n",
        "for bigrams_sequence in tqdm(X_test, desc=\"Предсказание классов\"):\n",
        "    predicted_class = predict_class(bigrams_sequence, transition_matrix)\n",
        "    y_pred.append(predicted_class)\n",
        "\n",
        "# Оценка модели\n",
        "print(\"Классификационный отчет:\\n\")\n",
        "print(classification_report(y_test, y_pred))\n",
        "print(f\"Точность модели: {accuracy_score(y_test, y_pred):.4f}\")\n"
      ],
      "metadata": {
        "colab": {
          "base_uri": "https://localhost:8080/"
        },
        "id": "5cUNKcmpJ0pp",
        "outputId": "3a2e053e-3b01-4e7f-9ee4-2590dcd2360e"
      },
      "execution_count": null,
      "outputs": [
        {
          "output_type": "stream",
          "name": "stdout",
          "text": [
            "Данные успешно разделены на обучающую и тестовую выборку с учётом классов.\n"
          ]
        },
        {
          "output_type": "stream",
          "name": "stderr",
          "text": [
            "Создание матрицы переходов: 100%|██████████| 94/94 [00:15<00:00,  6.18it/s]\n",
            "Нормализация данных: 100%|██████████| 94/94 [00:04<00:00, 20.55it/s]\n",
            "Предсказание классов: 100%|██████████| 244275/244275 [02:35<00:00, 1568.58it/s]\n"
          ]
        },
        {
          "output_type": "stream",
          "name": "stdout",
          "text": [
            "Классификационный отчет:\n",
            "\n"
          ]
        },
        {
          "output_type": "stream",
          "name": "stderr",
          "text": [
            "/usr/local/lib/python3.10/dist-packages/sklearn/metrics/_classification.py:1471: UndefinedMetricWarning: Precision and F-score are ill-defined and being set to 0.0 in labels with no predicted samples. Use `zero_division` parameter to control this behavior.\n",
            "  _warn_prf(average, modifier, msg_start, len(result))\n",
            "/usr/local/lib/python3.10/dist-packages/sklearn/metrics/_classification.py:1471: UndefinedMetricWarning: Precision and F-score are ill-defined and being set to 0.0 in labels with no predicted samples. Use `zero_division` parameter to control this behavior.\n",
            "  _warn_prf(average, modifier, msg_start, len(result))\n",
            "/usr/local/lib/python3.10/dist-packages/sklearn/metrics/_classification.py:1471: UndefinedMetricWarning: Precision and F-score are ill-defined and being set to 0.0 in labels with no predicted samples. Use `zero_division` parameter to control this behavior.\n",
            "  _warn_prf(average, modifier, msg_start, len(result))\n"
          ]
        },
        {
          "output_type": "stream",
          "name": "stdout",
          "text": [
            "                                 precision    recall  f1-score   support\n",
            "\n",
            "                     ACCOUNTING       0.01      0.20      0.03      1190\n",
            "                 ACCOUNTING ATM       0.29      0.34      0.31      2533\n",
            "           ACCOUNTING CONTRACTS       0.63      0.61      0.62      2539\n",
            "            ACCOUNTING NON-CASH       0.27      0.30      0.28      2821\n",
            "                ACCOUNTING NOTE       0.32      0.37      0.34       957\n",
            "            ACCOUNTING PAYMENTS       0.03      0.09      0.05       166\n",
            "             ACCOUNTING REPORTS       0.66      0.61      0.64      1749\n",
            "              ACCOUNTING RETURN       0.71      0.51      0.59     14712\n",
            "               ACCOUNTING VZAIM       0.24      0.29      0.27      2390\n",
            "                        BELARUS       0.04      0.14      0.07       414\n",
            "                        BOOKING       0.41      0.25      0.31     39995\n",
            "                    BOOKING B2C       0.01      0.08      0.01        13\n",
            "                  BOOKING CLAIM       0.00      0.00      0.00        15\n",
            "                   CHARTER AVIA       0.23      0.21      0.22      5453\n",
            "           CHARTER AVIA VYPISKA       0.28      0.21      0.24      4804\n",
            "                          CLAIM       0.29      0.36      0.32      1604\n",
            "                        CONFIRM       0.02      0.06      0.03       301\n",
            "                      CONFIRM 1       0.03      0.08      0.04       301\n",
            "                      CONFIRM 2       0.04      0.07      0.05      1001\n",
            "                      CONFIRM 3       0.02      0.08      0.03        36\n",
            "                            CRM       0.43      0.21      0.29        47\n",
            "                 CTM CORALBONUS       0.22      0.34      0.27        76\n",
            "                CTM SUNMARBONUS       0.00      0.00      0.00         6\n",
            "                           CTM1       0.14      0.20      0.17       430\n",
            "                           DEP3       0.16      0.19      0.17      3779\n",
            "                 DEP3 INDONESIA       0.03      0.11      0.05        46\n",
            "                     DEP3 KENIA       0.00      0.00      0.00         1\n",
            "                  DEP3 MALDIVES       0.17      0.26      0.21      1496\n",
            "                     DEP3 QATAR       0.14      0.50      0.22         2\n",
            "                 DEP3 SRI-LANKA       0.05      0.16      0.07       128\n",
            "                   DIGITAL SALE       0.00      0.00      0.00        19\n",
            "                       DOMESTIC       0.41      0.30      0.35      8367\n",
            "                DOMESTIC  CLAIM       0.00      0.00      0.00         1\n",
            "       ELITE@ELITE RESERVATIONS       0.19      0.18      0.18      7507\n",
            "                        FINANCE       0.70      0.49      0.57     12035\n",
            "                            GDS       0.46      0.35      0.40      8230\n",
            "                GUEST RELATIONS       0.59      0.55      0.57      8581\n",
            "                           INFO       0.14      0.12      0.13      7954\n",
            "                     INFO CLAIM       0.02      0.11      0.04        19\n",
            "               MANAGEMENT CLAIM       0.00      0.00      0.00        28\n",
            "              MARKETING ACTIONS       0.27      0.25      0.26       923\n",
            "               MARKETING EVENTS       0.46      0.42      0.44      1374\n",
            "                MARKETING SITES       0.18      0.16      0.17       892\n",
            "                           MICE       0.20      0.30      0.24       256\n",
            "                   MINIMIZATION       0.22      0.26      0.24       782\n",
            "                         MNENIE       0.00      0.00      0.00        26\n",
            "                   ONLINE SALES       0.04      0.11      0.06         9\n",
            "                        PRODUCT       0.04      0.07      0.05        86\n",
            "                PRODUCT BAHRAIN       0.02      0.03      0.02        35\n",
            "                   PRODUCT CUBA       0.02      0.03      0.02        66\n",
            "                 PRODUCT CYPRUS       1.00      1.00      1.00         1\n",
            "                  PRODUCT EGYPT       0.16      0.20      0.18       411\n",
            "                PRODUCT MOROCCO       0.00      0.00      0.00         1\n",
            "                    PRODUCT SKI       0.27      0.33      0.30       123\n",
            "               PRODUCT THAILAND       0.12      0.14      0.13       436\n",
            "                 PRODUCT TURKEY       0.18      0.18      0.18       853\n",
            "                    PRODUCT UAE       0.17      0.20      0.18       488\n",
            "           REGION BOOKING KAZAN       0.14      0.15      0.14      4402\n",
            "REGION BOOKING SAINT-PETERSBURG       0.11      0.13      0.12      4187\n",
            "            REGION FLIGHT KAZAN       0.09      0.17      0.12       947\n",
            " REGION FLIGHT SAINT-PETERSBURG       0.13      0.19      0.16      1394\n",
            "       REGION SALES ARKHANGELSK       0.07      0.12      0.09      1396\n",
            "          REGION SALES BELGOROD       0.01      0.04      0.01       118\n",
            "       REGION SALES CHELYABINSK       0.12      0.12      0.12      3806\n",
            "      REGION SALES EKATERINBURG       0.14      0.12      0.13      7649\n",
            "           REGION SALES IRKUTSK       0.10      0.13      0.11      1972\n",
            "       REGION SALES KALININGRAD       0.11      0.17      0.13      1631\n",
            "             REGION SALES KAZAN       0.08      0.09      0.09      3538\n",
            "          REGION SALES KEMEROVO       0.05      0.09      0.06       990\n",
            "        REGION SALES KHABAROVSK       0.07      0.12      0.09      1100\n",
            "         REGION SALES KRASNODAR       0.08      0.10      0.09      1725\n",
            "       REGION SALES KRASNOYARSK       0.08      0.10      0.09      2099\n",
            "  REGION SALES NIZHNIY NOVGOROD       0.06      0.09      0.07      1376\n",
            "       REGION SALES NOVOSIBIRSK       0.11      0.11      0.11      4209\n",
            "              REGION SALES OMSK       0.10      0.13      0.11      2240\n",
            "              REGION SALES PERM       0.11      0.13      0.12      2995\n",
            "        REGION SALES PYATIGORSK       0.04      0.09      0.05       623\n",
            "     REGION SALES ROSTOV ON DON       0.09      0.11      0.10      2436\n",
            "   REGION SALES SAINT-PETERBURG       0.12      0.11      0.12      8098\n",
            "            REGION SALES SAMARA       0.10      0.11      0.10      3206\n",
            "            REGION SALES SURGUT       0.07      0.10      0.08      1143\n",
            "             REGION SALES TUMEN       0.08      0.09      0.09      2486\n",
            "               REGION SALES UFA       0.13      0.13      0.13      3630\n",
            "          REGION SALES VORONEZH       0.04      0.07      0.05      1064\n",
            "                    RESERVATION       0.03      0.06      0.04       702\n",
            "                  RESERVATION 1       0.04      0.06      0.05       564\n",
            "                  RESERVATION 2       0.06      0.08      0.07      1922\n",
            "                  RESERVATION 3       0.02      0.05      0.03       134\n",
            "                          SALES       0.16      0.13      0.14      9797\n",
            "                    SALES HEADS       0.00      0.00      0.00         1\n",
            "                            SFC       0.00      0.00      0.00         1\n",
            "          SPECIAL@ELITE SERVICE       0.20      0.16      0.17     11283\n",
            "                           VISA       0.36      0.31      0.33       763\n",
            "                      VISA HELP       0.44      0.39      0.42       140\n",
            "\n",
            "                       accuracy                           0.24    244275\n",
            "                      macro avg       0.16      0.18      0.16    244275\n",
            "                   weighted avg       0.30      0.24      0.26    244275\n",
            "\n",
            "Точность модели: 0.2414\n"
          ]
        }
      ]
    },
    {
      "cell_type": "markdown",
      "source": [
        "**Random Forest для классификации с использованием как биграмм, так и вероятностей цепей Маркова.**"
      ],
      "metadata": {
        "id": "rUECHQB12R9Z"
      }
    },
    {
      "cell_type": "code",
      "source": [
        "import pandas as pd\n",
        "from collections import defaultdict\n",
        "from sklearn.feature_extraction.text import CountVectorizer\n",
        "from sklearn.ensemble import RandomForestClassifier\n",
        "from sklearn.model_selection import train_test_split\n",
        "from sklearn.metrics import accuracy_score, classification_report\n",
        "import numpy as np\n",
        "\n",
        "# Загрузка сохранённой матрицы переходов\n",
        "transition_matrix_df = pd.read_csv('/content/drive/MyDrive/Last_1/transition_matrix_renamed.csv')\n",
        "\n",
        "# Преобразование матрицы в формат словаря\n",
        "transition_matrix = defaultdict(lambda: defaultdict(lambda: defaultdict(float)))\n",
        "\n",
        "for _, row in transition_matrix_df.iterrows():\n",
        "    class_name = row['Class']\n",
        "    current_bigram = eval(row['Current Bigram'])\n",
        "    next_bigram = eval(row['Next Bigram'])\n",
        "    probability = row['Probability']\n",
        "    transition_matrix[class_name][current_bigram][next_bigram] = probability\n",
        "\n",
        "# Загрузка данных для классификации\n",
        "file_path = '/content/drive/MyDrive/Last_1/full_dataset_ngrams_renamed.csv'\n",
        "df = pd.read_csv(file_path)\n",
        "\n",
        "# Удаление классов, содержащих только один экземпляр\n",
        "df = df.groupby('Portal User Group').filter(lambda x: len(x) > 1)\n",
        "\n",
        "# Разделение данных на обучающую и тестовую выборки с использованием stratify\n",
        "X_train, X_test, y_train, y_test = train_test_split(\n",
        "    df['Bigrams'],  # входные данные (биграммы)\n",
        "    df['Portal User Group'],  # метки классов\n",
        "    test_size=0.3,  # процент данных, который попадет в тестовую выборку\n",
        "    stratify=df['Portal User Group'],  # использование этого параметра для учета классов\n",
        "    random_state=42\n",
        ")\n",
        "\n",
        "print(\"Данные успешно разделены на обучающую и тестовую выборку с учётом классов.\")\n",
        "\n",
        "# Векторизация биграмм с помощью CountVectorizer\n",
        "vectorizer = CountVectorizer(analyzer=lambda x: eval(x), ngram_range=(2, 2))  # анализируем биграммы\n",
        "X_train_bigrams = vectorizer.fit_transform(X_train)\n",
        "X_test_bigrams = vectorizer.transform(X_test)\n",
        "\n",
        "# Функция для получения вероятностей классов по цепям Маркова\n",
        "def markov_class_probabilities(bigrams_sequence, transition_matrix):\n",
        "    class_probabilities = []\n",
        "    for class_name, class_transitions in transition_matrix.items():\n",
        "        total_probability = 1.0\n",
        "        for i in range(len(bigrams_sequence) - 1):\n",
        "            current_bigram = bigrams_sequence[i]\n",
        "            next_bigram = bigrams_sequence[i + 1]\n",
        "            if current_bigram in class_transitions and next_bigram in class_transitions[current_bigram]:\n",
        "                total_probability *= class_transitions[current_bigram][next_bigram]\n",
        "            else:\n",
        "                total_probability *= 0.01  # Маленькое значение вместо 0\n",
        "        class_probabilities.append(total_probability)\n",
        "    return np.array(class_probabilities)\n",
        "\n",
        "# Генерация признаков на основе цепей Маркова\n",
        "X_train_markov = np.array([markov_class_probabilities(eval(b), transition_matrix) for b in X_train])\n",
        "X_test_markov = np.array([markov_class_probabilities(eval(b), transition_matrix) for b in X_test])\n",
        "\n",
        "# Объединение признаков биграмм и цепей Маркова\n",
        "X_train_combined = np.hstack((X_train_bigrams.toarray(), X_train_markov))\n",
        "X_test_combined = np.hstack((X_test_bigrams.toarray(), X_test_markov))\n",
        "\n",
        "# Обучение модели Random Forest\n",
        "rf_model = RandomForestClassifier(random_state=42)\n",
        "rf_model.fit(X_train_combined, y_train)\n",
        "\n",
        "# Предсказание на тестовой выборке\n",
        "y_pred_rf = rf_model.predict(X_test_combined)\n",
        "\n",
        "# Оценка модели Random Forest\n",
        "print(\"Классификационный отчет для Random Forest:\\n\")\n",
        "print(classification_report(y_test, y_pred_rf))\n",
        "print(f\"Точность модели Random Forest: {accuracy_score(y_test, y_pred_rf):.4f}\")\n"
      ],
      "metadata": {
        "colab": {
          "base_uri": "https://localhost:8080/"
        },
        "id": "iilovWXb1Q4X",
        "outputId": "e06d94b9-5695-412e-fd6b-614417fa4848"
      },
      "execution_count": null,
      "outputs": [
        {
          "output_type": "stream",
          "name": "stdout",
          "text": [
            "Данные успешно разделены на обучающую и тестовую выборку с учётом классов.\n"
          ]
        },
        {
          "output_type": "stream",
          "name": "stderr",
          "text": [
            "/usr/local/lib/python3.10/dist-packages/sklearn/feature_extraction/text.py:541: UserWarning: The parameter 'ngram_range' will not be used since 'analyzer' is callable'\n",
            "  warnings.warn(\n"
          ]
        }
      ]
    },
    {
      "cell_type": "code",
      "source": [],
      "metadata": {
        "id": "bdK4iKnv1Q_v"
      },
      "execution_count": null,
      "outputs": []
    },
    {
      "cell_type": "markdown",
      "source": [
        "**Эксперемент  с объединением остальных классов**\n",
        "\n",
        "---\n",
        "Для повышения точности модели можно объединить классы с похожим смыслом, чтобы уменьшить количество \"мелких\" классов, в которых модель хуже обучается. Это особенно важно для классов с малым количеством данных, так как малые выборки могут сильно ухудшать качество предсказания. Вот предложения по объединению:\n",
        "\n",
        "### 1. Объединение по смыслу \"ACCOUNTING\"\n",
        "- **ACCOUNTING** (0.31) может быть объединен с **ACCOUNTING ATM**, **ACCOUNTING CONTRACTS**, **ACCOUNTING NON-CASH**, **ACCOUNTING PAYMENTS**, **ACCOUNTING NOTE**, **ACCOUNTING RETURN**, **ACCOUNTING VZAIM**, **ACCOUNTING REPORTS** — все это разновидности учетных процессов. Это может существенно улучшить точность за счет более крупного класса.\n",
        "\n",
        "### 2. Объединение по \"CLAIM\" (претензии)\n",
        "- **INFO CLAIM**, **MANAGEMENT CLAIM**, **SALES CLAIM**, **ACCOUNTING CLAIM** — объединение всех \"CLAIM\" в один класс, так как все они касаются претензионной работы.\n",
        "  \n",
        "### 3. Объединение по региональным продажам\n",
        "- **REGION SALES** классы, такие как **REGION SALES ARKHANGELSK**, **REGION SALES BELGOROD**, **REGION SALES CHELYABINSK** и другие, можно объединить в один класс, например, **REGION SALES**, так как различие в локациях не обязательно требует разных классов.\n",
        "\n",
        "### 4. Объединение \"PRODUCT\"\n",
        "- Все классы, связанные с продуктами, такие как **PRODUCT TURKEY**, **PRODUCT UAE**, **PRODUCT THAILAND**, **PRODUCT EGYPT**, можно объединить в один класс **PRODUCT**. Различия между странами несущественны для целей классификации.\n",
        "\n",
        "### 5. Объединение по \"RESERVATION\"\n",
        "- Объединить **RESERVATION**, **RESERVATION 1**, **RESERVATION 2**, **RESERVATION 3** в один класс **RESERVATION**, так как это все относится к бронированию.\n",
        "\n",
        "### 6. Объединение по \"CONFIRM\"\n",
        "- Объединить **CONFIRM**, **CONFIRM 1**, **CONFIRM 2**, **CONFIRM 3** в один класс **CONFIRM**, так как они отражают подтверждение бронирования.\n",
        "\n",
        "### Пример обновленного списка объединенных классов:\n",
        "\n",
        "- **ACCOUNTING**: объединить все классы учета.\n",
        "- **CLAIM**: объединить все претензионные классы.\n",
        "- **REGION SALES**: объединить все региональные продажи.\n",
        "- **PRODUCT**: объединить все классы продуктов.\n",
        "- **RESERVATION**: объединить все классы бронирования.\n",
        "- **CONFIRM**: объединить все классы подтверждений.\n",
        "\n",
        "Эти изменения позволят увеличить размер классов, что должно повысить точность модели.\n"
      ],
      "metadata": {
        "id": "4dlor8AJuBt8"
      }
    },
    {
      "cell_type": "code",
      "source": [
        "import pandas as pd\n",
        "\n",
        "# Путь к файлу\n",
        "file_path = '/content/drive/MyDrive/Last_1/full_dataset_ngrams_renamed.csv'\n",
        "\n",
        "# Загрузка данных\n",
        "df = pd.read_csv(file_path)\n",
        "\n",
        "# Словарь для замены классов\n",
        "class_replacements = {\n",
        "    # Объединение ACCOUNTING\n",
        "    \"ACCOUNTING ATM\": \"ACCOUNTING\",\n",
        "    \"ACCOUNTING CONTRACTS\": \"ACCOUNTING\",\n",
        "    \"ACCOUNTING NON-CASH\": \"ACCOUNTING\",\n",
        "    \"ACCOUNTING NOTE\": \"ACCOUNTING\",\n",
        "    \"ACCOUNTING PAYMENTS\": \"ACCOUNTING\",\n",
        "    \"ACCOUNTING RETURN\": \"ACCOUNTING\",\n",
        "    \"ACCOUNTING VZAIM\": \"ACCOUNTING\",\n",
        "    \"ACCOUNTING REPORTS\": \"ACCOUNTING\",\n",
        "\n",
        "    # Объединение CLAIM\n",
        "    \"INFO CLAIM\": \"CLAIM\",\n",
        "    \"MANAGEMENT CLAIM\": \"CLAIM\",\n",
        "    \"SALES CLAIM\": \"CLAIM\",\n",
        "    \"ELITE CLAIM\": \"CLAIM\",\n",
        "\n",
        "    # Объединение REGION SALES\n",
        "    \"REGION SALES ARKHANGELSK\": \"REGION SALES\",\n",
        "    \"REGION SALES BELGOROD\": \"REGION SALES\",\n",
        "    \"REGION SALES CHELYABINSK\": \"REGION SALES\",\n",
        "    \"REGION SALES EKATERINBURG\": \"REGION SALES\",\n",
        "    \"REGION SALES IRKUTSK\": \"REGION SALES\",\n",
        "    \"REGION SALES KAZAN\": \"REGION SALES\",\n",
        "    \"REGION SALES KALININGRAD\": \"REGION SALES\",\n",
        "    \"REGION SALES KEMEROVO\": \"REGION SALES\",\n",
        "    \"REGION SALES KHABAROVSK\": \"REGION SALES\",\n",
        "    \"REGION SALES KRASNODAR\": \"REGION SALES\",\n",
        "    \"REGION SALES KRASNOYARSK\": \"REGION SALES\",\n",
        "    \"REGION SALES NIZHNIY NOVGOROD\": \"REGION SALES\",\n",
        "    \"REGION SALES NOVOSIBIRSK\": \"REGION SALES\",\n",
        "    \"REGION SALES OMSK\": \"REGION SALES\",\n",
        "    \"REGION SALES PERM\": \"REGION SALES\",\n",
        "    \"REGION SALES PYATIGORSK\": \"REGION SALES\",\n",
        "    \"REGION SALES ROSTOV ON DON\": \"REGION SALES\",\n",
        "    \"REGION SALES SAMARA\": \"REGION SALES\",\n",
        "    \"REGION SALES SURGUT\": \"REGION SALES\",\n",
        "    \"REGION SALES TUMEN\": \"REGION SALES\",\n",
        "    \"REGION SALES UFA\": \"REGION SALES\",\n",
        "    \"REGION SALES VORONEZH\": \"REGION SALES\",\n",
        "\n",
        "    # Объединение PRODUCT\n",
        "    \"PRODUCT BAHRAIN\": \"PRODUCT\",\n",
        "    \"PRODUCT CUBA\": \"PRODUCT\",\n",
        "    \"PRODUCT CYPRUS\": \"PRODUCT\",\n",
        "    \"PRODUCT EGYPT\": \"PRODUCT\",\n",
        "    \"PRODUCT GREECE\": \"PRODUCT\",\n",
        "    \"PRODUCT INDIA\": \"PRODUCT\",\n",
        "    \"PRODUCT MOROCCO\": \"PRODUCT\",\n",
        "    \"PRODUCT SKI\": \"PRODUCT\",\n",
        "    \"PRODUCT THAILAND\": \"PRODUCT\",\n",
        "    \"PRODUCT TURKEY\": \"PRODUCT\",\n",
        "    \"PRODUCT UAE\": \"PRODUCT\",\n",
        "\n",
        "    # Объединение RESERVATION\n",
        "    \"RESERVATION 1\": \"RESERVATION\",\n",
        "    \"RESERVATION 2\": \"RESERVATION\",\n",
        "    \"RESERVATION 3\": \"RESERVATION\",\n",
        "\n",
        "    # Объединение CONFIRM\n",
        "    \"CONFIRM 1\": \"CONFIRM\",\n",
        "    \"CONFIRM 2\": \"CONFIRM\",\n",
        "    \"CONFIRM 3\": \"CONFIRM\"\n",
        "}\n",
        "\n",
        "# Удаление лишних пробелов и приведение классов к нижнему регистру\n",
        "df['Portal User Group'] = df['Portal User Group'].str.strip().str.upper()\n",
        "\n",
        "# Приведение всех ключей словаря к верхнему регистру для соответствия\n",
        "class_replacements = {k.upper(): v.upper() for k, v in class_replacements.items()}\n",
        "\n",
        "# Вывод уникальных классов перед заменой\n",
        "print(\"Уникальные классы до замены:\", df['Portal User Group'].unique())\n",
        "\n",
        "# Замена названий классов\n",
        "df['Portal User Group'] = df['Portal User Group'].replace(class_replacements)\n",
        "\n",
        "# Сохранение результата в новый файл\n",
        "output_file_path = '/content/drive/MyDrive/Last_1/full_dataset_ngrams_combined.csv'\n",
        "df.to_csv(output_file_path, index=False)\n",
        "\n",
        "print(f\"Названия классов успешно заменены. Результат сохранен в: {output_file_path}\")\n",
        "\n",
        "# Проверка количества уникальных классов после замены\n",
        "unique_classes_after = df['Portal User Group'].nunique()\n",
        "print(f\"Количество уникальных классов после переименования: {unique_classes_after}\")\n"
      ],
      "metadata": {
        "colab": {
          "base_uri": "https://localhost:8080/"
        },
        "outputId": "0e347cb8-5bbc-43a8-a03f-2da3efb4ef59",
        "id": "VcKroSYUwBjC"
      },
      "execution_count": null,
      "outputs": [
        {
          "output_type": "stream",
          "name": "stdout",
          "text": [
            "Уникальные классы до замены: ['MARKETING ACTIONS' 'REGION SALES KAZAN' 'DEP3' 'CHARTER AVIA'\n",
            " 'ELITE@ELITE RESERVATIONS' 'SALES' 'GUEST RELATIONS' 'CLAIM'\n",
            " 'DEP3 SRI-LANKA' 'MICE' 'INFO CLAIM' 'GDS' 'PRODUCT'\n",
            " 'REGION SALES KRASNODAR' 'ACCOUNTING CONTRACTS' 'ACCOUNTING' 'DOMESTIC'\n",
            " 'MANAGEMENT CLAIM' 'ACCOUNTING RETURN' 'SPECIAL@ELITE SERVICE' 'CTM1'\n",
            " 'REGION BOOKING SAINT-PETERSBURG' 'INFO' 'PRODUCT CUBA'\n",
            " 'REGION FLIGHT SAINT-PETERSBURG' 'REGION SALES SAINT-PETERBURG'\n",
            " 'ACCOUNTING NOTE' 'CRM' 'ACCOUNTING REPORTS' 'FINANCE'\n",
            " 'REGION SALES KHABAROVSK' 'REGION SALES ARKHANGELSK'\n",
            " 'REGION SALES SAMARA' 'BOOKING' 'REGION SALES TUMEN' 'PRODUCT BAHRAIN'\n",
            " 'REGION SALES CHELYABINSK' 'REGION FLIGHT KAZAN' 'REGION SALES KEMEROVO'\n",
            " 'REGION SALES PYATIGORSK' 'REGION SALES OMSK' 'REGION SALES KALININGRAD'\n",
            " 'RESERVATION 3' 'VISA' 'REGION SALES IRKUTSK' 'REGION SALES UFA'\n",
            " 'REGION BOOKING KAZAN' 'REGION SALES VORONEZH' 'REGION SALES BELGOROD'\n",
            " 'REGION SALES KRASNOYARSK' 'CTM CORALBONUS' 'REGION SALES PERM'\n",
            " 'REGION SALES SURGUT' 'REGION SALES NIZHNIY NOVGOROD'\n",
            " 'CHARTER AVIA VYPISKA' 'REGION SALES NOVOSIBIRSK' 'MARKETING SITES'\n",
            " 'DEP3 MALDIVES' 'MARKETING EVENTS' 'BELARUS' 'REGION SALES ROSTOV ON DON'\n",
            " 'ACCOUNTING NON-CASH' 'ACCOUNTING ATM' 'RESERVATION' 'PRODUCT TURKEY'\n",
            " 'PRODUCT UAE' 'ACCOUNTING PAYMENTS' 'REGION SALES EKATERINBURG' 'MNENIE'\n",
            " 'CONFIRM 2' 'ACCOUNTING VZAIM' 'RESERVATION 2' 'PRODUCT THAILAND'\n",
            " 'RESERVATION 1' 'BOOKING B2C' 'CONFIRM 1' 'CONFIRM' 'PRODUCT EGYPT'\n",
            " 'CONFIRM 3' 'DEP3 KENIA' 'ONLINE SALES' 'DEP3 INDONESIA' 'PRODUCT SKI'\n",
            " 'BOOKING CLAIM' 'MINIMIZATION' 'SALES HEADS' 'VISA HELP' 'DEP3 QATAR'\n",
            " 'DIGITAL SALE' 'SFC' 'PRODUCT CYPRUS' 'DOMESTIC  CLAIM' 'PRODUCT MOROCCO'\n",
            " 'CTM SUNMARBONUS' 'ROBOT ELITE']\n",
            "Названия классов успешно заменены. Результат сохранен в: /content/drive/MyDrive/Last_1/full_dataset_ngrams_combined.csv\n",
            "Количество уникальных классов после переименования: 49\n"
          ]
        }
      ]
    },
    {
      "cell_type": "markdown",
      "source": [
        "Подсчитаем вероятности переходов между биграммами для каждого класса."
      ],
      "metadata": {
        "id": "ZIbtl7U5y2c8"
      }
    },
    {
      "cell_type": "code",
      "source": [
        "import pandas as pd\n",
        "from collections import defaultdict\n",
        "import csv\n",
        "from tqdm import tqdm\n",
        "\n",
        "# Загрузка данных\n",
        "file_path = '/content/drive/MyDrive/Last_1/full_dataset_ngrams_combined.csv'\n",
        "df = pd.read_csv(file_path)\n",
        "\n",
        "# Преобразование строки в список кортежей\n",
        "df['Bigrams'] = df['Bigrams'].apply(eval)\n",
        "\n",
        "# Создание словаря для матрицы переходов для каждого класса\n",
        "transition_matrix = defaultdict(lambda: defaultdict(lambda: defaultdict(float)))\n",
        "\n",
        "# Подсчет переходов между биграммами для каждого класса с индикацией выполнения\n",
        "for class_name, group in tqdm(df.groupby('Portal User Group'), desc=\"Создание матрицы переходов\"):\n",
        "    for bigrams in group['Bigrams']:\n",
        "        for i in range(len(bigrams) - 1):\n",
        "            current_bigram = bigrams[i]\n",
        "            next_bigram = bigrams[i + 1]\n",
        "            transition_matrix[class_name][current_bigram][next_bigram] += 1\n",
        "\n",
        "# Преобразование счетчиков в вероятности (нормализация)\n",
        "for class_name in tqdm(transition_matrix, desc=\"Нормализация данных\"):\n",
        "    for current_bigram in transition_matrix[class_name]:\n",
        "        total = sum(transition_matrix[class_name][current_bigram].values())\n",
        "        for next_bigram in transition_matrix[class_name][current_bigram]:\n",
        "            transition_matrix[class_name][current_bigram][next_bigram] /= total\n",
        "\n",
        "# Сохранение матрицы переходов в CSV файл\n",
        "output_file_path = '/content/drive/MyDrive/Last_1/transition_matrix_combined.csv'\n",
        "\n",
        "# Запись в CSV файл\n",
        "with open(output_file_path, 'w', newline='') as csvfile:\n",
        "    writer = csv.writer(csvfile)\n",
        "    writer.writerow(['Class', 'Current Bigram', 'Next Bigram', 'Probability'])\n",
        "\n",
        "    for class_name in transition_matrix:\n",
        "        for current_bigram in transition_matrix[class_name]:\n",
        "            for next_bigram, probability in transition_matrix[class_name][current_bigram].items():\n",
        "                writer.writerow([class_name, current_bigram, next_bigram, probability])\n",
        "\n",
        "print(f\"Матрица переходов успешно сохранена в файл CSV: {output_file_path}\")\n"
      ],
      "metadata": {
        "colab": {
          "base_uri": "https://localhost:8080/"
        },
        "outputId": "db67433b-a6ed-4e81-be38-3c7abdca8432",
        "id": "NP1yPpY6zZbt"
      },
      "execution_count": null,
      "outputs": [
        {
          "output_type": "stream",
          "name": "stderr",
          "text": [
            "Создание матрицы переходов: 100%|██████████| 49/49 [00:36<00:00,  1.34it/s]\n",
            "Нормализация данных: 100%|██████████| 49/49 [00:07<00:00,  6.43it/s]\n"
          ]
        },
        {
          "output_type": "stream",
          "name": "stdout",
          "text": [
            "Матрица переходов успешно сохранена в файл CSV: /content/drive/MyDrive/Last_1/transition_matrix_combined.csv\n"
          ]
        }
      ]
    },
    {
      "cell_type": "markdown",
      "source": [
        "**Тестирование с похожим смыслом объединенных 49 классов.**"
      ],
      "metadata": {
        "id": "MxzIXfhHzlEz"
      }
    },
    {
      "cell_type": "code",
      "source": [
        "import pandas as pd\n",
        "from collections import defaultdict\n",
        "from sklearn.model_selection import train_test_split\n",
        "from sklearn.metrics import accuracy_score, classification_report\n",
        "\n",
        "# Загрузка сохранённой матрицы переходов\n",
        "transition_matrix_df = pd.read_csv('/content/drive/MyDrive/Last_1/transition_matrix_combined.csv')\n",
        "\n",
        "# Преобразование матрицы в формат словаря\n",
        "transition_matrix = defaultdict(lambda: defaultdict(lambda: defaultdict(float)))\n",
        "\n",
        "for _, row in transition_matrix_df.iterrows():\n",
        "    class_name = row['Class']\n",
        "    current_bigram = eval(row['Current Bigram'])\n",
        "    next_bigram = eval(row['Next Bigram'])\n",
        "    probability = row['Probability']\n",
        "    transition_matrix[class_name][current_bigram][next_bigram] = probability\n",
        "\n",
        "# Разделение данных на обучающую и тестовую выборки\n",
        "file_path = '/content/drive/MyDrive/Last_1/full_dataset_ngrams_combined.csv'\n",
        "df = pd.read_csv(file_path)\n",
        "\n",
        "# Удаление классов, содержащих только один экземпляр\n",
        "df = df.groupby('Portal User Group').filter(lambda x: len(x) > 1)\n",
        "\n",
        "# Разделение данных на обучающую и тестовую выборки с использованием stratify\n",
        "X_train, X_test, y_train, y_test = train_test_split(\n",
        "    df['Bigrams'],  # входные данные (биграммы)\n",
        "    df['Portal User Group'],  # метки классов\n",
        "    test_size=0.3,  # процент данных, который попадет в тестовую выборку\n",
        "    stratify=df['Portal User Group'],  # использование этого параметра для учета классов\n",
        "    random_state=42\n",
        ")\n",
        "\n",
        "print(\"Данные успешно разделены на обучающую и тестовую выборку с учётом классов.\")\n",
        "\n",
        "# Функция для предсказания класса текста на основе цепей Маркова\n",
        "def predict_class(bigrams_sequence, transition_matrix):\n",
        "    class_probabilities = defaultdict(float)\n",
        "\n",
        "    # Для каждого класса вычисляем вероятность биграмм\n",
        "    for class_name, class_transitions in transition_matrix.items():\n",
        "        total_probability = 1.0\n",
        "\n",
        "        for i in range(len(bigrams_sequence) - 1):\n",
        "            current_bigram = bigrams_sequence[i]\n",
        "            next_bigram = bigrams_sequence[i + 1]\n",
        "\n",
        "            # Если биграмма есть в матрице переходов, умножаем на вероятность перехода\n",
        "            if current_bigram in class_transitions and next_bigram in class_transitions[current_bigram]:\n",
        "                total_probability *= class_transitions[current_bigram][next_bigram]\n",
        "            else:\n",
        "                total_probability *= 0.01  # Маленькое значение вместо 0, чтобы не обнулить вероятность\n",
        "\n",
        "        class_probabilities[class_name] = total_probability\n",
        "\n",
        "    # Выбираем класс с наибольшей вероятностью\n",
        "    predicted_class = max(class_probabilities, key=class_probabilities.get)\n",
        "    return predicted_class\n",
        "\n",
        "# Предсказание классов для тестовой выборки\n",
        "y_pred = []\n",
        "\n",
        "for bigrams_sequence in X_test:\n",
        "    predicted_class = predict_class(eval(bigrams_sequence), transition_matrix)\n",
        "    y_pred.append(predicted_class)\n",
        "\n",
        "# Оценка модели\n",
        "print(\"Классификационный отчет:\\n\")\n",
        "print(classification_report(y_test, y_pred))\n",
        "print(f\"Точность модели: {accuracy_score(y_test, y_pred):.4f}\")\n"
      ],
      "metadata": {
        "colab": {
          "base_uri": "https://localhost:8080/"
        },
        "outputId": "1596a956-bcd3-400d-ddef-34aacb1ea3de",
        "id": "KTL9Kfca0fN4"
      },
      "execution_count": null,
      "outputs": [
        {
          "output_type": "stream",
          "name": "stdout",
          "text": [
            "Данные успешно разделены на обучающую и тестовую выборку с учётом классов.\n",
            "Классификационный отчет:\n",
            "\n",
            "                                 precision    recall  f1-score   support\n",
            "\n",
            "                     ACCOUNTING       0.94      0.91      0.92     29057\n",
            "                        BELARUS       0.34      1.00      0.51       414\n",
            "                        BOOKING       0.97      0.84      0.90     39995\n",
            "                    BOOKING B2C       0.22      1.00      0.37        13\n",
            "                  BOOKING CLAIM       0.33      1.00      0.49        15\n",
            "                   CHARTER AVIA       0.84      0.87      0.85      5453\n",
            "           CHARTER AVIA VYPISKA       0.82      0.82      0.82      4804\n",
            "                          CLAIM       0.78      0.96      0.86      1651\n",
            "                        CONFIRM       0.63      0.98      0.77      1639\n",
            "                            CRM       0.70      0.85      0.77        47\n",
            "                 CTM CORALBONUS       0.67      1.00      0.80        76\n",
            "                CTM SUNMARBONUS       1.00      1.00      1.00         6\n",
            "                           CTM1       0.61      0.98      0.76       430\n",
            "                           DEP3       0.76      0.96      0.85      3779\n",
            "                 DEP3 INDONESIA       0.43      1.00      0.60        46\n",
            "                     DEP3 KENIA       0.20      1.00      0.33         1\n",
            "                  DEP3 MALDIVES       0.72      0.99      0.83      1496\n",
            "                     DEP3 QATAR       1.00      1.00      1.00         2\n",
            "                 DEP3 SRI-LANKA       0.52      1.00      0.69       128\n",
            "                   DIGITAL SALE       0.90      1.00      0.95        19\n",
            "                       DOMESTIC       0.89      0.94      0.92      8367\n",
            "                DOMESTIC  CLAIM       1.00      1.00      1.00         1\n",
            "       ELITE@ELITE RESERVATIONS       0.87      0.94      0.91      7507\n",
            "                        FINANCE       0.96      0.87      0.91     12035\n",
            "                            GDS       0.91      0.94      0.93      8230\n",
            "                GUEST RELATIONS       0.96      0.97      0.97      8581\n",
            "                           INFO       0.86      0.93      0.89      7954\n",
            "              MARKETING ACTIONS       0.82      0.98      0.89       923\n",
            "               MARKETING EVENTS       0.93      0.99      0.96      1374\n",
            "                MARKETING SITES       0.92      0.99      0.95       892\n",
            "                           MICE       0.74      1.00      0.85       256\n",
            "                   MINIMIZATION       0.74      0.92      0.82       782\n",
            "                         MNENIE       0.67      1.00      0.80        26\n",
            "                   ONLINE SALES       0.56      1.00      0.72         9\n",
            "                        PRODUCT       0.91      0.99      0.95      2499\n",
            "           REGION BOOKING KAZAN       0.71      0.96      0.82      4402\n",
            "REGION BOOKING SAINT-PETERSBURG       0.69      0.96      0.80      4187\n",
            "            REGION FLIGHT KAZAN       0.49      0.95      0.65       947\n",
            " REGION FLIGHT SAINT-PETERSBURG       0.57      0.92      0.70      1394\n",
            "                   REGION SALES       0.98      0.82      0.89     51433\n",
            "   REGION SALES SAINT-PETERBURG       0.83      0.93      0.88      8098\n",
            "                    RESERVATION       0.76      0.96      0.85      3322\n",
            "                          SALES       0.88      0.92      0.90      9797\n",
            "                    SALES HEADS       1.00      1.00      1.00         1\n",
            "                            SFC       1.00      1.00      1.00         1\n",
            "          SPECIAL@ELITE SERVICE       0.88      0.91      0.89     11283\n",
            "                           VISA       0.87      0.96      0.92       763\n",
            "                      VISA HELP       0.75      0.89      0.81       140\n",
            "\n",
            "                       accuracy                           0.89    244275\n",
            "                      macro avg       0.76      0.95      0.83    244275\n",
            "                   weighted avg       0.91      0.89      0.89    244275\n",
            "\n",
            "Точность модели: 0.8906\n"
          ]
        }
      ]
    }
  ]
}