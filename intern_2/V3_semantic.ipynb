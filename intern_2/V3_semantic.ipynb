{
  "cells": [
    {
      "cell_type": "markdown",
      "metadata": {
        "id": "view-in-github",
        "colab_type": "text"
      },
      "source": [
        "<a href=\"https://colab.research.google.com/github/DGKobelev/Home/blob/main/intern_2/V3_semantic.ipynb\" target=\"_parent\"><img src=\"https://colab.research.google.com/assets/colab-badge.svg\" alt=\"Open In Colab\"/></a>"
      ]
    },
    {
      "cell_type": "markdown",
      "metadata": {
        "id": "A_GW4aGFgfCD"
      },
      "source": [
        "**Подключение**"
      ]
    },
    {
      "cell_type": "code",
      "execution_count": null,
      "metadata": {
        "colab": {
          "base_uri": "https://localhost:8080/"
        },
        "id": "IxoHqaytSMJd",
        "outputId": "a310479a-e21e-4047-97cb-c1e0fb6800c9"
      },
      "outputs": [
        {
          "output_type": "stream",
          "name": "stdout",
          "text": [
            "Mounted at /content/drive\n"
          ]
        }
      ],
      "source": [
        "from google.colab import drive\n",
        "drive.mount('/content/drive')\n"
      ]
    },
    {
      "cell_type": "markdown",
      "metadata": {
        "id": "6ugGwQmF_r7-"
      },
      "source": [
        "**Загрузка датасета**"
      ]
    },
    {
      "cell_type": "code",
      "execution_count": null,
      "metadata": {
        "colab": {
          "base_uri": "https://localhost:8080/",
          "height": 576
        },
        "id": "rLPZYLLwlwZz",
        "outputId": "795d55e2-685a-4716-e7d1-f8fabed1633e"
      },
      "outputs": [
        {
          "data": {
            "text/html": [
              "\n",
              "     <input type=\"file\" id=\"files-f2e5e6f1-2310-4099-9ddf-df6c636db023\" name=\"files[]\" multiple disabled\n",
              "        style=\"border:none\" />\n",
              "     <output id=\"result-f2e5e6f1-2310-4099-9ddf-df6c636db023\">\n",
              "      Upload widget is only available when the cell has been executed in the\n",
              "      current browser session. Please rerun this cell to enable.\n",
              "      </output>\n",
              "      <script>// Copyright 2017 Google LLC\n",
              "//\n",
              "// Licensed under the Apache License, Version 2.0 (the \"License\");\n",
              "// you may not use this file except in compliance with the License.\n",
              "// You may obtain a copy of the License at\n",
              "//\n",
              "//      http://www.apache.org/licenses/LICENSE-2.0\n",
              "//\n",
              "// Unless required by applicable law or agreed to in writing, software\n",
              "// distributed under the License is distributed on an \"AS IS\" BASIS,\n",
              "// WITHOUT WARRANTIES OR CONDITIONS OF ANY KIND, either express or implied.\n",
              "// See the License for the specific language governing permissions and\n",
              "// limitations under the License.\n",
              "\n",
              "/**\n",
              " * @fileoverview Helpers for google.colab Python module.\n",
              " */\n",
              "(function(scope) {\n",
              "function span(text, styleAttributes = {}) {\n",
              "  const element = document.createElement('span');\n",
              "  element.textContent = text;\n",
              "  for (const key of Object.keys(styleAttributes)) {\n",
              "    element.style[key] = styleAttributes[key];\n",
              "  }\n",
              "  return element;\n",
              "}\n",
              "\n",
              "// Max number of bytes which will be uploaded at a time.\n",
              "const MAX_PAYLOAD_SIZE = 100 * 1024;\n",
              "\n",
              "function _uploadFiles(inputId, outputId) {\n",
              "  const steps = uploadFilesStep(inputId, outputId);\n",
              "  const outputElement = document.getElementById(outputId);\n",
              "  // Cache steps on the outputElement to make it available for the next call\n",
              "  // to uploadFilesContinue from Python.\n",
              "  outputElement.steps = steps;\n",
              "\n",
              "  return _uploadFilesContinue(outputId);\n",
              "}\n",
              "\n",
              "// This is roughly an async generator (not supported in the browser yet),\n",
              "// where there are multiple asynchronous steps and the Python side is going\n",
              "// to poll for completion of each step.\n",
              "// This uses a Promise to block the python side on completion of each step,\n",
              "// then passes the result of the previous step as the input to the next step.\n",
              "function _uploadFilesContinue(outputId) {\n",
              "  const outputElement = document.getElementById(outputId);\n",
              "  const steps = outputElement.steps;\n",
              "\n",
              "  const next = steps.next(outputElement.lastPromiseValue);\n",
              "  return Promise.resolve(next.value.promise).then((value) => {\n",
              "    // Cache the last promise value to make it available to the next\n",
              "    // step of the generator.\n",
              "    outputElement.lastPromiseValue = value;\n",
              "    return next.value.response;\n",
              "  });\n",
              "}\n",
              "\n",
              "/**\n",
              " * Generator function which is called between each async step of the upload\n",
              " * process.\n",
              " * @param {string} inputId Element ID of the input file picker element.\n",
              " * @param {string} outputId Element ID of the output display.\n",
              " * @return {!Iterable<!Object>} Iterable of next steps.\n",
              " */\n",
              "function* uploadFilesStep(inputId, outputId) {\n",
              "  const inputElement = document.getElementById(inputId);\n",
              "  inputElement.disabled = false;\n",
              "\n",
              "  const outputElement = document.getElementById(outputId);\n",
              "  outputElement.innerHTML = '';\n",
              "\n",
              "  const pickedPromise = new Promise((resolve) => {\n",
              "    inputElement.addEventListener('change', (e) => {\n",
              "      resolve(e.target.files);\n",
              "    });\n",
              "  });\n",
              "\n",
              "  const cancel = document.createElement('button');\n",
              "  inputElement.parentElement.appendChild(cancel);\n",
              "  cancel.textContent = 'Cancel upload';\n",
              "  const cancelPromise = new Promise((resolve) => {\n",
              "    cancel.onclick = () => {\n",
              "      resolve(null);\n",
              "    };\n",
              "  });\n",
              "\n",
              "  // Wait for the user to pick the files.\n",
              "  const files = yield {\n",
              "    promise: Promise.race([pickedPromise, cancelPromise]),\n",
              "    response: {\n",
              "      action: 'starting',\n",
              "    }\n",
              "  };\n",
              "\n",
              "  cancel.remove();\n",
              "\n",
              "  // Disable the input element since further picks are not allowed.\n",
              "  inputElement.disabled = true;\n",
              "\n",
              "  if (!files) {\n",
              "    return {\n",
              "      response: {\n",
              "        action: 'complete',\n",
              "      }\n",
              "    };\n",
              "  }\n",
              "\n",
              "  for (const file of files) {\n",
              "    const li = document.createElement('li');\n",
              "    li.append(span(file.name, {fontWeight: 'bold'}));\n",
              "    li.append(span(\n",
              "        `(${file.type || 'n/a'}) - ${file.size} bytes, ` +\n",
              "        `last modified: ${\n",
              "            file.lastModifiedDate ? file.lastModifiedDate.toLocaleDateString() :\n",
              "                                    'n/a'} - `));\n",
              "    const percent = span('0% done');\n",
              "    li.appendChild(percent);\n",
              "\n",
              "    outputElement.appendChild(li);\n",
              "\n",
              "    const fileDataPromise = new Promise((resolve) => {\n",
              "      const reader = new FileReader();\n",
              "      reader.onload = (e) => {\n",
              "        resolve(e.target.result);\n",
              "      };\n",
              "      reader.readAsArrayBuffer(file);\n",
              "    });\n",
              "    // Wait for the data to be ready.\n",
              "    let fileData = yield {\n",
              "      promise: fileDataPromise,\n",
              "      response: {\n",
              "        action: 'continue',\n",
              "      }\n",
              "    };\n",
              "\n",
              "    // Use a chunked sending to avoid message size limits. See b/62115660.\n",
              "    let position = 0;\n",
              "    do {\n",
              "      const length = Math.min(fileData.byteLength - position, MAX_PAYLOAD_SIZE);\n",
              "      const chunk = new Uint8Array(fileData, position, length);\n",
              "      position += length;\n",
              "\n",
              "      const base64 = btoa(String.fromCharCode.apply(null, chunk));\n",
              "      yield {\n",
              "        response: {\n",
              "          action: 'append',\n",
              "          file: file.name,\n",
              "          data: base64,\n",
              "        },\n",
              "      };\n",
              "\n",
              "      let percentDone = fileData.byteLength === 0 ?\n",
              "          100 :\n",
              "          Math.round((position / fileData.byteLength) * 100);\n",
              "      percent.textContent = `${percentDone}% done`;\n",
              "\n",
              "    } while (position < fileData.byteLength);\n",
              "  }\n",
              "\n",
              "  // All done.\n",
              "  yield {\n",
              "    response: {\n",
              "      action: 'complete',\n",
              "    }\n",
              "  };\n",
              "}\n",
              "\n",
              "scope.google = scope.google || {};\n",
              "scope.google.colab = scope.google.colab || {};\n",
              "scope.google.colab._files = {\n",
              "  _uploadFiles,\n",
              "  _uploadFilesContinue,\n",
              "};\n",
              "})(self);\n",
              "</script> "
            ],
            "text/plain": [
              "<IPython.core.display.HTML object>"
            ]
          },
          "metadata": {},
          "output_type": "display_data"
        },
        {
          "name": "stdout",
          "output_type": "stream",
          "text": [
            "Saving AI_dataset_2022-3Q.xlsx to AI_dataset_2022-3Q.xlsx\n",
            "Saving AI_dataset_2022-4Q.xlsx to AI_dataset_2022-4Q.xlsx\n",
            "Saving AI_dataset_2023-1Q.xlsx to AI_dataset_2023-1Q.xlsx\n",
            "Saving AI_dataset_2023-2Q.xlsx to AI_dataset_2023-2Q.xlsx\n",
            "Saving AI_dataset_2023-3Q.xlsx to AI_dataset_2023-3Q.xlsx\n",
            "Saving AI_dataset_2023-4Q.xlsx to AI_dataset_2023-4Q.xlsx\n",
            "Saving AI_dataset_2024-1Q.xlsx to AI_dataset_2024-1Q.xlsx\n",
            "Saving AI_dataset_2024-2Q(28.05.2024).xlsx to AI_dataset_2024-2Q(28.05.2024).xlsx\n",
            "Saving AI_dataset_2024-2Q(29.05.2024).xlsx to AI_dataset_2024-2Q(29.05.2024).xlsx\n",
            "Saving AI_dataset_2024-2Q(30.05.2024-03.06.2024).xlsx to AI_dataset_2024-2Q(30.05.2024-03.06.2024).xlsx\n",
            "Файл успешно сохранен в /content/drive/MyDrive/Стажировка/Dataset/AI_dataset_2022-3Q.xlsx\n",
            "Файл успешно сохранен в /content/drive/MyDrive/Стажировка/Dataset/AI_dataset_2022-4Q.xlsx\n",
            "Файл успешно сохранен в /content/drive/MyDrive/Стажировка/Dataset/AI_dataset_2023-1Q.xlsx\n",
            "Файл успешно сохранен в /content/drive/MyDrive/Стажировка/Dataset/AI_dataset_2023-2Q.xlsx\n",
            "Файл успешно сохранен в /content/drive/MyDrive/Стажировка/Dataset/AI_dataset_2023-3Q.xlsx\n",
            "Файл успешно сохранен в /content/drive/MyDrive/Стажировка/Dataset/AI_dataset_2023-4Q.xlsx\n",
            "Файл успешно сохранен в /content/drive/MyDrive/Стажировка/Dataset/AI_dataset_2024-1Q.xlsx\n",
            "Файл успешно сохранен в /content/drive/MyDrive/Стажировка/Dataset/AI_dataset_2024-2Q(28.05.2024).xlsx\n",
            "Файл успешно сохранен в /content/drive/MyDrive/Стажировка/Dataset/AI_dataset_2024-2Q(29.05.2024).xlsx\n",
            "Файл успешно сохранен в /content/drive/MyDrive/Стажировка/Dataset/AI_dataset_2024-2Q(30.05.2024-03.06.2024).xlsx\n"
          ]
        }
      ],
      "source": [
        "import os\n",
        "from google.colab import files\n",
        "\n",
        "# Создание директории для сохранения датасета, если она не существует\n",
        "save_path = \"/content/drive/MyDrive/Стажировка/Dataset\"\n",
        "if not os.path.exists(save_path):\n",
        "    os.makedirs(save_path)\n",
        "\n",
        "# Загрузка файлов в среду выполнения Colab\n",
        "uploaded = files.upload()\n",
        "\n",
        "# Проверка успешности загрузки\n",
        "if len(uploaded) > 0:\n",
        "    # Сохранение загруженных файлов в созданную директорию\n",
        "    for filename, data in uploaded.items():\n",
        "        file_path = os.path.join(save_path, filename)\n",
        "        with open(file_path, \"wb\") as f:\n",
        "            f.write(data)\n",
        "        print(\"Файл успешно сохранен в\", file_path)\n",
        "\n",
        "    # Удаление файлов из текущей директории (/content), если они были загружены\n",
        "    for filename in os.listdir('/content'):\n",
        "        if filename in uploaded.keys():\n",
        "            os.remove(os.path.join('/content', filename))\n",
        "\n",
        "else:\n",
        "    print(\"Не удалось загрузить файлы.\")"
      ]
    },
    {
      "cell_type": "markdown",
      "metadata": {
        "id": "uzy0aaInnnyY"
      },
      "source": [
        "**Объединение файлов**"
      ]
    },
    {
      "cell_type": "code",
      "execution_count": null,
      "metadata": {
        "colab": {
          "base_uri": "https://localhost:8080/"
        },
        "id": "fn8G_0YyAnbD",
        "outputId": "a5b784fb-b886-407f-dbc2-03e20c2c4962"
      },
      "outputs": [
        {
          "output_type": "stream",
          "name": "stdout",
          "text": [
            "Collecting openpyxl\n",
            "  Downloading openpyxl-3.1.5-py2.py3-none-any.whl.metadata (2.5 kB)\n",
            "Collecting et-xmlfile (from openpyxl)\n",
            "  Downloading et_xmlfile-1.1.0-py3-none-any.whl.metadata (1.8 kB)\n",
            "Downloading openpyxl-3.1.5-py2.py3-none-any.whl (250 kB)\n",
            "\u001b[2K   \u001b[90m━━━━━━━━━━━━━━━━━━━━━━━━━━━━━━━━━━━━━━━━\u001b[0m \u001b[32m250.9/250.9 kB\u001b[0m \u001b[31m1.7 MB/s\u001b[0m eta \u001b[36m0:00:00\u001b[0m\n",
            "\u001b[?25hDownloading et_xmlfile-1.1.0-py3-none-any.whl (4.7 kB)\n",
            "Installing collected packages: et-xmlfile, openpyxl\n",
            "Successfully installed et-xmlfile-1.1.0 openpyxl-3.1.5\n"
          ]
        }
      ],
      "source": [
        "!pip install openpyxl\n"
      ]
    },
    {
      "cell_type": "code",
      "execution_count": null,
      "metadata": {
        "colab": {
          "base_uri": "https://localhost:8080/"
        },
        "id": "ojXLmE83EhN-",
        "outputId": "f6207ba8-8b17-47df-f579-e1bbb13b41cd"
      },
      "outputs": [
        {
          "name": "stderr",
          "output_type": "stream",
          "text": [
            "/usr/local/lib/python3.10/dist-packages/openpyxl/worksheet/_reader.py:329: UserWarning: Data Validation extension is not supported and will be removed\n",
            "  warn(msg)\n",
            "/usr/local/lib/python3.10/dist-packages/openpyxl/styles/stylesheet.py:237: UserWarning: Workbook contains no default style, apply openpyxl's default\n",
            "  warn(\"Workbook contains no default style, apply openpyxl's default\")\n",
            "/usr/local/lib/python3.10/dist-packages/openpyxl/styles/stylesheet.py:237: UserWarning: Workbook contains no default style, apply openpyxl's default\n",
            "  warn(\"Workbook contains no default style, apply openpyxl's default\")\n",
            "/usr/local/lib/python3.10/dist-packages/openpyxl/styles/stylesheet.py:237: UserWarning: Workbook contains no default style, apply openpyxl's default\n",
            "  warn(\"Workbook contains no default style, apply openpyxl's default\")\n",
            "/usr/local/lib/python3.10/dist-packages/openpyxl/worksheet/_reader.py:329: UserWarning: Data Validation extension is not supported and will be removed\n",
            "  warn(msg)\n"
          ]
        }
      ],
      "source": [
        "import pandas as pd\n",
        "import os\n",
        "\n",
        "# Указать путь к папке с файлами\n",
        "folder_path = '/content/drive/MyDrive/Стажировка/Dataset'\n",
        "\n",
        "# Создать список для хранения DataFrame\n",
        "dataframes = []\n",
        "columns_set = set()\n",
        "\n",
        "# Пройтись по всем файлам в папке и прочитать их\n",
        "for filename in os.listdir(folder_path):\n",
        "    if filename.endswith('.xlsx'):\n",
        "        file_path = os.path.join(folder_path, filename)\n",
        "        df = pd.read_excel(file_path)\n",
        "        dataframes.append(df)\n",
        "        columns_set.update(df.columns)\n",
        "\n",
        "# Преобразовать set в список для сохранения порядка столбцов\n",
        "all_columns = list(columns_set)\n",
        "\n",
        "# Заполнить недостающие столбцы NaN значениями\n",
        "for i, df in enumerate(dataframes):\n",
        "    missing_cols = set(all_columns) - set(df.columns)\n",
        "    for col in missing_cols:\n",
        "        df[col] = pd.NA\n",
        "    # Переупорядочить столбцы в соответствии с all_columns\n",
        "    dataframes[i] = df[all_columns]\n",
        "\n",
        "# Объединить все DataFrame в один\n",
        "combined_df = pd.concat(dataframes, ignore_index=True)\n",
        "\n",
        "# Сохранить объединённый DataFrame в новый файл с использованием openpyxl\n",
        "combined_df.to_excel('/content/drive/MyDrive/Стажировка/Dataset/combined_file.xlsx', index=False, engine='openpyxl')\n"
      ]
    },
    {
      "cell_type": "markdown",
      "metadata": {
        "id": "fDhHyzX9tAPQ"
      },
      "source": [
        "**Преобразование в формат csv**"
      ]
    },
    {
      "cell_type": "code",
      "execution_count": null,
      "metadata": {
        "colab": {
          "base_uri": "https://localhost:8080/"
        },
        "id": "wS_XkwI14dpy",
        "outputId": "bb6a5ed6-98ef-4b8d-fc87-7e902fc7a255"
      },
      "outputs": [
        {
          "name": "stdout",
          "output_type": "stream",
          "text": [
            "Файл успешно сохранен в формате CSV: /content/drive/MyDrive/Стажировка/Dataset/combined_file.csv\n",
            "             Portal User Group (Do Not Modify) Modified On        Case Title  \\\n",
            "0    MARKETING ACTIONS (Coral)         2022-08-02 12:18:37  REQ-43487-QT9X7U   \n",
            "1  REGION SALES Kazan (Sunmar)         2022-09-01 16:11:48  REQ-44386-T31OGO   \n",
            "2    MARKETING ACTIONS (Coral)         2022-08-02 12:19:15  REQ-44509-NHF15Z   \n",
            "3                CLAIM (Coral)         2022-09-08 13:39:00  REQ-51538-A5PW8K   \n",
            "4                DEP3 (Sunmar)         2022-08-04 19:30:52  REQ-63665-260552   \n",
            "\n",
            "   EE Agency User Id (Agency User) (Contact) Place (Agency) (Agency)  \\\n",
            "0                                      53087                Isetskoe   \n",
            "1                                      46395                   Kazan   \n",
            "2                                      26425               Ramenskoe   \n",
            "3                                      92469             Chelyabinsk   \n",
            "4                                      96207                  Moscow   \n",
            "\n",
            "  Elite Status (Reservation) (Voucher) Company (Agency) (Agency)  \\\n",
            "0                                  NaN              Coral Travel   \n",
            "1                                  NaN                    Sunmar   \n",
            "2                                  NaN              Coral Travel   \n",
            "3                             Standard              Coral Travel   \n",
            "4                                  NaN                    Sunmar   \n",
            "\n",
            "  Enter The System (Agency) (Agency)  \\\n",
            "0                                Yes   \n",
            "1                                Yes   \n",
            "2                                Yes   \n",
            "3                                Yes   \n",
            "4                                Yes   \n",
            "\n",
            "                        (Do Not Modify) Row Checksum  \\\n",
            "0  YeWb18W16+3jX7bYtfFA8tvtvr3lYNIe1gyP+Mu90hdQ2c...   \n",
            "1  LdN7lHJgnxoQTPv8mVFrLrGM8PfvPfqW/+RF8tNQ5NVvQa...   \n",
            "2  uLa4LFu/PB6v/0mAsGBcxlMbncLp3pad0yOa5qCM2INQMZ...   \n",
            "3  sVHWfFWAFqkqwiVV8tkM/K+MqfMPaMDtm0OCAeD+TgNUxW...   \n",
            "4  h5m2lE33Wvv6zthxMhwzu3+yVt2vtNL7JgwCikcE/DSsn8...   \n",
            "\n",
            "  Reservation Begin Date (Reservation) (Voucher)  ...  \\\n",
            "0                                            NaN  ...   \n",
            "1                                            NaN  ...   \n",
            "2                                            NaN  ...   \n",
            "3                            2020-04-18 00:00:00  ...   \n",
            "4                                            NaN  ...   \n",
            "\n",
            "  Kurator Group (Agency) (Agency) EE Id (Agency) (Agency)  \\\n",
            "0           TJM (Тюмень) [NK-REG]                   52347   \n",
            "1  KZN (Romadanovskaya N) [K-REG]                   35864   \n",
            "2          Нет кураторов [NK-MSK]                   12966   \n",
            "3        CEK (Sipkova I.) [K-REG]                   69031   \n",
            "4            6 (Rud Elena)[K-MSK]                   51090   \n",
            "\n",
            "  Agency Type Id (Agency) (Agency)  \\\n",
            "0                      Tour Agency   \n",
            "1                       Touragency   \n",
            "2                         Groupe 4   \n",
            "3                      Tour Agency   \n",
            "4                       Touragency   \n",
            "\n",
            "  Reservation End Date (Reservation) (Voucher)  Process Phase  \\\n",
            "0                                          NaN     No Booking   \n",
            "1                                          NaN     No Booking   \n",
            "2                                          NaN     No Booking   \n",
            "3                          2020-04-29 00:00:00  After Booking   \n",
            "4                                          NaN     No Booking   \n",
            "\n",
            "  Reservation Class (Reservation) (Voucher) Is VIP (Reservation) (Voucher)  \\\n",
            "0                                       NaN                            NaN   \n",
            "1                                       NaN                            NaN   \n",
            "2                                       NaN                            NaN   \n",
            "3                                       NaN                            NaN   \n",
            "4                                       NaN                            NaN   \n",
            "\n",
            "                      Business Line From Area (Reservation) (Voucher)  \\\n",
            "0  Coral Travel Russia (For Agency)                               NaN   \n",
            "1               Sunmar (For Agency)                               NaN   \n",
            "2  Coral Travel Russia (For Agency)                               NaN   \n",
            "3  Coral Travel Russia (For Agency)                       Chelyabinsk   \n",
            "4               Sunmar (For Agency)                               NaN   \n",
            "\n",
            "  Operator Voucher Id (Reservation) (Voucher)  \n",
            "0                                         NaN  \n",
            "1                                         NaN  \n",
            "2                                         NaN  \n",
            "3                                   9454556.0  \n",
            "4                                         NaN  \n",
            "\n",
            "[5 rows x 26 columns]\n"
          ]
        }
      ],
      "source": [
        "import pandas as pd\n",
        "\n",
        "# Загрузка объединённого файла Excel\n",
        "combined_df = pd.read_excel('/content/drive/MyDrive/Стажировка/Dataset/combined_file.xlsx', engine='openpyxl')\n",
        "\n",
        "# Сохранение в формат CSV\n",
        "csv_file_path = '/content/drive/MyDrive/Стажировка/Dataset/combined_file.csv'\n",
        "combined_df.to_csv(csv_file_path, index=False, encoding='utf-8')\n",
        "\n",
        "print(f\"Файл успешно сохранен в формате CSV: {csv_file_path}\")\n",
        "\n",
        "# Просмотр первых нескольких строк DataFrame\n",
        "print(combined_df.head())\n"
      ]
    },
    {
      "cell_type": "markdown",
      "metadata": {
        "id": "mDJyWcbZkz5w"
      },
      "source": [
        "Удаление столбцов: (Do Not Modify) Case, (Do Not Modify) Row Checksum, (Do Not Modify) Modified On, Created On, Reservation Date (Reservation) (Voucher), Reservation Begin Date (Reservation) (Voucher), Reservation End Date (Reservation) (Voucher)."
      ]
    },
    {
      "cell_type": "code",
      "execution_count": null,
      "metadata": {
        "id": "9heVfRnzKfmB"
      },
      "outputs": [],
      "source": [
        "import pandas as pd\n",
        "\n",
        "# Загрузка файла CSV\n",
        "combined_df = pd.read_csv('/content/drive/MyDrive/Стажировка/Dataset/combined_file.csv')\n",
        "\n",
        "# Удаление указанных столбцов\n",
        "columns_to_drop = [\n",
        "    '(Do Not Modify) Case',\n",
        "    '(Do Not Modify) Row Checksum',\n",
        "    '(Do Not Modify) Modified On',\n",
        "    'Created On',\n",
        "    'Reservation Date (Reservation) (Voucher)',\n",
        "    'Reservation Begin Date (Reservation) (Voucher)',\n",
        "    'Reservation End Date (Reservation) (Voucher)'\n",
        "]\n",
        "combined_df = combined_df.drop(columns=columns_to_drop)\n",
        "\n",
        "# Удаление слов \"(Coral)\" и \"(Sunmar)\" из столбца Portal User Group\n",
        "combined_df['Portal User Group'] = combined_df['Portal User Group'].str.replace(r'\\(Coral\\)', '', regex=True)\n",
        "combined_df['Portal User Group'] = combined_df['Portal User Group'].str.replace(r'\\(Sunmar\\)', '', regex=True)\n",
        "\n",
        "# Удаление строк с пустыми значениями в столбцах Description и Portal User Group\n",
        "combined_df = combined_df.dropna(subset=['Description', 'Portal User Group'])\n",
        "\n",
        "# Сохранение объединенного DataFrame в формате CSV\n",
        "combined_df.to_csv('/content/drive/MyDrive/Стажировка/Dataset/combined_part_file.csv', index=False)\n"
      ]
    },
    {
      "cell_type": "markdown",
      "metadata": {
        "id": "N1NgXN_HLlhb"
      },
      "source": [
        "**Разделение combined_part_file.csv по столбцу Operator Voucher Id (Reservation) (Voucher) на два файла.**"
      ]
    },
    {
      "cell_type": "code",
      "execution_count": null,
      "metadata": {
        "id": "T7ySL1HgMoMq"
      },
      "outputs": [],
      "source": [
        "import pandas as pd\n",
        "\n",
        "# Загрузка файла CSV\n",
        "combined_df = pd.read_csv('/content/drive/MyDrive/Стажировка/Dataset/combined_part_file.csv')\n",
        "\n",
        "# Разделение на два DataFrame: с пустыми и не с пустыми значениями в столбце Operator Voucher Id (Reservation) (Voucher)\n",
        "df_with_voucher = combined_df.dropna(subset=['Operator Voucher Id (Reservation) (Voucher)'])\n",
        "df_without_voucher = combined_df[combined_df['Operator Voucher Id (Reservation) (Voucher)'].isna()]\n",
        "\n",
        "# Сохранение разделенных DataFrame в формате CSV\n",
        "df_with_voucher.to_csv('/content/drive/MyDrive/Стажировка/Dataset/with_voucher.csv', index=False)\n",
        "df_without_voucher.to_csv('/content/drive/MyDrive/Стажировка/Dataset/without_voucher.csv', index=False)\n"
      ]
    },
    {
      "cell_type": "markdown",
      "metadata": {
        "id": "iXbKhagmLkiL"
      },
      "source": [
        "Группировка по 'Portal User Group' и подсчет количества обращений ('Description') для каждой группы."
      ]
    },
    {
      "cell_type": "code",
      "execution_count": null,
      "metadata": {
        "colab": {
          "base_uri": "https://localhost:8080/"
        },
        "id": "nNJz7q74WINC",
        "outputId": "10ef9bf9-b381-48d2-d330-c1a48f2a9335"
      },
      "outputs": [
        {
          "name": "stdout",
          "output_type": "stream",
          "text": [
            "Таблица количества обращений по классам:\n",
            "             Portal User Group  Общее количество обращений\n",
            "0          #TEST#CORAL#RUSSIA#                           2\n",
            "1                  ACCOUNTING                          543\n",
            "2              ACCOUNTING ATM                           76\n",
            "3        ACCOUNTING CONTRACTS                         7868\n",
            "4              ACCOUNTING MIR                            9\n",
            "..                         ...                         ...\n",
            "112                       SFC                            4\n",
            "113                      VISA                          938\n",
            "114                 VISA HELP                            2\n",
            "115  elite@ELITE RESERVATIONS                         3262\n",
            "116     special@ELITE SERVICE                         4073\n",
            "\n",
            "[117 rows x 2 columns]\n",
            "\n",
            "Общее среднее количество обращений по классам: 704.5470085470085\n",
            "Таблица количества обращений по классам сохранена в файл: /content/drive/MyDrive/Стажировка/Dataset/grouped_counts.xlsx\n"
          ]
        }
      ],
      "source": [
        "import pandas as pd\n",
        "\n",
        "# Загрузка файла CSV\n",
        "processed_df = pd.read_csv('/content/drive/MyDrive/Стажировка/Dataset/without_voucher.csv')\n",
        "\n",
        "# Группировка по 'Portal User Group' и подсчет количества обращений ('Description') для каждой группы\n",
        "grouped_counts = processed_df.groupby('Portal User Group')['Description'].count().reset_index(name='Общее количество обращений')\n",
        "\n",
        "# Вывод таблицы на экран\n",
        "print(\"Таблица количества обращений по классам:\")\n",
        "print(grouped_counts)\n",
        "\n",
        "# Вычисление общего среднего количества обращений по всем классам\n",
        "overall_average = grouped_counts['Общее количество обращений'].mean()\n",
        "\n",
        "# Вывод значения на экран\n",
        "print(f\"\\nОбщее среднее количество обращений по классам: {overall_average}\")\n",
        "\n",
        "# Сохранение таблицы с количеством обращений по классам в файл XLSX\n",
        "output_xlsx_path = '/content/drive/MyDrive/Стажировка/Dataset/grouped_counts.xlsx'\n",
        "grouped_counts.to_excel(output_xlsx_path, index=False, engine='openpyxl')\n",
        "\n",
        "print(f\"Таблица количества обращений по классам сохранена в файл: {output_xlsx_path}\")\n"
      ]
    },
    {
      "cell_type": "markdown",
      "metadata": {
        "id": "4NwPVBfathel"
      },
      "source": [
        "Вывод на экран названий столбцов."
      ]
    },
    {
      "cell_type": "code",
      "execution_count": null,
      "metadata": {
        "colab": {
          "base_uri": "https://localhost:8080/"
        },
        "id": "qjYDNMR-ySSL",
        "outputId": "3a5718c0-15f9-4fad-beec-9b2d51bf4bdb"
      },
      "outputs": [
        {
          "output_type": "stream",
          "name": "stdout",
          "text": [
            "Названия столбцов после удаления:\n",
            "Index(['Portal User Group', 'Case Title',\n",
            "       'EE Agency User Id (Agency User) (Contact)', 'Place (Agency) (Agency)',\n",
            "       'Elite Status (Reservation) (Voucher)', 'Company (Agency) (Agency)',\n",
            "       'Enter The System (Agency) (Agency)', 'To Area (Reservation) (Voucher)',\n",
            "       'Reservation Type (Reservation) (Voucher)', 'Description',\n",
            "       'Kurator Group (Agency) (Agency)', 'EE Id (Agency) (Agency)',\n",
            "       'Agency Type Id (Agency) (Agency)', 'Process Phase',\n",
            "       'Reservation Class (Reservation) (Voucher)',\n",
            "       'Is VIP (Reservation) (Voucher)', 'Business Line',\n",
            "       'From Area (Reservation) (Voucher)'],\n",
            "      dtype='object')\n",
            "Всего столбцов после удаления: 18\n",
            "Обновленный файл сохранен как: /content/drive/MyDrive/Стажировка/Semantic_2/without_voucher_cleaned.csv\n"
          ]
        }
      ],
      "source": [
        "import pandas as pd\n",
        "\n",
        "# Загрузка данных из CSV файла\n",
        "file_path = '/content/drive/MyDrive/Стажировка/Dataset/without_voucher.csv'\n",
        "data = pd.read_csv(file_path)\n",
        "\n",
        "# Удаление столбца 'Operator Voucher Id (Reservation) (Voucher)'\n",
        "data.drop(columns=['Operator Voucher Id (Reservation) (Voucher)'], inplace=True)\n",
        "\n",
        "# Вывод названий столбцов после удаления\n",
        "print(\"Названия столбцов после удаления:\")\n",
        "print(data.columns)\n",
        "\n",
        "# Вывод количества столбцов после удаления\n",
        "print(f\"Всего столбцов после удаления: {len(data.columns)}\")\n",
        "\n",
        "# Сохранение обновленного датасета в новый CSV файл\n",
        "new_file_path = '/content/drive/MyDrive/Стажировка/Semantic_2/without_voucher_cleaned.csv'\n",
        "data.to_csv(new_file_path, index=False)\n",
        "\n",
        "print(f\"Обновленный файл сохранен как: {new_file_path}\")\n"
      ]
    },
    {
      "cell_type": "markdown",
      "metadata": {
        "id": "asQUDpkGi7rJ"
      },
      "source": [
        "**Очистка и нормализация текста с помощью pymorphy2.**"
      ]
    },
    {
      "cell_type": "code",
      "execution_count": null,
      "metadata": {
        "colab": {
          "base_uri": "https://localhost:8080/"
        },
        "id": "o9ufrJGHxpPt",
        "outputId": "c93c3b05-3749-4760-ce5b-3ebccd61c99b"
      },
      "outputs": [
        {
          "output_type": "stream",
          "name": "stdout",
          "text": [
            "Collecting pymorphy2\n",
            "  Downloading pymorphy2-0.9.1-py3-none-any.whl.metadata (3.6 kB)\n",
            "Collecting dawg-python>=0.7.1 (from pymorphy2)\n",
            "  Downloading DAWG_Python-0.7.2-py2.py3-none-any.whl.metadata (7.0 kB)\n",
            "Collecting pymorphy2-dicts-ru<3.0,>=2.4 (from pymorphy2)\n",
            "  Downloading pymorphy2_dicts_ru-2.4.417127.4579844-py2.py3-none-any.whl.metadata (2.1 kB)\n",
            "Collecting docopt>=0.6 (from pymorphy2)\n",
            "  Downloading docopt-0.6.2.tar.gz (25 kB)\n",
            "  Preparing metadata (setup.py) ... \u001b[?25l\u001b[?25hdone\n",
            "Downloading pymorphy2-0.9.1-py3-none-any.whl (55 kB)\n",
            "\u001b[2K   \u001b[90m━━━━━━━━━━━━━━━━━━━━━━━━━━━━━━━━━━━━━━━━\u001b[0m \u001b[32m55.5/55.5 kB\u001b[0m \u001b[31m1.9 MB/s\u001b[0m eta \u001b[36m0:00:00\u001b[0m\n",
            "\u001b[?25hDownloading DAWG_Python-0.7.2-py2.py3-none-any.whl (11 kB)\n",
            "Downloading pymorphy2_dicts_ru-2.4.417127.4579844-py2.py3-none-any.whl (8.2 MB)\n",
            "\u001b[2K   \u001b[90m━━━━━━━━━━━━━━━━━━━━━━━━━━━━━━━━━━━━━━━━\u001b[0m \u001b[32m8.2/8.2 MB\u001b[0m \u001b[31m30.5 MB/s\u001b[0m eta \u001b[36m0:00:00\u001b[0m\n",
            "\u001b[?25hBuilding wheels for collected packages: docopt\n",
            "  Building wheel for docopt (setup.py) ... \u001b[?25l\u001b[?25hdone\n",
            "  Created wheel for docopt: filename=docopt-0.6.2-py2.py3-none-any.whl size=13704 sha256=559e5a441ef0e6380dccdce41415669041d4bc1429750ab2132844ad1305a25c\n",
            "  Stored in directory: /root/.cache/pip/wheels/fc/ab/d4/5da2067ac95b36618c629a5f93f809425700506f72c9732fac\n",
            "Successfully built docopt\n",
            "Installing collected packages: pymorphy2-dicts-ru, docopt, dawg-python, pymorphy2\n",
            "Successfully installed dawg-python-0.7.2 docopt-0.6.2 pymorphy2-0.9.1 pymorphy2-dicts-ru-2.4.417127.4579844\n"
          ]
        }
      ],
      "source": [
        "!pip install pymorphy2"
      ]
    },
    {
      "cell_type": "code",
      "execution_count": null,
      "metadata": {
        "colab": {
          "base_uri": "https://localhost:8080/"
        },
        "id": "IEOh8lP31xrb",
        "outputId": "469129c3-12b8-4c1d-9fd1-f869038397d4"
      },
      "outputs": [
        {
          "output_type": "stream",
          "name": "stderr",
          "text": [
            "[nltk_data] Downloading package stopwords to /root/nltk_data...\n",
            "[nltk_data]   Unzipping corpora/stopwords.zip.\n",
            "100%|██████████| 82432/82432 [00:01<00:00, 48140.25it/s]\n",
            "100%|██████████| 82432/82432 [00:01<00:00, 46899.62it/s]\n",
            "100%|██████████| 82432/82432 [00:02<00:00, 31853.34it/s]\n",
            "100%|██████████| 82432/82432 [00:01<00:00, 50701.41it/s]\n",
            "100%|██████████| 82432/82432 [06:55<00:00, 198.53it/s]\n",
            "100%|██████████| 82432/82432 [00:07<00:00, 10437.89it/s]\n",
            "100%|██████████| 82432/82432 [00:02<00:00, 30025.90it/s]\n",
            "100%|██████████| 82432/82432 [00:02<00:00, 31007.83it/s]\n",
            "100%|██████████| 82432/82432 [00:05<00:00, 14203.89it/s]\n",
            "Создание словаря групп: 100%|██████████| 117/117 [00:00<00:00, 271573.64it/s]\n"
          ]
        },
        {
          "output_type": "stream",
          "name": "stdout",
          "text": [
            "Всего категорий: 117\n",
            "DataFrame успешно сохранен в формате CSV.\n"
          ]
        }
      ],
      "source": [
        "import pandas as pd\n",
        "import pymorphy2\n",
        "import re\n",
        "from tqdm import tqdm\n",
        "import nltk\n",
        "from nltk.corpus import stopwords\n",
        "\n",
        "# Активация tqdm для pandas\n",
        "tqdm.pandas()\n",
        "\n",
        "# Инициализация анализатора pymorphy2\n",
        "ma = pymorphy2.MorphAnalyzer()\n",
        "\n",
        "# Загрузка стоп-слов из NLTK\n",
        "nltk.download('stopwords')\n",
        "stop_words = set(stopwords.words('russian'))\n",
        "\n",
        "# Функция для очистки и нормализации текста\n",
        "def clean_text(text):\n",
        "    text = text.replace(\"\\\\\", \" \").replace(u\"╚\", \" \").replace(u\"╩\", \" \")\n",
        "    text = text.lower()\n",
        "    text = re.sub('-\\s*\\r\\n|\\r\\n', '', text)  # регулярное выражение для удаления переносов строк\n",
        "    text = \" \".join(ma.parse(word)[0].normal_form for word in text.split())\n",
        "    text = re.sub('\\s+', ' ', text)  # замена нескольких пробелов одним\n",
        "    text = ' '.join(word for word in text.split() if word not in stop_words)\n",
        "    return text\n",
        "\n",
        "# Загрузка данных\n",
        "file_path = '/content/drive/MyDrive/Стажировка/Semantic_2/without_voucher_cleaned.csv'\n",
        "combined_df = pd.read_csv(file_path)\n",
        "\n",
        "# Применение функции clean_text ко всем строковым столбцам, кроме 'Portal User Group'\n",
        "for column in combined_df.select_dtypes(include=['object']).columns:\n",
        "    if column != 'Portal User Group':\n",
        "        combined_df[column] = combined_df[column].astype(str).progress_apply(clean_text)\n",
        "\n",
        "# Создание словаря, содержащего уникальные группы из DataFrame\n",
        "categories = {}\n",
        "unique_groups = tqdm(combined_df['Portal User Group'].unique(), desc=\"Создание словаря групп\")\n",
        "for key, value in enumerate(unique_groups):\n",
        "    categories[value] = key + 1\n",
        "\n",
        "# Запись в новую колонку числовое обозначение групп назначения\n",
        "combined_df['portal_user_group_code'] = combined_df['Portal User Group'].map(categories)\n",
        "\n",
        "# Подсчёт общего количества уникальных категорий\n",
        "total_categories = len(categories)\n",
        "print('Всего категорий: {}'.format(total_categories))\n",
        "\n",
        "# Сохранение очищенного DataFrame в формате CSV\n",
        "output_csv_path = '/content/drive/MyDrive/Стажировка/Semantic_2/cleaned_file.csv'\n",
        "combined_df.to_csv(output_csv_path, index=False)\n",
        "print(\"DataFrame успешно сохранен в формате CSV.\")\n"
      ]
    },
    {
      "cell_type": "markdown",
      "metadata": {
        "id": "WbUD8-kK0RW8"
      },
      "source": [
        "Новый столбец *portal_user_group_code* содержит числовые обозначения групп назначения."
      ]
    },
    {
      "cell_type": "markdown",
      "source": [
        "\n",
        "  Удаляем столбцы содержащие наименования:\n",
        "   * 'Case Title'\n",
        "   * 'Business Line'\n",
        "   * EE Agency User Id (Agency User) (Contact)"
      ],
      "metadata": {
        "id": "C6SATKhT0Dks"
      }
    },
    {
      "cell_type": "code",
      "source": [
        "import pandas as pd\n",
        "\n",
        "# Путь к файлу\n",
        "file_path = '/content/drive/MyDrive/Стажировка/Semantic_2/cleaned_file.csv'\n",
        "\n",
        "# Загрузка данных из CSV\n",
        "data = pd.read_csv(file_path)\n",
        "\n",
        "# Удаление указанных столбцов\n",
        "columns_to_drop = ['Case Title', 'Business Line', 'EE Agency User Id (Agency User) (Contact)']\n",
        "data = data.drop(columns=columns_to_drop)\n",
        "\n",
        "# Сохранение обновленного DataFrame обратно в CSV\n",
        "data.to_csv(file_path, index=False)\n",
        "\n",
        "print(\"Столбцы успешно удалены и файл сохранен.\")\n"
      ],
      "metadata": {
        "colab": {
          "base_uri": "https://localhost:8080/"
        },
        "id": "dep7wyEE0BqD",
        "outputId": "a243e597-80e4-44b4-fa66-2159a50184a6"
      },
      "execution_count": null,
      "outputs": [
        {
          "output_type": "stream",
          "name": "stdout",
          "text": [
            "Столбцы успешно удалены и файл сохранен.\n"
          ]
        }
      ]
    },
    {
      "cell_type": "code",
      "source": [
        "import pandas as pd\n",
        "\n",
        "# Путь к файлу\n",
        "file_path = '/content/drive/MyDrive/Стажировка/Semantic_2/cleaned_file.csv'\n",
        "\n",
        "# Загрузка данных из CSV\n",
        "data = pd.read_csv(file_path)\n",
        "\n",
        "# Получение и вывод названий столбцов\n",
        "remaining_columns = data.columns\n",
        "print(\"Оставшиеся названия столбцов:\")\n",
        "for column in remaining_columns:\n",
        "    print(column)\n"
      ],
      "metadata": {
        "colab": {
          "base_uri": "https://localhost:8080/"
        },
        "id": "0Idurg-t1dIZ",
        "outputId": "f86817fc-099d-4f85-92e6-05a4bb049f8a"
      },
      "execution_count": null,
      "outputs": [
        {
          "output_type": "stream",
          "name": "stdout",
          "text": [
            "Оставшиеся названия столбцов:\n",
            "Portal User Group\n",
            "Place (Agency) (Agency)\n",
            "Elite Status (Reservation) (Voucher)\n",
            "Company (Agency) (Agency)\n",
            "Enter The System (Agency) (Agency)\n",
            "To Area (Reservation) (Voucher)\n",
            "Reservation Type (Reservation) (Voucher)\n",
            "Description\n",
            "Kurator Group (Agency) (Agency)\n",
            "EE Id (Agency) (Agency)\n",
            "Agency Type Id (Agency) (Agency)\n",
            "Process Phase\n",
            "Reservation Class (Reservation) (Voucher)\n",
            "Is VIP (Reservation) (Voucher)\n",
            "From Area (Reservation) (Voucher)\n",
            "portal_user_group_code\n"
          ]
        }
      ]
    },
    {
      "cell_type": "code",
      "execution_count": null,
      "metadata": {
        "colab": {
          "base_uri": "https://localhost:8080/"
        },
        "id": "TObc7RleNibu",
        "outputId": "639dcf61-49f0-476e-f7db-9f320f629ffa"
      },
      "outputs": [
        {
          "output_type": "stream",
          "name": "stdout",
          "text": [
            "Requirement already satisfied: tqdm in /usr/local/lib/python3.10/dist-packages (4.66.4)\n",
            "Collecting openpyxl\n",
            "  Downloading openpyxl-3.1.5-py2.py3-none-any.whl.metadata (2.5 kB)\n",
            "Collecting et-xmlfile (from openpyxl)\n",
            "  Downloading et_xmlfile-1.1.0-py3-none-any.whl.metadata (1.8 kB)\n",
            "Downloading openpyxl-3.1.5-py2.py3-none-any.whl (250 kB)\n",
            "\u001b[2K   \u001b[90m━━━━━━━━━━━━━━━━━━━━━━━━━━━━━━━━━━━━━━━━\u001b[0m \u001b[32m250.9/250.9 kB\u001b[0m \u001b[31m1.8 MB/s\u001b[0m eta \u001b[36m0:00:00\u001b[0m\n",
            "\u001b[?25hDownloading et_xmlfile-1.1.0-py3-none-any.whl (4.7 kB)\n",
            "Installing collected packages: et-xmlfile, openpyxl\n",
            "Successfully installed et-xmlfile-1.1.0 openpyxl-3.1.5\n"
          ]
        }
      ],
      "source": [
        "!pip install tqdm\n",
        "!pip install openpyxl"
      ]
    },
    {
      "cell_type": "markdown",
      "metadata": {
        "id": "g3MhYWLiBN0T"
      },
      "source": [
        "Заменяем сокращения на полные формы в столбце Description с использованием функции replace_abbreviations."
      ]
    },
    {
      "cell_type": "markdown",
      "metadata": {
        "id": "rWe0UHgsA0ya"
      },
      "source": [
        "Удаление нежелательных знаков, которые выборочно нашел."
      ]
    },
    {
      "cell_type": "markdown",
      "metadata": {
        "id": "8UmDbsFhAVv5"
      },
      "source": [
        "Удаление нежелательных знаков и малозначимых слов (таких как приветствия и вежливые обращения)."
      ]
    },
    {
      "cell_type": "markdown",
      "metadata": {
        "id": "xNze6ZJeAJsq"
      },
      "source": [
        "Замена сокращений на полные формы в русском языке."
      ]
    },
    {
      "cell_type": "markdown",
      "metadata": {
        "id": "diwY3pofWGvC"
      },
      "source": [
        "**Далее при каждой обработке данных добавляются столбцы.**"
      ]
    },
    {
      "cell_type": "markdown",
      "metadata": {
        "id": "dL6hOEs44mi_"
      },
      "source": [
        "**Предобработка данных Токенизация.**\n",
        "\n",
        "Используется библиотека SpaCy для ***определения границ предложений и словоформ***."
      ]
    },
    {
      "cell_type": "code",
      "execution_count": null,
      "metadata": {
        "colab": {
          "base_uri": "https://localhost:8080/"
        },
        "id": "H0qVd3QP5CaX",
        "outputId": "e134127f-1ef4-41f6-d853-60408bc3e8e4"
      },
      "outputs": [
        {
          "output_type": "stream",
          "name": "stdout",
          "text": [
            "Requirement already satisfied: spacy in /usr/local/lib/python3.10/dist-packages (3.7.5)\n",
            "Requirement already satisfied: spacy-legacy<3.1.0,>=3.0.11 in /usr/local/lib/python3.10/dist-packages (from spacy) (3.0.12)\n",
            "Requirement already satisfied: spacy-loggers<2.0.0,>=1.0.0 in /usr/local/lib/python3.10/dist-packages (from spacy) (1.0.5)\n",
            "Requirement already satisfied: murmurhash<1.1.0,>=0.28.0 in /usr/local/lib/python3.10/dist-packages (from spacy) (1.0.10)\n",
            "Requirement already satisfied: cymem<2.1.0,>=2.0.2 in /usr/local/lib/python3.10/dist-packages (from spacy) (2.0.8)\n",
            "Requirement already satisfied: preshed<3.1.0,>=3.0.2 in /usr/local/lib/python3.10/dist-packages (from spacy) (3.0.9)\n",
            "Requirement already satisfied: thinc<8.3.0,>=8.2.2 in /usr/local/lib/python3.10/dist-packages (from spacy) (8.2.5)\n",
            "Requirement already satisfied: wasabi<1.2.0,>=0.9.1 in /usr/local/lib/python3.10/dist-packages (from spacy) (1.1.3)\n",
            "Requirement already satisfied: srsly<3.0.0,>=2.4.3 in /usr/local/lib/python3.10/dist-packages (from spacy) (2.4.8)\n",
            "Requirement already satisfied: catalogue<2.1.0,>=2.0.6 in /usr/local/lib/python3.10/dist-packages (from spacy) (2.0.10)\n",
            "Requirement already satisfied: weasel<0.5.0,>=0.1.0 in /usr/local/lib/python3.10/dist-packages (from spacy) (0.4.1)\n",
            "Requirement already satisfied: typer<1.0.0,>=0.3.0 in /usr/local/lib/python3.10/dist-packages (from spacy) (0.12.3)\n",
            "Requirement already satisfied: tqdm<5.0.0,>=4.38.0 in /usr/local/lib/python3.10/dist-packages (from spacy) (4.66.4)\n",
            "Requirement already satisfied: requests<3.0.0,>=2.13.0 in /usr/local/lib/python3.10/dist-packages (from spacy) (2.31.0)\n",
            "Requirement already satisfied: pydantic!=1.8,!=1.8.1,<3.0.0,>=1.7.4 in /usr/local/lib/python3.10/dist-packages (from spacy) (2.8.2)\n",
            "Requirement already satisfied: jinja2 in /usr/local/lib/python3.10/dist-packages (from spacy) (3.1.4)\n",
            "Requirement already satisfied: setuptools in /usr/local/lib/python3.10/dist-packages (from spacy) (71.0.4)\n",
            "Requirement already satisfied: packaging>=20.0 in /usr/local/lib/python3.10/dist-packages (from spacy) (24.1)\n",
            "Requirement already satisfied: langcodes<4.0.0,>=3.2.0 in /usr/local/lib/python3.10/dist-packages (from spacy) (3.4.0)\n",
            "Requirement already satisfied: numpy>=1.19.0 in /usr/local/lib/python3.10/dist-packages (from spacy) (1.26.4)\n",
            "Requirement already satisfied: language-data>=1.2 in /usr/local/lib/python3.10/dist-packages (from langcodes<4.0.0,>=3.2.0->spacy) (1.2.0)\n",
            "Requirement already satisfied: annotated-types>=0.4.0 in /usr/local/lib/python3.10/dist-packages (from pydantic!=1.8,!=1.8.1,<3.0.0,>=1.7.4->spacy) (0.7.0)\n",
            "Requirement already satisfied: pydantic-core==2.20.1 in /usr/local/lib/python3.10/dist-packages (from pydantic!=1.8,!=1.8.1,<3.0.0,>=1.7.4->spacy) (2.20.1)\n",
            "Requirement already satisfied: typing-extensions>=4.6.1 in /usr/local/lib/python3.10/dist-packages (from pydantic!=1.8,!=1.8.1,<3.0.0,>=1.7.4->spacy) (4.12.2)\n",
            "Requirement already satisfied: charset-normalizer<4,>=2 in /usr/local/lib/python3.10/dist-packages (from requests<3.0.0,>=2.13.0->spacy) (3.3.2)\n",
            "Requirement already satisfied: idna<4,>=2.5 in /usr/local/lib/python3.10/dist-packages (from requests<3.0.0,>=2.13.0->spacy) (3.7)\n",
            "Requirement already satisfied: urllib3<3,>=1.21.1 in /usr/local/lib/python3.10/dist-packages (from requests<3.0.0,>=2.13.0->spacy) (2.0.7)\n",
            "Requirement already satisfied: certifi>=2017.4.17 in /usr/local/lib/python3.10/dist-packages (from requests<3.0.0,>=2.13.0->spacy) (2024.7.4)\n",
            "Requirement already satisfied: blis<0.8.0,>=0.7.8 in /usr/local/lib/python3.10/dist-packages (from thinc<8.3.0,>=8.2.2->spacy) (0.7.11)\n",
            "Requirement already satisfied: confection<1.0.0,>=0.0.1 in /usr/local/lib/python3.10/dist-packages (from thinc<8.3.0,>=8.2.2->spacy) (0.1.5)\n",
            "Requirement already satisfied: click>=8.0.0 in /usr/local/lib/python3.10/dist-packages (from typer<1.0.0,>=0.3.0->spacy) (8.1.7)\n",
            "Requirement already satisfied: shellingham>=1.3.0 in /usr/local/lib/python3.10/dist-packages (from typer<1.0.0,>=0.3.0->spacy) (1.5.4)\n",
            "Requirement already satisfied: rich>=10.11.0 in /usr/local/lib/python3.10/dist-packages (from typer<1.0.0,>=0.3.0->spacy) (13.7.1)\n",
            "Requirement already satisfied: cloudpathlib<1.0.0,>=0.7.0 in /usr/local/lib/python3.10/dist-packages (from weasel<0.5.0,>=0.1.0->spacy) (0.18.1)\n",
            "Requirement already satisfied: smart-open<8.0.0,>=5.2.1 in /usr/local/lib/python3.10/dist-packages (from weasel<0.5.0,>=0.1.0->spacy) (7.0.4)\n",
            "Requirement already satisfied: MarkupSafe>=2.0 in /usr/local/lib/python3.10/dist-packages (from jinja2->spacy) (2.1.5)\n",
            "Requirement already satisfied: marisa-trie>=0.7.7 in /usr/local/lib/python3.10/dist-packages (from language-data>=1.2->langcodes<4.0.0,>=3.2.0->spacy) (1.2.0)\n",
            "Requirement already satisfied: markdown-it-py>=2.2.0 in /usr/local/lib/python3.10/dist-packages (from rich>=10.11.0->typer<1.0.0,>=0.3.0->spacy) (3.0.0)\n",
            "Requirement already satisfied: pygments<3.0.0,>=2.13.0 in /usr/local/lib/python3.10/dist-packages (from rich>=10.11.0->typer<1.0.0,>=0.3.0->spacy) (2.18.0)\n",
            "Requirement already satisfied: wrapt in /usr/local/lib/python3.10/dist-packages (from smart-open<8.0.0,>=5.2.1->weasel<0.5.0,>=0.1.0->spacy) (1.14.1)\n",
            "Requirement already satisfied: mdurl~=0.1 in /usr/local/lib/python3.10/dist-packages (from markdown-it-py>=2.2.0->rich>=10.11.0->typer<1.0.0,>=0.3.0->spacy) (0.1.2)\n",
            "Collecting ru-core-news-sm==3.7.0\n",
            "  Downloading https://github.com/explosion/spacy-models/releases/download/ru_core_news_sm-3.7.0/ru_core_news_sm-3.7.0-py3-none-any.whl (15.3 MB)\n",
            "\u001b[2K     \u001b[90m━━━━━━━━━━━━━━━━━━━━━━━━━━━━━━━━━━━━━━━━\u001b[0m \u001b[32m15.3/15.3 MB\u001b[0m \u001b[31m80.1 MB/s\u001b[0m eta \u001b[36m0:00:00\u001b[0m\n",
            "\u001b[?25hRequirement already satisfied: spacy<3.8.0,>=3.7.0 in /usr/local/lib/python3.10/dist-packages (from ru-core-news-sm==3.7.0) (3.7.5)\n",
            "Collecting pymorphy3>=1.0.0 (from ru-core-news-sm==3.7.0)\n",
            "  Downloading pymorphy3-2.0.2-py3-none-any.whl.metadata (1.8 kB)\n",
            "Collecting dawg-python>=0.7.1 (from pymorphy3>=1.0.0->ru-core-news-sm==3.7.0)\n",
            "  Downloading DAWG_Python-0.7.2-py2.py3-none-any.whl.metadata (7.0 kB)\n",
            "Collecting pymorphy3-dicts-ru (from pymorphy3>=1.0.0->ru-core-news-sm==3.7.0)\n",
            "  Downloading pymorphy3_dicts_ru-2.4.417150.4580142-py2.py3-none-any.whl.metadata (2.0 kB)\n",
            "Requirement already satisfied: spacy-legacy<3.1.0,>=3.0.11 in /usr/local/lib/python3.10/dist-packages (from spacy<3.8.0,>=3.7.0->ru-core-news-sm==3.7.0) (3.0.12)\n",
            "Requirement already satisfied: spacy-loggers<2.0.0,>=1.0.0 in /usr/local/lib/python3.10/dist-packages (from spacy<3.8.0,>=3.7.0->ru-core-news-sm==3.7.0) (1.0.5)\n",
            "Requirement already satisfied: murmurhash<1.1.0,>=0.28.0 in /usr/local/lib/python3.10/dist-packages (from spacy<3.8.0,>=3.7.0->ru-core-news-sm==3.7.0) (1.0.10)\n",
            "Requirement already satisfied: cymem<2.1.0,>=2.0.2 in /usr/local/lib/python3.10/dist-packages (from spacy<3.8.0,>=3.7.0->ru-core-news-sm==3.7.0) (2.0.8)\n",
            "Requirement already satisfied: preshed<3.1.0,>=3.0.2 in /usr/local/lib/python3.10/dist-packages (from spacy<3.8.0,>=3.7.0->ru-core-news-sm==3.7.0) (3.0.9)\n",
            "Requirement already satisfied: thinc<8.3.0,>=8.2.2 in /usr/local/lib/python3.10/dist-packages (from spacy<3.8.0,>=3.7.0->ru-core-news-sm==3.7.0) (8.2.5)\n",
            "Requirement already satisfied: wasabi<1.2.0,>=0.9.1 in /usr/local/lib/python3.10/dist-packages (from spacy<3.8.0,>=3.7.0->ru-core-news-sm==3.7.0) (1.1.3)\n",
            "Requirement already satisfied: srsly<3.0.0,>=2.4.3 in /usr/local/lib/python3.10/dist-packages (from spacy<3.8.0,>=3.7.0->ru-core-news-sm==3.7.0) (2.4.8)\n",
            "Requirement already satisfied: catalogue<2.1.0,>=2.0.6 in /usr/local/lib/python3.10/dist-packages (from spacy<3.8.0,>=3.7.0->ru-core-news-sm==3.7.0) (2.0.10)\n",
            "Requirement already satisfied: weasel<0.5.0,>=0.1.0 in /usr/local/lib/python3.10/dist-packages (from spacy<3.8.0,>=3.7.0->ru-core-news-sm==3.7.0) (0.4.1)\n",
            "Requirement already satisfied: typer<1.0.0,>=0.3.0 in /usr/local/lib/python3.10/dist-packages (from spacy<3.8.0,>=3.7.0->ru-core-news-sm==3.7.0) (0.12.3)\n",
            "Requirement already satisfied: tqdm<5.0.0,>=4.38.0 in /usr/local/lib/python3.10/dist-packages (from spacy<3.8.0,>=3.7.0->ru-core-news-sm==3.7.0) (4.66.4)\n",
            "Requirement already satisfied: requests<3.0.0,>=2.13.0 in /usr/local/lib/python3.10/dist-packages (from spacy<3.8.0,>=3.7.0->ru-core-news-sm==3.7.0) (2.31.0)\n",
            "Requirement already satisfied: pydantic!=1.8,!=1.8.1,<3.0.0,>=1.7.4 in /usr/local/lib/python3.10/dist-packages (from spacy<3.8.0,>=3.7.0->ru-core-news-sm==3.7.0) (2.8.2)\n",
            "Requirement already satisfied: jinja2 in /usr/local/lib/python3.10/dist-packages (from spacy<3.8.0,>=3.7.0->ru-core-news-sm==3.7.0) (3.1.4)\n",
            "Requirement already satisfied: setuptools in /usr/local/lib/python3.10/dist-packages (from spacy<3.8.0,>=3.7.0->ru-core-news-sm==3.7.0) (71.0.4)\n",
            "Requirement already satisfied: packaging>=20.0 in /usr/local/lib/python3.10/dist-packages (from spacy<3.8.0,>=3.7.0->ru-core-news-sm==3.7.0) (24.1)\n",
            "Requirement already satisfied: langcodes<4.0.0,>=3.2.0 in /usr/local/lib/python3.10/dist-packages (from spacy<3.8.0,>=3.7.0->ru-core-news-sm==3.7.0) (3.4.0)\n",
            "Requirement already satisfied: numpy>=1.19.0 in /usr/local/lib/python3.10/dist-packages (from spacy<3.8.0,>=3.7.0->ru-core-news-sm==3.7.0) (1.26.4)\n",
            "Requirement already satisfied: language-data>=1.2 in /usr/local/lib/python3.10/dist-packages (from langcodes<4.0.0,>=3.2.0->spacy<3.8.0,>=3.7.0->ru-core-news-sm==3.7.0) (1.2.0)\n",
            "Requirement already satisfied: annotated-types>=0.4.0 in /usr/local/lib/python3.10/dist-packages (from pydantic!=1.8,!=1.8.1,<3.0.0,>=1.7.4->spacy<3.8.0,>=3.7.0->ru-core-news-sm==3.7.0) (0.7.0)\n",
            "Requirement already satisfied: pydantic-core==2.20.1 in /usr/local/lib/python3.10/dist-packages (from pydantic!=1.8,!=1.8.1,<3.0.0,>=1.7.4->spacy<3.8.0,>=3.7.0->ru-core-news-sm==3.7.0) (2.20.1)\n",
            "Requirement already satisfied: typing-extensions>=4.6.1 in /usr/local/lib/python3.10/dist-packages (from pydantic!=1.8,!=1.8.1,<3.0.0,>=1.7.4->spacy<3.8.0,>=3.7.0->ru-core-news-sm==3.7.0) (4.12.2)\n",
            "Requirement already satisfied: charset-normalizer<4,>=2 in /usr/local/lib/python3.10/dist-packages (from requests<3.0.0,>=2.13.0->spacy<3.8.0,>=3.7.0->ru-core-news-sm==3.7.0) (3.3.2)\n",
            "Requirement already satisfied: idna<4,>=2.5 in /usr/local/lib/python3.10/dist-packages (from requests<3.0.0,>=2.13.0->spacy<3.8.0,>=3.7.0->ru-core-news-sm==3.7.0) (3.7)\n",
            "Requirement already satisfied: urllib3<3,>=1.21.1 in /usr/local/lib/python3.10/dist-packages (from requests<3.0.0,>=2.13.0->spacy<3.8.0,>=3.7.0->ru-core-news-sm==3.7.0) (2.0.7)\n",
            "Requirement already satisfied: certifi>=2017.4.17 in /usr/local/lib/python3.10/dist-packages (from requests<3.0.0,>=2.13.0->spacy<3.8.0,>=3.7.0->ru-core-news-sm==3.7.0) (2024.7.4)\n",
            "Requirement already satisfied: blis<0.8.0,>=0.7.8 in /usr/local/lib/python3.10/dist-packages (from thinc<8.3.0,>=8.2.2->spacy<3.8.0,>=3.7.0->ru-core-news-sm==3.7.0) (0.7.11)\n",
            "Requirement already satisfied: confection<1.0.0,>=0.0.1 in /usr/local/lib/python3.10/dist-packages (from thinc<8.3.0,>=8.2.2->spacy<3.8.0,>=3.7.0->ru-core-news-sm==3.7.0) (0.1.5)\n",
            "Requirement already satisfied: click>=8.0.0 in /usr/local/lib/python3.10/dist-packages (from typer<1.0.0,>=0.3.0->spacy<3.8.0,>=3.7.0->ru-core-news-sm==3.7.0) (8.1.7)\n",
            "Requirement already satisfied: shellingham>=1.3.0 in /usr/local/lib/python3.10/dist-packages (from typer<1.0.0,>=0.3.0->spacy<3.8.0,>=3.7.0->ru-core-news-sm==3.7.0) (1.5.4)\n",
            "Requirement already satisfied: rich>=10.11.0 in /usr/local/lib/python3.10/dist-packages (from typer<1.0.0,>=0.3.0->spacy<3.8.0,>=3.7.0->ru-core-news-sm==3.7.0) (13.7.1)\n",
            "Requirement already satisfied: cloudpathlib<1.0.0,>=0.7.0 in /usr/local/lib/python3.10/dist-packages (from weasel<0.5.0,>=0.1.0->spacy<3.8.0,>=3.7.0->ru-core-news-sm==3.7.0) (0.18.1)\n",
            "Requirement already satisfied: smart-open<8.0.0,>=5.2.1 in /usr/local/lib/python3.10/dist-packages (from weasel<0.5.0,>=0.1.0->spacy<3.8.0,>=3.7.0->ru-core-news-sm==3.7.0) (7.0.4)\n",
            "Requirement already satisfied: MarkupSafe>=2.0 in /usr/local/lib/python3.10/dist-packages (from jinja2->spacy<3.8.0,>=3.7.0->ru-core-news-sm==3.7.0) (2.1.5)\n",
            "Requirement already satisfied: marisa-trie>=0.7.7 in /usr/local/lib/python3.10/dist-packages (from language-data>=1.2->langcodes<4.0.0,>=3.2.0->spacy<3.8.0,>=3.7.0->ru-core-news-sm==3.7.0) (1.2.0)\n",
            "Requirement already satisfied: markdown-it-py>=2.2.0 in /usr/local/lib/python3.10/dist-packages (from rich>=10.11.0->typer<1.0.0,>=0.3.0->spacy<3.8.0,>=3.7.0->ru-core-news-sm==3.7.0) (3.0.0)\n",
            "Requirement already satisfied: pygments<3.0.0,>=2.13.0 in /usr/local/lib/python3.10/dist-packages (from rich>=10.11.0->typer<1.0.0,>=0.3.0->spacy<3.8.0,>=3.7.0->ru-core-news-sm==3.7.0) (2.18.0)\n",
            "Requirement already satisfied: wrapt in /usr/local/lib/python3.10/dist-packages (from smart-open<8.0.0,>=5.2.1->weasel<0.5.0,>=0.1.0->spacy<3.8.0,>=3.7.0->ru-core-news-sm==3.7.0) (1.14.1)\n",
            "Requirement already satisfied: mdurl~=0.1 in /usr/local/lib/python3.10/dist-packages (from markdown-it-py>=2.2.0->rich>=10.11.0->typer<1.0.0,>=0.3.0->spacy<3.8.0,>=3.7.0->ru-core-news-sm==3.7.0) (0.1.2)\n",
            "Downloading pymorphy3-2.0.2-py3-none-any.whl (53 kB)\n",
            "\u001b[2K   \u001b[90m━━━━━━━━━━━━━━━━━━━━━━━━━━━━━━━━━━━━━━━━\u001b[0m \u001b[32m53.8/53.8 kB\u001b[0m \u001b[31m901.2 kB/s\u001b[0m eta \u001b[36m0:00:00\u001b[0m\n",
            "\u001b[?25hDownloading DAWG_Python-0.7.2-py2.py3-none-any.whl (11 kB)\n",
            "Downloading pymorphy3_dicts_ru-2.4.417150.4580142-py2.py3-none-any.whl (8.4 MB)\n",
            "\u001b[2K   \u001b[90m━━━━━━━━━━━━━━━━━━━━━━━━━━━━━━━━━━━━━━━━\u001b[0m \u001b[32m8.4/8.4 MB\u001b[0m \u001b[31m30.4 MB/s\u001b[0m eta \u001b[36m0:00:00\u001b[0m\n",
            "\u001b[?25hInstalling collected packages: pymorphy3-dicts-ru, dawg-python, pymorphy3, ru-core-news-sm\n",
            "Successfully installed dawg-python-0.7.2 pymorphy3-2.0.2 pymorphy3-dicts-ru-2.4.417150.4580142 ru-core-news-sm-3.7.0\n",
            "\u001b[38;5;2m✔ Download and installation successful\u001b[0m\n",
            "You can now load the package via spacy.load('ru_core_news_sm')\n",
            "\u001b[38;5;3m⚠ Restart to reload dependencies\u001b[0m\n",
            "If you are in a Jupyter or Colab notebook, you may need to restart Python in\n",
            "order to load all the package's dependencies. You can do this by selecting the\n",
            "'Restart kernel' or 'Restart runtime' option.\n",
            "Collecting en-core-web-sm==3.7.1\n",
            "  Downloading https://github.com/explosion/spacy-models/releases/download/en_core_web_sm-3.7.1/en_core_web_sm-3.7.1-py3-none-any.whl (12.8 MB)\n",
            "\u001b[2K     \u001b[90m━━━━━━━━━━━━━━━━━━━━━━━━━━━━━━━━━━━━━━━━\u001b[0m \u001b[32m12.8/12.8 MB\u001b[0m \u001b[31m103.5 MB/s\u001b[0m eta \u001b[36m0:00:00\u001b[0m\n",
            "\u001b[?25hRequirement already satisfied: spacy<3.8.0,>=3.7.2 in /usr/local/lib/python3.10/dist-packages (from en-core-web-sm==3.7.1) (3.7.5)\n",
            "Requirement already satisfied: spacy-legacy<3.1.0,>=3.0.11 in /usr/local/lib/python3.10/dist-packages (from spacy<3.8.0,>=3.7.2->en-core-web-sm==3.7.1) (3.0.12)\n",
            "Requirement already satisfied: spacy-loggers<2.0.0,>=1.0.0 in /usr/local/lib/python3.10/dist-packages (from spacy<3.8.0,>=3.7.2->en-core-web-sm==3.7.1) (1.0.5)\n",
            "Requirement already satisfied: murmurhash<1.1.0,>=0.28.0 in /usr/local/lib/python3.10/dist-packages (from spacy<3.8.0,>=3.7.2->en-core-web-sm==3.7.1) (1.0.10)\n",
            "Requirement already satisfied: cymem<2.1.0,>=2.0.2 in /usr/local/lib/python3.10/dist-packages (from spacy<3.8.0,>=3.7.2->en-core-web-sm==3.7.1) (2.0.8)\n",
            "Requirement already satisfied: preshed<3.1.0,>=3.0.2 in /usr/local/lib/python3.10/dist-packages (from spacy<3.8.0,>=3.7.2->en-core-web-sm==3.7.1) (3.0.9)\n",
            "Requirement already satisfied: thinc<8.3.0,>=8.2.2 in /usr/local/lib/python3.10/dist-packages (from spacy<3.8.0,>=3.7.2->en-core-web-sm==3.7.1) (8.2.5)\n",
            "Requirement already satisfied: wasabi<1.2.0,>=0.9.1 in /usr/local/lib/python3.10/dist-packages (from spacy<3.8.0,>=3.7.2->en-core-web-sm==3.7.1) (1.1.3)\n",
            "Requirement already satisfied: srsly<3.0.0,>=2.4.3 in /usr/local/lib/python3.10/dist-packages (from spacy<3.8.0,>=3.7.2->en-core-web-sm==3.7.1) (2.4.8)\n",
            "Requirement already satisfied: catalogue<2.1.0,>=2.0.6 in /usr/local/lib/python3.10/dist-packages (from spacy<3.8.0,>=3.7.2->en-core-web-sm==3.7.1) (2.0.10)\n",
            "Requirement already satisfied: weasel<0.5.0,>=0.1.0 in /usr/local/lib/python3.10/dist-packages (from spacy<3.8.0,>=3.7.2->en-core-web-sm==3.7.1) (0.4.1)\n",
            "Requirement already satisfied: typer<1.0.0,>=0.3.0 in /usr/local/lib/python3.10/dist-packages (from spacy<3.8.0,>=3.7.2->en-core-web-sm==3.7.1) (0.12.3)\n",
            "Requirement already satisfied: tqdm<5.0.0,>=4.38.0 in /usr/local/lib/python3.10/dist-packages (from spacy<3.8.0,>=3.7.2->en-core-web-sm==3.7.1) (4.66.4)\n",
            "Requirement already satisfied: requests<3.0.0,>=2.13.0 in /usr/local/lib/python3.10/dist-packages (from spacy<3.8.0,>=3.7.2->en-core-web-sm==3.7.1) (2.31.0)\n",
            "Requirement already satisfied: pydantic!=1.8,!=1.8.1,<3.0.0,>=1.7.4 in /usr/local/lib/python3.10/dist-packages (from spacy<3.8.0,>=3.7.2->en-core-web-sm==3.7.1) (2.8.2)\n",
            "Requirement already satisfied: jinja2 in /usr/local/lib/python3.10/dist-packages (from spacy<3.8.0,>=3.7.2->en-core-web-sm==3.7.1) (3.1.4)\n",
            "Requirement already satisfied: setuptools in /usr/local/lib/python3.10/dist-packages (from spacy<3.8.0,>=3.7.2->en-core-web-sm==3.7.1) (71.0.4)\n",
            "Requirement already satisfied: packaging>=20.0 in /usr/local/lib/python3.10/dist-packages (from spacy<3.8.0,>=3.7.2->en-core-web-sm==3.7.1) (24.1)\n",
            "Requirement already satisfied: langcodes<4.0.0,>=3.2.0 in /usr/local/lib/python3.10/dist-packages (from spacy<3.8.0,>=3.7.2->en-core-web-sm==3.7.1) (3.4.0)\n",
            "Requirement already satisfied: numpy>=1.19.0 in /usr/local/lib/python3.10/dist-packages (from spacy<3.8.0,>=3.7.2->en-core-web-sm==3.7.1) (1.26.4)\n",
            "Requirement already satisfied: language-data>=1.2 in /usr/local/lib/python3.10/dist-packages (from langcodes<4.0.0,>=3.2.0->spacy<3.8.0,>=3.7.2->en-core-web-sm==3.7.1) (1.2.0)\n",
            "Requirement already satisfied: annotated-types>=0.4.0 in /usr/local/lib/python3.10/dist-packages (from pydantic!=1.8,!=1.8.1,<3.0.0,>=1.7.4->spacy<3.8.0,>=3.7.2->en-core-web-sm==3.7.1) (0.7.0)\n",
            "Requirement already satisfied: pydantic-core==2.20.1 in /usr/local/lib/python3.10/dist-packages (from pydantic!=1.8,!=1.8.1,<3.0.0,>=1.7.4->spacy<3.8.0,>=3.7.2->en-core-web-sm==3.7.1) (2.20.1)\n",
            "Requirement already satisfied: typing-extensions>=4.6.1 in /usr/local/lib/python3.10/dist-packages (from pydantic!=1.8,!=1.8.1,<3.0.0,>=1.7.4->spacy<3.8.0,>=3.7.2->en-core-web-sm==3.7.1) (4.12.2)\n",
            "Requirement already satisfied: charset-normalizer<4,>=2 in /usr/local/lib/python3.10/dist-packages (from requests<3.0.0,>=2.13.0->spacy<3.8.0,>=3.7.2->en-core-web-sm==3.7.1) (3.3.2)\n",
            "Requirement already satisfied: idna<4,>=2.5 in /usr/local/lib/python3.10/dist-packages (from requests<3.0.0,>=2.13.0->spacy<3.8.0,>=3.7.2->en-core-web-sm==3.7.1) (3.7)\n",
            "Requirement already satisfied: urllib3<3,>=1.21.1 in /usr/local/lib/python3.10/dist-packages (from requests<3.0.0,>=2.13.0->spacy<3.8.0,>=3.7.2->en-core-web-sm==3.7.1) (2.0.7)\n",
            "Requirement already satisfied: certifi>=2017.4.17 in /usr/local/lib/python3.10/dist-packages (from requests<3.0.0,>=2.13.0->spacy<3.8.0,>=3.7.2->en-core-web-sm==3.7.1) (2024.7.4)\n",
            "Requirement already satisfied: blis<0.8.0,>=0.7.8 in /usr/local/lib/python3.10/dist-packages (from thinc<8.3.0,>=8.2.2->spacy<3.8.0,>=3.7.2->en-core-web-sm==3.7.1) (0.7.11)\n",
            "Requirement already satisfied: confection<1.0.0,>=0.0.1 in /usr/local/lib/python3.10/dist-packages (from thinc<8.3.0,>=8.2.2->spacy<3.8.0,>=3.7.2->en-core-web-sm==3.7.1) (0.1.5)\n",
            "Requirement already satisfied: click>=8.0.0 in /usr/local/lib/python3.10/dist-packages (from typer<1.0.0,>=0.3.0->spacy<3.8.0,>=3.7.2->en-core-web-sm==3.7.1) (8.1.7)\n",
            "Requirement already satisfied: shellingham>=1.3.0 in /usr/local/lib/python3.10/dist-packages (from typer<1.0.0,>=0.3.0->spacy<3.8.0,>=3.7.2->en-core-web-sm==3.7.1) (1.5.4)\n",
            "Requirement already satisfied: rich>=10.11.0 in /usr/local/lib/python3.10/dist-packages (from typer<1.0.0,>=0.3.0->spacy<3.8.0,>=3.7.2->en-core-web-sm==3.7.1) (13.7.1)\n",
            "Requirement already satisfied: cloudpathlib<1.0.0,>=0.7.0 in /usr/local/lib/python3.10/dist-packages (from weasel<0.5.0,>=0.1.0->spacy<3.8.0,>=3.7.2->en-core-web-sm==3.7.1) (0.18.1)\n",
            "Requirement already satisfied: smart-open<8.0.0,>=5.2.1 in /usr/local/lib/python3.10/dist-packages (from weasel<0.5.0,>=0.1.0->spacy<3.8.0,>=3.7.2->en-core-web-sm==3.7.1) (7.0.4)\n",
            "Requirement already satisfied: MarkupSafe>=2.0 in /usr/local/lib/python3.10/dist-packages (from jinja2->spacy<3.8.0,>=3.7.2->en-core-web-sm==3.7.1) (2.1.5)\n",
            "Requirement already satisfied: marisa-trie>=0.7.7 in /usr/local/lib/python3.10/dist-packages (from language-data>=1.2->langcodes<4.0.0,>=3.2.0->spacy<3.8.0,>=3.7.2->en-core-web-sm==3.7.1) (1.2.0)\n",
            "Requirement already satisfied: markdown-it-py>=2.2.0 in /usr/local/lib/python3.10/dist-packages (from rich>=10.11.0->typer<1.0.0,>=0.3.0->spacy<3.8.0,>=3.7.2->en-core-web-sm==3.7.1) (3.0.0)\n",
            "Requirement already satisfied: pygments<3.0.0,>=2.13.0 in /usr/local/lib/python3.10/dist-packages (from rich>=10.11.0->typer<1.0.0,>=0.3.0->spacy<3.8.0,>=3.7.2->en-core-web-sm==3.7.1) (2.18.0)\n",
            "Requirement already satisfied: wrapt in /usr/local/lib/python3.10/dist-packages (from smart-open<8.0.0,>=5.2.1->weasel<0.5.0,>=0.1.0->spacy<3.8.0,>=3.7.2->en-core-web-sm==3.7.1) (1.14.1)\n",
            "Requirement already satisfied: mdurl~=0.1 in /usr/local/lib/python3.10/dist-packages (from markdown-it-py>=2.2.0->rich>=10.11.0->typer<1.0.0,>=0.3.0->spacy<3.8.0,>=3.7.2->en-core-web-sm==3.7.1) (0.1.2)\n",
            "\u001b[38;5;2m✔ Download and installation successful\u001b[0m\n",
            "You can now load the package via spacy.load('en_core_web_sm')\n",
            "\u001b[38;5;3m⚠ Restart to reload dependencies\u001b[0m\n",
            "If you are in a Jupyter or Colab notebook, you may need to restart Python in\n",
            "order to load all the package's dependencies. You can do this by selecting the\n",
            "'Restart kernel' or 'Restart runtime' option.\n",
            "Collecting langdetect\n",
            "  Downloading langdetect-1.0.9.tar.gz (981 kB)\n",
            "\u001b[2K     \u001b[90m━━━━━━━━━━━━━━━━━━━━━━━━━━━━━━━━━━━━━━━━\u001b[0m \u001b[32m981.5/981.5 kB\u001b[0m \u001b[31m5.2 MB/s\u001b[0m eta \u001b[36m0:00:00\u001b[0m\n",
            "\u001b[?25h  Preparing metadata (setup.py) ... \u001b[?25l\u001b[?25hdone\n",
            "Requirement already satisfied: six in /usr/local/lib/python3.10/dist-packages (from langdetect) (1.16.0)\n",
            "Building wheels for collected packages: langdetect\n",
            "  Building wheel for langdetect (setup.py) ... \u001b[?25l\u001b[?25hdone\n",
            "  Created wheel for langdetect: filename=langdetect-1.0.9-py3-none-any.whl size=993221 sha256=6d50c4fcf5ec7b9c65cab9646be7989abb61a125a4b7552cbe52ecaea658495c\n",
            "  Stored in directory: /root/.cache/pip/wheels/95/03/7d/59ea870c70ce4e5a370638b5462a7711ab78fba2f655d05106\n",
            "Successfully built langdetect\n",
            "Installing collected packages: langdetect\n",
            "Successfully installed langdetect-1.0.9\n"
          ]
        }
      ],
      "source": [
        "!pip install spacy\n",
        "!python -m spacy download ru_core_news_sm\n",
        "!python -m spacy download en_core_web_sm\n",
        "!pip install langdetect\n"
      ]
    },
    {
      "cell_type": "markdown",
      "metadata": {
        "id": "eFkXcLNB9zA3"
      },
      "source": [
        "Обработка текста, содержащего как русский, так и английский текст.\n",
        "\n"
      ]
    },
    {
      "cell_type": "code",
      "execution_count": null,
      "metadata": {
        "colab": {
          "base_uri": "https://localhost:8080/"
        },
        "id": "RTtY2_qp-25Q",
        "outputId": "da6001b7-fa90-4854-d316-df9aebc64b1a"
      },
      "outputs": [
        {
          "output_type": "stream",
          "name": "stderr",
          "text": [
            "100%|██████████| 82432/82432 [11:48<00:00, 116.35it/s]\n",
            "100%|██████████| 82432/82432 [08:11<00:00, 167.80it/s]\n",
            "100%|██████████| 82432/82432 [01:39<00:00, 832.13it/s]\n",
            "100%|██████████| 82432/82432 [24:20<00:00, 56.45it/s]\n",
            "100%|██████████| 82432/82432 [15:42<00:00, 87.47it/s]\n",
            "100%|██████████| 82432/82432 [14:56<00:00, 91.98it/s]\n",
            "100%|██████████| 82432/82432 [03:52<00:00, 354.87it/s]\n"
          ]
        },
        {
          "output_type": "stream",
          "name": "stdout",
          "text": [
            "DataFrame с токенизацией успешно сохранен в формате CSV.\n"
          ]
        }
      ],
      "source": [
        "import spacy\n",
        "import pandas as pd\n",
        "from tqdm import tqdm\n",
        "from langdetect import detect, LangDetectException\n",
        "\n",
        "# Активация tqdm для pandas\n",
        "tqdm.pandas()\n",
        "\n",
        "# Загрузка моделей SpaCy для русского и английского языков\n",
        "nlp_ru = spacy.load('ru_core_news_sm')\n",
        "nlp_en = spacy.load('en_core_web_sm')\n",
        "\n",
        "# Функция для токенизации текста\n",
        "def tokenize_text(text):\n",
        "    try:\n",
        "        language = detect(text)\n",
        "    except:\n",
        "        language = 'unknown'\n",
        "\n",
        "    if language == 'ru':\n",
        "        doc = nlp_ru(text)\n",
        "    elif language == 'en':\n",
        "        doc = nlp_en(text)\n",
        "    else:\n",
        "        return []\n",
        "\n",
        "    sentences = []\n",
        "    for sent in doc.sents:\n",
        "        tokens = [token.text for token in sent]\n",
        "        sentences.append(tokens)\n",
        "    return sentences\n",
        "\n",
        "# Загрузка данных\n",
        "file_path = '/content/drive/MyDrive/Стажировка/Semantic_2/expanded_file.csv'\n",
        "combined_df = pd.read_csv(file_path)\n",
        "\n",
        "# Применение токенизации ко всем строковым столбцам, кроме 'Portal User Group' и 'portal_user_group_code'\n",
        "for column in combined_df.select_dtypes(include=['object']).columns:\n",
        "    if column not in ['Portal User Group', 'portal_user_group_code']:\n",
        "        combined_df[column + '_tokens'] = combined_df[column].astype(str).progress_apply(tokenize_text)\n",
        "\n",
        "# Сохранение DataFrame с токенизацией в формате CSV\n",
        "output_csv_path = '/content/drive/MyDrive/Стажировка/Semantic_2/tokenized_file.csv'\n",
        "combined_df.to_csv(output_csv_path, index=False)\n",
        "print(\"DataFrame с токенизацией успешно сохранен в формате CSV.\")\n"
      ]
    },
    {
      "cell_type": "code",
      "execution_count": null,
      "metadata": {
        "colab": {
          "base_uri": "https://localhost:8080/"
        },
        "id": "xDWud-7jrvES",
        "outputId": "2832775e-f43c-4176-eb05-43884d79d954"
      },
      "outputs": [
        {
          "output_type": "stream",
          "name": "stdout",
          "text": [
            "Список всех столбцов в файле:\n",
            "Portal User Group\n",
            "Place (Agency) (Agency)\n",
            "Elite Status (Reservation) (Voucher)\n",
            "Company (Agency) (Agency)\n",
            "Enter The System (Agency) (Agency)\n",
            "To Area (Reservation) (Voucher)\n",
            "Reservation Type (Reservation) (Voucher)\n",
            "Description\n",
            "Kurator Group (Agency) (Agency)\n",
            "EE Id (Agency) (Agency)\n",
            "Agency Type Id (Agency) (Agency)\n",
            "Process Phase\n",
            "Reservation Class (Reservation) (Voucher)\n",
            "Is VIP (Reservation) (Voucher)\n",
            "From Area (Reservation) (Voucher)\n",
            "portal_user_group_code\n",
            "Place (Agency) (Agency)_tokens\n",
            "Company (Agency) (Agency)_tokens\n",
            "Enter The System (Agency) (Agency)_tokens\n",
            "Description_tokens\n",
            "Kurator Group (Agency) (Agency)_tokens\n",
            "Agency Type Id (Agency) (Agency)_tokens\n",
            "Process Phase_tokens\n",
            "\n",
            "Список добавленных столбцов:\n",
            "Place (Agency) (Agency)_tokens\n",
            "Company (Agency) (Agency)_tokens\n",
            "Enter The System (Agency) (Agency)_tokens\n",
            "Description_tokens\n",
            "Kurator Group (Agency) (Agency)_tokens\n",
            "Agency Type Id (Agency) (Agency)_tokens\n",
            "Process Phase_tokens\n",
            "\n",
            "Всего столбцов: 23\n",
            "Добавленных столбцов: 7\n"
          ]
        }
      ],
      "source": [
        "import pandas as pd\n",
        "\n",
        "# Путь к файлу\n",
        "file_path = '/content/drive/MyDrive/Стажировка/Semantic_2/tokenized_file.csv'\n",
        "\n",
        "# Загрузка данных из CSV файла\n",
        "combined_df = pd.read_csv(file_path)\n",
        "\n",
        "# Вывод списка всех столбцов\n",
        "print(\"Список всех столбцов в файле:\")\n",
        "for column in combined_df.columns:\n",
        "    print(column)\n",
        "\n",
        "# Вывод списка добавленных столбцов\n",
        "added_columns = [column for column in combined_df.columns if column.endswith('_tokens')]\n",
        "print(\"\\nСписок добавленных столбцов:\")\n",
        "for column in added_columns:\n",
        "    print(column)\n",
        "\n",
        "# Вывод количества столбцов\n",
        "print(f\"\\nВсего столбцов: {len(combined_df.columns)}\")\n",
        "print(f\"Добавленных столбцов: {len(added_columns)}\")\n"
      ]
    },
    {
      "cell_type": "markdown",
      "metadata": {
        "id": "pcXvEf5IBR7q"
      },
      "source": [
        "**Лексический анализ с обработкой на русском и английском языках.**"
      ]
    },
    {
      "cell_type": "code",
      "execution_count": null,
      "metadata": {
        "colab": {
          "base_uri": "https://localhost:8080/"
        },
        "id": "CDNzP7MpTkWd",
        "outputId": "078aec3c-f2bd-4bdd-d30e-d21eb9743de1"
      },
      "outputs": [
        {
          "output_type": "stream",
          "name": "stdout",
          "text": [
            "Requirement already satisfied: langdetect in /usr/local/lib/python3.10/dist-packages (1.0.9)\n",
            "Requirement already satisfied: six in /usr/local/lib/python3.10/dist-packages (from langdetect) (1.16.0)\n",
            "Collecting googletrans==4.0.0-rc1\n",
            "  Downloading googletrans-4.0.0rc1.tar.gz (20 kB)\n",
            "  Preparing metadata (setup.py) ... \u001b[?25l\u001b[?25hdone\n",
            "Collecting httpx==0.13.3 (from googletrans==4.0.0-rc1)\n",
            "  Downloading httpx-0.13.3-py3-none-any.whl.metadata (25 kB)\n",
            "Requirement already satisfied: certifi in /usr/local/lib/python3.10/dist-packages (from httpx==0.13.3->googletrans==4.0.0-rc1) (2024.7.4)\n",
            "Collecting hstspreload (from httpx==0.13.3->googletrans==4.0.0-rc1)\n",
            "  Downloading hstspreload-2024.8.1-py3-none-any.whl.metadata (2.1 kB)\n",
            "Requirement already satisfied: sniffio in /usr/local/lib/python3.10/dist-packages (from httpx==0.13.3->googletrans==4.0.0-rc1) (1.3.1)\n",
            "Collecting chardet==3.* (from httpx==0.13.3->googletrans==4.0.0-rc1)\n",
            "  Downloading chardet-3.0.4-py2.py3-none-any.whl.metadata (3.2 kB)\n",
            "Collecting idna==2.* (from httpx==0.13.3->googletrans==4.0.0-rc1)\n",
            "  Downloading idna-2.10-py2.py3-none-any.whl.metadata (9.1 kB)\n",
            "Collecting rfc3986<2,>=1.3 (from httpx==0.13.3->googletrans==4.0.0-rc1)\n",
            "  Downloading rfc3986-1.5.0-py2.py3-none-any.whl.metadata (6.5 kB)\n",
            "Collecting httpcore==0.9.* (from httpx==0.13.3->googletrans==4.0.0-rc1)\n",
            "  Downloading httpcore-0.9.1-py3-none-any.whl.metadata (4.6 kB)\n",
            "Collecting h11<0.10,>=0.8 (from httpcore==0.9.*->httpx==0.13.3->googletrans==4.0.0-rc1)\n",
            "  Downloading h11-0.9.0-py2.py3-none-any.whl.metadata (8.1 kB)\n",
            "Collecting h2==3.* (from httpcore==0.9.*->httpx==0.13.3->googletrans==4.0.0-rc1)\n",
            "  Downloading h2-3.2.0-py2.py3-none-any.whl.metadata (32 kB)\n",
            "Collecting hyperframe<6,>=5.2.0 (from h2==3.*->httpcore==0.9.*->httpx==0.13.3->googletrans==4.0.0-rc1)\n",
            "  Downloading hyperframe-5.2.0-py2.py3-none-any.whl.metadata (7.2 kB)\n",
            "Collecting hpack<4,>=3.0 (from h2==3.*->httpcore==0.9.*->httpx==0.13.3->googletrans==4.0.0-rc1)\n",
            "  Downloading hpack-3.0.0-py2.py3-none-any.whl.metadata (7.0 kB)\n",
            "Downloading httpx-0.13.3-py3-none-any.whl (55 kB)\n",
            "\u001b[2K   \u001b[90m━━━━━━━━━━━━━━━━━━━━━━━━━━━━━━━━━━━━━━━━\u001b[0m \u001b[32m55.1/55.1 kB\u001b[0m \u001b[31m2.0 MB/s\u001b[0m eta \u001b[36m0:00:00\u001b[0m\n",
            "\u001b[?25hDownloading chardet-3.0.4-py2.py3-none-any.whl (133 kB)\n",
            "\u001b[2K   \u001b[90m━━━━━━━━━━━━━━━━━━━━━━━━━━━━━━━━━━━━━━━━\u001b[0m \u001b[32m133.4/133.4 kB\u001b[0m \u001b[31m2.4 MB/s\u001b[0m eta \u001b[36m0:00:00\u001b[0m\n",
            "\u001b[?25hDownloading httpcore-0.9.1-py3-none-any.whl (42 kB)\n",
            "\u001b[2K   \u001b[90m━━━━━━━━━━━━━━━━━━━━━━━━━━━━━━━━━━━━━━━━\u001b[0m \u001b[32m42.6/42.6 kB\u001b[0m \u001b[31m2.4 MB/s\u001b[0m eta \u001b[36m0:00:00\u001b[0m\n",
            "\u001b[?25hDownloading idna-2.10-py2.py3-none-any.whl (58 kB)\n",
            "\u001b[2K   \u001b[90m━━━━━━━━━━━━━━━━━━━━━━━━━━━━━━━━━━━━━━━━\u001b[0m \u001b[32m58.8/58.8 kB\u001b[0m \u001b[31m3.3 MB/s\u001b[0m eta \u001b[36m0:00:00\u001b[0m\n",
            "\u001b[?25hDownloading h2-3.2.0-py2.py3-none-any.whl (65 kB)\n",
            "\u001b[2K   \u001b[90m━━━━━━━━━━━━━━━━━━━━━━━━━━━━━━━━━━━━━━━━\u001b[0m \u001b[32m65.0/65.0 kB\u001b[0m \u001b[31m3.3 MB/s\u001b[0m eta \u001b[36m0:00:00\u001b[0m\n",
            "\u001b[?25hDownloading rfc3986-1.5.0-py2.py3-none-any.whl (31 kB)\n",
            "Downloading hstspreload-2024.8.1-py3-none-any.whl (1.2 MB)\n",
            "\u001b[2K   \u001b[90m━━━━━━━━━━━━━━━━━━━━━━━━━━━━━━━━━━━━━━━━\u001b[0m \u001b[32m1.2/1.2 MB\u001b[0m \u001b[31m12.5 MB/s\u001b[0m eta \u001b[36m0:00:00\u001b[0m\n",
            "\u001b[?25hDownloading h11-0.9.0-py2.py3-none-any.whl (53 kB)\n",
            "\u001b[2K   \u001b[90m━━━━━━━━━━━━━━━━━━━━━━━━━━━━━━━━━━━━━━━━\u001b[0m \u001b[32m53.6/53.6 kB\u001b[0m \u001b[31m3.2 MB/s\u001b[0m eta \u001b[36m0:00:00\u001b[0m\n",
            "\u001b[?25hDownloading hpack-3.0.0-py2.py3-none-any.whl (38 kB)\n",
            "Downloading hyperframe-5.2.0-py2.py3-none-any.whl (12 kB)\n",
            "Building wheels for collected packages: googletrans\n",
            "  Building wheel for googletrans (setup.py) ... \u001b[?25l\u001b[?25hdone\n",
            "  Created wheel for googletrans: filename=googletrans-4.0.0rc1-py3-none-any.whl size=17397 sha256=a004e150bac98a8252afe9f535095a8db66e1819fc254f0b3b7b496eade4c42f\n",
            "  Stored in directory: /root/.cache/pip/wheels/c0/59/9f/7372f0cf70160fe61b528532e1a7c8498c4becd6bcffb022de\n",
            "Successfully built googletrans\n",
            "Installing collected packages: rfc3986, hyperframe, hpack, h11, chardet, idna, hstspreload, h2, httpcore, httpx, googletrans\n",
            "  Attempting uninstall: idna\n",
            "    Found existing installation: idna 3.7\n",
            "    Uninstalling idna-3.7:\n",
            "      Successfully uninstalled idna-3.7\n",
            "Successfully installed chardet-3.0.4 googletrans-4.0.0rc1 h11-0.9.0 h2-3.2.0 hpack-3.0.0 hstspreload-2024.8.1 httpcore-0.9.1 httpx-0.13.3 hyperframe-5.2.0 idna-2.10 rfc3986-1.5.0\n"
          ]
        }
      ],
      "source": [
        "!pip install langdetect\n",
        "!pip install googletrans==4.0.0-rc1\n"
      ]
    },
    {
      "cell_type": "code",
      "execution_count": null,
      "metadata": {
        "colab": {
          "base_uri": "https://localhost:8080/"
        },
        "id": "-Vrz81BkXLre",
        "outputId": "5ba1c085-f7e0-40f3-fa6f-d62836db9720"
      },
      "outputs": [
        {
          "output_type": "stream",
          "name": "stdout",
          "text": [
            "Requirement already satisfied: spacy in /usr/local/lib/python3.10/dist-packages (3.7.5)\n",
            "Requirement already satisfied: spacy-legacy<3.1.0,>=3.0.11 in /usr/local/lib/python3.10/dist-packages (from spacy) (3.0.12)\n",
            "Requirement already satisfied: spacy-loggers<2.0.0,>=1.0.0 in /usr/local/lib/python3.10/dist-packages (from spacy) (1.0.5)\n",
            "Requirement already satisfied: murmurhash<1.1.0,>=0.28.0 in /usr/local/lib/python3.10/dist-packages (from spacy) (1.0.10)\n",
            "Requirement already satisfied: cymem<2.1.0,>=2.0.2 in /usr/local/lib/python3.10/dist-packages (from spacy) (2.0.8)\n",
            "Requirement already satisfied: preshed<3.1.0,>=3.0.2 in /usr/local/lib/python3.10/dist-packages (from spacy) (3.0.9)\n",
            "Requirement already satisfied: thinc<8.3.0,>=8.2.2 in /usr/local/lib/python3.10/dist-packages (from spacy) (8.2.5)\n",
            "Requirement already satisfied: wasabi<1.2.0,>=0.9.1 in /usr/local/lib/python3.10/dist-packages (from spacy) (1.1.3)\n",
            "Requirement already satisfied: srsly<3.0.0,>=2.4.3 in /usr/local/lib/python3.10/dist-packages (from spacy) (2.4.8)\n",
            "Requirement already satisfied: catalogue<2.1.0,>=2.0.6 in /usr/local/lib/python3.10/dist-packages (from spacy) (2.0.10)\n",
            "Requirement already satisfied: weasel<0.5.0,>=0.1.0 in /usr/local/lib/python3.10/dist-packages (from spacy) (0.4.1)\n",
            "Requirement already satisfied: typer<1.0.0,>=0.3.0 in /usr/local/lib/python3.10/dist-packages (from spacy) (0.12.3)\n",
            "Requirement already satisfied: tqdm<5.0.0,>=4.38.0 in /usr/local/lib/python3.10/dist-packages (from spacy) (4.66.4)\n",
            "Requirement already satisfied: requests<3.0.0,>=2.13.0 in /usr/local/lib/python3.10/dist-packages (from spacy) (2.31.0)\n",
            "Requirement already satisfied: pydantic!=1.8,!=1.8.1,<3.0.0,>=1.7.4 in /usr/local/lib/python3.10/dist-packages (from spacy) (2.8.2)\n",
            "Requirement already satisfied: jinja2 in /usr/local/lib/python3.10/dist-packages (from spacy) (3.1.4)\n",
            "Requirement already satisfied: setuptools in /usr/local/lib/python3.10/dist-packages (from spacy) (71.0.4)\n",
            "Requirement already satisfied: packaging>=20.0 in /usr/local/lib/python3.10/dist-packages (from spacy) (24.1)\n",
            "Requirement already satisfied: langcodes<4.0.0,>=3.2.0 in /usr/local/lib/python3.10/dist-packages (from spacy) (3.4.0)\n",
            "Requirement already satisfied: numpy>=1.19.0 in /usr/local/lib/python3.10/dist-packages (from spacy) (1.26.4)\n",
            "Requirement already satisfied: language-data>=1.2 in /usr/local/lib/python3.10/dist-packages (from langcodes<4.0.0,>=3.2.0->spacy) (1.2.0)\n",
            "Requirement already satisfied: annotated-types>=0.4.0 in /usr/local/lib/python3.10/dist-packages (from pydantic!=1.8,!=1.8.1,<3.0.0,>=1.7.4->spacy) (0.7.0)\n",
            "Requirement already satisfied: pydantic-core==2.20.1 in /usr/local/lib/python3.10/dist-packages (from pydantic!=1.8,!=1.8.1,<3.0.0,>=1.7.4->spacy) (2.20.1)\n",
            "Requirement already satisfied: typing-extensions>=4.6.1 in /usr/local/lib/python3.10/dist-packages (from pydantic!=1.8,!=1.8.1,<3.0.0,>=1.7.4->spacy) (4.12.2)\n",
            "Requirement already satisfied: charset-normalizer<4,>=2 in /usr/local/lib/python3.10/dist-packages (from requests<3.0.0,>=2.13.0->spacy) (3.3.2)\n",
            "Requirement already satisfied: idna<4,>=2.5 in /usr/local/lib/python3.10/dist-packages (from requests<3.0.0,>=2.13.0->spacy) (2.10)\n",
            "Requirement already satisfied: urllib3<3,>=1.21.1 in /usr/local/lib/python3.10/dist-packages (from requests<3.0.0,>=2.13.0->spacy) (2.0.7)\n",
            "Requirement already satisfied: certifi>=2017.4.17 in /usr/local/lib/python3.10/dist-packages (from requests<3.0.0,>=2.13.0->spacy) (2024.7.4)\n",
            "Requirement already satisfied: blis<0.8.0,>=0.7.8 in /usr/local/lib/python3.10/dist-packages (from thinc<8.3.0,>=8.2.2->spacy) (0.7.11)\n",
            "Requirement already satisfied: confection<1.0.0,>=0.0.1 in /usr/local/lib/python3.10/dist-packages (from thinc<8.3.0,>=8.2.2->spacy) (0.1.5)\n",
            "Requirement already satisfied: click>=8.0.0 in /usr/local/lib/python3.10/dist-packages (from typer<1.0.0,>=0.3.0->spacy) (8.1.7)\n",
            "Requirement already satisfied: shellingham>=1.3.0 in /usr/local/lib/python3.10/dist-packages (from typer<1.0.0,>=0.3.0->spacy) (1.5.4)\n",
            "Requirement already satisfied: rich>=10.11.0 in /usr/local/lib/python3.10/dist-packages (from typer<1.0.0,>=0.3.0->spacy) (13.7.1)\n",
            "Requirement already satisfied: cloudpathlib<1.0.0,>=0.7.0 in /usr/local/lib/python3.10/dist-packages (from weasel<0.5.0,>=0.1.0->spacy) (0.18.1)\n",
            "Requirement already satisfied: smart-open<8.0.0,>=5.2.1 in /usr/local/lib/python3.10/dist-packages (from weasel<0.5.0,>=0.1.0->spacy) (7.0.4)\n",
            "Requirement already satisfied: MarkupSafe>=2.0 in /usr/local/lib/python3.10/dist-packages (from jinja2->spacy) (2.1.5)\n",
            "Requirement already satisfied: marisa-trie>=0.7.7 in /usr/local/lib/python3.10/dist-packages (from language-data>=1.2->langcodes<4.0.0,>=3.2.0->spacy) (1.2.0)\n",
            "Requirement already satisfied: markdown-it-py>=2.2.0 in /usr/local/lib/python3.10/dist-packages (from rich>=10.11.0->typer<1.0.0,>=0.3.0->spacy) (3.0.0)\n",
            "Requirement already satisfied: pygments<3.0.0,>=2.13.0 in /usr/local/lib/python3.10/dist-packages (from rich>=10.11.0->typer<1.0.0,>=0.3.0->spacy) (2.16.1)\n",
            "Requirement already satisfied: wrapt in /usr/local/lib/python3.10/dist-packages (from smart-open<8.0.0,>=5.2.1->weasel<0.5.0,>=0.1.0->spacy) (1.16.0)\n",
            "Requirement already satisfied: mdurl~=0.1 in /usr/local/lib/python3.10/dist-packages (from markdown-it-py>=2.2.0->rich>=10.11.0->typer<1.0.0,>=0.3.0->spacy) (0.1.2)\n",
            "Collecting ru-core-news-sm==3.7.0\n",
            "  Downloading https://github.com/explosion/spacy-models/releases/download/ru_core_news_sm-3.7.0/ru_core_news_sm-3.7.0-py3-none-any.whl (15.3 MB)\n",
            "\u001b[2K     \u001b[90m━━━━━━━━━━━━━━━━━━━━━━━━━━━━━━━━━━━━━━━━\u001b[0m \u001b[32m15.3/15.3 MB\u001b[0m \u001b[31m36.4 MB/s\u001b[0m eta \u001b[36m0:00:00\u001b[0m\n",
            "\u001b[?25hRequirement already satisfied: spacy<3.8.0,>=3.7.0 in /usr/local/lib/python3.10/dist-packages (from ru-core-news-sm==3.7.0) (3.7.5)\n",
            "Requirement already satisfied: pymorphy3>=1.0.0 in /usr/local/lib/python3.10/dist-packages (from ru-core-news-sm==3.7.0) (2.0.2)\n",
            "Requirement already satisfied: dawg-python>=0.7.1 in /usr/local/lib/python3.10/dist-packages (from pymorphy3>=1.0.0->ru-core-news-sm==3.7.0) (0.7.2)\n",
            "Requirement already satisfied: pymorphy3-dicts-ru in /usr/local/lib/python3.10/dist-packages (from pymorphy3>=1.0.0->ru-core-news-sm==3.7.0) (2.4.417150.4580142)\n",
            "Requirement already satisfied: spacy-legacy<3.1.0,>=3.0.11 in /usr/local/lib/python3.10/dist-packages (from spacy<3.8.0,>=3.7.0->ru-core-news-sm==3.7.0) (3.0.12)\n",
            "Requirement already satisfied: spacy-loggers<2.0.0,>=1.0.0 in /usr/local/lib/python3.10/dist-packages (from spacy<3.8.0,>=3.7.0->ru-core-news-sm==3.7.0) (1.0.5)\n",
            "Requirement already satisfied: murmurhash<1.1.0,>=0.28.0 in /usr/local/lib/python3.10/dist-packages (from spacy<3.8.0,>=3.7.0->ru-core-news-sm==3.7.0) (1.0.10)\n",
            "Requirement already satisfied: cymem<2.1.0,>=2.0.2 in /usr/local/lib/python3.10/dist-packages (from spacy<3.8.0,>=3.7.0->ru-core-news-sm==3.7.0) (2.0.8)\n",
            "Requirement already satisfied: preshed<3.1.0,>=3.0.2 in /usr/local/lib/python3.10/dist-packages (from spacy<3.8.0,>=3.7.0->ru-core-news-sm==3.7.0) (3.0.9)\n",
            "Requirement already satisfied: thinc<8.3.0,>=8.2.2 in /usr/local/lib/python3.10/dist-packages (from spacy<3.8.0,>=3.7.0->ru-core-news-sm==3.7.0) (8.2.5)\n",
            "Requirement already satisfied: wasabi<1.2.0,>=0.9.1 in /usr/local/lib/python3.10/dist-packages (from spacy<3.8.0,>=3.7.0->ru-core-news-sm==3.7.0) (1.1.3)\n",
            "Requirement already satisfied: srsly<3.0.0,>=2.4.3 in /usr/local/lib/python3.10/dist-packages (from spacy<3.8.0,>=3.7.0->ru-core-news-sm==3.7.0) (2.4.8)\n",
            "Requirement already satisfied: catalogue<2.1.0,>=2.0.6 in /usr/local/lib/python3.10/dist-packages (from spacy<3.8.0,>=3.7.0->ru-core-news-sm==3.7.0) (2.0.10)\n",
            "Requirement already satisfied: weasel<0.5.0,>=0.1.0 in /usr/local/lib/python3.10/dist-packages (from spacy<3.8.0,>=3.7.0->ru-core-news-sm==3.7.0) (0.4.1)\n",
            "Requirement already satisfied: typer<1.0.0,>=0.3.0 in /usr/local/lib/python3.10/dist-packages (from spacy<3.8.0,>=3.7.0->ru-core-news-sm==3.7.0) (0.12.3)\n",
            "Requirement already satisfied: tqdm<5.0.0,>=4.38.0 in /usr/local/lib/python3.10/dist-packages (from spacy<3.8.0,>=3.7.0->ru-core-news-sm==3.7.0) (4.66.4)\n",
            "Requirement already satisfied: requests<3.0.0,>=2.13.0 in /usr/local/lib/python3.10/dist-packages (from spacy<3.8.0,>=3.7.0->ru-core-news-sm==3.7.0) (2.31.0)\n",
            "Requirement already satisfied: pydantic!=1.8,!=1.8.1,<3.0.0,>=1.7.4 in /usr/local/lib/python3.10/dist-packages (from spacy<3.8.0,>=3.7.0->ru-core-news-sm==3.7.0) (2.8.2)\n",
            "Requirement already satisfied: jinja2 in /usr/local/lib/python3.10/dist-packages (from spacy<3.8.0,>=3.7.0->ru-core-news-sm==3.7.0) (3.1.4)\n",
            "Requirement already satisfied: setuptools in /usr/local/lib/python3.10/dist-packages (from spacy<3.8.0,>=3.7.0->ru-core-news-sm==3.7.0) (71.0.4)\n",
            "Requirement already satisfied: packaging>=20.0 in /usr/local/lib/python3.10/dist-packages (from spacy<3.8.0,>=3.7.0->ru-core-news-sm==3.7.0) (24.1)\n",
            "Requirement already satisfied: langcodes<4.0.0,>=3.2.0 in /usr/local/lib/python3.10/dist-packages (from spacy<3.8.0,>=3.7.0->ru-core-news-sm==3.7.0) (3.4.0)\n",
            "Requirement already satisfied: numpy>=1.19.0 in /usr/local/lib/python3.10/dist-packages (from spacy<3.8.0,>=3.7.0->ru-core-news-sm==3.7.0) (1.26.4)\n",
            "Requirement already satisfied: language-data>=1.2 in /usr/local/lib/python3.10/dist-packages (from langcodes<4.0.0,>=3.2.0->spacy<3.8.0,>=3.7.0->ru-core-news-sm==3.7.0) (1.2.0)\n",
            "Requirement already satisfied: annotated-types>=0.4.0 in /usr/local/lib/python3.10/dist-packages (from pydantic!=1.8,!=1.8.1,<3.0.0,>=1.7.4->spacy<3.8.0,>=3.7.0->ru-core-news-sm==3.7.0) (0.7.0)\n",
            "Requirement already satisfied: pydantic-core==2.20.1 in /usr/local/lib/python3.10/dist-packages (from pydantic!=1.8,!=1.8.1,<3.0.0,>=1.7.4->spacy<3.8.0,>=3.7.0->ru-core-news-sm==3.7.0) (2.20.1)\n",
            "Requirement already satisfied: typing-extensions>=4.6.1 in /usr/local/lib/python3.10/dist-packages (from pydantic!=1.8,!=1.8.1,<3.0.0,>=1.7.4->spacy<3.8.0,>=3.7.0->ru-core-news-sm==3.7.0) (4.12.2)\n",
            "Requirement already satisfied: charset-normalizer<4,>=2 in /usr/local/lib/python3.10/dist-packages (from requests<3.0.0,>=2.13.0->spacy<3.8.0,>=3.7.0->ru-core-news-sm==3.7.0) (3.3.2)\n",
            "Requirement already satisfied: idna<4,>=2.5 in /usr/local/lib/python3.10/dist-packages (from requests<3.0.0,>=2.13.0->spacy<3.8.0,>=3.7.0->ru-core-news-sm==3.7.0) (2.10)\n",
            "Requirement already satisfied: urllib3<3,>=1.21.1 in /usr/local/lib/python3.10/dist-packages (from requests<3.0.0,>=2.13.0->spacy<3.8.0,>=3.7.0->ru-core-news-sm==3.7.0) (2.0.7)\n",
            "Requirement already satisfied: certifi>=2017.4.17 in /usr/local/lib/python3.10/dist-packages (from requests<3.0.0,>=2.13.0->spacy<3.8.0,>=3.7.0->ru-core-news-sm==3.7.0) (2024.7.4)\n",
            "Requirement already satisfied: blis<0.8.0,>=0.7.8 in /usr/local/lib/python3.10/dist-packages (from thinc<8.3.0,>=8.2.2->spacy<3.8.0,>=3.7.0->ru-core-news-sm==3.7.0) (0.7.11)\n",
            "Requirement already satisfied: confection<1.0.0,>=0.0.1 in /usr/local/lib/python3.10/dist-packages (from thinc<8.3.0,>=8.2.2->spacy<3.8.0,>=3.7.0->ru-core-news-sm==3.7.0) (0.1.5)\n",
            "Requirement already satisfied: click>=8.0.0 in /usr/local/lib/python3.10/dist-packages (from typer<1.0.0,>=0.3.0->spacy<3.8.0,>=3.7.0->ru-core-news-sm==3.7.0) (8.1.7)\n",
            "Requirement already satisfied: shellingham>=1.3.0 in /usr/local/lib/python3.10/dist-packages (from typer<1.0.0,>=0.3.0->spacy<3.8.0,>=3.7.0->ru-core-news-sm==3.7.0) (1.5.4)\n",
            "Requirement already satisfied: rich>=10.11.0 in /usr/local/lib/python3.10/dist-packages (from typer<1.0.0,>=0.3.0->spacy<3.8.0,>=3.7.0->ru-core-news-sm==3.7.0) (13.7.1)\n",
            "Requirement already satisfied: cloudpathlib<1.0.0,>=0.7.0 in /usr/local/lib/python3.10/dist-packages (from weasel<0.5.0,>=0.1.0->spacy<3.8.0,>=3.7.0->ru-core-news-sm==3.7.0) (0.18.1)\n",
            "Requirement already satisfied: smart-open<8.0.0,>=5.2.1 in /usr/local/lib/python3.10/dist-packages (from weasel<0.5.0,>=0.1.0->spacy<3.8.0,>=3.7.0->ru-core-news-sm==3.7.0) (7.0.4)\n",
            "Requirement already satisfied: MarkupSafe>=2.0 in /usr/local/lib/python3.10/dist-packages (from jinja2->spacy<3.8.0,>=3.7.0->ru-core-news-sm==3.7.0) (2.1.5)\n",
            "Requirement already satisfied: marisa-trie>=0.7.7 in /usr/local/lib/python3.10/dist-packages (from language-data>=1.2->langcodes<4.0.0,>=3.2.0->spacy<3.8.0,>=3.7.0->ru-core-news-sm==3.7.0) (1.2.0)\n",
            "Requirement already satisfied: markdown-it-py>=2.2.0 in /usr/local/lib/python3.10/dist-packages (from rich>=10.11.0->typer<1.0.0,>=0.3.0->spacy<3.8.0,>=3.7.0->ru-core-news-sm==3.7.0) (3.0.0)\n",
            "Requirement already satisfied: pygments<3.0.0,>=2.13.0 in /usr/local/lib/python3.10/dist-packages (from rich>=10.11.0->typer<1.0.0,>=0.3.0->spacy<3.8.0,>=3.7.0->ru-core-news-sm==3.7.0) (2.16.1)\n",
            "Requirement already satisfied: wrapt in /usr/local/lib/python3.10/dist-packages (from smart-open<8.0.0,>=5.2.1->weasel<0.5.0,>=0.1.0->spacy<3.8.0,>=3.7.0->ru-core-news-sm==3.7.0) (1.16.0)\n",
            "Requirement already satisfied: mdurl~=0.1 in /usr/local/lib/python3.10/dist-packages (from markdown-it-py>=2.2.0->rich>=10.11.0->typer<1.0.0,>=0.3.0->spacy<3.8.0,>=3.7.0->ru-core-news-sm==3.7.0) (0.1.2)\n",
            "\u001b[38;5;2m✔ Download and installation successful\u001b[0m\n",
            "You can now load the package via spacy.load('ru_core_news_sm')\n",
            "\u001b[38;5;3m⚠ Restart to reload dependencies\u001b[0m\n",
            "If you are in a Jupyter or Colab notebook, you may need to restart Python in\n",
            "order to load all the package's dependencies. You can do this by selecting the\n",
            "'Restart kernel' or 'Restart runtime' option.\n",
            "Collecting en-core-web-sm==3.7.1\n",
            "  Downloading https://github.com/explosion/spacy-models/releases/download/en_core_web_sm-3.7.1/en_core_web_sm-3.7.1-py3-none-any.whl (12.8 MB)\n",
            "\u001b[2K     \u001b[90m━━━━━━━━━━━━━━━━━━━━━━━━━━━━━━━━━━━━━━━━\u001b[0m \u001b[32m12.8/12.8 MB\u001b[0m \u001b[31m63.2 MB/s\u001b[0m eta \u001b[36m0:00:00\u001b[0m\n",
            "\u001b[?25hRequirement already satisfied: spacy<3.8.0,>=3.7.2 in /usr/local/lib/python3.10/dist-packages (from en-core-web-sm==3.7.1) (3.7.5)\n",
            "Requirement already satisfied: spacy-legacy<3.1.0,>=3.0.11 in /usr/local/lib/python3.10/dist-packages (from spacy<3.8.0,>=3.7.2->en-core-web-sm==3.7.1) (3.0.12)\n",
            "Requirement already satisfied: spacy-loggers<2.0.0,>=1.0.0 in /usr/local/lib/python3.10/dist-packages (from spacy<3.8.0,>=3.7.2->en-core-web-sm==3.7.1) (1.0.5)\n",
            "Requirement already satisfied: murmurhash<1.1.0,>=0.28.0 in /usr/local/lib/python3.10/dist-packages (from spacy<3.8.0,>=3.7.2->en-core-web-sm==3.7.1) (1.0.10)\n",
            "Requirement already satisfied: cymem<2.1.0,>=2.0.2 in /usr/local/lib/python3.10/dist-packages (from spacy<3.8.0,>=3.7.2->en-core-web-sm==3.7.1) (2.0.8)\n",
            "Requirement already satisfied: preshed<3.1.0,>=3.0.2 in /usr/local/lib/python3.10/dist-packages (from spacy<3.8.0,>=3.7.2->en-core-web-sm==3.7.1) (3.0.9)\n",
            "Requirement already satisfied: thinc<8.3.0,>=8.2.2 in /usr/local/lib/python3.10/dist-packages (from spacy<3.8.0,>=3.7.2->en-core-web-sm==3.7.1) (8.2.5)\n",
            "Requirement already satisfied: wasabi<1.2.0,>=0.9.1 in /usr/local/lib/python3.10/dist-packages (from spacy<3.8.0,>=3.7.2->en-core-web-sm==3.7.1) (1.1.3)\n",
            "Requirement already satisfied: srsly<3.0.0,>=2.4.3 in /usr/local/lib/python3.10/dist-packages (from spacy<3.8.0,>=3.7.2->en-core-web-sm==3.7.1) (2.4.8)\n",
            "Requirement already satisfied: catalogue<2.1.0,>=2.0.6 in /usr/local/lib/python3.10/dist-packages (from spacy<3.8.0,>=3.7.2->en-core-web-sm==3.7.1) (2.0.10)\n",
            "Requirement already satisfied: weasel<0.5.0,>=0.1.0 in /usr/local/lib/python3.10/dist-packages (from spacy<3.8.0,>=3.7.2->en-core-web-sm==3.7.1) (0.4.1)\n",
            "Requirement already satisfied: typer<1.0.0,>=0.3.0 in /usr/local/lib/python3.10/dist-packages (from spacy<3.8.0,>=3.7.2->en-core-web-sm==3.7.1) (0.12.3)\n",
            "Requirement already satisfied: tqdm<5.0.0,>=4.38.0 in /usr/local/lib/python3.10/dist-packages (from spacy<3.8.0,>=3.7.2->en-core-web-sm==3.7.1) (4.66.4)\n",
            "Requirement already satisfied: requests<3.0.0,>=2.13.0 in /usr/local/lib/python3.10/dist-packages (from spacy<3.8.0,>=3.7.2->en-core-web-sm==3.7.1) (2.31.0)\n",
            "Requirement already satisfied: pydantic!=1.8,!=1.8.1,<3.0.0,>=1.7.4 in /usr/local/lib/python3.10/dist-packages (from spacy<3.8.0,>=3.7.2->en-core-web-sm==3.7.1) (2.8.2)\n",
            "Requirement already satisfied: jinja2 in /usr/local/lib/python3.10/dist-packages (from spacy<3.8.0,>=3.7.2->en-core-web-sm==3.7.1) (3.1.4)\n",
            "Requirement already satisfied: setuptools in /usr/local/lib/python3.10/dist-packages (from spacy<3.8.0,>=3.7.2->en-core-web-sm==3.7.1) (71.0.4)\n",
            "Requirement already satisfied: packaging>=20.0 in /usr/local/lib/python3.10/dist-packages (from spacy<3.8.0,>=3.7.2->en-core-web-sm==3.7.1) (24.1)\n",
            "Requirement already satisfied: langcodes<4.0.0,>=3.2.0 in /usr/local/lib/python3.10/dist-packages (from spacy<3.8.0,>=3.7.2->en-core-web-sm==3.7.1) (3.4.0)\n",
            "Requirement already satisfied: numpy>=1.19.0 in /usr/local/lib/python3.10/dist-packages (from spacy<3.8.0,>=3.7.2->en-core-web-sm==3.7.1) (1.26.4)\n",
            "Requirement already satisfied: language-data>=1.2 in /usr/local/lib/python3.10/dist-packages (from langcodes<4.0.0,>=3.2.0->spacy<3.8.0,>=3.7.2->en-core-web-sm==3.7.1) (1.2.0)\n",
            "Requirement already satisfied: annotated-types>=0.4.0 in /usr/local/lib/python3.10/dist-packages (from pydantic!=1.8,!=1.8.1,<3.0.0,>=1.7.4->spacy<3.8.0,>=3.7.2->en-core-web-sm==3.7.1) (0.7.0)\n",
            "Requirement already satisfied: pydantic-core==2.20.1 in /usr/local/lib/python3.10/dist-packages (from pydantic!=1.8,!=1.8.1,<3.0.0,>=1.7.4->spacy<3.8.0,>=3.7.2->en-core-web-sm==3.7.1) (2.20.1)\n",
            "Requirement already satisfied: typing-extensions>=4.6.1 in /usr/local/lib/python3.10/dist-packages (from pydantic!=1.8,!=1.8.1,<3.0.0,>=1.7.4->spacy<3.8.0,>=3.7.2->en-core-web-sm==3.7.1) (4.12.2)\n",
            "Requirement already satisfied: charset-normalizer<4,>=2 in /usr/local/lib/python3.10/dist-packages (from requests<3.0.0,>=2.13.0->spacy<3.8.0,>=3.7.2->en-core-web-sm==3.7.1) (3.3.2)\n",
            "Requirement already satisfied: idna<4,>=2.5 in /usr/local/lib/python3.10/dist-packages (from requests<3.0.0,>=2.13.0->spacy<3.8.0,>=3.7.2->en-core-web-sm==3.7.1) (2.10)\n",
            "Requirement already satisfied: urllib3<3,>=1.21.1 in /usr/local/lib/python3.10/dist-packages (from requests<3.0.0,>=2.13.0->spacy<3.8.0,>=3.7.2->en-core-web-sm==3.7.1) (2.0.7)\n",
            "Requirement already satisfied: certifi>=2017.4.17 in /usr/local/lib/python3.10/dist-packages (from requests<3.0.0,>=2.13.0->spacy<3.8.0,>=3.7.2->en-core-web-sm==3.7.1) (2024.7.4)\n",
            "Requirement already satisfied: blis<0.8.0,>=0.7.8 in /usr/local/lib/python3.10/dist-packages (from thinc<8.3.0,>=8.2.2->spacy<3.8.0,>=3.7.2->en-core-web-sm==3.7.1) (0.7.11)\n",
            "Requirement already satisfied: confection<1.0.0,>=0.0.1 in /usr/local/lib/python3.10/dist-packages (from thinc<8.3.0,>=8.2.2->spacy<3.8.0,>=3.7.2->en-core-web-sm==3.7.1) (0.1.5)\n",
            "Requirement already satisfied: click>=8.0.0 in /usr/local/lib/python3.10/dist-packages (from typer<1.0.0,>=0.3.0->spacy<3.8.0,>=3.7.2->en-core-web-sm==3.7.1) (8.1.7)\n",
            "Requirement already satisfied: shellingham>=1.3.0 in /usr/local/lib/python3.10/dist-packages (from typer<1.0.0,>=0.3.0->spacy<3.8.0,>=3.7.2->en-core-web-sm==3.7.1) (1.5.4)\n",
            "Requirement already satisfied: rich>=10.11.0 in /usr/local/lib/python3.10/dist-packages (from typer<1.0.0,>=0.3.0->spacy<3.8.0,>=3.7.2->en-core-web-sm==3.7.1) (13.7.1)\n",
            "Requirement already satisfied: cloudpathlib<1.0.0,>=0.7.0 in /usr/local/lib/python3.10/dist-packages (from weasel<0.5.0,>=0.1.0->spacy<3.8.0,>=3.7.2->en-core-web-sm==3.7.1) (0.18.1)\n",
            "Requirement already satisfied: smart-open<8.0.0,>=5.2.1 in /usr/local/lib/python3.10/dist-packages (from weasel<0.5.0,>=0.1.0->spacy<3.8.0,>=3.7.2->en-core-web-sm==3.7.1) (7.0.4)\n",
            "Requirement already satisfied: MarkupSafe>=2.0 in /usr/local/lib/python3.10/dist-packages (from jinja2->spacy<3.8.0,>=3.7.2->en-core-web-sm==3.7.1) (2.1.5)\n",
            "Requirement already satisfied: marisa-trie>=0.7.7 in /usr/local/lib/python3.10/dist-packages (from language-data>=1.2->langcodes<4.0.0,>=3.2.0->spacy<3.8.0,>=3.7.2->en-core-web-sm==3.7.1) (1.2.0)\n",
            "Requirement already satisfied: markdown-it-py>=2.2.0 in /usr/local/lib/python3.10/dist-packages (from rich>=10.11.0->typer<1.0.0,>=0.3.0->spacy<3.8.0,>=3.7.2->en-core-web-sm==3.7.1) (3.0.0)\n",
            "Requirement already satisfied: pygments<3.0.0,>=2.13.0 in /usr/local/lib/python3.10/dist-packages (from rich>=10.11.0->typer<1.0.0,>=0.3.0->spacy<3.8.0,>=3.7.2->en-core-web-sm==3.7.1) (2.16.1)\n",
            "Requirement already satisfied: wrapt in /usr/local/lib/python3.10/dist-packages (from smart-open<8.0.0,>=5.2.1->weasel<0.5.0,>=0.1.0->spacy<3.8.0,>=3.7.2->en-core-web-sm==3.7.1) (1.16.0)\n",
            "Requirement already satisfied: mdurl~=0.1 in /usr/local/lib/python3.10/dist-packages (from markdown-it-py>=2.2.0->rich>=10.11.0->typer<1.0.0,>=0.3.0->spacy<3.8.0,>=3.7.2->en-core-web-sm==3.7.1) (0.1.2)\n",
            "\u001b[38;5;2m✔ Download and installation successful\u001b[0m\n",
            "You can now load the package via spacy.load('en_core_web_sm')\n",
            "\u001b[38;5;3m⚠ Restart to reload dependencies\u001b[0m\n",
            "If you are in a Jupyter or Colab notebook, you may need to restart Python in\n",
            "order to load all the package's dependencies. You can do this by selecting the\n",
            "'Restart kernel' or 'Restart runtime' option.\n"
          ]
        }
      ],
      "source": [
        "!pip install spacy\n",
        "!python -m spacy download ru_core_news_sm\n",
        "!python -m spacy download en_core_web_sm"
      ]
    },
    {
      "cell_type": "markdown",
      "metadata": {
        "id": "4K4XA-vsjO2I"
      },
      "source": [
        "Проводим лексический анализ всех столбцов с сохранением промежуточного результата на случай сбоя. Для сохранения теперь **используем формат Parquet.**"
      ]
    },
    {
      "cell_type": "code",
      "execution_count": null,
      "metadata": {
        "colab": {
          "base_uri": "https://localhost:8080/"
        },
        "id": "gFeyT1Gh3-JI",
        "outputId": "13210af0-e0b5-4000-c071-e8cbb8418d17"
      },
      "outputs": [
        {
          "output_type": "stream",
          "name": "stdout",
          "text": [
            "\u001b[38;5;2m✔ Download and installation successful\u001b[0m\n",
            "You can now load the package via spacy.load('ru_core_news_sm')\n",
            "\u001b[38;5;3m⚠ Restart to reload dependencies\u001b[0m\n",
            "If you are in a Jupyter or Colab notebook, you may need to restart Python in\n",
            "order to load all the package's dependencies. You can do this by selecting the\n",
            "'Restart kernel' or 'Restart runtime' option.\n",
            "\u001b[38;5;2m✔ Download and installation successful\u001b[0m\n",
            "You can now load the package via spacy.load('en_core_web_sm')\n",
            "\u001b[38;5;3m⚠ Restart to reload dependencies\u001b[0m\n",
            "If you are in a Jupyter or Colab notebook, you may need to restart Python in\n",
            "order to load all the package's dependencies. You can do this by selecting the\n",
            "'Restart kernel' or 'Restart runtime' option.\n",
            "Перезапустите runtime после завершения установки моделей.\n"
          ]
        }
      ],
      "source": [
        "import spacy.cli\n",
        "\n",
        "# Установка моделей SpaCy для русского и английского языков\n",
        "spacy.cli.download(\"ru_core_news_sm\")\n",
        "spacy.cli.download(\"en_core_web_sm\")\n",
        "\n",
        "print(\"Перезапустите runtime после завершения установки моделей.\")\n"
      ]
    },
    {
      "cell_type": "code",
      "execution_count": null,
      "metadata": {
        "colab": {
          "base_uri": "https://localhost:8080/"
        },
        "id": "tH3oUQda3kvL",
        "outputId": "d40b1bbb-db77-4805-f1a3-37a42c590e7b"
      },
      "outputs": [
        {
          "output_type": "stream",
          "name": "stdout",
          "text": [
            "\u001b[38;5;2m✔ Download and installation successful\u001b[0m\n",
            "You can now load the package via spacy.load('ru_core_news_sm')\n",
            "\u001b[38;5;3m⚠ Restart to reload dependencies\u001b[0m\n",
            "If you are in a Jupyter or Colab notebook, you may need to restart Python in\n",
            "order to load all the package's dependencies. You can do this by selecting the\n",
            "'Restart kernel' or 'Restart runtime' option.\n",
            "\u001b[38;5;2m✔ Download and installation successful\u001b[0m\n",
            "You can now load the package via spacy.load('en_core_web_sm')\n",
            "\u001b[38;5;3m⚠ Restart to reload dependencies\u001b[0m\n",
            "If you are in a Jupyter or Colab notebook, you may need to restart Python in\n",
            "order to load all the package's dependencies. You can do this by selecting the\n",
            "'Restart kernel' or 'Restart runtime' option.\n",
            "Обработка столбца: Place (Agency) (Agency)\n"
          ]
        },
        {
          "output_type": "stream",
          "name": "stderr",
          "text": [
            "100%|██████████| 82432/82432 [15:16<00:00, 89.91it/s]\n",
            "100%|██████████| 82432/82432 [11:26<00:00, 120.09it/s]\n"
          ]
        },
        {
          "output_type": "stream",
          "name": "stdout",
          "text": [
            "Обработка столбца: Elite Status (Reservation) (Voucher)\n"
          ]
        },
        {
          "output_type": "stream",
          "name": "stderr",
          "text": [
            "100%|██████████| 82432/82432 [01:17<00:00, 1060.79it/s]\n",
            "100%|██████████| 82432/82432 [01:17<00:00, 1060.85it/s]\n"
          ]
        },
        {
          "output_type": "stream",
          "name": "stdout",
          "text": [
            "Обработка столбца: Company (Agency) (Agency)\n"
          ]
        },
        {
          "output_type": "stream",
          "name": "stderr",
          "text": [
            "100%|██████████| 82432/82432 [07:52<00:00, 174.40it/s]\n",
            "100%|██████████| 82432/82432 [07:52<00:00, 174.58it/s]\n"
          ]
        },
        {
          "output_type": "stream",
          "name": "stdout",
          "text": [
            "Обработка столбца: Enter The System (Agency) (Agency)\n"
          ]
        },
        {
          "output_type": "stream",
          "name": "stderr",
          "text": [
            "100%|██████████| 82432/82432 [01:35<00:00, 867.67it/s]\n",
            "100%|██████████| 82432/82432 [01:34<00:00, 870.95it/s]\n"
          ]
        },
        {
          "output_type": "stream",
          "name": "stdout",
          "text": [
            "Обработка столбца: To Area (Reservation) (Voucher)\n"
          ]
        },
        {
          "output_type": "stream",
          "name": "stderr",
          "text": [
            "100%|██████████| 82432/82432 [01:17<00:00, 1063.53it/s]\n",
            "100%|██████████| 82432/82432 [01:17<00:00, 1059.80it/s]\n"
          ]
        },
        {
          "output_type": "stream",
          "name": "stdout",
          "text": [
            "Обработка столбца: Reservation Type (Reservation) (Voucher)\n"
          ]
        },
        {
          "output_type": "stream",
          "name": "stderr",
          "text": [
            "100%|██████████| 82432/82432 [01:18<00:00, 1055.15it/s]\n",
            "100%|██████████| 82432/82432 [01:17<00:00, 1067.16it/s]\n"
          ]
        },
        {
          "output_type": "stream",
          "name": "stdout",
          "text": [
            "Обработка столбца: Description\n"
          ]
        },
        {
          "output_type": "stream",
          "name": "stderr",
          "text": [
            "100%|██████████| 82432/82432 [04:44<00:00, 290.17it/s]\n",
            "100%|██████████| 82432/82432 [22:37<00:00, 60.74it/s]\n"
          ]
        },
        {
          "output_type": "stream",
          "name": "stdout",
          "text": [
            "Обработка столбца: Kurator Group (Agency) (Agency)\n"
          ]
        },
        {
          "output_type": "stream",
          "name": "stderr",
          "text": [
            "100%|██████████| 82432/82432 [19:36<00:00, 70.07it/s]\n",
            "100%|██████████| 82432/82432 [15:04<00:00, 91.15it/s]\n"
          ]
        },
        {
          "output_type": "stream",
          "name": "stdout",
          "text": [
            "Обработка столбца: EE Id (Agency) (Agency)\n"
          ]
        },
        {
          "output_type": "stream",
          "name": "stderr",
          "text": [
            "100%|██████████| 82432/82432 [00:02<00:00, 29381.87it/s]\n",
            "100%|██████████| 82432/82432 [00:02<00:00, 31043.53it/s]\n"
          ]
        },
        {
          "output_type": "stream",
          "name": "stdout",
          "text": [
            "Обработка столбца: Agency Type Id (Agency) (Agency)\n"
          ]
        },
        {
          "output_type": "stream",
          "name": "stderr",
          "text": [
            "100%|██████████| 82432/82432 [2:37:23<00:00,  8.73it/s]\n",
            "100%|██████████| 82432/82432 [12:55<00:00, 106.26it/s]\n"
          ]
        },
        {
          "output_type": "stream",
          "name": "stdout",
          "text": [
            "Обработка столбца: Process Phase\n"
          ]
        },
        {
          "output_type": "stream",
          "name": "stderr",
          "text": [
            "100%|██████████| 82432/82432 [03:49<00:00, 358.65it/s]\n",
            "100%|██████████| 82432/82432 [03:50<00:00, 358.19it/s]\n"
          ]
        },
        {
          "output_type": "stream",
          "name": "stdout",
          "text": [
            "Обработка столбца: Reservation Class (Reservation) (Voucher)\n"
          ]
        },
        {
          "output_type": "stream",
          "name": "stderr",
          "text": [
            "100%|██████████| 82432/82432 [01:18<00:00, 1047.93it/s]\n",
            "100%|██████████| 82432/82432 [01:18<00:00, 1051.98it/s]\n"
          ]
        },
        {
          "output_type": "stream",
          "name": "stdout",
          "text": [
            "Обработка столбца: Is VIP (Reservation) (Voucher)\n"
          ]
        },
        {
          "output_type": "stream",
          "name": "stderr",
          "text": [
            "100%|██████████| 82432/82432 [01:18<00:00, 1050.72it/s]\n",
            "100%|██████████| 82432/82432 [01:17<00:00, 1057.25it/s]\n"
          ]
        },
        {
          "output_type": "stream",
          "name": "stdout",
          "text": [
            "Обработка столбца: From Area (Reservation) (Voucher)\n"
          ]
        },
        {
          "output_type": "stream",
          "name": "stderr",
          "text": [
            "100%|██████████| 82432/82432 [01:18<00:00, 1051.05it/s]\n",
            "100%|██████████| 82432/82432 [01:18<00:00, 1045.68it/s]\n"
          ]
        },
        {
          "output_type": "stream",
          "name": "stdout",
          "text": [
            "Данные успешно очищены и сохранены в формате Parquet в файл /content/drive/MyDrive/Стажировка/Semantic_2/lexical_analysis_file.parquet.\n"
          ]
        }
      ],
      "source": [
        "import pandas as pd\n",
        "from tqdm import tqdm\n",
        "import re\n",
        "from langdetect import detect\n",
        "from googletrans import Translator\n",
        "import spacy\n",
        "import os\n",
        "import json\n",
        "\n",
        "# Активация tqdm для pandas\n",
        "tqdm.pandas()\n",
        "\n",
        "# Загрузка моделей SpaCy для русского и английского языков\n",
        "spacy.cli.download(\"ru_core_news_sm\")\n",
        "spacy.cli.download(\"en_core_web_sm\")\n",
        "\n",
        "nlp_ru = spacy.load('ru_core_news_sm')\n",
        "nlp_en = spacy.load('en_core_web_sm')\n",
        "translator = Translator()\n",
        "\n",
        "# Загрузка данных из файла tokenized_file.csv или parquet (если есть промежуточный результат)\n",
        "intermediate_path = '/content/drive/MyDrive/Стажировка/Semantic_2/intermediate_result.parquet'\n",
        "updated_csv_path = '/content/drive/MyDrive/Стажировка/Semantic_2/tokenized_file.csv'\n",
        "progress_file_path = '/content/drive/MyDrive/Стажировка/Semantic_2/progress.json'\n",
        "\n",
        "if os.path.exists(intermediate_path):\n",
        "    df = pd.read_parquet(intermediate_path)\n",
        "else:\n",
        "    df = pd.read_csv(updated_csv_path)\n",
        "\n",
        "# Функция для очистки текста от нежелательных символов и перевода на русский язык\n",
        "def clean_and_translate(text):\n",
        "    text = re.sub(r'[!\\\"#$%&\\'()*+,-./:;<=>?@[\\\\]^_`{|}~\\t\\n]', ' ', text)\n",
        "    text = re.sub(r'\\s+', ' ', text).strip().lower()\n",
        "    try:\n",
        "        lang = detect(text)\n",
        "        if lang == 'en':\n",
        "            translated = translator.translate(text, src='en', dest='ru')\n",
        "            return translated.text\n",
        "    except:\n",
        "        return text\n",
        "    return text\n",
        "\n",
        "# Функция для лексического анализа текста\n",
        "def lexical_analysis(text):\n",
        "    tokens = []\n",
        "    seen_tokens = set()\n",
        "\n",
        "    # Определение языка текста\n",
        "    try:\n",
        "        lang = detect(text)\n",
        "    except:\n",
        "        lang = 'unknown'\n",
        "\n",
        "    # Обработка текста русской моделью, если текст на русском\n",
        "    if lang == 'ru':\n",
        "        doc = nlp_ru(text)\n",
        "    elif lang == 'en':\n",
        "        doc = nlp_en(text)\n",
        "    else:\n",
        "        return text  # Возвращаем исходный текст для текстов с неопределенным языком\n",
        "\n",
        "    for token in doc:\n",
        "        if token.text not in seen_tokens:\n",
        "            tokens.append(token.lemma_)\n",
        "            seen_tokens.add(token.text)\n",
        "\n",
        "    return ' '.join(tokens)\n",
        "\n",
        "# Список столбцов для очистки, нормализации и лексического анализа (исключая 'Portal User Group' и 'portal_user_group_code')\n",
        "columns_to_process = [\n",
        "    'Place (Agency) (Agency)', 'Elite Status (Reservation) (Voucher)', 'Company (Agency) (Agency)',\n",
        "    'Enter The System (Agency) (Agency)', 'To Area (Reservation) (Voucher)',\n",
        "    'Reservation Type (Reservation) (Voucher)', 'Description', 'Kurator Group (Agency) (Agency)',\n",
        "    'EE Id (Agency) (Agency)', 'Agency Type Id (Agency) (Agency)', 'Process Phase',\n",
        "    'Reservation Class (Reservation) (Voucher)', 'Is VIP (Reservation) (Voucher)',\n",
        "    'From Area (Reservation) (Voucher)'\n",
        "]\n",
        "\n",
        "# Загрузка информации о прогрессе, если она существует\n",
        "if os.path.exists(progress_file_path):\n",
        "    with open(progress_file_path, 'r') as f:\n",
        "        progress_data = json.load(f)\n",
        "else:\n",
        "    progress_data = {column: False for column in columns_to_process}\n",
        "\n",
        "# Очистка, нормализация текста и лексический анализ в указанных столбцах\n",
        "for column in columns_to_process:\n",
        "    if progress_data.get(column, False):\n",
        "        print(f\"Столбец {column} уже обработан, пропускаем.\")\n",
        "        continue\n",
        "\n",
        "    print(f\"Обработка столбца: {column}\")\n",
        "    df[column + '_cleaned'] = df[column].astype(str).progress_apply(clean_and_translate)\n",
        "    df[column + '_lexical'] = df[column + '_cleaned'].progress_apply(lexical_analysis)\n",
        "\n",
        "    # Обновление прогресса\n",
        "    progress_data[column] = True\n",
        "    with open(progress_file_path, 'w') as f:\n",
        "        json.dump(progress_data, f)\n",
        "\n",
        "    # Сохранение промежуточного результата после обработки каждого столбца\n",
        "    df.to_parquet(intermediate_path, index=False)\n",
        "\n",
        "# Сохранение данных в новый файл Parquet\n",
        "final_parquet_path = '/content/drive/MyDrive/Стажировка/Semantic_2/lexical_analysis_file.parquet'\n",
        "df.to_parquet(final_parquet_path, index=False)\n",
        "\n",
        "# Удаление файла прогресса после завершения обработки\n",
        "os.remove(progress_file_path)\n",
        "\n",
        "print(f\"Данные успешно очищены и сохранены в формате Parquet в файл {final_parquet_path}.\")\n"
      ]
    },
    {
      "cell_type": "markdown",
      "metadata": {
        "id": "qA-LQTMNn8gC"
      },
      "source": [
        "**Морфологический анализ.**\n",
        "\n",
        "Определение вероятных лемм для каждой словоформы, стемминг."
      ]
    },
    {
      "cell_type": "code",
      "execution_count": null,
      "metadata": {
        "colab": {
          "base_uri": "https://localhost:8080/"
        },
        "id": "0co6KS7N5Caw",
        "outputId": "4dd7303e-aa02-4409-9f6a-e903d0d9127f"
      },
      "outputs": [
        {
          "output_type": "stream",
          "name": "stdout",
          "text": [
            "\u001b[38;5;2m✔ Download and installation successful\u001b[0m\n",
            "You can now load the package via spacy.load('ru_core_news_sm')\n",
            "\u001b[38;5;3m⚠ Restart to reload dependencies\u001b[0m\n",
            "If you are in a Jupyter or Colab notebook, you may need to restart Python in\n",
            "order to load all the package's dependencies. You can do this by selecting the\n",
            "'Restart kernel' or 'Restart runtime' option.\n",
            "\u001b[38;5;2m✔ Download and installation successful\u001b[0m\n",
            "You can now load the package via spacy.load('en_core_web_sm')\n",
            "\u001b[38;5;3m⚠ Restart to reload dependencies\u001b[0m\n",
            "If you are in a Jupyter or Colab notebook, you may need to restart Python in\n",
            "order to load all the package's dependencies. You can do this by selecting the\n",
            "'Restart kernel' or 'Restart runtime' option.\n",
            "Обработка столбца: Place (Agency) (Agency)\n"
          ]
        },
        {
          "output_type": "stream",
          "name": "stderr",
          "text": [
            "100%|██████████| 82432/82432 [11:11<00:00, 122.79it/s]\n"
          ]
        },
        {
          "output_type": "stream",
          "name": "stdout",
          "text": [
            "Обработка столбца: Elite Status (Reservation) (Voucher)\n"
          ]
        },
        {
          "output_type": "stream",
          "name": "stderr",
          "text": [
            "100%|██████████| 82432/82432 [01:16<00:00, 1072.51it/s]\n"
          ]
        },
        {
          "output_type": "stream",
          "name": "stdout",
          "text": [
            "Обработка столбца: Company (Agency) (Agency)\n"
          ]
        },
        {
          "output_type": "stream",
          "name": "stderr",
          "text": [
            "100%|██████████| 82432/82432 [07:52<00:00, 174.42it/s]\n"
          ]
        },
        {
          "output_type": "stream",
          "name": "stdout",
          "text": [
            "Обработка столбца: Enter The System (Agency) (Agency)\n"
          ]
        },
        {
          "output_type": "stream",
          "name": "stderr",
          "text": [
            "100%|██████████| 82432/82432 [01:34<00:00, 869.69it/s]\n"
          ]
        },
        {
          "output_type": "stream",
          "name": "stdout",
          "text": [
            "Обработка столбца: To Area (Reservation) (Voucher)\n"
          ]
        },
        {
          "output_type": "stream",
          "name": "stderr",
          "text": [
            "100%|██████████| 82432/82432 [01:16<00:00, 1077.75it/s]\n"
          ]
        },
        {
          "output_type": "stream",
          "name": "stdout",
          "text": [
            "Обработка столбца: Reservation Type (Reservation) (Voucher)\n"
          ]
        },
        {
          "output_type": "stream",
          "name": "stderr",
          "text": [
            "100%|██████████| 82432/82432 [01:16<00:00, 1071.13it/s]\n"
          ]
        },
        {
          "output_type": "stream",
          "name": "stdout",
          "text": [
            "Обработка столбца: Description\n"
          ]
        },
        {
          "output_type": "stream",
          "name": "stderr",
          "text": [
            "100%|██████████| 82432/82432 [23:01<00:00, 59.69it/s]\n"
          ]
        },
        {
          "output_type": "stream",
          "name": "stdout",
          "text": [
            "Обработка столбца: Kurator Group (Agency) (Agency)\n"
          ]
        },
        {
          "output_type": "stream",
          "name": "stderr",
          "text": [
            "100%|██████████| 82432/82432 [18:03<00:00, 76.05it/s]\n"
          ]
        },
        {
          "output_type": "stream",
          "name": "stdout",
          "text": [
            "Обработка столбца: EE Id (Agency) (Agency)\n"
          ]
        },
        {
          "output_type": "stream",
          "name": "stderr",
          "text": [
            "100%|██████████| 82432/82432 [00:03<00:00, 27127.14it/s]\n"
          ]
        },
        {
          "output_type": "stream",
          "name": "stdout",
          "text": [
            "Обработка столбца: Agency Type Id (Agency) (Agency)\n"
          ]
        },
        {
          "output_type": "stream",
          "name": "stderr",
          "text": [
            "100%|██████████| 82432/82432 [15:02<00:00, 91.37it/s]\n"
          ]
        },
        {
          "output_type": "stream",
          "name": "stdout",
          "text": [
            "Обработка столбца: Process Phase\n"
          ]
        },
        {
          "output_type": "stream",
          "name": "stderr",
          "text": [
            "100%|██████████| 82432/82432 [03:48<00:00, 360.26it/s]\n"
          ]
        },
        {
          "output_type": "stream",
          "name": "stdout",
          "text": [
            "Обработка столбца: Reservation Class (Reservation) (Voucher)\n"
          ]
        },
        {
          "output_type": "stream",
          "name": "stderr",
          "text": [
            "100%|██████████| 82432/82432 [01:17<00:00, 1065.57it/s]\n"
          ]
        },
        {
          "output_type": "stream",
          "name": "stdout",
          "text": [
            "Обработка столбца: Is VIP (Reservation) (Voucher)\n"
          ]
        },
        {
          "output_type": "stream",
          "name": "stderr",
          "text": [
            "100%|██████████| 82432/82432 [01:18<00:00, 1050.78it/s]\n"
          ]
        },
        {
          "output_type": "stream",
          "name": "stdout",
          "text": [
            "Обработка столбца: From Area (Reservation) (Voucher)\n"
          ]
        },
        {
          "output_type": "stream",
          "name": "stderr",
          "text": [
            "100%|██████████| 82432/82432 [01:18<00:00, 1050.16it/s]\n"
          ]
        },
        {
          "output_type": "stream",
          "name": "stdout",
          "text": [
            "DataFrame успешно сохранен в формате Parquet в файл /content/drive/MyDrive/Стажировка/Semantic_2/morphological_analysis_file.parquet.\n"
          ]
        }
      ],
      "source": [
        "import spacy\n",
        "import pandas as pd\n",
        "from tqdm import tqdm\n",
        "from langdetect import detect\n",
        "import os\n",
        "import json\n",
        "\n",
        "# Активация tqdm для pandas\n",
        "tqdm.pandas()\n",
        "\n",
        "# Загрузка моделей SpaCy для русского и английского языков\n",
        "spacy.cli.download(\"ru_core_news_sm\")\n",
        "spacy.cli.download(\"en_core_web_sm\")\n",
        "\n",
        "nlp_ru = spacy.load('ru_core_news_sm')\n",
        "nlp_en = spacy.load('en_core_web_sm')\n",
        "\n",
        "# Функция для морфологического анализа текста\n",
        "def morphological_analysis(text):\n",
        "    tokens = []\n",
        "    seen_tokens = set()\n",
        "\n",
        "    # Определение языка текста\n",
        "    try:\n",
        "        lang = detect(text)\n",
        "    except:\n",
        "        lang = 'unknown'\n",
        "\n",
        "    # Обработка текста русской моделью, если текст на русском\n",
        "    if lang == 'ru':\n",
        "        doc = nlp_ru(text)\n",
        "    elif lang == 'en':\n",
        "        doc = nlp_en(text)\n",
        "    else:\n",
        "        return tokens  # Возвращаем пустой список для текстов с неопределенным языком\n",
        "\n",
        "    for token in doc:\n",
        "        if token.text not in seen_tokens:\n",
        "            tokens.append({\n",
        "                'text': token.text,\n",
        "                'lemma': token.lemma_,\n",
        "                'pos': token.pos_,\n",
        "                'tag': token.tag_,\n",
        "                'dep': token.dep_,\n",
        "                'shape': token.shape_,\n",
        "                'is_alpha': token.is_alpha,\n",
        "                'is_stop': token.is_stop,\n",
        "                'stem': token.lemma_  # В SpaCy лемма используется как стемминг\n",
        "            })\n",
        "            seen_tokens.add(token.text)\n",
        "\n",
        "    return tokens\n",
        "\n",
        "# Загрузка данных из файла lexical_analysis_file.parquet или parquet (если есть промежуточный результат)\n",
        "intermediate_path = '/content/drive/MyDrive/Стажировка/Semantic_2/intermediate_morphological_result.parquet'\n",
        "final_parquet_path = '/content/drive/MyDrive/Стажировка/Semantic_2/morphological_analysis_file.parquet'\n",
        "progress_file_path = '/content/drive/MyDrive/Стажировка/Semantic_2/progress_morph.json'\n",
        "\n",
        "if os.path.exists(intermediate_path):\n",
        "    df = pd.read_parquet(intermediate_path)\n",
        "else:\n",
        "    df = pd.read_parquet('/content/drive/MyDrive/Стажировка/Semantic_2/lexical_analysis_file.parquet')\n",
        "\n",
        "# Список столбцов для морфологического анализа (исключая Portal User Group и portal_user_group_code)\n",
        "columns_to_process = [\n",
        "    'Place (Agency) (Agency)', 'Elite Status (Reservation) (Voucher)', 'Company (Agency) (Agency)',\n",
        "    'Enter The System (Agency) (Agency)', 'To Area (Reservation) (Voucher)',\n",
        "    'Reservation Type (Reservation) (Voucher)', 'Description', 'Kurator Group (Agency) (Agency)',\n",
        "    'EE Id (Agency) (Agency)', 'Agency Type Id (Agency) (Agency)', 'Process Phase',\n",
        "    'Reservation Class (Reservation) (Voucher)', 'Is VIP (Reservation) (Voucher)',\n",
        "    'From Area (Reservation) (Voucher)'\n",
        "]\n",
        "\n",
        "# Загрузка информации о прогрессе, если она существует\n",
        "if os.path.exists(progress_file_path):\n",
        "    with open(progress_file_path, 'r') as f:\n",
        "        progress_data = json.load(f)\n",
        "else:\n",
        "    progress_data = {column: False for column in columns_to_process}\n",
        "\n",
        "# Применение функции morphological_analysis к указанным столбцам и добавление новых столбцов\n",
        "for column in columns_to_process:\n",
        "    if progress_data.get(column, False):\n",
        "        print(f\"Столбец {column} уже обработан, пропускаем.\")\n",
        "        continue\n",
        "\n",
        "    print(f\"Обработка столбца: {column}\")\n",
        "    df[column + '_morph'] = df[column].astype(str).progress_apply(morphological_analysis)\n",
        "\n",
        "    # Обновление прогресса\n",
        "    progress_data[column] = True\n",
        "    with open(progress_file_path, 'w') as f:\n",
        "        json.dump(progress_data, f)\n",
        "\n",
        "    # Сохранение промежуточного результата после обработки каждого столбца\n",
        "    df.to_parquet(intermediate_path, index=False)\n",
        "\n",
        "# Сохранение очищенных данных в новый файл Parquet\n",
        "df.to_parquet(final_parquet_path, index=False)\n",
        "\n",
        "# Удаление файла прогресса после завершения обработки\n",
        "os.remove(progress_file_path)\n",
        "\n",
        "print(f\"DataFrame успешно сохранен в формате Parquet в файл {final_parquet_path}.\")\n"
      ]
    },
    {
      "cell_type": "markdown",
      "metadata": {
        "id": "7poeeuIUqUHG"
      },
      "source": [
        "**Синтаксический анализ.**\n",
        "\n",
        "Определение границ именных и глагольных групп, числовых и вводных конструкций.\n",
        "Установление связей между группами."
      ]
    },
    {
      "cell_type": "code",
      "execution_count": null,
      "metadata": {
        "colab": {
          "base_uri": "https://localhost:8080/"
        },
        "id": "ed2istm75kx1",
        "outputId": "fc40a592-dedc-48ef-9c08-d8cf5fea81e7"
      },
      "outputs": [
        {
          "output_type": "stream",
          "name": "stdout",
          "text": [
            "\u001b[38;5;2m✔ Download and installation successful\u001b[0m\n",
            "You can now load the package via spacy.load('ru_core_news_sm')\n",
            "\u001b[38;5;3m⚠ Restart to reload dependencies\u001b[0m\n",
            "If you are in a Jupyter or Colab notebook, you may need to restart Python in\n",
            "order to load all the package's dependencies. You can do this by selecting the\n",
            "'Restart kernel' or 'Restart runtime' option.\n",
            "\u001b[38;5;2m✔ Download and installation successful\u001b[0m\n",
            "You can now load the package via spacy.load('en_core_web_sm')\n",
            "\u001b[38;5;3m⚠ Restart to reload dependencies\u001b[0m\n",
            "If you are in a Jupyter or Colab notebook, you may need to restart Python in\n",
            "order to load all the package's dependencies. You can do this by selecting the\n",
            "'Restart kernel' or 'Restart runtime' option.\n",
            "Обработка столбца: Place (Agency) (Agency)\n"
          ]
        },
        {
          "output_type": "stream",
          "name": "stderr",
          "text": [
            "100%|██████████| 82432/82432 [11:17<00:00, 121.59it/s]\n"
          ]
        },
        {
          "output_type": "stream",
          "name": "stdout",
          "text": [
            "Обработка столбца: Elite Status (Reservation) (Voucher)\n"
          ]
        },
        {
          "output_type": "stream",
          "name": "stderr",
          "text": [
            "100%|██████████| 82432/82432 [01:17<00:00, 1059.91it/s]\n"
          ]
        },
        {
          "output_type": "stream",
          "name": "stdout",
          "text": [
            "Обработка столбца: Company (Agency) (Agency)\n"
          ]
        },
        {
          "output_type": "stream",
          "name": "stderr",
          "text": [
            "100%|██████████| 82432/82432 [07:59<00:00, 171.87it/s]\n"
          ]
        },
        {
          "output_type": "stream",
          "name": "stdout",
          "text": [
            "Обработка столбца: Enter The System (Agency) (Agency)\n"
          ]
        },
        {
          "output_type": "stream",
          "name": "stderr",
          "text": [
            "100%|██████████| 82432/82432 [01:37<00:00, 849.26it/s]\n"
          ]
        },
        {
          "output_type": "stream",
          "name": "stdout",
          "text": [
            "Обработка столбца: To Area (Reservation) (Voucher)\n"
          ]
        },
        {
          "output_type": "stream",
          "name": "stderr",
          "text": [
            "100%|██████████| 82432/82432 [01:17<00:00, 1063.08it/s]\n"
          ]
        },
        {
          "output_type": "stream",
          "name": "stdout",
          "text": [
            "Обработка столбца: Reservation Type (Reservation) (Voucher)\n"
          ]
        },
        {
          "output_type": "stream",
          "name": "stderr",
          "text": [
            "100%|██████████| 82432/82432 [01:17<00:00, 1061.72it/s]\n"
          ]
        },
        {
          "output_type": "stream",
          "name": "stdout",
          "text": [
            "Обработка столбца: Description\n"
          ]
        },
        {
          "output_type": "stream",
          "name": "stderr",
          "text": [
            "100%|██████████| 82432/82432 [23:59<00:00, 57.25it/s]\n"
          ]
        },
        {
          "output_type": "stream",
          "name": "stdout",
          "text": [
            "Обработка столбца: Kurator Group (Agency) (Agency)\n"
          ]
        },
        {
          "output_type": "stream",
          "name": "stderr",
          "text": [
            "100%|██████████| 82432/82432 [15:32<00:00, 88.41it/s]\n"
          ]
        },
        {
          "output_type": "stream",
          "name": "stdout",
          "text": [
            "Обработка столбца: EE Id (Agency) (Agency)\n"
          ]
        },
        {
          "output_type": "stream",
          "name": "stderr",
          "text": [
            "100%|██████████| 82432/82432 [00:02<00:00, 30427.94it/s]\n"
          ]
        },
        {
          "output_type": "stream",
          "name": "stdout",
          "text": [
            "Обработка столбца: Agency Type Id (Agency) (Agency)\n"
          ]
        },
        {
          "output_type": "stream",
          "name": "stderr",
          "text": [
            "100%|██████████| 82432/82432 [14:46<00:00, 92.97it/s]\n"
          ]
        },
        {
          "output_type": "stream",
          "name": "stdout",
          "text": [
            "Обработка столбца: Process Phase\n"
          ]
        },
        {
          "output_type": "stream",
          "name": "stderr",
          "text": [
            "100%|██████████| 82432/82432 [03:50<00:00, 356.87it/s]\n"
          ]
        },
        {
          "output_type": "stream",
          "name": "stdout",
          "text": [
            "Обработка столбца: Reservation Class (Reservation) (Voucher)\n"
          ]
        },
        {
          "output_type": "stream",
          "name": "stderr",
          "text": [
            "100%|██████████| 82432/82432 [01:18<00:00, 1046.38it/s]\n"
          ]
        },
        {
          "output_type": "stream",
          "name": "stdout",
          "text": [
            "Обработка столбца: Is VIP (Reservation) (Voucher)\n"
          ]
        },
        {
          "output_type": "stream",
          "name": "stderr",
          "text": [
            "100%|██████████| 82432/82432 [01:18<00:00, 1052.43it/s]\n"
          ]
        },
        {
          "output_type": "stream",
          "name": "stdout",
          "text": [
            "Обработка столбца: From Area (Reservation) (Voucher)\n"
          ]
        },
        {
          "output_type": "stream",
          "name": "stderr",
          "text": [
            "100%|██████████| 82432/82432 [01:21<00:00, 1010.74it/s]\n"
          ]
        },
        {
          "output_type": "stream",
          "name": "stdout",
          "text": [
            "Синтаксический анализ завершен. Результаты сохранены в файл /content/drive/MyDrive/Стажировка/Semantic_2/syntactic_analysis_results.parquet.\n"
          ]
        }
      ],
      "source": [
        "import spacy\n",
        "import pandas as pd\n",
        "from tqdm import tqdm\n",
        "from langdetect import detect\n",
        "import os\n",
        "import json\n",
        "\n",
        "# Активация tqdm для pandas\n",
        "tqdm.pandas()\n",
        "\n",
        "# Загрузка моделей SpaCy для русского и английского языков\n",
        "spacy.cli.download(\"ru_core_news_sm\")\n",
        "spacy.cli.download(\"en_core_web_sm\")\n",
        "\n",
        "nlp_ru = spacy.load('ru_core_news_sm')\n",
        "nlp_en = spacy.load('en_core_web_sm')\n",
        "\n",
        "# Загрузка данных из файла\n",
        "input_file_path = '/content/drive/MyDrive/Стажировка/Semantic_2/morphological_analysis_file.parquet'\n",
        "intermediate_path = '/content/drive/MyDrive/Стажировка/Semantic_2/intermediate_syntactic_result.parquet'\n",
        "final_parquet_path = '/content/drive/MyDrive/Стажировка/Semantic_2/syntactic_analysis_results.parquet'\n",
        "progress_file_path = '/content/drive/MyDrive/Стажировка/Semantic_2/progress_syntactic.json'\n",
        "\n",
        "if os.path.exists(intermediate_path):\n",
        "    df = pd.read_parquet(intermediate_path)\n",
        "else:\n",
        "    df = pd.read_parquet(input_file_path)\n",
        "\n",
        "# Функция для синтаксического анализа текста\n",
        "def syntactic_analysis(text):\n",
        "    try:\n",
        "        lang = detect(text)\n",
        "    except:\n",
        "        lang = 'unknown'\n",
        "\n",
        "    doc = None\n",
        "    if lang == 'ru':\n",
        "        doc = nlp_ru(text)\n",
        "    elif lang == 'en':\n",
        "        doc = nlp_en(text)\n",
        "    else:\n",
        "        return []\n",
        "\n",
        "    results = []\n",
        "    for sent in doc.sents:\n",
        "        for token in sent:\n",
        "            results.append({\n",
        "                \"text\": token.text,\n",
        "                \"lemma\": token.lemma_,\n",
        "                \"pos\": token.pos_,\n",
        "                \"tag\": token.tag_,\n",
        "                \"dep\": token.dep_,\n",
        "                \"head_text\": token.head.text,\n",
        "                \"head_pos\": token.head.pos_,\n",
        "                \"children\": [child.text for child in token.children]\n",
        "            })\n",
        "    return results\n",
        "\n",
        "# Список столбцов для синтаксического анализа (исключая Portal User Group и portal_user_group_code)\n",
        "columns_to_process = [\n",
        "    'Place (Agency) (Agency)', 'Elite Status (Reservation) (Voucher)', 'Company (Agency) (Agency)',\n",
        "    'Enter The System (Agency) (Agency)', 'To Area (Reservation) (Voucher)',\n",
        "    'Reservation Type (Reservation) (Voucher)', 'Description', 'Kurator Group (Agency) (Agency)',\n",
        "    'EE Id (Agency) (Agency)', 'Agency Type Id (Agency) (Agency)', 'Process Phase',\n",
        "    'Reservation Class (Reservation) (Voucher)', 'Is VIP (Reservation) (Voucher)',\n",
        "    'From Area (Reservation) (Voucher)'\n",
        "]\n",
        "\n",
        "# Загрузка информации о прогрессе, если она существует\n",
        "if os.path.exists(progress_file_path):\n",
        "    with open(progress_file_path, 'r') as f:\n",
        "        progress_data = json.load(f)\n",
        "else:\n",
        "    progress_data = {column: False for column in columns_to_process}\n",
        "\n",
        "# Применение функции syntactic_analysis к указанным столбцам и добавление новых столбцов\n",
        "for column in columns_to_process:\n",
        "    if progress_data.get(column, False):\n",
        "        print(f\"Столбец {column} уже обработан, пропускаем.\")\n",
        "        continue\n",
        "\n",
        "    print(f\"Обработка столбца: {column}\")\n",
        "    df[column + '_syntactic'] = df[column].astype(str).progress_apply(syntactic_analysis)\n",
        "\n",
        "    # Обновление прогресса\n",
        "    progress_data[column] = True\n",
        "    with open(progress_file_path, 'w') as f:\n",
        "        json.dump(progress_data, f)\n",
        "\n",
        "    # Сохранение промежуточного результата после обработки каждого столбца\n",
        "    df.to_parquet(intermediate_path, index=False)\n",
        "\n",
        "# Сохранение очищенных данных в новый файл Parquet\n",
        "df.to_parquet(final_parquet_path, index=False)\n",
        "\n",
        "# Удаление файла прогресса после завершения обработки\n",
        "os.remove(progress_file_path)\n",
        "\n",
        "print(f\"Синтаксический анализ завершен. Результаты сохранены в файл {final_parquet_path}.\")\n"
      ]
    },
    {
      "cell_type": "markdown",
      "metadata": {
        "id": "Xv2Wxt2pCQMb"
      },
      "source": [
        "**Семантический анализ.**\n",
        "\n",
        "Выделение сущностей, построение семантической сети, фильтрация контента.\n",
        "Извлечение мнений, анализ тональности.\n",
        "Используются библиотеки, такие как SpaCy, NLTK."
      ]
    },
    {
      "cell_type": "code",
      "execution_count": null,
      "metadata": {
        "colab": {
          "base_uri": "https://localhost:8080/"
        },
        "id": "wkQqZMhq6DpF",
        "outputId": "dea6065f-192d-4276-ecbe-ea57292cff30"
      },
      "outputs": [
        {
          "output_type": "stream",
          "name": "stdout",
          "text": [
            "\u001b[38;5;2m✔ Download and installation successful\u001b[0m\n",
            "You can now load the package via spacy.load('ru_core_news_sm')\n",
            "\u001b[38;5;3m⚠ Restart to reload dependencies\u001b[0m\n",
            "If you are in a Jupyter or Colab notebook, you may need to restart Python in\n",
            "order to load all the package's dependencies. You can do this by selecting the\n",
            "'Restart kernel' or 'Restart runtime' option.\n",
            "\u001b[38;5;2m✔ Download and installation successful\u001b[0m\n",
            "You can now load the package via spacy.load('en_core_web_sm')\n",
            "\u001b[38;5;3m⚠ Restart to reload dependencies\u001b[0m\n",
            "If you are in a Jupyter or Colab notebook, you may need to restart Python in\n",
            "order to load all the package's dependencies. You can do this by selecting the\n",
            "'Restart kernel' or 'Restart runtime' option.\n"
          ]
        },
        {
          "output_type": "stream",
          "name": "stderr",
          "text": [
            "[nltk_data] Downloading package vader_lexicon to /root/nltk_data...\n"
          ]
        },
        {
          "output_type": "stream",
          "name": "stdout",
          "text": [
            "Промежуточный файл не найден или поврежден.\n",
            "Обработка столбца: Place (Agency) (Agency)\n"
          ]
        },
        {
          "output_type": "stream",
          "name": "stderr",
          "text": [
            "100%|██████████| 82432/82432 [13:34<00:00, 101.24it/s]\n"
          ]
        },
        {
          "output_type": "stream",
          "name": "stdout",
          "text": [
            "Обработка столбца: Elite Status (Reservation) (Voucher)\n"
          ]
        },
        {
          "output_type": "stream",
          "name": "stderr",
          "text": [
            "100%|██████████| 82432/82432 [01:34<00:00, 869.05it/s]\n"
          ]
        },
        {
          "output_type": "stream",
          "name": "stdout",
          "text": [
            "Обработка столбца: Company (Agency) (Agency)\n"
          ]
        },
        {
          "output_type": "stream",
          "name": "stderr",
          "text": [
            "100%|██████████| 82432/82432 [09:28<00:00, 145.06it/s]\n"
          ]
        },
        {
          "output_type": "stream",
          "name": "stdout",
          "text": [
            "Обработка столбца: Enter The System (Agency) (Agency)\n"
          ]
        },
        {
          "output_type": "stream",
          "name": "stderr",
          "text": [
            "100%|██████████| 82432/82432 [01:55<00:00, 715.10it/s]\n"
          ]
        },
        {
          "output_type": "stream",
          "name": "stdout",
          "text": [
            "Обработка столбца: To Area (Reservation) (Voucher)\n"
          ]
        },
        {
          "output_type": "stream",
          "name": "stderr",
          "text": [
            "100%|██████████| 82432/82432 [01:33<00:00, 879.79it/s]\n"
          ]
        },
        {
          "output_type": "stream",
          "name": "stdout",
          "text": [
            "Обработка столбца: Reservation Type (Reservation) (Voucher)\n"
          ]
        },
        {
          "output_type": "stream",
          "name": "stderr",
          "text": [
            "100%|██████████| 82432/82432 [01:34<00:00, 872.10it/s]\n"
          ]
        },
        {
          "output_type": "stream",
          "name": "stdout",
          "text": [
            "Обработка столбца: Description\n"
          ]
        },
        {
          "output_type": "stream",
          "name": "stderr",
          "text": [
            "100%|██████████| 82432/82432 [28:27<00:00, 48.27it/s]\n"
          ]
        },
        {
          "output_type": "stream",
          "name": "stdout",
          "text": [
            "Обработка столбца: Kurator Group (Agency) (Agency)\n"
          ]
        },
        {
          "output_type": "stream",
          "name": "stderr",
          "text": [
            "100%|██████████| 82432/82432 [18:29<00:00, 74.26it/s]\n"
          ]
        },
        {
          "output_type": "stream",
          "name": "stdout",
          "text": [
            "Обработка столбца: EE Id (Agency) (Agency)\n"
          ]
        },
        {
          "output_type": "stream",
          "name": "stderr",
          "text": [
            "100%|██████████| 82432/82432 [00:03<00:00, 22968.46it/s]\n"
          ]
        },
        {
          "output_type": "stream",
          "name": "stdout",
          "text": [
            "Обработка столбца: Agency Type Id (Agency) (Agency)\n"
          ]
        },
        {
          "output_type": "stream",
          "name": "stderr",
          "text": [
            "100%|██████████| 82432/82432 [16:39<00:00, 82.44it/s]\n"
          ]
        },
        {
          "output_type": "stream",
          "name": "stdout",
          "text": [
            "Обработка столбца: Process Phase\n"
          ]
        },
        {
          "output_type": "stream",
          "name": "stderr",
          "text": [
            "100%|██████████| 82432/82432 [04:36<00:00, 298.20it/s]\n"
          ]
        },
        {
          "output_type": "stream",
          "name": "stdout",
          "text": [
            "Обработка столбца: Reservation Class (Reservation) (Voucher)\n"
          ]
        },
        {
          "output_type": "stream",
          "name": "stderr",
          "text": [
            "100%|██████████| 82432/82432 [01:34<00:00, 871.80it/s]\n"
          ]
        },
        {
          "output_type": "stream",
          "name": "stdout",
          "text": [
            "Обработка столбца: Is VIP (Reservation) (Voucher)\n"
          ]
        },
        {
          "output_type": "stream",
          "name": "stderr",
          "text": [
            "100%|██████████| 82432/82432 [01:34<00:00, 874.37it/s]\n"
          ]
        },
        {
          "output_type": "stream",
          "name": "stdout",
          "text": [
            "Обработка столбца: From Area (Reservation) (Voucher)\n"
          ]
        },
        {
          "output_type": "stream",
          "name": "stderr",
          "text": [
            "100%|██████████| 82432/82432 [01:34<00:00, 875.11it/s]\n"
          ]
        },
        {
          "output_type": "stream",
          "name": "stdout",
          "text": [
            "Семантический анализ завершен. Результаты сохранены в файл /content/drive/MyDrive/Стажировка/Semantic_2/semantic_analysis_results.parquet.\n"
          ]
        }
      ],
      "source": [
        "import spacy\n",
        "import pandas as pd\n",
        "from tqdm import tqdm\n",
        "from nltk.sentiment.vader import SentimentIntensityAnalyzer\n",
        "import nltk\n",
        "from langdetect import detect\n",
        "import os\n",
        "import json\n",
        "import pyarrow.parquet as pq\n",
        "\n",
        "# Активация tqdm для pandas\n",
        "tqdm.pandas()\n",
        "\n",
        "# Установка и загрузка моделей SpaCy для русского и английского языков\n",
        "spacy.cli.download(\"ru_core_news_sm\")\n",
        "spacy.cli.download(\"en_core_web_sm\")\n",
        "nltk.download('vader_lexicon')\n",
        "\n",
        "nlp_ru = spacy.load('ru_core_news_sm')\n",
        "nlp_en = spacy.load('en_core_web_sm')\n",
        "sid = SentimentIntensityAnalyzer()\n",
        "\n",
        "# Загрузка данных из файла\n",
        "input_file_path = \"/content/drive/MyDrive/Стажировка/Semantic_2/syntactic_analysis_results.parquet\"\n",
        "intermediate_path = '/content/drive/MyDrive/Стажировка/Semantic_2/intermediate_semantic_result.parquet'\n",
        "final_parquet_path = '/content/drive/MyDrive/Стажировка/Semantic_2/semantic_analysis_results.parquet'\n",
        "progress_file_path = '/content/drive/MyDrive/Стажировка/Semantic_2/progress_semantic.json'\n",
        "\n",
        "# Проверка существования промежуточного файла\n",
        "def is_valid_parquet(file_path):\n",
        "    try:\n",
        "        pq.ParquetFile(file_path)\n",
        "        return True\n",
        "    except:\n",
        "        return False\n",
        "\n",
        "if os.path.exists(intermediate_path) and is_valid_parquet(intermediate_path):\n",
        "    print(\"Промежуточный файл существует.\")\n",
        "    df = pd.read_parquet(intermediate_path)\n",
        "    print(f\"Количество строк в промежуточном файле: {len(df)}\")\n",
        "else:\n",
        "    print(\"Промежуточный файл не найден или поврежден.\")\n",
        "    df = pd.read_parquet(input_file_path)\n",
        "\n",
        "# Преобразование всех значений в строковые, если это необходимо\n",
        "df = df.astype(str)\n",
        "\n",
        "# Загрузка информации о прогрессе, если она существует\n",
        "if os.path.exists(progress_file_path):\n",
        "    with open(progress_file_path, 'r') as f:\n",
        "        progress_data = json.load(f)\n",
        "else:\n",
        "    progress_data = {column: False for column in df.columns}\n",
        "\n",
        "# Функция для выделения сущностей и анализа тональности текста\n",
        "def semantic_analysis(text):\n",
        "    try:\n",
        "        lang = detect(text)\n",
        "    except:\n",
        "        lang = 'unknown'\n",
        "\n",
        "    doc = None\n",
        "    if lang == 'ru':\n",
        "        doc = nlp_ru(text)\n",
        "    elif lang == 'en':\n",
        "        doc = nlp_en(text)\n",
        "    else:\n",
        "        return {'entities': [], 'sentiment': {}, 'vectors': []}\n",
        "\n",
        "    # Извлечение сущностей\n",
        "    entities = [{'text': ent.text, 'label': ent.label_} for ent in doc.ents]\n",
        "\n",
        "    # Анализ тональности\n",
        "    sentiment = sid.polarity_scores(text)\n",
        "\n",
        "    # Преобразование текста в числовые представления\n",
        "    vectors = [token.vector.tolist() for token in doc]\n",
        "\n",
        "    return {'entities': entities, 'sentiment': sentiment, 'vectors': vectors}\n",
        "\n",
        "# Список столбцов для семантического анализа (исключая Portal User Group и portal_user_group_code)\n",
        "columns_to_process = [\n",
        "    'Place (Agency) (Agency)', 'Elite Status (Reservation) (Voucher)', 'Company (Agency) (Agency)',\n",
        "    'Enter The System (Agency) (Agency)', 'To Area (Reservation) (Voucher)',\n",
        "    'Reservation Type (Reservation) (Voucher)', 'Description', 'Kurator Group (Agency) (Agency)',\n",
        "    'EE Id (Agency) (Agency)', 'Agency Type Id (Agency) (Agency)', 'Process Phase',\n",
        "    'Reservation Class (Reservation) (Voucher)', 'Is VIP (Reservation) (Voucher)',\n",
        "    'From Area (Reservation) (Voucher)'\n",
        "]\n",
        "\n",
        "# Применение семантического анализа к указанным столбцам\n",
        "for column in columns_to_process:\n",
        "    if progress_data.get(column + '_semantic', False):\n",
        "        print(f\"Столбец {column} уже обработан, пропускаем.\")\n",
        "        continue\n",
        "\n",
        "    print(f\"Обработка столбца: {column}\")\n",
        "    df[column + '_semantic'] = df[column].progress_apply(lambda x: json.dumps(semantic_analysis(x)))\n",
        "\n",
        "    # Обновление прогресса\n",
        "    progress_data[column + '_semantic'] = True\n",
        "    with open(progress_file_path, 'w') as f:\n",
        "        json.dump(progress_data, f)\n",
        "\n",
        "    # Сохранение промежуточного результата после обработки каждого столбца\n",
        "    df.to_parquet(intermediate_path, index=False)\n",
        "\n",
        "# Сохранение очищенных данных в новый файл Parquet\n",
        "df.to_parquet(final_parquet_path, index=False)\n",
        "\n",
        "# Удаление файла прогресса после завершения обработки\n",
        "os.remove(progress_file_path)\n",
        "\n",
        "print(f\"Семантический анализ завершен. Результаты сохранены в файл {final_parquet_path}.\")\n"
      ]
    },
    {
      "cell_type": "markdown",
      "metadata": {
        "id": "su7CzZsF0NVP"
      },
      "source": [
        "**Bag of Words (BoW):**\n",
        "\n",
        "Представление текста в виде вектора, где каждый элемент соответствует количеству вхождений определенного слова.\n",
        "Используем библиотеку Scikit-learn для создания векторов."
      ]
    },
    {
      "cell_type": "code",
      "execution_count": null,
      "metadata": {
        "colab": {
          "base_uri": "https://localhost:8080/"
        },
        "id": "kid3Z2kHrR8c",
        "outputId": "ae0dc83c-aee2-411d-cf26-e4dc310b5d76"
      },
      "outputs": [
        {
          "output_type": "stream",
          "name": "stdout",
          "text": [
            "Requirement already satisfied: pandas in /usr/local/lib/python3.10/dist-packages (2.1.4)\n",
            "Requirement already satisfied: scikit-learn in /usr/local/lib/python3.10/dist-packages (1.3.2)\n",
            "Requirement already satisfied: tqdm in /usr/local/lib/python3.10/dist-packages (4.66.4)\n",
            "Requirement already satisfied: numpy<2,>=1.22.4 in /usr/local/lib/python3.10/dist-packages (from pandas) (1.26.4)\n",
            "Requirement already satisfied: python-dateutil>=2.8.2 in /usr/local/lib/python3.10/dist-packages (from pandas) (2.9.0.post0)\n",
            "Requirement already satisfied: pytz>=2020.1 in /usr/local/lib/python3.10/dist-packages (from pandas) (2024.1)\n",
            "Requirement already satisfied: tzdata>=2022.1 in /usr/local/lib/python3.10/dist-packages (from pandas) (2024.1)\n",
            "Requirement already satisfied: scipy>=1.5.0 in /usr/local/lib/python3.10/dist-packages (from scikit-learn) (1.13.1)\n",
            "Requirement already satisfied: joblib>=1.1.1 in /usr/local/lib/python3.10/dist-packages (from scikit-learn) (1.4.2)\n",
            "Requirement already satisfied: threadpoolctl>=2.0.0 in /usr/local/lib/python3.10/dist-packages (from scikit-learn) (3.5.0)\n",
            "Requirement already satisfied: six>=1.5 in /usr/local/lib/python3.10/dist-packages (from python-dateutil>=2.8.2->pandas) (1.16.0)\n"
          ]
        }
      ],
      "source": [
        "!pip install pandas scikit-learn tqdm\n"
      ]
    },
    {
      "cell_type": "code",
      "execution_count": null,
      "metadata": {
        "colab": {
          "base_uri": "https://localhost:8080/"
        },
        "id": "Lphld5Eo6eiE",
        "outputId": "65b2654a-4bb3-4ed1-d96b-5c6b70719f5f"
      },
      "outputs": [
        {
          "output_type": "stream",
          "name": "stdout",
          "text": [
            "Обработка столбца: Place (Agency) (Agency)\n"
          ]
        },
        {
          "output_type": "stream",
          "name": "stderr",
          "text": [
            "100%|██████████| 82432/82432 [00:01<00:00, 72532.89it/s]\n"
          ]
        },
        {
          "output_type": "stream",
          "name": "stdout",
          "text": [
            "Обработка столбца: Elite Status (Reservation) (Voucher)\n"
          ]
        },
        {
          "output_type": "stream",
          "name": "stderr",
          "text": [
            "100%|██████████| 82432/82432 [00:00<00:00, 397428.45it/s]\n"
          ]
        },
        {
          "output_type": "stream",
          "name": "stdout",
          "text": [
            "Обработка столбца: Company (Agency) (Agency)\n"
          ]
        },
        {
          "output_type": "stream",
          "name": "stderr",
          "text": [
            "100%|██████████| 82432/82432 [00:00<00:00, 350588.60it/s]\n"
          ]
        },
        {
          "output_type": "stream",
          "name": "stdout",
          "text": [
            "Обработка столбца: Enter The System (Agency) (Agency)\n"
          ]
        },
        {
          "output_type": "stream",
          "name": "stderr",
          "text": [
            "100%|██████████| 82432/82432 [00:00<00:00, 414523.92it/s]\n"
          ]
        },
        {
          "output_type": "stream",
          "name": "stdout",
          "text": [
            "Обработка столбца: To Area (Reservation) (Voucher)\n"
          ]
        },
        {
          "output_type": "stream",
          "name": "stderr",
          "text": [
            "100%|██████████| 82432/82432 [00:00<00:00, 405397.01it/s]\n"
          ]
        },
        {
          "output_type": "stream",
          "name": "stdout",
          "text": [
            "Обработка столбца: Reservation Type (Reservation) (Voucher)\n"
          ]
        },
        {
          "output_type": "stream",
          "name": "stderr",
          "text": [
            "100%|██████████| 82432/82432 [00:00<00:00, 423053.18it/s]\n"
          ]
        },
        {
          "output_type": "stream",
          "name": "stdout",
          "text": [
            "Обработка столбца: Description\n"
          ]
        },
        {
          "output_type": "stream",
          "name": "stderr",
          "text": [
            "100%|██████████| 82432/82432 [00:02<00:00, 35258.27it/s]\n"
          ]
        },
        {
          "output_type": "stream",
          "name": "stdout",
          "text": [
            "Обработка столбца: Kurator Group (Agency) (Agency)\n"
          ]
        },
        {
          "output_type": "stream",
          "name": "stderr",
          "text": [
            "100%|██████████| 82432/82432 [00:00<00:00, 255224.23it/s]\n"
          ]
        },
        {
          "output_type": "stream",
          "name": "stdout",
          "text": [
            "Обработка столбца: EE Id (Agency) (Agency)\n"
          ]
        },
        {
          "output_type": "stream",
          "name": "stderr",
          "text": [
            "100%|██████████| 82432/82432 [00:00<00:00, 384393.74it/s]\n"
          ]
        },
        {
          "output_type": "stream",
          "name": "stdout",
          "text": [
            "Обработка столбца: Agency Type Id (Agency) (Agency)\n"
          ]
        },
        {
          "output_type": "stream",
          "name": "stderr",
          "text": [
            "100%|██████████| 82432/82432 [00:00<00:00, 340419.01it/s]\n"
          ]
        },
        {
          "output_type": "stream",
          "name": "stdout",
          "text": [
            "Обработка столбца: Process Phase\n"
          ]
        },
        {
          "output_type": "stream",
          "name": "stderr",
          "text": [
            "100%|██████████| 82432/82432 [00:00<00:00, 349088.44it/s]\n"
          ]
        },
        {
          "output_type": "stream",
          "name": "stdout",
          "text": [
            "Обработка столбца: Reservation Class (Reservation) (Voucher)\n"
          ]
        },
        {
          "output_type": "stream",
          "name": "stderr",
          "text": [
            "100%|██████████| 82432/82432 [00:00<00:00, 396325.06it/s]\n"
          ]
        },
        {
          "output_type": "stream",
          "name": "stdout",
          "text": [
            "Обработка столбца: Is VIP (Reservation) (Voucher)\n"
          ]
        },
        {
          "output_type": "stream",
          "name": "stderr",
          "text": [
            "100%|██████████| 82432/82432 [00:00<00:00, 419662.04it/s]\n"
          ]
        },
        {
          "output_type": "stream",
          "name": "stdout",
          "text": [
            "Обработка столбца: From Area (Reservation) (Voucher)\n"
          ]
        },
        {
          "output_type": "stream",
          "name": "stderr",
          "text": [
            "100%|██████████| 82432/82432 [00:00<00:00, 419645.23it/s]\n"
          ]
        },
        {
          "output_type": "stream",
          "name": "stdout",
          "text": [
            "Bag of Words (BoW) завершен. Результаты сохранены в /content/drive/MyDrive/Стажировка/Semantic_2/bow_results.parquet\n"
          ]
        }
      ],
      "source": [
        "import pandas as pd\n",
        "from sklearn.feature_extraction.text import CountVectorizer\n",
        "from tqdm import tqdm\n",
        "import os\n",
        "import json\n",
        "\n",
        "# Активация tqdm для pandas\n",
        "tqdm.pandas()\n",
        "\n",
        "# Загрузка данных из файла\n",
        "input_file_path = \"/content/drive/MyDrive/Стажировка/Semantic_2/semantic_analysis_results.parquet\"\n",
        "intermediate_path = '/content/drive/MyDrive/Стажировка/Semantic_2/intermediate_bow_result.parquet'\n",
        "final_parquet_path = '/content/drive/MyDrive/Стажировка/Semantic_2/bow_results.parquet'\n",
        "progress_file_path = '/content/drive/MyDrive/Стажировка/Semantic_2/progress_bow.json'\n",
        "\n",
        "if os.path.exists(intermediate_path):\n",
        "    df = pd.read_parquet(intermediate_path)\n",
        "else:\n",
        "    df = pd.read_parquet(input_file_path)\n",
        "\n",
        "# Проверка на пропуски в столбце и заполнение их пустыми строками для всех столбцов, кроме Portal User Group и portal_user_group_code\n",
        "columns_to_process = [\n",
        "    'Place (Agency) (Agency)', 'Elite Status (Reservation) (Voucher)', 'Company (Agency) (Agency)',\n",
        "    'Enter The System (Agency) (Agency)', 'To Area (Reservation) (Voucher)',\n",
        "    'Reservation Type (Reservation) (Voucher)', 'Description', 'Kurator Group (Agency) (Agency)',\n",
        "    'EE Id (Agency) (Agency)', 'Agency Type Id (Agency) (Agency)', 'Process Phase',\n",
        "    'Reservation Class (Reservation) (Voucher)', 'Is VIP (Reservation) (Voucher)',\n",
        "    'From Area (Reservation) (Voucher)'\n",
        "]\n",
        "\n",
        "for column in columns_to_process:\n",
        "    df[column] = df[column].fillna('')\n",
        "\n",
        "# Загрузка информации о прогрессе, если она существует\n",
        "if os.path.exists(progress_file_path):\n",
        "    with open(progress_file_path, 'r') as f:\n",
        "        progress_data = json.load(f)\n",
        "else:\n",
        "    progress_data = {column: False for column in columns_to_process}\n",
        "\n",
        "# Применение CountVectorizer к каждому столбцу с индикатором хода выполнения\n",
        "for column in columns_to_process:\n",
        "    if progress_data.get(column + '_BoW', False):\n",
        "        print(f\"Столбец {column} уже обработан, пропускаем.\")\n",
        "        continue\n",
        "\n",
        "    print(f\"Обработка столбца: {column}\")\n",
        "    vectorizer = CountVectorizer()\n",
        "    bow_matrix = vectorizer.fit_transform(tqdm(df[column].astype(str)))\n",
        "\n",
        "    # Преобразование в DataFrame для удобства\n",
        "    bow_df = pd.DataFrame(bow_matrix.toarray(), columns=[f\"{column}_BoW_{word}\" for word in vectorizer.get_feature_names_out()])\n",
        "\n",
        "    # Добавление нового столбца с результатами BoW\n",
        "    df[column + '_BoW'] = bow_df.apply(lambda x: json.dumps(x.tolist()), axis=1)\n",
        "\n",
        "    # Обновление прогресса\n",
        "    progress_data[column + '_BoW'] = True\n",
        "    with open(progress_file_path, 'w') as f:\n",
        "        json.dump(progress_data, f)\n",
        "\n",
        "    # Сохранение промежуточного результата после обработки каждого столбца\n",
        "    df.to_parquet(intermediate_path, index=False)\n",
        "\n",
        "# Сохранение очищенных данных в новый файл Parquet\n",
        "df.to_parquet(final_parquet_path, index=False)\n",
        "\n",
        "# Удаление файла прогресса после завершения обработки\n",
        "os.remove(progress_file_path)\n",
        "\n",
        "print(f\"Bag of Words (BoW) завершен. Результаты сохранены в {final_parquet_path}\")\n"
      ]
    },
    {
      "cell_type": "code",
      "source": [
        "import pandas as pd\n",
        "\n",
        "# Путь к файлу\n",
        "file_path = \"/content/drive/MyDrive/Стажировка/Semantic_2/bow_results.parquet\"\n",
        "\n",
        "# Загрузка данных из файла\n",
        "df = pd.read_parquet(file_path)\n",
        "\n",
        "# Создание словаря для хранения основных названий и их вариантов\n",
        "columns_dict = {}\n",
        "\n",
        "# Проход по всем названиям столбцов\n",
        "for col in df.columns:\n",
        "    # Извлечение основного названия (до первого символа '_')\n",
        "    base_name = col.split('_')[0]\n",
        "    if base_name not in columns_dict:\n",
        "        columns_dict[base_name] = []\n",
        "    columns_dict[base_name].append(col)\n",
        "\n",
        "# Вывод названий столбцов в столбик\n",
        "for base_name, variations in columns_dict.items():\n",
        "    print(base_name)  # Основное название\n",
        "    for variant in variations:\n",
        "        print(f\"  {variant}\")  # Название с приставками\n",
        "    print()  # Пустая строка для разделения\n"
      ],
      "metadata": {
        "colab": {
          "base_uri": "https://localhost:8080/"
        },
        "id": "J8vwn43E8GS0",
        "outputId": "1bf32221-007b-4461-8bef-a11261af0343"
      },
      "execution_count": null,
      "outputs": [
        {
          "output_type": "stream",
          "name": "stdout",
          "text": [
            "Portal User Group\n",
            "  Portal User Group\n",
            "\n",
            "Place (Agency) (Agency)\n",
            "  Place (Agency) (Agency)\n",
            "  Place (Agency) (Agency)_tokens\n",
            "  Place (Agency) (Agency)_cleaned\n",
            "  Place (Agency) (Agency)_lexical\n",
            "  Place (Agency) (Agency)_morph\n",
            "  Place (Agency) (Agency)_syntactic\n",
            "  Place (Agency) (Agency)_semantic\n",
            "  Place (Agency) (Agency)_BoW\n",
            "\n",
            "Elite Status (Reservation) (Voucher)\n",
            "  Elite Status (Reservation) (Voucher)\n",
            "  Elite Status (Reservation) (Voucher)_cleaned\n",
            "  Elite Status (Reservation) (Voucher)_lexical\n",
            "  Elite Status (Reservation) (Voucher)_morph\n",
            "  Elite Status (Reservation) (Voucher)_syntactic\n",
            "  Elite Status (Reservation) (Voucher)_semantic\n",
            "  Elite Status (Reservation) (Voucher)_BoW\n",
            "\n",
            "Company (Agency) (Agency)\n",
            "  Company (Agency) (Agency)\n",
            "  Company (Agency) (Agency)_tokens\n",
            "  Company (Agency) (Agency)_cleaned\n",
            "  Company (Agency) (Agency)_lexical\n",
            "  Company (Agency) (Agency)_morph\n",
            "  Company (Agency) (Agency)_syntactic\n",
            "  Company (Agency) (Agency)_semantic\n",
            "  Company (Agency) (Agency)_BoW\n",
            "\n",
            "Enter The System (Agency) (Agency)\n",
            "  Enter The System (Agency) (Agency)\n",
            "  Enter The System (Agency) (Agency)_tokens\n",
            "  Enter The System (Agency) (Agency)_cleaned\n",
            "  Enter The System (Agency) (Agency)_lexical\n",
            "  Enter The System (Agency) (Agency)_morph\n",
            "  Enter The System (Agency) (Agency)_syntactic\n",
            "  Enter The System (Agency) (Agency)_semantic\n",
            "  Enter The System (Agency) (Agency)_BoW\n",
            "\n",
            "To Area (Reservation) (Voucher)\n",
            "  To Area (Reservation) (Voucher)\n",
            "  To Area (Reservation) (Voucher)_cleaned\n",
            "  To Area (Reservation) (Voucher)_lexical\n",
            "  To Area (Reservation) (Voucher)_morph\n",
            "  To Area (Reservation) (Voucher)_syntactic\n",
            "  To Area (Reservation) (Voucher)_semantic\n",
            "  To Area (Reservation) (Voucher)_BoW\n",
            "\n",
            "Reservation Type (Reservation) (Voucher)\n",
            "  Reservation Type (Reservation) (Voucher)\n",
            "  Reservation Type (Reservation) (Voucher)_cleaned\n",
            "  Reservation Type (Reservation) (Voucher)_lexical\n",
            "  Reservation Type (Reservation) (Voucher)_morph\n",
            "  Reservation Type (Reservation) (Voucher)_syntactic\n",
            "  Reservation Type (Reservation) (Voucher)_semantic\n",
            "  Reservation Type (Reservation) (Voucher)_BoW\n",
            "\n",
            "Description\n",
            "  Description\n",
            "  Description_tokens\n",
            "  Description_cleaned\n",
            "  Description_lexical\n",
            "  Description_morph\n",
            "  Description_syntactic\n",
            "  Description_semantic\n",
            "  Description_BoW\n",
            "\n",
            "Kurator Group (Agency) (Agency)\n",
            "  Kurator Group (Agency) (Agency)\n",
            "  Kurator Group (Agency) (Agency)_tokens\n",
            "  Kurator Group (Agency) (Agency)_cleaned\n",
            "  Kurator Group (Agency) (Agency)_lexical\n",
            "  Kurator Group (Agency) (Agency)_morph\n",
            "  Kurator Group (Agency) (Agency)_syntactic\n",
            "  Kurator Group (Agency) (Agency)_semantic\n",
            "  Kurator Group (Agency) (Agency)_BoW\n",
            "\n",
            "EE Id (Agency) (Agency)\n",
            "  EE Id (Agency) (Agency)\n",
            "  EE Id (Agency) (Agency)_cleaned\n",
            "  EE Id (Agency) (Agency)_lexical\n",
            "  EE Id (Agency) (Agency)_morph\n",
            "  EE Id (Agency) (Agency)_syntactic\n",
            "  EE Id (Agency) (Agency)_semantic\n",
            "  EE Id (Agency) (Agency)_BoW\n",
            "\n",
            "Agency Type Id (Agency) (Agency)\n",
            "  Agency Type Id (Agency) (Agency)\n",
            "  Agency Type Id (Agency) (Agency)_tokens\n",
            "  Agency Type Id (Agency) (Agency)_cleaned\n",
            "  Agency Type Id (Agency) (Agency)_lexical\n",
            "  Agency Type Id (Agency) (Agency)_morph\n",
            "  Agency Type Id (Agency) (Agency)_syntactic\n",
            "  Agency Type Id (Agency) (Agency)_semantic\n",
            "  Agency Type Id (Agency) (Agency)_BoW\n",
            "\n",
            "Process Phase\n",
            "  Process Phase\n",
            "  Process Phase_tokens\n",
            "  Process Phase_cleaned\n",
            "  Process Phase_lexical\n",
            "  Process Phase_morph\n",
            "  Process Phase_syntactic\n",
            "  Process Phase_semantic\n",
            "  Process Phase_BoW\n",
            "\n",
            "Reservation Class (Reservation) (Voucher)\n",
            "  Reservation Class (Reservation) (Voucher)\n",
            "  Reservation Class (Reservation) (Voucher)_cleaned\n",
            "  Reservation Class (Reservation) (Voucher)_lexical\n",
            "  Reservation Class (Reservation) (Voucher)_morph\n",
            "  Reservation Class (Reservation) (Voucher)_syntactic\n",
            "  Reservation Class (Reservation) (Voucher)_semantic\n",
            "  Reservation Class (Reservation) (Voucher)_BoW\n",
            "\n",
            "Is VIP (Reservation) (Voucher)\n",
            "  Is VIP (Reservation) (Voucher)\n",
            "  Is VIP (Reservation) (Voucher)_cleaned\n",
            "  Is VIP (Reservation) (Voucher)_lexical\n",
            "  Is VIP (Reservation) (Voucher)_morph\n",
            "  Is VIP (Reservation) (Voucher)_syntactic\n",
            "  Is VIP (Reservation) (Voucher)_semantic\n",
            "  Is VIP (Reservation) (Voucher)_BoW\n",
            "\n",
            "From Area (Reservation) (Voucher)\n",
            "  From Area (Reservation) (Voucher)\n",
            "  From Area (Reservation) (Voucher)_cleaned\n",
            "  From Area (Reservation) (Voucher)_lexical\n",
            "  From Area (Reservation) (Voucher)_morph\n",
            "  From Area (Reservation) (Voucher)_syntactic\n",
            "  From Area (Reservation) (Voucher)_semantic\n",
            "  From Area (Reservation) (Voucher)_BoW\n",
            "\n",
            "portal\n",
            "  portal_user_group_code\n",
            "\n"
          ]
        }
      ]
    },
    {
      "cell_type": "markdown",
      "metadata": {
        "id": "LSCjsqJBTpza"
      },
      "source": [
        "**TF-IDF:**\n",
        "\n",
        "Взвешивание слов в зависимости от их частоты в документе и в корпусе текстов.\n",
        "Используем TfidfVectorizer из библиотеки Scikit-learn для создания векторов."
      ]
    },
    {
      "cell_type": "code",
      "execution_count": null,
      "metadata": {
        "colab": {
          "base_uri": "https://localhost:8080/"
        },
        "id": "crJOxk5PoCfd",
        "outputId": "6f52303b-3b49-4b61-dcf7-550a5f57a668"
      },
      "outputs": [
        {
          "output_type": "stream",
          "name": "stdout",
          "text": [
            "Requirement already satisfied: pandas in /usr/local/lib/python3.10/dist-packages (2.1.4)\n",
            "Requirement already satisfied: tqdm in /usr/local/lib/python3.10/dist-packages (4.66.4)\n",
            "Requirement already satisfied: gensim in /usr/local/lib/python3.10/dist-packages (4.3.3)\n",
            "Requirement already satisfied: pyarrow in /usr/local/lib/python3.10/dist-packages (17.0.0)\n",
            "Requirement already satisfied: numpy<2,>=1.22.4 in /usr/local/lib/python3.10/dist-packages (from pandas) (1.26.4)\n",
            "Requirement already satisfied: python-dateutil>=2.8.2 in /usr/local/lib/python3.10/dist-packages (from pandas) (2.9.0.post0)\n",
            "Requirement already satisfied: pytz>=2020.1 in /usr/local/lib/python3.10/dist-packages (from pandas) (2024.1)\n",
            "Requirement already satisfied: tzdata>=2022.1 in /usr/local/lib/python3.10/dist-packages (from pandas) (2024.1)\n",
            "Requirement already satisfied: scipy<1.14.0,>=1.7.0 in /usr/local/lib/python3.10/dist-packages (from gensim) (1.13.1)\n",
            "Requirement already satisfied: smart-open>=1.8.1 in /usr/local/lib/python3.10/dist-packages (from gensim) (7.0.4)\n",
            "Requirement already satisfied: six>=1.5 in /usr/local/lib/python3.10/dist-packages (from python-dateutil>=2.8.2->pandas) (1.16.0)\n",
            "Requirement already satisfied: wrapt in /usr/local/lib/python3.10/dist-packages (from smart-open>=1.8.1->gensim) (1.14.1)\n"
          ]
        }
      ],
      "source": [
        "# Установка библиотек (если еще не установлена)\n",
        "!pip install pandas tqdm gensim pyarrow\n"
      ]
    },
    {
      "cell_type": "code",
      "source": [
        "import pandas as pd\n",
        "from sklearn.feature_extraction.text import TfidfVectorizer\n",
        "from tqdm import tqdm\n",
        "import os\n",
        "import json\n",
        "import numpy as np\n",
        "\n",
        "# Активация tqdm для pandas\n",
        "tqdm.pandas()\n",
        "\n",
        "# Загрузка данных из файла\n",
        "input_file_path = \"/content/drive/MyDrive/Стажировка/Semantic_2/bow_results.parquet\"\n",
        "final_file_path = '/content/drive/MyDrive/Стажировка/Semantic_2/tfidf_results.parquet'\n",
        "progress_file_path = '/content/drive/MyDrive/Стажировка/Semantic_2/progress_tfidf.json'\n",
        "\n",
        "# Загрузка данных\n",
        "df = pd.read_parquet(input_file_path)\n",
        "\n",
        "# Определение столбцов для обработки\n",
        "columns_to_process = [\n",
        "    'Place (Agency) (Agency)', 'Elite Status (Reservation) (Voucher)', 'Company (Agency) (Agency)',\n",
        "    'Enter The System (Agency) (Agency)', 'To Area (Reservation) (Voucher)',\n",
        "    'Reservation Type (Reservation) (Voucher)', 'Description',\n",
        "    'Kurator Group (Agency) (Agency)', 'EE Id (Agency) (Agency)', 'Agency Type Id (Agency) (Agency)',\n",
        "    'Process Phase', 'Reservation Class (Reservation) (Voucher)',\n",
        "    'Is VIP (Reservation) (Voucher)', 'From Area (Reservation) (Voucher)'\n",
        "]\n",
        "\n",
        "# Заполнение пропусков\n",
        "for column in columns_to_process:\n",
        "    df[column] = df[column].fillna('')\n",
        "\n",
        "# Загрузка прогресса, если он существует\n",
        "if os.path.exists(progress_file_path):\n",
        "    with open(progress_file_path, 'r') as f:\n",
        "        progress_data = json.load(f)\n",
        "else:\n",
        "    progress_data = {column: False for column in columns_to_process}\n",
        "\n",
        "# Применение TfidfVectorizer к каждому столбцу\n",
        "for column in tqdm(columns_to_process, desc=\"Processing columns\"):\n",
        "    if progress_data.get(column + '_TFIDF', False):\n",
        "        print(f\"Столбец {column} уже обработан, пропускаем.\")\n",
        "        continue\n",
        "\n",
        "    print(f\"Обработка столбца: {column}\")\n",
        "    vectorizer = TfidfVectorizer()\n",
        "    tfidf_matrix = vectorizer.fit_transform(df[column].astype(str))\n",
        "\n",
        "    # Усреднение TF-IDF векторов для каждого текста\n",
        "    tfidf_mean = tfidf_matrix.mean(axis=1)\n",
        "\n",
        "    # Добавление среднего TF-IDF вектора как нового столбца\n",
        "    df[column + '_TFIDF'] = tfidf_mean.A.flatten()\n",
        "\n",
        "    # Обновление прогресса\n",
        "    progress_data[column + '_TFIDF'] = True\n",
        "    with open(progress_file_path, 'w') as f:\n",
        "        json.dump(progress_data, f)\n",
        "\n",
        "# Сохранение результата\n",
        "df.to_parquet(final_file_path, index=False)\n",
        "\n",
        "# Удаление файла прогресса после завершения обработки\n",
        "os.remove(progress_file_path)\n",
        "\n",
        "print(f\"TF-IDF обработка завершена. Результаты сохранены в {final_file_path}\")\n"
      ],
      "metadata": {
        "colab": {
          "base_uri": "https://localhost:8080/"
        },
        "id": "RHaBgicZwRjS",
        "outputId": "a87381c3-4e3f-4ec8-db36-021ca4541030"
      },
      "execution_count": null,
      "outputs": [
        {
          "output_type": "stream",
          "name": "stderr",
          "text": [
            "\rProcessing columns:   0%|          | 0/14 [00:00<?, ?it/s]"
          ]
        },
        {
          "output_type": "stream",
          "name": "stdout",
          "text": [
            "Обработка столбца: Place (Agency) (Agency)\n"
          ]
        },
        {
          "output_type": "stream",
          "name": "stderr",
          "text": [
            "\rProcessing columns:   7%|▋         | 1/14 [00:00<00:04,  3.08it/s]"
          ]
        },
        {
          "output_type": "stream",
          "name": "stdout",
          "text": [
            "Обработка столбца: Elite Status (Reservation) (Voucher)\n"
          ]
        },
        {
          "output_type": "stream",
          "name": "stderr",
          "text": [
            "\rProcessing columns:  14%|█▍        | 2/14 [00:00<00:03,  3.85it/s]"
          ]
        },
        {
          "output_type": "stream",
          "name": "stdout",
          "text": [
            "Обработка столбца: Company (Agency) (Agency)\n"
          ]
        },
        {
          "output_type": "stream",
          "name": "stderr",
          "text": [
            "\rProcessing columns:  21%|██▏       | 3/14 [00:00<00:02,  3.86it/s]"
          ]
        },
        {
          "output_type": "stream",
          "name": "stdout",
          "text": [
            "Обработка столбца: Enter The System (Agency) (Agency)\n"
          ]
        },
        {
          "output_type": "stream",
          "name": "stderr",
          "text": [
            "\rProcessing columns:  29%|██▊       | 4/14 [00:01<00:02,  4.19it/s]"
          ]
        },
        {
          "output_type": "stream",
          "name": "stdout",
          "text": [
            "Обработка столбца: To Area (Reservation) (Voucher)\n"
          ]
        },
        {
          "output_type": "stream",
          "name": "stderr",
          "text": [
            "\rProcessing columns:  36%|███▌      | 5/14 [00:01<00:02,  4.38it/s]"
          ]
        },
        {
          "output_type": "stream",
          "name": "stdout",
          "text": [
            "Обработка столбца: Reservation Type (Reservation) (Voucher)\n"
          ]
        },
        {
          "output_type": "stream",
          "name": "stderr",
          "text": [
            "\rProcessing columns:  43%|████▎     | 6/14 [00:01<00:01,  4.45it/s]"
          ]
        },
        {
          "output_type": "stream",
          "name": "stdout",
          "text": [
            "Обработка столбца: Description\n"
          ]
        },
        {
          "output_type": "stream",
          "name": "stderr",
          "text": [
            "\rProcessing columns:  50%|█████     | 7/14 [00:05<00:10,  1.55s/it]"
          ]
        },
        {
          "output_type": "stream",
          "name": "stdout",
          "text": [
            "Обработка столбца: Kurator Group (Agency) (Agency)\n"
          ]
        },
        {
          "output_type": "stream",
          "name": "stderr",
          "text": [
            "\rProcessing columns:  57%|█████▋    | 8/14 [00:06<00:07,  1.18s/it]"
          ]
        },
        {
          "output_type": "stream",
          "name": "stdout",
          "text": [
            "Обработка столбца: EE Id (Agency) (Agency)\n"
          ]
        },
        {
          "output_type": "stream",
          "name": "stderr",
          "text": [
            "\rProcessing columns:  64%|██████▍   | 9/14 [00:06<00:04,  1.13it/s]"
          ]
        },
        {
          "output_type": "stream",
          "name": "stdout",
          "text": [
            "Обработка столбца: Agency Type Id (Agency) (Agency)\n"
          ]
        },
        {
          "output_type": "stream",
          "name": "stderr",
          "text": [
            "\rProcessing columns:  71%|███████▏  | 10/14 [00:06<00:02,  1.44it/s]"
          ]
        },
        {
          "output_type": "stream",
          "name": "stdout",
          "text": [
            "Обработка столбца: Process Phase\n"
          ]
        },
        {
          "output_type": "stream",
          "name": "stderr",
          "text": [
            "\rProcessing columns:  79%|███████▊  | 11/14 [00:06<00:01,  1.77it/s]"
          ]
        },
        {
          "output_type": "stream",
          "name": "stdout",
          "text": [
            "Обработка столбца: Reservation Class (Reservation) (Voucher)\n"
          ]
        },
        {
          "output_type": "stream",
          "name": "stderr",
          "text": [
            "\rProcessing columns:  86%|████████▌ | 12/14 [00:07<00:00,  2.15it/s]"
          ]
        },
        {
          "output_type": "stream",
          "name": "stdout",
          "text": [
            "Обработка столбца: Is VIP (Reservation) (Voucher)\n"
          ]
        },
        {
          "output_type": "stream",
          "name": "stderr",
          "text": [
            "\rProcessing columns:  93%|█████████▎| 13/14 [00:07<00:00,  2.57it/s]"
          ]
        },
        {
          "output_type": "stream",
          "name": "stdout",
          "text": [
            "Обработка столбца: From Area (Reservation) (Voucher)\n"
          ]
        },
        {
          "output_type": "stream",
          "name": "stderr",
          "text": [
            "Processing columns: 100%|██████████| 14/14 [00:07<00:00,  1.86it/s]\n"
          ]
        },
        {
          "output_type": "stream",
          "name": "stdout",
          "text": [
            "TF-IDF обработка завершена. Результаты сохранены в /content/drive/MyDrive/Стажировка/Semantic_2/tfidf_results.parquet\n"
          ]
        }
      ]
    },
    {
      "cell_type": "code",
      "source": [
        "import pandas as pd\n",
        "\n",
        "# Путь к файлу\n",
        "file_path = \"/content/drive/MyDrive/Стажировка/Semantic_2/tfidf_results.parquet\"\n",
        "\n",
        "# Загрузка данных из файла\n",
        "df = pd.read_parquet(file_path)\n",
        "\n",
        "# Создание словаря для хранения основных названий и их вариантов\n",
        "columns_dict = {}\n",
        "\n",
        "# Проход по всем названиям столбцов\n",
        "for col in df.columns:\n",
        "    # Извлечение основного названия (до первого символа '_')\n",
        "    base_name = col.split('_')[0]\n",
        "    if base_name not in columns_dict:\n",
        "        columns_dict[base_name] = []\n",
        "    columns_dict[base_name].append(col)\n",
        "\n",
        "# Вывод названий столбцов в столбик\n",
        "for base_name, variations in columns_dict.items():\n",
        "    print(base_name)  # Основное название\n",
        "    for variant in variations:\n",
        "        print(f\"  {variant}\")  # Название с приставками\n",
        "    print()  # Пустая строка для разделения\n"
      ],
      "metadata": {
        "colab": {
          "base_uri": "https://localhost:8080/"
        },
        "outputId": "c96ba080-0a72-402e-bd1e-6e4f62cfe51e",
        "id": "2e0h1-0_yFBL"
      },
      "execution_count": null,
      "outputs": [
        {
          "output_type": "stream",
          "name": "stdout",
          "text": [
            "Portal User Group\n",
            "  Portal User Group\n",
            "\n",
            "Place (Agency) (Agency)\n",
            "  Place (Agency) (Agency)\n",
            "  Place (Agency) (Agency)_tokens\n",
            "  Place (Agency) (Agency)_cleaned\n",
            "  Place (Agency) (Agency)_lexical\n",
            "  Place (Agency) (Agency)_morph\n",
            "  Place (Agency) (Agency)_syntactic\n",
            "  Place (Agency) (Agency)_semantic\n",
            "  Place (Agency) (Agency)_BoW\n",
            "  Place (Agency) (Agency)_TFIDF\n",
            "\n",
            "Elite Status (Reservation) (Voucher)\n",
            "  Elite Status (Reservation) (Voucher)\n",
            "  Elite Status (Reservation) (Voucher)_cleaned\n",
            "  Elite Status (Reservation) (Voucher)_lexical\n",
            "  Elite Status (Reservation) (Voucher)_morph\n",
            "  Elite Status (Reservation) (Voucher)_syntactic\n",
            "  Elite Status (Reservation) (Voucher)_semantic\n",
            "  Elite Status (Reservation) (Voucher)_BoW\n",
            "  Elite Status (Reservation) (Voucher)_TFIDF\n",
            "\n",
            "Company (Agency) (Agency)\n",
            "  Company (Agency) (Agency)\n",
            "  Company (Agency) (Agency)_tokens\n",
            "  Company (Agency) (Agency)_cleaned\n",
            "  Company (Agency) (Agency)_lexical\n",
            "  Company (Agency) (Agency)_morph\n",
            "  Company (Agency) (Agency)_syntactic\n",
            "  Company (Agency) (Agency)_semantic\n",
            "  Company (Agency) (Agency)_BoW\n",
            "  Company (Agency) (Agency)_TFIDF\n",
            "\n",
            "Enter The System (Agency) (Agency)\n",
            "  Enter The System (Agency) (Agency)\n",
            "  Enter The System (Agency) (Agency)_tokens\n",
            "  Enter The System (Agency) (Agency)_cleaned\n",
            "  Enter The System (Agency) (Agency)_lexical\n",
            "  Enter The System (Agency) (Agency)_morph\n",
            "  Enter The System (Agency) (Agency)_syntactic\n",
            "  Enter The System (Agency) (Agency)_semantic\n",
            "  Enter The System (Agency) (Agency)_BoW\n",
            "  Enter The System (Agency) (Agency)_TFIDF\n",
            "\n",
            "To Area (Reservation) (Voucher)\n",
            "  To Area (Reservation) (Voucher)\n",
            "  To Area (Reservation) (Voucher)_cleaned\n",
            "  To Area (Reservation) (Voucher)_lexical\n",
            "  To Area (Reservation) (Voucher)_morph\n",
            "  To Area (Reservation) (Voucher)_syntactic\n",
            "  To Area (Reservation) (Voucher)_semantic\n",
            "  To Area (Reservation) (Voucher)_BoW\n",
            "  To Area (Reservation) (Voucher)_TFIDF\n",
            "\n",
            "Reservation Type (Reservation) (Voucher)\n",
            "  Reservation Type (Reservation) (Voucher)\n",
            "  Reservation Type (Reservation) (Voucher)_cleaned\n",
            "  Reservation Type (Reservation) (Voucher)_lexical\n",
            "  Reservation Type (Reservation) (Voucher)_morph\n",
            "  Reservation Type (Reservation) (Voucher)_syntactic\n",
            "  Reservation Type (Reservation) (Voucher)_semantic\n",
            "  Reservation Type (Reservation) (Voucher)_BoW\n",
            "  Reservation Type (Reservation) (Voucher)_TFIDF\n",
            "\n",
            "Description\n",
            "  Description\n",
            "  Description_tokens\n",
            "  Description_cleaned\n",
            "  Description_lexical\n",
            "  Description_morph\n",
            "  Description_syntactic\n",
            "  Description_semantic\n",
            "  Description_BoW\n",
            "  Description_TFIDF\n",
            "\n",
            "Kurator Group (Agency) (Agency)\n",
            "  Kurator Group (Agency) (Agency)\n",
            "  Kurator Group (Agency) (Agency)_tokens\n",
            "  Kurator Group (Agency) (Agency)_cleaned\n",
            "  Kurator Group (Agency) (Agency)_lexical\n",
            "  Kurator Group (Agency) (Agency)_morph\n",
            "  Kurator Group (Agency) (Agency)_syntactic\n",
            "  Kurator Group (Agency) (Agency)_semantic\n",
            "  Kurator Group (Agency) (Agency)_BoW\n",
            "  Kurator Group (Agency) (Agency)_TFIDF\n",
            "\n",
            "EE Id (Agency) (Agency)\n",
            "  EE Id (Agency) (Agency)\n",
            "  EE Id (Agency) (Agency)_cleaned\n",
            "  EE Id (Agency) (Agency)_lexical\n",
            "  EE Id (Agency) (Agency)_morph\n",
            "  EE Id (Agency) (Agency)_syntactic\n",
            "  EE Id (Agency) (Agency)_semantic\n",
            "  EE Id (Agency) (Agency)_BoW\n",
            "  EE Id (Agency) (Agency)_TFIDF\n",
            "\n",
            "Agency Type Id (Agency) (Agency)\n",
            "  Agency Type Id (Agency) (Agency)\n",
            "  Agency Type Id (Agency) (Agency)_tokens\n",
            "  Agency Type Id (Agency) (Agency)_cleaned\n",
            "  Agency Type Id (Agency) (Agency)_lexical\n",
            "  Agency Type Id (Agency) (Agency)_morph\n",
            "  Agency Type Id (Agency) (Agency)_syntactic\n",
            "  Agency Type Id (Agency) (Agency)_semantic\n",
            "  Agency Type Id (Agency) (Agency)_BoW\n",
            "  Agency Type Id (Agency) (Agency)_TFIDF\n",
            "\n",
            "Process Phase\n",
            "  Process Phase\n",
            "  Process Phase_tokens\n",
            "  Process Phase_cleaned\n",
            "  Process Phase_lexical\n",
            "  Process Phase_morph\n",
            "  Process Phase_syntactic\n",
            "  Process Phase_semantic\n",
            "  Process Phase_BoW\n",
            "  Process Phase_TFIDF\n",
            "\n",
            "Reservation Class (Reservation) (Voucher)\n",
            "  Reservation Class (Reservation) (Voucher)\n",
            "  Reservation Class (Reservation) (Voucher)_cleaned\n",
            "  Reservation Class (Reservation) (Voucher)_lexical\n",
            "  Reservation Class (Reservation) (Voucher)_morph\n",
            "  Reservation Class (Reservation) (Voucher)_syntactic\n",
            "  Reservation Class (Reservation) (Voucher)_semantic\n",
            "  Reservation Class (Reservation) (Voucher)_BoW\n",
            "  Reservation Class (Reservation) (Voucher)_TFIDF\n",
            "\n",
            "Is VIP (Reservation) (Voucher)\n",
            "  Is VIP (Reservation) (Voucher)\n",
            "  Is VIP (Reservation) (Voucher)_cleaned\n",
            "  Is VIP (Reservation) (Voucher)_lexical\n",
            "  Is VIP (Reservation) (Voucher)_morph\n",
            "  Is VIP (Reservation) (Voucher)_syntactic\n",
            "  Is VIP (Reservation) (Voucher)_semantic\n",
            "  Is VIP (Reservation) (Voucher)_BoW\n",
            "  Is VIP (Reservation) (Voucher)_TFIDF\n",
            "\n",
            "From Area (Reservation) (Voucher)\n",
            "  From Area (Reservation) (Voucher)\n",
            "  From Area (Reservation) (Voucher)_cleaned\n",
            "  From Area (Reservation) (Voucher)_lexical\n",
            "  From Area (Reservation) (Voucher)_morph\n",
            "  From Area (Reservation) (Voucher)_syntactic\n",
            "  From Area (Reservation) (Voucher)_semantic\n",
            "  From Area (Reservation) (Voucher)_BoW\n",
            "  From Area (Reservation) (Voucher)_TFIDF\n",
            "\n",
            "portal\n",
            "  portal_user_group_code\n",
            "\n"
          ]
        }
      ]
    },
    {
      "cell_type": "markdown",
      "metadata": {
        "id": "SDQWEtYVUJ2I"
      },
      "source": [
        "**Word Embeddings:**\n",
        "\n",
        "Представление слов в виде плотных векторов, которые учитывают контекст.\n",
        "Используем предобученные модели, такие как Word2Vec, для создания векторов.\n",
        "\n",
        "Блок кода отвечает за подготовку данных и преобразование их в векторы с использованием модели Word2Vec, а затем за сохранение этих данных в промежуточный и окончательный файлы."
      ]
    },
    {
      "cell_type": "code",
      "execution_count": null,
      "metadata": {
        "id": "UaVA4gwfWCsF",
        "colab": {
          "base_uri": "https://localhost:8080/"
        },
        "outputId": "fb4c6118-5ca3-4a3c-dc19-51666473b647"
      },
      "outputs": [
        {
          "output_type": "stream",
          "name": "stdout",
          "text": [
            "Requirement already satisfied: pandas in /usr/local/lib/python3.10/dist-packages (2.1.4)\n",
            "Requirement already satisfied: tqdm in /usr/local/lib/python3.10/dist-packages (4.66.4)\n",
            "Requirement already satisfied: gensim in /usr/local/lib/python3.10/dist-packages (4.3.3)\n",
            "Requirement already satisfied: pyarrow in /usr/local/lib/python3.10/dist-packages (17.0.0)\n",
            "Requirement already satisfied: numpy<2,>=1.22.4 in /usr/local/lib/python3.10/dist-packages (from pandas) (1.26.4)\n",
            "Requirement already satisfied: python-dateutil>=2.8.2 in /usr/local/lib/python3.10/dist-packages (from pandas) (2.9.0.post0)\n",
            "Requirement already satisfied: pytz>=2020.1 in /usr/local/lib/python3.10/dist-packages (from pandas) (2024.1)\n",
            "Requirement already satisfied: tzdata>=2022.1 in /usr/local/lib/python3.10/dist-packages (from pandas) (2024.1)\n",
            "Requirement already satisfied: scipy<1.14.0,>=1.7.0 in /usr/local/lib/python3.10/dist-packages (from gensim) (1.13.1)\n",
            "Requirement already satisfied: smart-open>=1.8.1 in /usr/local/lib/python3.10/dist-packages (from gensim) (7.0.4)\n",
            "Requirement already satisfied: six>=1.5 in /usr/local/lib/python3.10/dist-packages (from python-dateutil>=2.8.2->pandas) (1.16.0)\n",
            "Requirement already satisfied: wrapt in /usr/local/lib/python3.10/dist-packages (from smart-open>=1.8.1->gensim) (1.14.1)\n"
          ]
        }
      ],
      "source": [
        "# Установка библиотек (если еще не установлена)\n",
        "!pip install pandas tqdm gensim pyarrow\n"
      ]
    },
    {
      "cell_type": "code",
      "source": [
        "import pandas as pd\n",
        "from gensim.models import Word2Vec\n",
        "from tqdm import tqdm\n",
        "import json\n",
        "import os\n",
        "import numpy as np\n",
        "\n",
        "# Активация tqdm для pandas\n",
        "tqdm.pandas()\n",
        "\n",
        "# Загрузка данных из файла\n",
        "input_file_path = \"/content/drive/MyDrive/Стажировка/Semantic_2/tfidf_results.parquet\"\n",
        "intermediate_path = '/content/drive/MyDrive/Стажировка/Semantic_2/intermediate_word2vec_result.parquet'\n",
        "final_parquet_path = '/content/drive/MyDrive/Стажировка/Semantic_2/word2vec_results.parquet'\n",
        "progress_file_path = '/content/drive/MyDrive/Стажировка/Semantic_2/progress_word2vec.json'\n",
        "\n",
        "# Чтение данных, если уже существует промежуточный файл\n",
        "if os.path.exists(intermediate_path):\n",
        "    df = pd.read_parquet(intermediate_path)\n",
        "else:\n",
        "    df = pd.read_parquet(input_file_path)\n",
        "\n",
        "# Проверка на пропуски в столбце и заполнение их пустыми строками\n",
        "columns_to_process = [\n",
        "    'Place (Agency) (Agency)', 'Elite Status (Reservation) (Voucher)', 'Company (Agency) (Agency)',\n",
        "    'Enter The System (Agency) (Agency)', 'To Area (Reservation) (Voucher)',\n",
        "    'Reservation Type (Reservation) (Voucher)', 'Description',\n",
        "    'Kurator Group (Agency) (Agency)', 'EE Id (Agency) (Agency)', 'Agency Type Id (Agency) (Agency)',\n",
        "    'Process Phase', 'Reservation Class (Reservation) (Voucher)',\n",
        "    'Is VIP (Reservation) (Voucher)', 'From Area (Reservation) (Voucher)'\n",
        "]\n",
        "\n",
        "for column in columns_to_process:\n",
        "    df[column] = df[column].fillna('')\n",
        "\n",
        "# Загрузка информации о прогрессе, если она существует\n",
        "if os.path.exists(progress_file_path):\n",
        "    with open(progress_file_path, 'r') as f:\n",
        "        progress_data = json.load(f)\n",
        "else:\n",
        "    progress_data = {column: False for column in columns_to_process}\n",
        "\n",
        "# Подготовка данных для обучения модели Word2Vec\n",
        "sentences = [row.split() for column in columns_to_process for row in df[column]]\n",
        "\n",
        "# Обучение модели Word2Vec на данных\n",
        "word2vec_model = Word2Vec(sentences, vector_size=100, window=5, min_count=1, workers=4)\n",
        "\n",
        "# Функция для усреднения векторов\n",
        "def text_to_avg_vector(text):\n",
        "    words = text.split()\n",
        "    vectors = [word2vec_model.wv[word] for word in words if word in word2vec_model.wv]\n",
        "    if vectors:\n",
        "        return np.mean(vectors, axis=0).tolist()\n",
        "    else:\n",
        "        return np.zeros(word2vec_model.vector_size).tolist()\n",
        "\n",
        "# Применение функции text_to_avg_vector к каждому столбцу с индикатором хода выполнения\n",
        "for column in columns_to_process:\n",
        "    if progress_data.get(column + '_Word2Vec', False):\n",
        "        print(f\"Столбец {column} уже обработан, пропускаем.\")\n",
        "        continue\n",
        "\n",
        "    print(f\"Обработка столбца: {column}\")\n",
        "    # Создание нового столбца для векторных данных\n",
        "    df[column + '_Word2Vec'] = df[column].progress_apply(lambda x: json.dumps(text_to_avg_vector(x)))\n",
        "\n",
        "    # Обновление прогресса\n",
        "    progress_data[column + '_Word2Vec'] = True\n",
        "    with open(progress_file_path, 'w') as f:\n",
        "        json.dump(progress_data, f)\n",
        "\n",
        "    # Сохранение промежуточного результата после обработки каждого столбца\n",
        "    df.to_parquet(intermediate_path, index=False)\n",
        "\n",
        "# Сохранение окончательного результата\n",
        "df.to_parquet(final_parquet_path, index=False)\n",
        "\n",
        "# Удаление файла прогресса после завершения обработки\n",
        "os.remove(progress_file_path)\n",
        "\n",
        "print(f\"Word Embeddings завершены. Результаты сохранены в {final_parquet_path}\")\n"
      ],
      "metadata": {
        "colab": {
          "base_uri": "https://localhost:8080/"
        },
        "id": "clLtdWk2U_CY",
        "outputId": "3d931045-d7a4-4ce3-d74c-ebbd39d07055"
      },
      "execution_count": null,
      "outputs": [
        {
          "output_type": "stream",
          "name": "stdout",
          "text": [
            "Обработка столбца: Place (Agency) (Agency)\n"
          ]
        },
        {
          "output_type": "stream",
          "name": "stderr",
          "text": [
            "100%|██████████| 82432/82432 [00:08<00:00, 9860.15it/s]\n"
          ]
        },
        {
          "output_type": "stream",
          "name": "stdout",
          "text": [
            "Обработка столбца: Elite Status (Reservation) (Voucher)\n"
          ]
        },
        {
          "output_type": "stream",
          "name": "stderr",
          "text": [
            "100%|██████████| 82432/82432 [00:11<00:00, 7480.41it/s]\n"
          ]
        },
        {
          "output_type": "stream",
          "name": "stdout",
          "text": [
            "Обработка столбца: Company (Agency) (Agency)\n"
          ]
        },
        {
          "output_type": "stream",
          "name": "stderr",
          "text": [
            "100%|██████████| 82432/82432 [00:10<00:00, 7558.69it/s]\n"
          ]
        },
        {
          "output_type": "stream",
          "name": "stdout",
          "text": [
            "Обработка столбца: Enter The System (Agency) (Agency)\n"
          ]
        },
        {
          "output_type": "stream",
          "name": "stderr",
          "text": [
            "100%|██████████| 82432/82432 [00:10<00:00, 7535.00it/s]\n"
          ]
        },
        {
          "output_type": "stream",
          "name": "stdout",
          "text": [
            "Обработка столбца: To Area (Reservation) (Voucher)\n"
          ]
        },
        {
          "output_type": "stream",
          "name": "stderr",
          "text": [
            "100%|██████████| 82432/82432 [00:10<00:00, 7503.91it/s] \n"
          ]
        },
        {
          "output_type": "stream",
          "name": "stdout",
          "text": [
            "Обработка столбца: Reservation Type (Reservation) (Voucher)\n"
          ]
        },
        {
          "output_type": "stream",
          "name": "stderr",
          "text": [
            "100%|██████████| 82432/82432 [00:11<00:00, 7478.70it/s]\n"
          ]
        },
        {
          "output_type": "stream",
          "name": "stdout",
          "text": [
            "Обработка столбца: Description\n"
          ]
        },
        {
          "output_type": "stream",
          "name": "stderr",
          "text": [
            "100%|██████████| 82432/82432 [00:15<00:00, 5454.96it/s]\n"
          ]
        },
        {
          "output_type": "stream",
          "name": "stdout",
          "text": [
            "Обработка столбца: Kurator Group (Agency) (Agency)\n"
          ]
        },
        {
          "output_type": "stream",
          "name": "stderr",
          "text": [
            "100%|██████████| 82432/82432 [00:11<00:00, 7373.78it/s] \n"
          ]
        },
        {
          "output_type": "stream",
          "name": "stdout",
          "text": [
            "Обработка столбца: EE Id (Agency) (Agency)\n"
          ]
        },
        {
          "output_type": "stream",
          "name": "stderr",
          "text": [
            "100%|██████████| 82432/82432 [00:11<00:00, 7314.18it/s]\n"
          ]
        },
        {
          "output_type": "stream",
          "name": "stdout",
          "text": [
            "Обработка столбца: Agency Type Id (Agency) (Agency)\n"
          ]
        },
        {
          "output_type": "stream",
          "name": "stderr",
          "text": [
            "100%|██████████| 82432/82432 [00:10<00:00, 7603.29it/s] \n"
          ]
        },
        {
          "output_type": "stream",
          "name": "stdout",
          "text": [
            "Обработка столбца: Process Phase\n"
          ]
        },
        {
          "output_type": "stream",
          "name": "stderr",
          "text": [
            "100%|██████████| 82432/82432 [00:10<00:00, 7566.90it/s] \n"
          ]
        },
        {
          "output_type": "stream",
          "name": "stdout",
          "text": [
            "Обработка столбца: Reservation Class (Reservation) (Voucher)\n"
          ]
        },
        {
          "output_type": "stream",
          "name": "stderr",
          "text": [
            "100%|██████████| 82432/82432 [00:11<00:00, 7288.55it/s] \n"
          ]
        },
        {
          "output_type": "stream",
          "name": "stdout",
          "text": [
            "Обработка столбца: Is VIP (Reservation) (Voucher)\n"
          ]
        },
        {
          "output_type": "stream",
          "name": "stderr",
          "text": [
            "100%|██████████| 82432/82432 [00:11<00:00, 7364.36it/s] \n"
          ]
        },
        {
          "output_type": "stream",
          "name": "stdout",
          "text": [
            "Обработка столбца: From Area (Reservation) (Voucher)\n"
          ]
        },
        {
          "output_type": "stream",
          "name": "stderr",
          "text": [
            "100%|██████████| 82432/82432 [00:11<00:00, 7167.75it/s] \n"
          ]
        },
        {
          "output_type": "stream",
          "name": "stdout",
          "text": [
            "Word Embeddings завершены. Результаты сохранены в /content/drive/MyDrive/Стажировка/Semantic_2/word2vec_results.parquet\n"
          ]
        }
      ]
    },
    {
      "cell_type": "markdown",
      "source": [
        " Вывод названия столбцов по именам и тип данных каждого столбца."
      ],
      "metadata": {
        "id": "qjO9HEICF1XD"
      }
    },
    {
      "cell_type": "code",
      "source": [
        "import pandas as pd\n",
        "\n",
        "# Путь к файлу\n",
        "file_path = \"/content/drive/MyDrive/Стажировка/Semantic_2/word2vec_results.parquet\"\n",
        "\n",
        "# Загрузка данных из файла\n",
        "df = pd.read_parquet(file_path)\n",
        "\n",
        "# Создание словаря для хранения основных названий и их вариантов\n",
        "columns_dict = {}\n",
        "\n",
        "# Проход по всем названиям столбцов\n",
        "for col in df.columns:\n",
        "    # Извлечение основного названия (до первого символа '_')\n",
        "    base_name = col.split('_')[0]\n",
        "    if base_name not in columns_dict:\n",
        "        columns_dict[base_name] = []\n",
        "    columns_dict[base_name].append(col)\n",
        "\n",
        "# Вывод названий столбцов в столбик с указанием типа данных\n",
        "for base_name, variations in columns_dict.items():\n",
        "    print(base_name)  # Основное название\n",
        "    for variant in variations:\n",
        "        col_type = df[variant].dtype  # Получаем тип данных столбца\n",
        "        print(f\"  {variant}: {col_type}\")  # Название с приставками и тип данных\n",
        "    print()  # Пустая строка для разделения\n",
        "\n",
        "# Вывод всех типов данных для всех столбцов (дополнительно)\n",
        "print(\"Типы данных для всех столбцов:\")\n",
        "print(df.dtypes)\n"
      ],
      "metadata": {
        "colab": {
          "base_uri": "https://localhost:8080/"
        },
        "id": "d0g490lLFtzL",
        "outputId": "2cccc649-0e2e-451a-f0b9-e67cbdbd013b"
      },
      "execution_count": null,
      "outputs": [
        {
          "output_type": "stream",
          "name": "stdout",
          "text": [
            "Portal User Group\n",
            "  Portal User Group: object\n",
            "\n",
            "Place (Agency) (Agency)\n",
            "  Place (Agency) (Agency): object\n",
            "  Place (Agency) (Agency)_tokens: object\n",
            "  Place (Agency) (Agency)_cleaned: object\n",
            "  Place (Agency) (Agency)_lexical: object\n",
            "  Place (Agency) (Agency)_morph: object\n",
            "  Place (Agency) (Agency)_syntactic: object\n",
            "  Place (Agency) (Agency)_semantic: object\n",
            "  Place (Agency) (Agency)_BoW: object\n",
            "  Place (Agency) (Agency)_TFIDF: float64\n",
            "  Place (Agency) (Agency)_Word2Vec: object\n",
            "\n",
            "Elite Status (Reservation) (Voucher)\n",
            "  Elite Status (Reservation) (Voucher): object\n",
            "  Elite Status (Reservation) (Voucher)_cleaned: object\n",
            "  Elite Status (Reservation) (Voucher)_lexical: object\n",
            "  Elite Status (Reservation) (Voucher)_morph: object\n",
            "  Elite Status (Reservation) (Voucher)_syntactic: object\n",
            "  Elite Status (Reservation) (Voucher)_semantic: object\n",
            "  Elite Status (Reservation) (Voucher)_BoW: object\n",
            "  Elite Status (Reservation) (Voucher)_TFIDF: float64\n",
            "  Elite Status (Reservation) (Voucher)_Word2Vec: object\n",
            "\n",
            "Company (Agency) (Agency)\n",
            "  Company (Agency) (Agency): object\n",
            "  Company (Agency) (Agency)_tokens: object\n",
            "  Company (Agency) (Agency)_cleaned: object\n",
            "  Company (Agency) (Agency)_lexical: object\n",
            "  Company (Agency) (Agency)_morph: object\n",
            "  Company (Agency) (Agency)_syntactic: object\n",
            "  Company (Agency) (Agency)_semantic: object\n",
            "  Company (Agency) (Agency)_BoW: object\n",
            "  Company (Agency) (Agency)_TFIDF: float64\n",
            "  Company (Agency) (Agency)_Word2Vec: object\n",
            "\n",
            "Enter The System (Agency) (Agency)\n",
            "  Enter The System (Agency) (Agency): object\n",
            "  Enter The System (Agency) (Agency)_tokens: object\n",
            "  Enter The System (Agency) (Agency)_cleaned: object\n",
            "  Enter The System (Agency) (Agency)_lexical: object\n",
            "  Enter The System (Agency) (Agency)_morph: object\n",
            "  Enter The System (Agency) (Agency)_syntactic: object\n",
            "  Enter The System (Agency) (Agency)_semantic: object\n",
            "  Enter The System (Agency) (Agency)_BoW: object\n",
            "  Enter The System (Agency) (Agency)_TFIDF: float64\n",
            "  Enter The System (Agency) (Agency)_Word2Vec: object\n",
            "\n",
            "To Area (Reservation) (Voucher)\n",
            "  To Area (Reservation) (Voucher): object\n",
            "  To Area (Reservation) (Voucher)_cleaned: object\n",
            "  To Area (Reservation) (Voucher)_lexical: object\n",
            "  To Area (Reservation) (Voucher)_morph: object\n",
            "  To Area (Reservation) (Voucher)_syntactic: object\n",
            "  To Area (Reservation) (Voucher)_semantic: object\n",
            "  To Area (Reservation) (Voucher)_BoW: object\n",
            "  To Area (Reservation) (Voucher)_TFIDF: float64\n",
            "  To Area (Reservation) (Voucher)_Word2Vec: object\n",
            "\n",
            "Reservation Type (Reservation) (Voucher)\n",
            "  Reservation Type (Reservation) (Voucher): object\n",
            "  Reservation Type (Reservation) (Voucher)_cleaned: object\n",
            "  Reservation Type (Reservation) (Voucher)_lexical: object\n",
            "  Reservation Type (Reservation) (Voucher)_morph: object\n",
            "  Reservation Type (Reservation) (Voucher)_syntactic: object\n",
            "  Reservation Type (Reservation) (Voucher)_semantic: object\n",
            "  Reservation Type (Reservation) (Voucher)_BoW: object\n",
            "  Reservation Type (Reservation) (Voucher)_TFIDF: float64\n",
            "  Reservation Type (Reservation) (Voucher)_Word2Vec: object\n",
            "\n",
            "Description\n",
            "  Description: object\n",
            "  Description_tokens: object\n",
            "  Description_cleaned: object\n",
            "  Description_lexical: object\n",
            "  Description_morph: object\n",
            "  Description_syntactic: object\n",
            "  Description_semantic: object\n",
            "  Description_BoW: object\n",
            "  Description_TFIDF: float64\n",
            "  Description_Word2Vec: object\n",
            "\n",
            "Kurator Group (Agency) (Agency)\n",
            "  Kurator Group (Agency) (Agency): object\n",
            "  Kurator Group (Agency) (Agency)_tokens: object\n",
            "  Kurator Group (Agency) (Agency)_cleaned: object\n",
            "  Kurator Group (Agency) (Agency)_lexical: object\n",
            "  Kurator Group (Agency) (Agency)_morph: object\n",
            "  Kurator Group (Agency) (Agency)_syntactic: object\n",
            "  Kurator Group (Agency) (Agency)_semantic: object\n",
            "  Kurator Group (Agency) (Agency)_BoW: object\n",
            "  Kurator Group (Agency) (Agency)_TFIDF: float64\n",
            "  Kurator Group (Agency) (Agency)_Word2Vec: object\n",
            "\n",
            "EE Id (Agency) (Agency)\n",
            "  EE Id (Agency) (Agency): object\n",
            "  EE Id (Agency) (Agency)_cleaned: object\n",
            "  EE Id (Agency) (Agency)_lexical: object\n",
            "  EE Id (Agency) (Agency)_morph: object\n",
            "  EE Id (Agency) (Agency)_syntactic: object\n",
            "  EE Id (Agency) (Agency)_semantic: object\n",
            "  EE Id (Agency) (Agency)_BoW: object\n",
            "  EE Id (Agency) (Agency)_TFIDF: float64\n",
            "  EE Id (Agency) (Agency)_Word2Vec: object\n",
            "\n",
            "Agency Type Id (Agency) (Agency)\n",
            "  Agency Type Id (Agency) (Agency): object\n",
            "  Agency Type Id (Agency) (Agency)_tokens: object\n",
            "  Agency Type Id (Agency) (Agency)_cleaned: object\n",
            "  Agency Type Id (Agency) (Agency)_lexical: object\n",
            "  Agency Type Id (Agency) (Agency)_morph: object\n",
            "  Agency Type Id (Agency) (Agency)_syntactic: object\n",
            "  Agency Type Id (Agency) (Agency)_semantic: object\n",
            "  Agency Type Id (Agency) (Agency)_BoW: object\n",
            "  Agency Type Id (Agency) (Agency)_TFIDF: float64\n",
            "  Agency Type Id (Agency) (Agency)_Word2Vec: object\n",
            "\n",
            "Process Phase\n",
            "  Process Phase: object\n",
            "  Process Phase_tokens: object\n",
            "  Process Phase_cleaned: object\n",
            "  Process Phase_lexical: object\n",
            "  Process Phase_morph: object\n",
            "  Process Phase_syntactic: object\n",
            "  Process Phase_semantic: object\n",
            "  Process Phase_BoW: object\n",
            "  Process Phase_TFIDF: float64\n",
            "  Process Phase_Word2Vec: object\n",
            "\n",
            "Reservation Class (Reservation) (Voucher)\n",
            "  Reservation Class (Reservation) (Voucher): object\n",
            "  Reservation Class (Reservation) (Voucher)_cleaned: object\n",
            "  Reservation Class (Reservation) (Voucher)_lexical: object\n",
            "  Reservation Class (Reservation) (Voucher)_morph: object\n",
            "  Reservation Class (Reservation) (Voucher)_syntactic: object\n",
            "  Reservation Class (Reservation) (Voucher)_semantic: object\n",
            "  Reservation Class (Reservation) (Voucher)_BoW: object\n",
            "  Reservation Class (Reservation) (Voucher)_TFIDF: float64\n",
            "  Reservation Class (Reservation) (Voucher)_Word2Vec: object\n",
            "\n",
            "Is VIP (Reservation) (Voucher)\n",
            "  Is VIP (Reservation) (Voucher): object\n",
            "  Is VIP (Reservation) (Voucher)_cleaned: object\n",
            "  Is VIP (Reservation) (Voucher)_lexical: object\n",
            "  Is VIP (Reservation) (Voucher)_morph: object\n",
            "  Is VIP (Reservation) (Voucher)_syntactic: object\n",
            "  Is VIP (Reservation) (Voucher)_semantic: object\n",
            "  Is VIP (Reservation) (Voucher)_BoW: object\n",
            "  Is VIP (Reservation) (Voucher)_TFIDF: float64\n",
            "  Is VIP (Reservation) (Voucher)_Word2Vec: object\n",
            "\n",
            "From Area (Reservation) (Voucher)\n",
            "  From Area (Reservation) (Voucher): object\n",
            "  From Area (Reservation) (Voucher)_cleaned: object\n",
            "  From Area (Reservation) (Voucher)_lexical: object\n",
            "  From Area (Reservation) (Voucher)_morph: object\n",
            "  From Area (Reservation) (Voucher)_syntactic: object\n",
            "  From Area (Reservation) (Voucher)_semantic: object\n",
            "  From Area (Reservation) (Voucher)_BoW: object\n",
            "  From Area (Reservation) (Voucher)_TFIDF: float64\n",
            "  From Area (Reservation) (Voucher)_Word2Vec: object\n",
            "\n",
            "portal\n",
            "  portal_user_group_code: object\n",
            "\n",
            "Типы данных для всех столбцов:\n",
            "Portal User Group                                     object\n",
            "Place (Agency) (Agency)                               object\n",
            "Elite Status (Reservation) (Voucher)                  object\n",
            "Company (Agency) (Agency)                             object\n",
            "Enter The System (Agency) (Agency)                    object\n",
            "                                                       ...  \n",
            "Agency Type Id (Agency) (Agency)_Word2Vec             object\n",
            "Process Phase_Word2Vec                                object\n",
            "Reservation Class (Reservation) (Voucher)_Word2Vec    object\n",
            "Is VIP (Reservation) (Voucher)_Word2Vec               object\n",
            "From Area (Reservation) (Voucher)_Word2Vec            object\n",
            "Length: 135, dtype: object\n"
          ]
        }
      ]
    },
    {
      "cell_type": "markdown",
      "source": [
        " Подсчет количества данных в каждом классе из столбца Portal User Group в  файле word2vec_results.parquet"
      ],
      "metadata": {
        "id": "YZQT1X77F3Bq"
      }
    },
    {
      "cell_type": "code",
      "source": [
        "import pandas as pd\n",
        "import matplotlib.pyplot as plt\n",
        "\n",
        "# Путь к файлу\n",
        "file_path = \"/content/drive/MyDrive/Стажировка/Semantic_2/word2vec_results.parquet\"\n",
        "\n",
        "# Загрузка данных из файла\n",
        "df = pd.read_parquet(file_path)\n",
        "\n",
        "# Подсчет количества данных в каждом классе\n",
        "class_counts = df['Portal User Group'].value_counts()\n",
        "\n",
        "# Построение столбчатой диаграммы\n",
        "plt.figure(figsize=(12, 6))\n",
        "class_counts.plot(kind='bar')\n",
        "plt.title('Количество данных в каждом классе')\n",
        "plt.xlabel('Класс')\n",
        "plt.ylabel('Количество записей')\n",
        "\n",
        "# Настройка меток оси x\n",
        "plt.xticks(rotation=45, ha='right', fontsize=5)  # Уменьшаем шрифт до 10\n",
        "plt.gca().xaxis.set_tick_params(pad=10)  # Увеличиваем расстояние между метками и осью\n",
        "\n",
        "plt.tight_layout()\n",
        "\n",
        "# Отображение диаграммы\n",
        "plt.show()\n"
      ],
      "metadata": {
        "colab": {
          "base_uri": "https://localhost:8080/",
          "height": 627
        },
        "id": "SL1iouT4EFNE",
        "outputId": "29bcb263-8430-459e-a38b-6d35967be218"
      },
      "execution_count": null,
      "outputs": [
        {
          "output_type": "display_data",
          "data": {
            "text/plain": [
              "<Figure size 1200x600 with 1 Axes>"
            ],
            "image/png": "[encoded data removed]"
          },
          "metadata": {}
        }
      ]
    },
    {
      "cell_type": "markdown",
      "metadata": {
        "id": "qEigg4g8UgQb"
      },
      "source": [
        "**Подготовка данных**"
      ]
    },
    {
      "cell_type": "markdown",
      "source": [
        " Уменьшение объема данных (не хватает объема ОЗУ)"
      ],
      "metadata": {
        "id": "1k6MzZ1xNeo6"
      }
    },
    {
      "cell_type": "code",
      "source": [
        "import pandas as pd\n",
        "\n",
        "# Путь к файлу\n",
        "file_path = \"/content/drive/MyDrive/Стажировка/Semantic_2/word2vec_results.parquet\"\n",
        "output_file_path = \"/content/drive/MyDrive/Стажировка/Semantic_2/word2vec_results_1000.parquet\"\n",
        "\n",
        "# Загрузка данных из файла\n",
        "df = pd.read_parquet(file_path)\n",
        "\n",
        "# Перемешивание данных\n",
        "df = df.sample(frac=1, random_state=42).reset_index(drop=True)\n",
        "\n",
        "# Подсчет количества данных в каждом классе\n",
        "class_counts = df['Portal User Group'].value_counts()\n",
        "\n",
        "# Определение классов с количеством записей менее или равно 1000\n",
        "small_classes = class_counts[class_counts <= 1000].index\n",
        "\n",
        "# Фильтрация данных для сохранения только нужных классов\n",
        "df_filtered = df[df['Portal User Group'].isin(small_classes) | (df['Portal User Group'].map(class_counts) <= 1000)]\n",
        "\n",
        "# Сохранение отфильтрованных данных в новый файл\n",
        "df_filtered.to_parquet(output_file_path, index=False)\n",
        "\n",
        "print(f\"Файл с данными из классов с не более чем 1000 записями сохранен в {output_file_path}.\")\n"
      ],
      "metadata": {
        "id": "f8VieknfJzZn",
        "colab": {
          "base_uri": "https://localhost:8080/"
        },
        "outputId": "276b7110-2110-4e61-fbc8-5ae33a3c95f8"
      },
      "execution_count": null,
      "outputs": [
        {
          "output_type": "stream",
          "name": "stdout",
          "text": [
            "Файл с данными из классов с не более чем 1000 записями сохранен в /content/drive/MyDrive/Стажировка/Semantic_2/word2vec_results_1000.parquet.\n"
          ]
        }
      ]
    },
    {
      "cell_type": "code",
      "source": [
        "!pip install numpy\n"
      ],
      "metadata": {
        "colab": {
          "base_uri": "https://localhost:8080/"
        },
        "id": "CCvkd4FvKUni",
        "outputId": "d2069090-f63a-40c7-8a1e-8cffe70e03a5"
      },
      "execution_count": null,
      "outputs": [
        {
          "output_type": "stream",
          "name": "stdout",
          "text": [
            "Requirement already satisfied: numpy in /usr/local/lib/python3.10/dist-packages (1.26.4)\n"
          ]
        }
      ]
    },
    {
      "cell_type": "code",
      "source": [
        "import pandas as pd\n",
        "from sklearn.preprocessing import StandardScaler, OneHotEncoder, LabelEncoder\n",
        "from sklearn.compose import ColumnTransformer\n",
        "from sklearn.pipeline import Pipeline\n",
        "from sklearn.impute import SimpleImputer\n",
        "import numpy as np\n",
        "\n",
        "# Путь к файлу\n",
        "input_file_path = \"/content/drive/MyDrive/Стажировка/Semantic_2/word2vec_results_1000.parquet\"\n",
        "output_file_path = \"/content/drive/MyDrive/Стажировка/Semantic_2/processed_data.parquet\"\n",
        "\n",
        "# Загрузка данных\n",
        "df = pd.read_parquet(input_file_path)\n",
        "\n",
        "# Создание копии DataFrame, чтобы избежать изменений в исходном DataFrame\n",
        "df_copy = df.copy()\n",
        "\n",
        "# Определение столбцов для обработки\n",
        "columns_to_process = [col for col in df_copy.columns if col not in ['Portal User Group', 'portal_user_group_code']]\n",
        "categorical_features = [col for col in df_copy.columns if df_copy[col].dtype == 'object']\n",
        "\n",
        "# Применение Label Encoding для портала\n",
        "le = LabelEncoder()\n",
        "df_copy['Portal User Group Encoded'] = le.fit_transform(df_copy['Portal User Group'])\n",
        "\n",
        "# Применение One-Hot Encoding к категориальным признакам\n",
        "encoder = OneHotEncoder(handle_unknown='ignore', sparse=False)\n",
        "X_categorical = encoder.fit_transform(df_copy[categorical_features])\n",
        "\n",
        "# Применение Standard Scaler к числовым признакам\n",
        "scaler = StandardScaler()\n",
        "X_numerical = scaler.fit_transform(df_copy.drop(columns=categorical_features + ['Portal User Group', 'portal_user_group_code']))\n",
        "\n",
        "# Объединение всех признаков\n",
        "X_processed = np.hstack((X_numerical, X_categorical))\n",
        "\n",
        "# Преобразование в DataFrame\n",
        "processed_cols = [f'feature_{i}' for i in range(X_processed.shape[1])]\n",
        "X_processed_df = pd.DataFrame(X_processed, columns=processed_cols)\n",
        "\n",
        "# Объединение с исходными целевыми переменными\n",
        "processed_df = pd.concat([df_copy[['Portal User Group', 'portal_user_group_code']], X_processed_df], axis=1)\n",
        "\n",
        "# Сохранение обработанных данных в новый файл Parquet\n",
        "processed_df.to_parquet(output_file_path, index=False)\n",
        "\n",
        "print(f\"Данные успешно переведены в цифровой формат и сохранены в {output_file_path}.\")\n"
      ],
      "metadata": {
        "colab": {
          "base_uri": "https://localhost:8080/"
        },
        "id": "Dc4Xz78JJ5dz",
        "outputId": "b993f47e-074c-4a9d-baaf-cfeae30d3ecc"
      },
      "execution_count": null,
      "outputs": [
        {
          "output_type": "stream",
          "name": "stderr",
          "text": [
            "/usr/local/lib/python3.10/dist-packages/sklearn/preprocessing/_encoders.py:975: FutureWarning: `sparse` was renamed to `sparse_output` in version 1.2 and will be removed in 1.4. `sparse_output` is ignored unless you leave `sparse` to its default value.\n",
            "  warnings.warn(\n"
          ]
        },
        {
          "output_type": "stream",
          "name": "stdout",
          "text": [
            "Данные успешно переведены в цифровой формат и сохранены в /content/drive/MyDrive/Стажировка/Semantic_2/processed_data.parquet.\n"
          ]
        }
      ]
    },
    {
      "cell_type": "markdown",
      "metadata": {
        "id": "ITEPYT1eBa1s"
      },
      "source": [
        "**Подготовка данных для моделирования с учетом стратификации и перемешивания внутри каждого класса.**"
      ]
    },
    {
      "cell_type": "markdown",
      "metadata": {
        "id": "ARh0fsePAMSL"
      },
      "source": [
        "Определяем целевую переменную portal_user_group_code.\n",
        "\n",
        "Признаки (все остальные столбцы, кроме целевой переменной и 'Portal User Group').\n",
        "\n",
        "Перемешивает данные внутри каждого класса.\n",
        "\n",
        "Разделение данных на обучающую (70%) и временную (30%) выборки с учетом стратификации. Разделение временной выборки на проверочную (20%) и тестовую (10%) выборки с учетом стратификации.\n",
        "\n",
        "Удаление столбца Portal User Group из проверочной и тестовой выборок."
      ]
    },
    {
      "cell_type": "code",
      "source": [
        "import pandas as pd\n",
        "from sklearn.model_selection import train_test_split\n",
        "import pickle\n",
        "from tqdm import tqdm\n",
        "\n",
        "# Активация tqdm для pandas\n",
        "tqdm.pandas()\n",
        "\n",
        "# Загрузка данных\n",
        "combined_data_path = \"/content/drive/MyDrive/Стажировка/Semantic_2/processed_data.parquet\"\n",
        "data = pd.read_parquet(combined_data_path)\n",
        "\n",
        "# Целевая переменная\n",
        "y = data['portal_user_group_code']\n",
        "\n",
        "# Признаки (все остальные столбцы, кроме целевой переменной и 'Portal User Group')\n",
        "X = data.drop(columns=['portal_user_group_code', 'Portal User Group'])\n",
        "\n",
        "# Перемешивание данных внутри каждого класса\n",
        "data = pd.concat([X, y], axis=1)\n",
        "data_shuffled = data.groupby('portal_user_group_code').apply(lambda x: x.sample(frac=1, random_state=42)).reset_index(drop=True)\n",
        "\n",
        "# Обновление X и y после перемешивания\n",
        "X = data_shuffled.drop(columns=['portal_user_group_code'])\n",
        "y = data_shuffled['portal_user_group_code']\n",
        "\n",
        "# Удаление категорий с менее чем двумя наблюдениями\n",
        "counts = y.value_counts()\n",
        "categories_to_remove = counts[counts < 2].index\n",
        "mask = ~y.isin(categories_to_remove)\n",
        "X = X[mask]\n",
        "y = y[mask]\n",
        "\n",
        "# Повторная проверка после фильтрации\n",
        "print(f\"Число классов после фильтрации: {len(y.unique())}\")\n",
        "\n",
        "# Разделение данных на обучающую (70%) и временную (30%) выборки с учетом стратификации\n",
        "X_train, X_temp, y_train, y_temp = train_test_split(X, y, test_size=0.3, random_state=42, stratify=y)\n",
        "\n",
        "# Проверка на временной выборке и удаление классов с менее чем двумя элементами\n",
        "temp_counts = y_temp.value_counts()\n",
        "temp_categories_to_remove = temp_counts[temp_counts < 2].index\n",
        "temp_mask = ~y_temp.isin(temp_categories_to_remove)\n",
        "X_temp = X_temp[temp_mask]\n",
        "y_temp = y_temp[temp_mask]\n",
        "\n",
        "# Повторная проверка на временной выборке\n",
        "print(f\"Число классов во временной выборке после фильтрации: {len(y_temp.unique())}\")\n",
        "\n",
        "# Разделение временной выборки на проверочную (20%) и тестовую (10%) выборки\n",
        "X_val, X_test, y_val, y_test = train_test_split(X_temp, y_temp, test_size=0.3333, random_state=42, stratify=y_temp)\n",
        "\n",
        "# Удаление классов, которые могут отсутствовать в проверочной или тестовой выборке\n",
        "common_classes = set(y_train.unique()) & set(y_val.unique()) & set(y_test.unique())\n",
        "\n",
        "# Фильтрация данных для оставления только общих классов\n",
        "train_mask = y_train.isin(common_classes)\n",
        "val_mask = y_val.isin(common_classes)\n",
        "test_mask = y_test.isin(common_classes)\n",
        "\n",
        "X_train = X_train[train_mask]\n",
        "y_train = y_train[train_mask]\n",
        "\n",
        "X_val = X_val[val_mask]\n",
        "y_val = y_val[val_mask]\n",
        "\n",
        "X_test = X_test[test_mask]\n",
        "y_test = y_test[test_mask]\n",
        "\n",
        "# Проверка, что набор классов совпадает во всех выборках\n",
        "train_classes = set(y_train.unique())\n",
        "val_classes = set(y_val.unique())\n",
        "test_classes = set(y_test.unique())\n",
        "\n",
        "assert train_classes == val_classes == test_classes, \"Набор классов не совпадает во всех выборках\"\n",
        "\n",
        "print(f\"Число классов в обучающей выборке: {len(train_classes)}\")\n",
        "print(f\"Число классов в проверочной выборке: {len(val_classes)}\")\n",
        "print(f\"Число классов в тестовой выборке: {len(test_classes)}\")\n",
        "\n",
        "# Сохранение данных для обучения, проверки и тестирования\n",
        "train_test_data_path = \"/content/drive/MyDrive/Стажировка/Semantic_2/train_test_data2.pkl\"\n",
        "train_test_data = {\n",
        "    'X_train': X_train,\n",
        "    'X_val': X_val,\n",
        "    'X_test': X_test,\n",
        "    'y_train': y_train,\n",
        "    'y_val': y_val,\n",
        "    'y_test': y_test\n",
        "}\n",
        "\n",
        "# Сохранение данных\n",
        "with open(train_test_data_path, 'wb') as f:\n",
        "    pickle.dump(train_test_data, f, protocol=pickle.HIGHEST_PROTOCOL)\n",
        "\n",
        "print(\"Данные для обучения, проверки и тестирования сохранены в\", train_test_data_path)\n"
      ],
      "metadata": {
        "colab": {
          "base_uri": "https://localhost:8080/"
        },
        "id": "HN_l4LQ-nLIr",
        "outputId": "fdecb5b5-fc4c-4eea-a46d-e4757e335416"
      },
      "execution_count": null,
      "outputs": [
        {
          "output_type": "stream",
          "name": "stdout",
          "text": [
            "Число классов после фильтрации: 92\n",
            "Число классов во временной выборке после фильтрации: 78\n",
            "Число классов в обучающей выборке: 78\n",
            "Число классов в проверочной выборке: 78\n",
            "Число классов в тестовой выборке: 78\n",
            "Данные для обучения, проверки и тестирования сохранены в /content/drive/MyDrive/Стажировка/Semantic_2/train_test_data2.pkl\n"
          ]
        }
      ]
    },
    {
      "cell_type": "markdown",
      "metadata": {
        "id": "S8FagmH-Bq5U"
      },
      "source": [
        "**Обучение**"
      ]
    },
    {
      "cell_type": "code",
      "source": [
        "!pip install tqdm"
      ],
      "metadata": {
        "colab": {
          "base_uri": "https://localhost:8080/"
        },
        "id": "pwSD26njsJR2",
        "outputId": "4e1c5547-a2f5-4da2-b3cf-bd02bc2337f6"
      },
      "execution_count": null,
      "outputs": [
        {
          "output_type": "stream",
          "name": "stdout",
          "text": [
            "Requirement already satisfied: tqdm in /usr/local/lib/python3.10/dist-packages (4.66.4)\n"
          ]
        }
      ]
    },
    {
      "cell_type": "code",
      "source": [
        "import pandas as pd\n",
        "import pickle\n",
        "from sklearn.linear_model import LogisticRegression\n",
        "from sklearn.svm import SVC\n",
        "from sklearn.ensemble import RandomForestClassifier, GradientBoostingClassifier\n",
        "from sklearn.preprocessing import StandardScaler\n",
        "from sklearn.model_selection import GridSearchCV, StratifiedKFold\n",
        "from sklearn.metrics import make_scorer, f1_score\n",
        "from tqdm import tqdm\n",
        "\n",
        "# Загрузка данных для обучения и тестирования\n",
        "train_test_data_path = \"/content/drive/MyDrive/Стажировка/Semantic_2/train_test_data2.pkl\"\n",
        "with open(train_test_data_path, 'rb') as f:\n",
        "    train_test_data = pickle.load(f)\n",
        "\n",
        "X_train = train_test_data['X_train']\n",
        "X_val = train_test_data['X_val']\n",
        "y_train = train_test_data['y_train']\n",
        "y_val = train_test_data['y_val']\n",
        "\n",
        "# Масштабирование данных\n",
        "scaler = StandardScaler()\n",
        "X_train_scaled = scaler.fit_transform(X_train)\n",
        "X_val_scaled = scaler.transform(X_val)\n",
        "\n",
        "# Настройка кросс-валидации и метрики\n",
        "cv = StratifiedKFold(n_splits=5, shuffle=True, random_state=42)\n",
        "scorer = make_scorer(f1_score, average='weighted')\n",
        "\n",
        "# Определение параметров для поиска\n",
        "param_grid = {\n",
        "    'Logistic Regression': {\n",
        "        'model': LogisticRegression(max_iter=1000, solver='lbfgs', warm_start=True),\n",
        "        'params': {\n",
        "            'C': [0.1, 1, 10],\n",
        "            'penalty': ['l2']\n",
        "        }\n",
        "    },\n",
        "    'Support Vector Machine': {\n",
        "        'model': SVC(),\n",
        "        'params': {\n",
        "            'C': [0.1, 1, 10],\n",
        "            'kernel': ['linear', 'rbf']\n",
        "        }\n",
        "    },\n",
        "    'Random Forest': {\n",
        "        'model': RandomForestClassifier(),\n",
        "        'params': {\n",
        "            'n_estimators': [50, 100, 150],\n",
        "            'max_depth': [None, 10, 20]\n",
        "        }\n",
        "    },\n",
        "    'Gradient Boosting': {\n",
        "        'model': GradientBoostingClassifier(),\n",
        "        'params': {\n",
        "            'n_estimators': [50, 100, 150],\n",
        "            'learning_rate': [0.01, 0.1, 0.2],\n",
        "            'subsample': [0.8, 1.0]\n",
        "        }\n",
        "    }\n",
        "}\n",
        "\n",
        "# Обучение моделей с использованием кросс-валидации\n",
        "trained_models = {}\n",
        "\n",
        "for model_name, mp in tqdm(param_grid.items(), desc=\"Training models with GridSearchCV\"):\n",
        "    print(f\"Training {model_name} with cross-validation...\")\n",
        "    grid_search = GridSearchCV(estimator=mp['model'], param_grid=mp['params'], scoring=scorer, cv=cv, n_jobs=-1)\n",
        "    grid_search.fit(X_train_scaled, y_train)\n",
        "    trained_models[model_name] = grid_search.best_estimator_\n",
        "    print(f\"Best parameters for {model_name}: {grid_search.best_params_}\")\n",
        "\n",
        "# Сохранение обученных моделей после обучения\n",
        "trained_models_path = \"/content/drive/MyDrive/Стажировка/Semantic_2/trained_models_with_cv.pkl\"\n",
        "with open(trained_models_path, 'wb') as f:\n",
        "    pickle.dump(trained_models, f, protocol=pickle.HIGHEST_PROTOCOL)\n",
        "\n",
        "print(\"Обученные модели сохранены в\", trained_models_path)\n"
      ],
      "metadata": {
        "id": "VcT7kKDt5_OS"
      },
      "execution_count": null,
      "outputs": []
    },
    {
      "cell_type": "markdown",
      "source": [
        "*Сбой по ОЗУ*"
      ],
      "metadata": {
        "id": "CHUD94tq9u9R"
      }
    },
    {
      "cell_type": "markdown",
      "source": [
        "**Код для обучения моделей с использованием dask**"
      ],
      "metadata": {
        "id": "SAmlvV7A8uK2"
      }
    },
    {
      "cell_type": "code",
      "source": [
        "!pip install dask[complete] dask-ml\n"
      ],
      "metadata": {
        "colab": {
          "base_uri": "https://localhost:8080/"
        },
        "id": "0FIhbV4SCKek",
        "outputId": "9b8c3a81-ae25-4c13-c429-8e5b800530c6"
      },
      "execution_count": null,
      "outputs": [
        {
          "output_type": "stream",
          "name": "stdout",
          "text": [
            "Collecting dask-ml\n",
            "  Downloading dask_ml-2024.4.4-py3-none-any.whl.metadata (5.9 kB)\n",
            "Requirement already satisfied: dask[complete] in /usr/local/lib/python3.10/dist-packages (2024.7.1)\n",
            "Requirement already satisfied: click>=8.1 in /usr/local/lib/python3.10/dist-packages (from dask[complete]) (8.1.7)\n",
            "Requirement already satisfied: cloudpickle>=1.5.0 in /usr/local/lib/python3.10/dist-packages (from dask[complete]) (2.2.1)\n",
            "Requirement already satisfied: fsspec>=2021.09.0 in /usr/local/lib/python3.10/dist-packages (from dask[complete]) (2024.6.1)\n",
            "Requirement already satisfied: packaging>=20.0 in /usr/local/lib/python3.10/dist-packages (from dask[complete]) (24.1)\n",
            "Requirement already satisfied: partd>=1.4.0 in /usr/local/lib/python3.10/dist-packages (from dask[complete]) (1.4.2)\n",
            "Requirement already satisfied: pyyaml>=5.3.1 in /usr/local/lib/python3.10/dist-packages (from dask[complete]) (6.0.1)\n",
            "Requirement already satisfied: toolz>=0.10.0 in /usr/local/lib/python3.10/dist-packages (from dask[complete]) (0.12.1)\n",
            "Requirement already satisfied: importlib-metadata>=4.13.0 in /usr/local/lib/python3.10/dist-packages (from dask[complete]) (8.2.0)\n",
            "Requirement already satisfied: pyarrow>=7.0 in /usr/local/lib/python3.10/dist-packages (from dask[complete]) (14.0.2)\n",
            "Requirement already satisfied: pyarrow-hotfix in /usr/local/lib/python3.10/dist-packages (from dask[complete]) (0.6)\n",
            "Collecting lz4>=4.3.2 (from dask[complete])\n",
            "  Downloading lz4-4.3.3-cp310-cp310-manylinux_2_17_x86_64.manylinux2014_x86_64.whl.metadata (3.7 kB)\n",
            "Collecting dask-glm>=0.2.0 (from dask-ml)\n",
            "  Downloading dask_glm-0.3.2-py2.py3-none-any.whl.metadata (1.5 kB)\n",
            "Requirement already satisfied: distributed>=2.4.0 in /usr/local/lib/python3.10/dist-packages (from dask-ml) (2024.7.1)\n",
            "Requirement already satisfied: multipledispatch>=0.4.9 in /usr/local/lib/python3.10/dist-packages (from dask-ml) (1.0.0)\n",
            "Requirement already satisfied: numba>=0.51.0 in /usr/local/lib/python3.10/dist-packages (from dask-ml) (0.60.0)\n",
            "Requirement already satisfied: numpy>=1.20.0 in /usr/local/lib/python3.10/dist-packages (from dask-ml) (1.26.4)\n",
            "Requirement already satisfied: pandas>=0.24.2 in /usr/local/lib/python3.10/dist-packages (from dask-ml) (2.1.4)\n",
            "Requirement already satisfied: scikit-learn>=1.2.0 in /usr/local/lib/python3.10/dist-packages (from dask-ml) (1.3.2)\n",
            "Requirement already satisfied: scipy in /usr/local/lib/python3.10/dist-packages (from dask-ml) (1.13.1)\n",
            "Collecting sparse>=0.7.0 (from dask-glm>=0.2.0->dask-ml)\n",
            "  Downloading sparse-0.15.4-py2.py3-none-any.whl.metadata (4.5 kB)\n",
            "Collecting dask-expr<1.2,>=1.1 (from dask[complete])\n",
            "  Downloading dask_expr-1.1.9-py3-none-any.whl.metadata (2.5 kB)\n",
            "Requirement already satisfied: jinja2>=2.10.3 in /usr/local/lib/python3.10/dist-packages (from distributed>=2.4.0->dask-ml) (3.1.4)\n",
            "Requirement already satisfied: locket>=1.0.0 in /usr/local/lib/python3.10/dist-packages (from distributed>=2.4.0->dask-ml) (1.0.0)\n",
            "Requirement already satisfied: msgpack>=1.0.0 in /usr/local/lib/python3.10/dist-packages (from distributed>=2.4.0->dask-ml) (1.0.8)\n",
            "Requirement already satisfied: psutil>=5.7.2 in /usr/local/lib/python3.10/dist-packages (from distributed>=2.4.0->dask-ml) (5.9.5)\n",
            "Requirement already satisfied: sortedcontainers>=2.0.5 in /usr/local/lib/python3.10/dist-packages (from distributed>=2.4.0->dask-ml) (2.4.0)\n",
            "Requirement already satisfied: tblib>=1.6.0 in /usr/local/lib/python3.10/dist-packages (from distributed>=2.4.0->dask-ml) (3.0.0)\n",
            "Requirement already satisfied: tornado>=6.0.4 in /usr/local/lib/python3.10/dist-packages (from distributed>=2.4.0->dask-ml) (6.3.3)\n",
            "Requirement already satisfied: urllib3>=1.24.3 in /usr/local/lib/python3.10/dist-packages (from distributed>=2.4.0->dask-ml) (2.0.7)\n",
            "Requirement already satisfied: zict>=3.0.0 in /usr/local/lib/python3.10/dist-packages (from distributed>=2.4.0->dask-ml) (3.0.0)\n",
            "Requirement already satisfied: zipp>=0.5 in /usr/local/lib/python3.10/dist-packages (from importlib-metadata>=4.13.0->dask[complete]) (3.19.2)\n",
            "Requirement already satisfied: llvmlite<0.44,>=0.43.0dev0 in /usr/local/lib/python3.10/dist-packages (from numba>=0.51.0->dask-ml) (0.43.0)\n",
            "Requirement already satisfied: python-dateutil>=2.8.2 in /usr/local/lib/python3.10/dist-packages (from pandas>=0.24.2->dask-ml) (2.8.2)\n",
            "Requirement already satisfied: pytz>=2020.1 in /usr/local/lib/python3.10/dist-packages (from pandas>=0.24.2->dask-ml) (2024.1)\n",
            "Requirement already satisfied: tzdata>=2022.1 in /usr/local/lib/python3.10/dist-packages (from pandas>=0.24.2->dask-ml) (2024.1)\n",
            "Requirement already satisfied: joblib>=1.1.1 in /usr/local/lib/python3.10/dist-packages (from scikit-learn>=1.2.0->dask-ml) (1.4.2)\n",
            "Requirement already satisfied: threadpoolctl>=2.0.0 in /usr/local/lib/python3.10/dist-packages (from scikit-learn>=1.2.0->dask-ml) (3.5.0)\n",
            "Requirement already satisfied: bokeh>=2.4.2 in /usr/local/lib/python3.10/dist-packages (from dask[complete]) (3.4.3)\n",
            "Requirement already satisfied: contourpy>=1.2 in /usr/local/lib/python3.10/dist-packages (from bokeh>=2.4.2->dask[complete]) (1.2.1)\n",
            "Requirement already satisfied: pillow>=7.1.0 in /usr/local/lib/python3.10/dist-packages (from bokeh>=2.4.2->dask[complete]) (9.4.0)\n",
            "Requirement already satisfied: xyzservices>=2021.09.1 in /usr/local/lib/python3.10/dist-packages (from bokeh>=2.4.2->dask[complete]) (2024.6.0)\n",
            "Requirement already satisfied: MarkupSafe>=2.0 in /usr/local/lib/python3.10/dist-packages (from jinja2>=2.10.3->distributed>=2.4.0->dask-ml) (2.1.5)\n",
            "Requirement already satisfied: six>=1.5 in /usr/local/lib/python3.10/dist-packages (from python-dateutil>=2.8.2->pandas>=0.24.2->dask-ml) (1.16.0)\n",
            "Downloading dask_ml-2024.4.4-py3-none-any.whl (149 kB)\n",
            "\u001b[2K   \u001b[90m━━━━━━━━━━━━━━━━━━━━━━━━━━━━━━━━━━━━━━━━\u001b[0m \u001b[32m149.8/149.8 kB\u001b[0m \u001b[31m3.0 MB/s\u001b[0m eta \u001b[36m0:00:00\u001b[0m\n",
            "\u001b[?25hDownloading dask_glm-0.3.2-py2.py3-none-any.whl (13 kB)\n",
            "Downloading lz4-4.3.3-cp310-cp310-manylinux_2_17_x86_64.manylinux2014_x86_64.whl (1.3 MB)\n",
            "\u001b[2K   \u001b[90m━━━━━━━━━━━━━━━━━━━━━━━━━━━━━━━━━━━━━━━━\u001b[0m \u001b[32m1.3/1.3 MB\u001b[0m \u001b[31m25.1 MB/s\u001b[0m eta \u001b[36m0:00:00\u001b[0m\n",
            "\u001b[?25hDownloading dask_expr-1.1.9-py3-none-any.whl (241 kB)\n",
            "\u001b[2K   \u001b[90m━━━━━━━━━━━━━━━━━━━━━━━━━━━━━━━━━━━━━━━━\u001b[0m \u001b[32m241.9/241.9 kB\u001b[0m \u001b[31m19.2 MB/s\u001b[0m eta \u001b[36m0:00:00\u001b[0m\n",
            "\u001b[?25hDownloading sparse-0.15.4-py2.py3-none-any.whl (237 kB)\n",
            "\u001b[2K   \u001b[90m━━━━━━━━━━━━━━━━━━━━━━━━━━━━━━━━━━━━━━━━\u001b[0m \u001b[32m237.3/237.3 kB\u001b[0m \u001b[31m17.3 MB/s\u001b[0m eta \u001b[36m0:00:00\u001b[0m\n",
            "\u001b[?25hInstalling collected packages: lz4, sparse, dask-expr, dask-glm, dask-ml\n",
            "Successfully installed dask-expr-1.1.9 dask-glm-0.3.2 dask-ml-2024.4.4 lz4-4.3.3 sparse-0.15.4\n"
          ]
        }
      ]
    },
    {
      "cell_type": "code",
      "source": [
        "import pandas as pd\n",
        "import pickle\n",
        "import dask.array as da\n",
        "from sklearn.linear_model import LogisticRegression\n",
        "from sklearn.svm import SVC\n",
        "from sklearn.ensemble import RandomForestClassifier, GradientBoostingClassifier\n",
        "from sklearn.preprocessing import StandardScaler, LabelEncoder\n",
        "from sklearn.model_selection import GridSearchCV\n",
        "from sklearn.metrics import make_scorer, f1_score\n",
        "from dask_ml.model_selection import train_test_split as dask_train_test_split\n",
        "from dask.distributed import Client\n",
        "from tqdm import tqdm\n",
        "\n",
        "# Установка клиента Dask\n",
        "client = Client(memory_limit='4GB')\n",
        "\n",
        "# Загрузка данных для обучения и тестирования\n",
        "train_test_data_path = \"/content/drive/MyDrive/Стажировка/Semantic_2/train_test_data2.pkl\"\n",
        "with open(train_test_data_path, 'rb') as f:\n",
        "    train_test_data = pickle.load(f)\n",
        "\n",
        "X_train = train_test_data['X_train']\n",
        "X_val = train_test_data['X_val']\n",
        "y_train = train_test_data['y_train']\n",
        "y_val = train_test_data['y_val']\n",
        "\n",
        "# Преобразование целевой переменной в числовой формат, если необходимо\n",
        "if y_train.dtype == 'object':\n",
        "    le = LabelEncoder()\n",
        "    y_train = le.fit_transform(y_train)\n",
        "    y_val = le.transform(y_val)\n",
        "\n",
        "# Масштабирование данных\n",
        "scaler = StandardScaler()\n",
        "X_train_scaled = scaler.fit_transform(X_train)\n",
        "X_val_scaled = scaler.transform(X_val)\n",
        "\n",
        "# Преобразование данных в Dask массивы\n",
        "X_train_scaled = da.from_array(X_train_scaled, chunks='auto')\n",
        "X_val_scaled = da.from_array(X_val_scaled, chunks='auto')\n",
        "y_train = da.from_array(y_train, chunks='auto')\n",
        "y_val = da.from_array(y_val, chunks='auto')\n",
        "\n",
        "# Настройка кросс-валидации и метрики\n",
        "scorer = make_scorer(f1_score, average='weighted')\n",
        "\n",
        "# Определение параметров для поиска\n",
        "param_grid = {\n",
        "    'Logistic Regression': {\n",
        "        'model': LogisticRegression(max_iter=1000, solver='lbfgs', warm_start=True),\n",
        "        'params': {\n",
        "            'C': [0.1, 1, 10],\n",
        "            'penalty': ['l2']\n",
        "        }\n",
        "    },\n",
        "    'Support Vector Machine': {\n",
        "        'model': SVC(),\n",
        "        'params': {\n",
        "            'C': [0.1, 1, 10],\n",
        "            'kernel': ['linear', 'rbf']\n",
        "        }\n",
        "    },\n",
        "    'Random Forest': {\n",
        "        'model': RandomForestClassifier(),\n",
        "        'params': {\n",
        "            'n_estimators': [50, 100, 150],\n",
        "            'max_depth': [None, 10, 20]\n",
        "        }\n",
        "    },\n",
        "    'Gradient Boosting': {\n",
        "        'model': GradientBoostingClassifier(),\n",
        "        'params': {\n",
        "            'n_estimators': [50, 100, 150],\n",
        "            'learning_rate': [0.01, 0.1, 0.2],\n",
        "            'subsample': [0.8, 1.0]\n",
        "        }\n",
        "    }\n",
        "}\n",
        "\n",
        "# Обучение моделей с использованием кросс-валидации\n",
        "trained_models = {}\n",
        "\n",
        "for model_name, mp in tqdm(param_grid.items(), desc=\"Training models with GridSearchCV\"):\n",
        "    print(f\"Training {model_name} with cross-validation...\")\n",
        "    grid_search = GridSearchCV(estimator=mp['model'], param_grid=mp['params'], scoring=scorer, cv=5, n_jobs=-1)\n",
        "    grid_search.fit(X_train_scaled.compute(), y_train.compute())\n",
        "    trained_models[model_name] = grid_search.best_estimator_\n",
        "    print(f\"Best parameters for {model_name}: {grid_search.best_params_}\")\n",
        "\n",
        "# Сохранение обученных моделей после обучения\n",
        "trained_models_path = \"/content/drive/MyDrive/Стажировка/Semantic_2/trained_models_with_cv.pkl\"\n",
        "with open(trained_models_path, 'wb') as f:\n",
        "    pickle.dump(trained_models, f, protocol=pickle.HIGHEST_PROTOCOL)\n",
        "\n",
        "print(\"Обученные модели сохранены в\", trained_models_path)\n"
      ],
      "metadata": {
        "colab": {
          "base_uri": "https://localhost:8080/"
        },
        "id": "4xkDyNhdEgaZ",
        "outputId": "16a2d6e5-b51a-43bf-dcef-be46d0f3e5bf"
      },
      "execution_count": null,
      "outputs": [
        {
          "output_type": "stream",
          "name": "stderr",
          "text": [
            "INFO:distributed.http.proxy:To route to workers diagnostics web server please install jupyter-server-proxy: python -m pip install jupyter-server-proxy\n",
            "INFO:distributed.scheduler:State start\n",
            "INFO:distributed.scheduler:  Scheduler at:     tcp://127.0.0.1:35115\n",
            "INFO:distributed.scheduler:  dashboard at:  http://127.0.0.1:8787/status\n",
            "INFO:distributed.scheduler:Registering Worker plugin shuffle\n",
            "INFO:distributed.nanny:        Start Nanny at: 'tcp://127.0.0.1:39889'\n",
            "INFO:distributed.nanny:        Start Nanny at: 'tcp://127.0.0.1:42313'\n",
            "INFO:distributed.nanny:        Start Nanny at: 'tcp://127.0.0.1:33621'\n",
            "INFO:distributed.nanny:        Start Nanny at: 'tcp://127.0.0.1:44375'\n",
            "INFO:distributed.scheduler:Register worker <WorkerState 'tcp://127.0.0.1:36413', name: 3, status: init, memory: 0, processing: 0>\n",
            "INFO:distributed.scheduler:Starting worker compute stream, tcp://127.0.0.1:36413\n",
            "INFO:distributed.core:Starting established connection to tcp://127.0.0.1:38646\n",
            "INFO:distributed.scheduler:Register worker <WorkerState 'tcp://127.0.0.1:35811', name: 0, status: init, memory: 0, processing: 0>\n",
            "INFO:distributed.scheduler:Starting worker compute stream, tcp://127.0.0.1:35811\n",
            "INFO:distributed.core:Starting established connection to tcp://127.0.0.1:38660\n",
            "INFO:distributed.scheduler:Register worker <WorkerState 'tcp://127.0.0.1:34599', name: 1, status: init, memory: 0, processing: 0>\n",
            "INFO:distributed.scheduler:Starting worker compute stream, tcp://127.0.0.1:34599\n",
            "INFO:distributed.core:Starting established connection to tcp://127.0.0.1:38664\n",
            "INFO:distributed.scheduler:Register worker <WorkerState 'tcp://127.0.0.1:43745', name: 2, status: init, memory: 0, processing: 0>\n",
            "INFO:distributed.scheduler:Starting worker compute stream, tcp://127.0.0.1:43745\n",
            "INFO:distributed.core:Starting established connection to tcp://127.0.0.1:38666\n",
            "INFO:distributed.scheduler:Receive client connection: Client-3f807291-5363-11ef-8d4d-0242ac1c000c\n",
            "INFO:distributed.core:Starting established connection to tcp://127.0.0.1:38676\n"
          ]
        }
      ]
    },
    {
      "cell_type": "markdown",
      "source": [
        "Объем ОЗУ исчерпан (51G)"
      ],
      "metadata": {
        "id": "psuD9CjEGJnw"
      }
    },
    {
      "cell_type": "markdown",
      "metadata": {
        "id": "OcyF9Kl3Rdhi"
      },
      "source": [
        "**Оценка моделей**"
      ]
    },
    {
      "cell_type": "markdown",
      "metadata": {
        "id": "rsttzkNsEshW"
      },
      "source": [
        "**Классификация с использованием BERT.**"
      ]
    },
    {
      "cell_type": "code",
      "execution_count": null,
      "metadata": {
        "id": "RfXFlYfkExPz"
      },
      "outputs": [],
      "source": [
        "!pip install transformers\n",
        "!pip install torch\n",
        "!pip install sklearn\n"
      ]
    },
    {
      "cell_type": "markdown",
      "source": [
        "Подготовка и сохранение данных."
      ],
      "metadata": {
        "id": "vSNYBujK1Cfa"
      }
    },
    {
      "cell_type": "code",
      "source": [
        "import pandas as pd\n",
        "from sklearn.preprocessing import StandardScaler, OneHotEncoder, LabelEncoder\n",
        "import numpy as np\n",
        "\n",
        "# Путь к файлу\n",
        "input_file_path = \"/content/drive/MyDrive/Стажировка/Semantic_2/word2vec_results_1000.parquet\"\n",
        "output_file_path = \"/content/drive/MyDrive/Стажировка/Semantic_2/combined_features.parquet\"\n",
        "\n",
        "# Загрузка данных\n",
        "df = pd.read_parquet(input_file_path)\n",
        "\n",
        "# Создание копии DataFrame, чтобы избежать изменений в исходном DataFrame\n",
        "df_copy = df.copy()\n",
        "\n",
        "# Определение столбцов для обработки\n",
        "columns_to_process = [col for col in df_copy.columns if col not in ['Portal User Group', 'portal_user_group_code']]\n",
        "categorical_features = [col for col in df_copy.columns if df_copy[col].dtype == 'object']\n",
        "\n",
        "# Применение Label Encoding для портала\n",
        "le = LabelEncoder()\n",
        "df_copy['Portal User Group Encoded'] = le.fit_transform(df_copy['Portal User Group'])\n",
        "\n",
        "# Применение One-Hot Encoding к категориальным признакам\n",
        "encoder = OneHotEncoder(handle_unknown='ignore', sparse=False)\n",
        "X_categorical = encoder.fit_transform(df_copy[categorical_features])\n",
        "\n",
        "# Применение Standard Scaler к числовым признакам\n",
        "scaler = StandardScaler()\n",
        "X_numerical = scaler.fit_transform(df_copy.drop(columns=categorical_features + ['Portal User Group', 'portal_user_group_code']))\n",
        "\n",
        "# Объединение всех признаков\n",
        "X_processed = np.hstack((X_numerical, X_categorical))\n",
        "\n",
        "# Преобразование в DataFrame\n",
        "processed_cols = [f'feature_{i}' for i in range(X_processed.shape[1])]\n",
        "X_processed_df = pd.DataFrame(X_processed, columns=processed_cols)\n",
        "\n",
        "# Объединение с исходными целевыми переменными\n",
        "combined_df = pd.concat([df_copy[['Portal User Group', 'portal_user_group_code', 'Description']], X_processed_df], axis=1)\n",
        "\n",
        "# Сохранение обработанных данных в новый файл Parquet\n",
        "combined_df.to_parquet(output_file_path, index=False)\n",
        "\n",
        "print(f\"Обработанные данные сохранены в {output_file_path}.\")\n"
      ],
      "metadata": {
        "colab": {
          "base_uri": "https://localhost:8080/"
        },
        "id": "KrB7UaPl6dqt",
        "outputId": "a028ad23-75aa-4105-e7c8-db8269011c9a"
      },
      "execution_count": null,
      "outputs": [
        {
          "output_type": "stream",
          "name": "stderr",
          "text": [
            "/usr/local/lib/python3.10/dist-packages/sklearn/preprocessing/_encoders.py:975: FutureWarning: `sparse` was renamed to `sparse_output` in version 1.2 and will be removed in 1.4. `sparse_output` is ignored unless you leave `sparse` to its default value.\n",
            "  warnings.warn(\n"
          ]
        },
        {
          "output_type": "stream",
          "name": "stdout",
          "text": [
            "Обработанные данные сохранены в /content/drive/MyDrive/Стажировка/Semantic_2/combined_features.parquet.\n"
          ]
        }
      ]
    },
    {
      "cell_type": "markdown",
      "source": [
        "Объединение признаков и разделение данных."
      ],
      "metadata": {
        "id": "v38jDUDSvkot"
      }
    },
    {
      "cell_type": "code",
      "source": [
        "import pandas as pd\n",
        "from sklearn.model_selection import train_test_split\n",
        "import pickle\n",
        "\n",
        "# Путь к файлам\n",
        "input_file_path = \"/content/drive/MyDrive/Стажировка/Semantic_2/combined_features.parquet\"\n",
        "train_test_data_path = \"/content/drive/MyDrive/Стажировка/Semantic_2/train_test_data.pkl\"\n",
        "\n",
        "# Загрузка данных\n",
        "df = pd.read_parquet(input_file_path)\n",
        "\n",
        "# Определение целевой переменной и признаков\n",
        "y = df['portal_user_group_code']\n",
        "X = df.drop(columns=['portal_user_group_code'])\n",
        "\n",
        "# Перемешивание данных внутри каждого класса\n",
        "data = pd.concat([X, y], axis=1)\n",
        "data_shuffled = data.groupby('portal_user_group_code').apply(lambda x: x.sample(frac=1, random_state=42)).reset_index(drop=True)\n",
        "\n",
        "# Обновление X и y после перемешивания\n",
        "X = data_shuffled.drop(columns=['portal_user_group_code'])\n",
        "y = data_shuffled['portal_user_group_code']\n",
        "\n",
        "# Удаление категорий с менее чем двумя наблюдениями\n",
        "counts = y.value_counts()\n",
        "categories_to_remove = counts[counts < 2].index\n",
        "mask = ~y.isin(categories_to_remove)\n",
        "X = X[mask]\n",
        "y = y[mask]\n",
        "\n",
        "# Разделение данных на обучающую (70%) и временную (30%) выборки с учетом стратификации\n",
        "X_train, X_temp, y_train, y_temp = train_test_split(X, y, test_size=0.3, random_state=42, stratify=y)\n",
        "\n",
        "# Проверка на временной выборке и удаление классов с менее чем двумя элементами\n",
        "temp_counts = y_temp.value_counts()\n",
        "temp_categories_to_remove = temp_counts[temp_counts < 2].index\n",
        "temp_mask = ~y_temp.isin(temp_categories_to_remove)\n",
        "X_temp = X_temp[temp_mask]\n",
        "y_temp = y_temp[temp_mask]\n",
        "\n",
        "# Разделение временной выборки на проверочную (20%) и тестовую (10%) выборки с учетом стратификации\n",
        "X_val, X_test, y_val, y_test = train_test_split(X_temp, y_temp, test_size=0.3333, random_state=42, stratify=y_temp)\n",
        "\n",
        "# Удаление столбца Portal User Group из проверочной и тестовой выборок\n",
        "X_val = X_val.drop(columns=['Portal User Group'])\n",
        "X_test = X_test.drop(columns=['Portal User Group'])\n",
        "\n",
        "# Сохранение данных для обучения, проверки и тестирования\n",
        "train_test_data = {\n",
        "    'X_train': X_train,\n",
        "    'X_val': X_val,\n",
        "    'X_test': X_test,\n",
        "    'y_train': y_train,\n",
        "    'y_val': y_val,\n",
        "    'y_test': y_test\n",
        "}\n",
        "\n",
        "with open(train_test_data_path, 'wb') as f:\n",
        "    pickle.dump(train_test_data, f, protocol=pickle.HIGHEST_PROTOCOL)\n",
        "\n",
        "print(\"Данные для обучения, проверки и тестирования сохранены в\", train_test_data_path)\n"
      ],
      "metadata": {
        "colab": {
          "base_uri": "https://localhost:8080/"
        },
        "id": "xB9SQZ126upP",
        "outputId": "0914c7ee-5aa2-49a6-db01-966c751ca48f"
      },
      "execution_count": null,
      "outputs": [
        {
          "output_type": "stream",
          "name": "stdout",
          "text": [
            "Данные для обучения, проверки и тестирования сохранены в /content/drive/MyDrive/Стажировка/Semantic_2/train_test_data.pkl\n"
          ]
        }
      ]
    },
    {
      "cell_type": "code",
      "source": [
        "import os\n",
        "\n",
        "# Путь к файлу\n",
        "train_test_data_path = \"/content/drive/MyDrive/Стажировка/Semantic_2/train_test_data.pkl\"\n",
        "\n",
        "# Проверка существования файла\n",
        "if os.path.exists(train_test_data_path):\n",
        "    print(f\"Файл успешно сохранен в {train_test_data_path}\")\n",
        "else:\n",
        "    print(\"Ошибка: файл не найден!\")\n"
      ],
      "metadata": {
        "colab": {
          "base_uri": "https://localhost:8080/"
        },
        "id": "mqQWzk4vOmxP",
        "outputId": "07411472-1a58-4aaa-93d0-fddf4573f2f8"
      },
      "execution_count": null,
      "outputs": [
        {
          "output_type": "stream",
          "name": "stdout",
          "text": [
            "Файл успешно сохранен в /content/drive/MyDrive/Стажировка/Semantic_2/train_test_data.pkl\n"
          ]
        }
      ]
    },
    {
      "cell_type": "markdown",
      "metadata": {
        "id": "Cn4yOjI5FFRz"
      },
      "source": [
        "Обучение модели."
      ]
    },
    {
      "cell_type": "code",
      "source": [
        "import torch\n",
        "from torch.utils.data import DataLoader, RandomSampler, SequentialSampler, TensorDataset\n",
        "from transformers import BertForSequenceClassification, BertTokenizer, AdamW\n",
        "from tqdm import tqdm\n",
        "import torch_xla\n",
        "import torch_xla.core.xla_model as xm\n",
        "import pickle\n",
        "from sklearn.preprocessing import LabelEncoder\n",
        "\n",
        "# Подключение к TPU\n",
        "device = xm.xla_device()\n",
        "\n",
        "# Загрузка данных для обучения и тестирования\n",
        "train_test_data_path = \"/content/drive/MyDrive/Стажировка/Semantic_2/train_test_data.pkl\"\n",
        "with open(train_test_data_path, 'rb') as f:\n",
        "    train_test_data = pickle.load(f)\n",
        "\n",
        "X_train = train_test_data['X_train']\n",
        "X_val = train_test_data['X_val']\n",
        "y_train = train_test_data['y_train']\n",
        "y_val = train_test_data['y_val']\n",
        "\n",
        "# Кодирование целевой переменной\n",
        "label_encoder = LabelEncoder()\n",
        "y_train_encoded = label_encoder.fit_transform(y_train)\n",
        "y_val_encoded = label_encoder.transform(y_val)\n",
        "\n",
        "# Инициализация токенизатора BERT\n",
        "tokenizer = BertTokenizer.from_pretrained('bert-base-uncased')\n",
        "\n",
        "# Функция для токенизации текста и преобразования в тензоры\n",
        "def tokenize_data(texts, tokenizer, max_length=128):\n",
        "    input_ids = []\n",
        "    attention_masks = []\n",
        "\n",
        "    for text in texts:\n",
        "        encoded = tokenizer.encode_plus(\n",
        "            text,\n",
        "            add_special_tokens=True,\n",
        "            max_length=max_length,\n",
        "            padding='max_length',\n",
        "            truncation=True,\n",
        "            return_attention_mask=True,\n",
        "            return_tensors='pt'\n",
        "        )\n",
        "        input_ids.append(encoded['input_ids'])\n",
        "        attention_masks.append(encoded['attention_mask'])\n",
        "\n",
        "    return torch.cat(input_ids, dim=0), torch.cat(attention_masks, dim=0)\n",
        "\n",
        "# Предполагается, что X_train и X_val содержат текстовые данные\n",
        "train_input_ids, train_attention_masks = tokenize_data(X_train['Description'].tolist(), tokenizer)\n",
        "val_input_ids, val_attention_masks = tokenize_data(X_val['Description'].tolist(), tokenizer)\n",
        "\n",
        "# Преобразование целевой переменной в тензоры\n",
        "train_labels = torch.tensor(y_train_encoded, dtype=torch.long)\n",
        "val_labels = torch.tensor(y_val_encoded, dtype=torch.long)\n",
        "\n",
        "# Инициализация модели BERT для классификации\n",
        "model = BertForSequenceClassification.from_pretrained(\n",
        "    \"bert-base-uncased\",\n",
        "    num_labels=len(label_encoder.classes_),\n",
        "    output_attentions=False,\n",
        "    output_hidden_states=False\n",
        ")\n",
        "\n",
        "# Перемещение модели на TPU\n",
        "model.to(device)\n",
        "\n",
        "# Подготовка данных для DataLoader\n",
        "batch_size = 16\n",
        "\n",
        "train_data = TensorDataset(train_input_ids, train_attention_masks, train_labels)\n",
        "train_sampler = RandomSampler(train_data)\n",
        "train_dataloader = DataLoader(train_data, sampler=train_sampler, batch_size=batch_size)\n",
        "\n",
        "val_data = TensorDataset(val_input_ids, val_attention_masks, val_labels)\n",
        "val_sampler = SequentialSampler(val_data)\n",
        "val_dataloader = DataLoader(val_data, sampler=val_sampler, batch_size=batch_size)\n",
        "\n",
        "# Оптимизатор\n",
        "optimizer = AdamW(model.parameters(), lr=2e-5, eps=1e-8)\n",
        "\n",
        "# Функция для обучения модели\n",
        "def train_bert_model(model, train_dataloader, optimizer, device, epochs=4):\n",
        "    model.train()\n",
        "    for epoch in range(epochs):\n",
        "        print(f'Epoch {epoch + 1}/{epochs}')\n",
        "        for step, batch in enumerate(train_dataloader):\n",
        "            b_input_ids, b_input_mask, b_labels = tuple(t.to(device) for t in batch)\n",
        "            model.zero_grad()\n",
        "            outputs = model(b_input_ids, token_type_ids=None, attention_mask=b_input_mask, labels=b_labels)\n",
        "            loss = outputs.loss\n",
        "            loss.backward()\n",
        "\n",
        "            # Обновление TPU\n",
        "            xm.optimizer_step(optimizer, barrier=True)\n",
        "\n",
        "            if step % 10 == 0:\n",
        "                print(f'Step {step}, Loss: {loss.item()}')\n",
        "\n",
        "# Обучение модели\n",
        "train_bert_model(model, train_dataloader, optimizer, device)\n",
        "\n",
        "# Сохранение обученной модели\n",
        "model_path = \"/content/drive/MyDrive/Стажировка/Semantic_2/bert_model.pt\"\n",
        "torch.save(model.state_dict(), model_path)\n",
        "print(f\"Обученная модель сохранена в {model_path}\")\n"
      ],
      "metadata": {
        "colab": {
          "base_uri": "https://localhost:8080/",
          "height": 1000,
          "referenced_widgets": [
            "7e2e6c28e7a1480ba6b0322c637e29c7",
            "9648cff2da8d4c799ab69c281eca1fb8",
            "a1a1fd01ebec4051b0b64c1007248344",
            "917a765a209e4720b27adaa2f6f52b83",
            "3ef7d348b43840c099387bdc62e24b45",
            "06cd3bb4365545b9aa39e4ccb4fb4f09",
            "923c48a3fa5e44cf9e041543741e34d1",
            "c092e580b42f426eb4a0a90581ddb508",
            "7c97944ab4f14822924aa4958098c52d",
            "313690dcc5f146a9bd9db2accd8421d7",
            "f50c4a1f87044f9c865c2b0c29773bfb",
            "6334e70fd56a4b24ae6c8fd0586efa7d",
            "7cfb9d822bf64baf90468e4421df9bd7",
            "485819a0260244e79fa62ccaf0a74312",
            "819853add47049bf9e253b2dfa71f3e4",
            "d9001141b1b34de6b897ed24bf8b78b9",
            "21b6fe2877ad44469f60d341f0a60352",
            "0ee66635bd034f348882d7e01e0fdcc9",
            "6def9f768bc945a5aee70ef4b217bc83",
            "9691a64e03d640a0b5cbf88a26024d5d",
            "fc4c7e4ba9d64934a2aa1cf407ab7a90",
            "1852174935cb48d895bf97528e2ea8ec",
            "b815458186144ecb980fec85ae62c720",
            "daa5a6bbe2d44e52a146f80f99ba8218",
            "57a95ab9a9cd48f3bfcfca8e53fa7a6a",
            "72dc0c4bb75c4f9cb0f6d95e43bd16ef",
            "2c478dc284bc4d89ba5b81c2641ca2ab",
            "75f5cec7d42946f7afc5261f5d781bf0",
            "5a084600a16646d9a25a227bdc4b7d93",
            "6a52b8832cab4d718b5272db4b9f58fc",
            "f7753f1d47e74b5bad6ab4d9babc6071",
            "fa489ce38300492faf86b93e7123ac76",
            "4e0f09ce1fea47c3ab92defe28a5e32c",
            "17b554d05c8846568307c98410c64466",
            "a02ac67b678b449ab4a6907199897cf4",
            "f92356036328436b9b8c0c03e71e3058",
            "6b81a6cfb1e846e58d841dc268b00e4f",
            "6ff208cf6e004720a67298f1151dcf20",
            "000e3fd891884290aa2adfbdccea827b",
            "1b7b225bf44447a383dc8c6abb9a42c1",
            "122ddcc7c7ac4d7f8343bfcca28fb9e2",
            "702203c835394b90b6ab86d18e41d1fe",
            "3d6efca31a2d4363bcde83d99835e281",
            "2373427c0201482ca6230d4bc26a03f4",
            "7ff6ca969a984151baa7d58703ec5fe9",
            "13d7fd4dce0d4cd186a49e245a137e9b",
            "63e4a44bcf5e4992b26fc98001e7f82c",
            "4cfefa4e282b4875af173def0b3ed0f7",
            "88c727250b6c4e628202fdb4e3562834",
            "8c70464d2fe2424aab34bbba71ae4383",
            "8bf60bb97a7a47cb802a421ea53ab025",
            "7f9069e753e04144b29bd3a61fc5bb64",
            "9a292d246b98469499285dcb45535c80",
            "18068133196749079bd7fca29a866224",
            "eec102c6b5084ddd86de2f6383cb48f3"
          ]
        },
        "id": "lN9zGhR2dIgJ",
        "outputId": "6721dcc8-cc50-43bd-c4b7-bdba21a39a1c"
      },
      "execution_count": null,
      "outputs": [
        {
          "output_type": "stream",
          "name": "stderr",
          "text": [
            "/usr/local/lib/python3.10/dist-packages/huggingface_hub/utils/_token.py:89: UserWarning: \n",
            "The secret `HF_TOKEN` does not exist in your Colab secrets.\n",
            "To authenticate with the Hugging Face Hub, create a token in your settings tab (https://huggingface.co/settings/tokens), set it as secret in your Google Colab and restart your session.\n",
            "You will be able to reuse this secret in all of your notebooks.\n",
            "Please note that authentication is recommended but still optional to access public models or datasets.\n",
            "  warnings.warn(\n"
          ]
        },
        {
          "output_type": "display_data",
          "data": {
            "text/plain": [
              "tokenizer_config.json:   0%|          | 0.00/48.0 [00:00<?, ?B/s]"
            ],
            "application/vnd.jupyter.widget-view+json": {
              "version_major": 2,
              "version_minor": 0,
              "model_id": "7e2e6c28e7a1480ba6b0322c637e29c7"
            }
          },
          "metadata": {}
        },
        {
          "output_type": "display_data",
          "data": {
            "text/plain": [
              "vocab.txt:   0%|          | 0.00/232k [00:00<?, ?B/s]"
            ],
            "application/vnd.jupyter.widget-view+json": {
              "version_major": 2,
              "version_minor": 0,
              "model_id": "6334e70fd56a4b24ae6c8fd0586efa7d"
            }
          },
          "metadata": {}
        },
        {
          "output_type": "display_data",
          "data": {
            "text/plain": [
              "tokenizer.json:   0%|          | 0.00/466k [00:00<?, ?B/s]"
            ],
            "application/vnd.jupyter.widget-view+json": {
              "version_major": 2,
              "version_minor": 0,
              "model_id": "b815458186144ecb980fec85ae62c720"
            }
          },
          "metadata": {}
        },
        {
          "output_type": "display_data",
          "data": {
            "text/plain": [
              "config.json:   0%|          | 0.00/570 [00:00<?, ?B/s]"
            ],
            "application/vnd.jupyter.widget-view+json": {
              "version_major": 2,
              "version_minor": 0,
              "model_id": "17b554d05c8846568307c98410c64466"
            }
          },
          "metadata": {}
        },
        {
          "output_type": "display_data",
          "data": {
            "text/plain": [
              "model.safetensors:   0%|          | 0.00/440M [00:00<?, ?B/s]"
            ],
            "application/vnd.jupyter.widget-view+json": {
              "version_major": 2,
              "version_minor": 0,
              "model_id": "7ff6ca969a984151baa7d58703ec5fe9"
            }
          },
          "metadata": {}
        },
        {
          "output_type": "stream",
          "name": "stderr",
          "text": [
            "Some weights of BertForSequenceClassification were not initialized from the model checkpoint at bert-base-uncased and are newly initialized: ['classifier.bias', 'classifier.weight']\n",
            "You should probably TRAIN this model on a down-stream task to be able to use it for predictions and inference.\n",
            "/usr/local/lib/python3.10/dist-packages/transformers/optimization.py:591: FutureWarning: This implementation of AdamW is deprecated and will be removed in a future version. Use the PyTorch implementation torch.optim.AdamW instead, or set `no_deprecation_warning=True` to disable this warning\n",
            "  warnings.warn(\n"
          ]
        },
        {
          "output_type": "stream",
          "name": "stdout",
          "text": [
            "Epoch 1/4\n",
            "Step 0, Loss: 4.672741413116455\n",
            "Step 10, Loss: 4.303689479827881\n",
            "Step 20, Loss: 4.407902240753174\n",
            "Step 30, Loss: 4.600595474243164\n",
            "Step 40, Loss: 4.338414669036865\n",
            "Step 50, Loss: 4.277536392211914\n",
            "Step 60, Loss: 4.212313652038574\n",
            "Step 70, Loss: 4.110607624053955\n",
            "Step 80, Loss: 4.228647232055664\n",
            "Step 90, Loss: 4.012503623962402\n",
            "Step 100, Loss: 3.908782958984375\n",
            "Step 110, Loss: 3.9301388263702393\n",
            "Step 120, Loss: 4.119160175323486\n",
            "Step 130, Loss: 3.861030340194702\n",
            "Step 140, Loss: 3.887394905090332\n",
            "Step 150, Loss: 4.100200653076172\n",
            "Step 160, Loss: 3.7686657905578613\n",
            "Step 170, Loss: 3.9471733570098877\n",
            "Step 180, Loss: 3.749842882156372\n",
            "Step 190, Loss: 3.7363052368164062\n",
            "Step 200, Loss: 4.100580215454102\n",
            "Step 210, Loss: 4.143734931945801\n",
            "Step 220, Loss: 3.9507994651794434\n",
            "Step 230, Loss: 3.8210816383361816\n",
            "Step 240, Loss: 3.8649425506591797\n",
            "Step 250, Loss: 3.699031114578247\n",
            "Step 260, Loss: 3.847165584564209\n",
            "Step 270, Loss: 3.8158793449401855\n",
            "Step 280, Loss: 3.8067994117736816\n",
            "Step 290, Loss: 3.3971781730651855\n",
            "Step 300, Loss: 3.6474552154541016\n",
            "Step 310, Loss: 3.79533314704895\n",
            "Step 320, Loss: 3.943262815475464\n",
            "Step 330, Loss: 3.6869165897369385\n",
            "Step 340, Loss: 3.689911365509033\n",
            "Step 350, Loss: 3.4763848781585693\n",
            "Step 360, Loss: 4.128235816955566\n",
            "Step 370, Loss: 3.5006299018859863\n",
            "Step 380, Loss: 3.469043254852295\n",
            "Step 390, Loss: 3.9088995456695557\n",
            "Step 400, Loss: 3.5324578285217285\n",
            "Step 410, Loss: 3.6763272285461426\n",
            "Step 420, Loss: 3.8049044609069824\n",
            "Step 430, Loss: 4.073817253112793\n",
            "Step 440, Loss: 3.9273152351379395\n",
            "Step 450, Loss: 3.995778799057007\n",
            "Step 460, Loss: 3.4148380756378174\n",
            "Step 470, Loss: 3.3895788192749023\n",
            "Step 480, Loss: 3.488288164138794\n",
            "Step 490, Loss: 3.838169813156128\n",
            "Step 500, Loss: 3.4795849323272705\n",
            "Step 510, Loss: 3.5033016204833984\n",
            "Step 520, Loss: 3.6540775299072266\n",
            "Step 530, Loss: 3.6543612480163574\n",
            "Step 540, Loss: 3.580676317214966\n",
            "Step 550, Loss: 3.572782039642334\n",
            "Step 560, Loss: 3.461984395980835\n",
            "Step 570, Loss: 3.1974756717681885\n",
            "Step 580, Loss: 3.7053050994873047\n",
            "Step 590, Loss: 2.785989999771118\n",
            "Step 600, Loss: 3.427642345428467\n",
            "Step 610, Loss: 3.6633734703063965\n",
            "Step 620, Loss: 3.9342098236083984\n",
            "Step 630, Loss: 3.6295032501220703\n",
            "Step 640, Loss: 3.7787413597106934\n",
            "Step 650, Loss: 3.3993980884552\n",
            "Step 660, Loss: 3.5593223571777344\n",
            "Step 670, Loss: 3.5230236053466797\n",
            "Step 680, Loss: 3.583505153656006\n",
            "Step 690, Loss: 3.4337503910064697\n",
            "Step 700, Loss: 3.9789371490478516\n",
            "Step 710, Loss: 3.750742197036743\n",
            "Step 720, Loss: 2.9003210067749023\n",
            "Step 730, Loss: 3.658452272415161\n",
            "Step 740, Loss: 3.812004804611206\n",
            "Step 750, Loss: 3.3816421031951904\n",
            "Step 760, Loss: 3.378147840499878\n",
            "Step 770, Loss: 2.5844311714172363\n",
            "Step 780, Loss: 3.510856866836548\n",
            "Step 790, Loss: 3.3540520668029785\n",
            "Step 800, Loss: 3.422393321990967\n",
            "Step 810, Loss: 2.8907525539398193\n",
            "Step 820, Loss: 3.344855308532715\n",
            "Step 830, Loss: 2.4427263736724854\n",
            "Step 840, Loss: 3.240708112716675\n",
            "Step 850, Loss: 3.0381526947021484\n",
            "Step 860, Loss: 3.1424994468688965\n",
            "Step 870, Loss: 2.888740062713623\n",
            "Step 880, Loss: 3.413257360458374\n",
            "Step 890, Loss: 3.3047986030578613\n",
            "Step 900, Loss: 3.3417675495147705\n",
            "Step 910, Loss: 3.1084275245666504\n",
            "Step 920, Loss: 3.0472846031188965\n",
            "Step 930, Loss: 3.1847639083862305\n",
            "Step 940, Loss: 3.998807191848755\n",
            "Step 950, Loss: 3.2495460510253906\n",
            "Step 960, Loss: 3.0033366680145264\n",
            "Step 970, Loss: 3.018216371536255\n",
            "Step 980, Loss: 3.128948450088501\n",
            "Epoch 2/4\n",
            "Step 0, Loss: 2.7023487091064453\n",
            "Step 10, Loss: 2.7528505325317383\n",
            "Step 20, Loss: 3.5233261585235596\n",
            "Step 30, Loss: 3.32011079788208\n",
            "Step 40, Loss: 3.4609360694885254\n",
            "Step 50, Loss: 2.830545425415039\n",
            "Step 60, Loss: 3.1336829662323\n",
            "Step 70, Loss: 3.0923922061920166\n",
            "Step 80, Loss: 2.7922849655151367\n",
            "Step 90, Loss: 3.514073371887207\n",
            "Step 100, Loss: 3.4087512493133545\n",
            "Step 110, Loss: 3.5808680057525635\n",
            "Step 120, Loss: 1.919700264930725\n",
            "Step 130, Loss: 2.5247669219970703\n",
            "Step 140, Loss: 3.1340420246124268\n",
            "Step 150, Loss: 3.305710792541504\n",
            "Step 160, Loss: 3.1788930892944336\n",
            "Step 170, Loss: 3.3040668964385986\n",
            "Step 180, Loss: 2.7416296005249023\n",
            "Step 190, Loss: 2.689685344696045\n",
            "Step 200, Loss: 3.2102746963500977\n",
            "Step 210, Loss: 3.090496063232422\n",
            "Step 220, Loss: 3.4486474990844727\n",
            "Step 230, Loss: 3.4045631885528564\n",
            "Step 240, Loss: 3.2048888206481934\n",
            "Step 250, Loss: 2.773393392562866\n",
            "Step 260, Loss: 2.9483041763305664\n",
            "Step 270, Loss: 2.8657162189483643\n",
            "Step 280, Loss: 3.469639778137207\n",
            "Step 290, Loss: 3.2058253288269043\n",
            "Step 300, Loss: 2.9293980598449707\n",
            "Step 310, Loss: 3.5429792404174805\n",
            "Step 320, Loss: 3.434390068054199\n",
            "Step 330, Loss: 2.5775082111358643\n",
            "Step 340, Loss: 3.0128259658813477\n",
            "Step 350, Loss: 3.392112970352173\n",
            "Step 360, Loss: 3.6216578483581543\n",
            "Step 370, Loss: 3.202996015548706\n",
            "Step 380, Loss: 3.5597949028015137\n",
            "Step 390, Loss: 2.4255852699279785\n",
            "Step 400, Loss: 3.3823490142822266\n",
            "Step 410, Loss: 3.512721538543701\n",
            "Step 420, Loss: 2.73758602142334\n",
            "Step 430, Loss: 3.167710781097412\n",
            "Step 440, Loss: 2.846951484680176\n",
            "Step 450, Loss: 2.2624919414520264\n",
            "Step 460, Loss: 3.1686062812805176\n",
            "Step 470, Loss: 2.853607177734375\n",
            "Step 480, Loss: 3.232719898223877\n",
            "Step 490, Loss: 3.0237655639648438\n",
            "Step 500, Loss: 3.178520679473877\n",
            "Step 510, Loss: 2.799197196960449\n",
            "Step 520, Loss: 3.1694607734680176\n",
            "Step 530, Loss: 2.8174078464508057\n",
            "Step 540, Loss: 2.5413737297058105\n",
            "Step 550, Loss: 2.579617738723755\n",
            "Step 560, Loss: 2.548495292663574\n",
            "Step 570, Loss: 2.7131457328796387\n",
            "Step 580, Loss: 2.3820292949676514\n",
            "Step 590, Loss: 2.960193634033203\n",
            "Step 600, Loss: 2.987396717071533\n",
            "Step 610, Loss: 2.772787094116211\n",
            "Step 620, Loss: 2.7445929050445557\n",
            "Step 630, Loss: 2.5485401153564453\n",
            "Step 640, Loss: 2.9302446842193604\n",
            "Step 650, Loss: 3.416666030883789\n",
            "Step 660, Loss: 3.0598297119140625\n",
            "Step 670, Loss: 3.2455382347106934\n",
            "Step 680, Loss: 2.9552359580993652\n",
            "Step 690, Loss: 2.4638378620147705\n",
            "Step 700, Loss: 3.2709429264068604\n",
            "Step 710, Loss: 3.4196228981018066\n",
            "Step 720, Loss: 2.638209104537964\n",
            "Step 730, Loss: 2.0251786708831787\n",
            "Step 740, Loss: 2.5159244537353516\n",
            "Step 750, Loss: 1.9691028594970703\n",
            "Step 760, Loss: 3.063932418823242\n",
            "Step 770, Loss: 2.670747995376587\n",
            "Step 780, Loss: 2.3781607151031494\n",
            "Step 790, Loss: 3.191321849822998\n",
            "Step 800, Loss: 3.264329195022583\n",
            "Step 810, Loss: 2.6310465335845947\n",
            "Step 820, Loss: 2.8365671634674072\n",
            "Step 830, Loss: 2.5798861980438232\n",
            "Step 840, Loss: 2.93367338180542\n",
            "Step 850, Loss: 2.6203176975250244\n",
            "Step 860, Loss: 2.4506847858428955\n",
            "Step 870, Loss: 2.8778367042541504\n",
            "Step 880, Loss: 2.1230151653289795\n",
            "Step 890, Loss: 2.7239952087402344\n",
            "Step 900, Loss: 3.2828476428985596\n",
            "Step 910, Loss: 2.7257802486419678\n",
            "Step 920, Loss: 2.5601959228515625\n",
            "Step 930, Loss: 3.150123357772827\n",
            "Step 940, Loss: 2.854966163635254\n",
            "Step 950, Loss: 2.783724308013916\n",
            "Step 960, Loss: 3.3166723251342773\n",
            "Step 970, Loss: 2.408607006072998\n",
            "Step 980, Loss: 2.9538891315460205\n",
            "Epoch 3/4\n",
            "Step 0, Loss: 2.7860541343688965\n",
            "Step 10, Loss: 2.45049786567688\n",
            "Step 20, Loss: 2.740008592605591\n",
            "Step 30, Loss: 2.4907851219177246\n",
            "Step 40, Loss: 2.887883424758911\n",
            "Step 50, Loss: 3.256910800933838\n",
            "Step 60, Loss: 2.25034236907959\n",
            "Step 70, Loss: 2.3836443424224854\n",
            "Step 80, Loss: 2.622157335281372\n",
            "Step 90, Loss: 2.453139543533325\n",
            "Step 100, Loss: 2.650700807571411\n",
            "Step 110, Loss: 1.8556106090545654\n",
            "Step 120, Loss: 2.2148447036743164\n",
            "Step 130, Loss: 2.5295276641845703\n",
            "Step 140, Loss: 1.9052480459213257\n",
            "Step 150, Loss: 2.2238197326660156\n",
            "Step 160, Loss: 2.235948085784912\n",
            "Step 170, Loss: 2.6266720294952393\n",
            "Step 180, Loss: 2.7192671298980713\n",
            "Step 190, Loss: 2.7364468574523926\n",
            "Step 200, Loss: 2.2940421104431152\n",
            "Step 210, Loss: 2.546708345413208\n",
            "Step 220, Loss: 2.337207317352295\n",
            "Step 230, Loss: 2.3904266357421875\n",
            "Step 240, Loss: 2.3232944011688232\n",
            "Step 250, Loss: 2.102692127227783\n",
            "Step 260, Loss: 3.364654779434204\n",
            "Step 270, Loss: 3.032331705093384\n",
            "Step 280, Loss: 3.0058681964874268\n",
            "Step 290, Loss: 2.3926241397857666\n",
            "Step 300, Loss: 2.4609127044677734\n",
            "Step 310, Loss: 1.8541133403778076\n",
            "Step 320, Loss: 2.510845422744751\n",
            "Step 330, Loss: 2.9816088676452637\n",
            "Step 340, Loss: 2.5874247550964355\n",
            "Step 350, Loss: 2.4121108055114746\n",
            "Step 360, Loss: 2.8256492614746094\n",
            "Step 370, Loss: 1.863399863243103\n",
            "Step 380, Loss: 2.9012463092803955\n",
            "Step 390, Loss: 2.0907421112060547\n",
            "Step 400, Loss: 2.520594358444214\n",
            "Step 410, Loss: 2.645078659057617\n",
            "Step 420, Loss: 2.397918939590454\n",
            "Step 430, Loss: 2.166323184967041\n",
            "Step 440, Loss: 2.2294535636901855\n",
            "Step 450, Loss: 2.303593158721924\n",
            "Step 460, Loss: 2.331007719039917\n",
            "Step 470, Loss: 2.475444793701172\n",
            "Step 480, Loss: 2.2161192893981934\n",
            "Step 490, Loss: 2.340064764022827\n",
            "Step 500, Loss: 2.2824926376342773\n",
            "Step 510, Loss: 2.064878463745117\n",
            "Step 520, Loss: 2.984083414077759\n",
            "Step 530, Loss: 2.439527750015259\n",
            "Step 540, Loss: 2.06412672996521\n",
            "Step 550, Loss: 2.094310998916626\n",
            "Step 560, Loss: 2.746927261352539\n",
            "Step 570, Loss: 2.070054769515991\n",
            "Step 580, Loss: 2.4810962677001953\n",
            "Step 590, Loss: 1.520837664604187\n",
            "Step 600, Loss: 2.670844554901123\n",
            "Step 610, Loss: 2.822387218475342\n",
            "Step 620, Loss: 2.471842050552368\n",
            "Step 630, Loss: 2.781496524810791\n",
            "Step 640, Loss: 2.491426467895508\n",
            "Step 650, Loss: 2.6647958755493164\n",
            "Step 660, Loss: 2.505854606628418\n",
            "Step 670, Loss: 2.352064371109009\n",
            "Step 680, Loss: 2.937652111053467\n",
            "Step 690, Loss: 3.255094528198242\n",
            "Step 700, Loss: 3.1706206798553467\n",
            "Step 710, Loss: 2.4601247310638428\n",
            "Step 720, Loss: 2.3922572135925293\n",
            "Step 730, Loss: 2.8173208236694336\n",
            "Step 740, Loss: 2.544182062149048\n",
            "Step 750, Loss: 2.1205790042877197\n",
            "Step 760, Loss: 2.9230995178222656\n",
            "Step 770, Loss: 2.0288474559783936\n",
            "Step 780, Loss: 2.5483386516571045\n",
            "Step 790, Loss: 2.2400074005126953\n",
            "Step 800, Loss: 3.135951519012451\n",
            "Step 810, Loss: 2.5281801223754883\n",
            "Step 820, Loss: 2.8680238723754883\n",
            "Step 830, Loss: 2.835996150970459\n",
            "Step 840, Loss: 3.0456745624542236\n",
            "Step 850, Loss: 2.4027862548828125\n",
            "Step 860, Loss: 2.513775110244751\n",
            "Step 870, Loss: 2.8044302463531494\n",
            "Step 880, Loss: 2.203312397003174\n",
            "Step 890, Loss: 2.6550354957580566\n",
            "Step 900, Loss: 2.853633403778076\n",
            "Step 910, Loss: 1.9415431022644043\n",
            "Step 920, Loss: 2.1577930450439453\n",
            "Step 930, Loss: 2.6112241744995117\n",
            "Step 940, Loss: 1.6453166007995605\n",
            "Step 950, Loss: 2.860470771789551\n",
            "Step 960, Loss: 1.8345222473144531\n",
            "Step 970, Loss: 2.7216992378234863\n",
            "Step 980, Loss: 1.6049118041992188\n",
            "Epoch 4/4\n",
            "Step 0, Loss: 1.8266996145248413\n",
            "Step 10, Loss: 2.341634750366211\n",
            "Step 20, Loss: 2.5871970653533936\n",
            "Step 30, Loss: 2.0561587810516357\n",
            "Step 40, Loss: 2.5039567947387695\n",
            "Step 50, Loss: 2.3308868408203125\n",
            "Step 60, Loss: 2.313601016998291\n",
            "Step 70, Loss: 2.3603007793426514\n",
            "Step 80, Loss: 2.355120897293091\n",
            "Step 90, Loss: 2.4596211910247803\n",
            "Step 100, Loss: 2.850912094116211\n",
            "Step 110, Loss: 2.792867660522461\n",
            "Step 120, Loss: 2.663295269012451\n",
            "Step 130, Loss: 2.208850383758545\n",
            "Step 140, Loss: 2.219005823135376\n",
            "Step 150, Loss: 2.129641532897949\n",
            "Step 160, Loss: 2.4360263347625732\n",
            "Step 170, Loss: 2.1868953704833984\n",
            "Step 180, Loss: 1.6215293407440186\n",
            "Step 190, Loss: 2.1156816482543945\n",
            "Step 200, Loss: 2.003343105316162\n",
            "Step 210, Loss: 1.6015857458114624\n",
            "Step 220, Loss: 2.104860305786133\n",
            "Step 230, Loss: 2.1813535690307617\n",
            "Step 240, Loss: 2.710165500640869\n",
            "Step 250, Loss: 2.2277119159698486\n",
            "Step 260, Loss: 1.6109418869018555\n",
            "Step 270, Loss: 2.440931558609009\n",
            "Step 280, Loss: 2.0126442909240723\n",
            "Step 290, Loss: 1.480296015739441\n",
            "Step 300, Loss: 2.493851900100708\n",
            "Step 310, Loss: 1.7113219499588013\n",
            "Step 320, Loss: 2.413723945617676\n",
            "Step 330, Loss: 2.242439031600952\n",
            "Step 340, Loss: 2.611239194869995\n",
            "Step 350, Loss: 2.5433127880096436\n",
            "Step 360, Loss: 2.375931978225708\n",
            "Step 370, Loss: 1.8679900169372559\n",
            "Step 380, Loss: 2.2051594257354736\n",
            "Step 390, Loss: 1.917889952659607\n",
            "Step 400, Loss: 2.5169506072998047\n",
            "Step 410, Loss: 2.7594971656799316\n",
            "Step 420, Loss: 1.4191758632659912\n",
            "Step 430, Loss: 2.4627492427825928\n",
            "Step 440, Loss: 2.382026195526123\n",
            "Step 450, Loss: 2.360086441040039\n",
            "Step 460, Loss: 2.7848551273345947\n",
            "Step 470, Loss: 2.5993587970733643\n",
            "Step 480, Loss: 1.8378726243972778\n",
            "Step 490, Loss: 2.290902853012085\n",
            "Step 500, Loss: 2.3250913619995117\n",
            "Step 510, Loss: 1.5686933994293213\n",
            "Step 520, Loss: 2.133082866668701\n",
            "Step 530, Loss: 2.451265811920166\n",
            "Step 540, Loss: 2.3820903301239014\n",
            "Step 550, Loss: 2.0106663703918457\n",
            "Step 560, Loss: 1.5930593013763428\n",
            "Step 570, Loss: 1.7920231819152832\n",
            "Step 580, Loss: 1.7105377912521362\n",
            "Step 590, Loss: 2.02363920211792\n",
            "Step 600, Loss: 2.337394952774048\n",
            "Step 610, Loss: 1.5410184860229492\n",
            "Step 620, Loss: 2.150259494781494\n",
            "Step 630, Loss: 2.0656280517578125\n",
            "Step 640, Loss: 2.6403188705444336\n",
            "Step 650, Loss: 2.763606548309326\n",
            "Step 660, Loss: 1.8072117567062378\n",
            "Step 670, Loss: 1.9696238040924072\n",
            "Step 680, Loss: 2.630923271179199\n",
            "Step 690, Loss: 2.6586456298828125\n",
            "Step 700, Loss: 1.8262568712234497\n",
            "Step 710, Loss: 2.191065788269043\n",
            "Step 720, Loss: 1.9373323917388916\n",
            "Step 730, Loss: 2.0402629375457764\n",
            "Step 740, Loss: 1.5612471103668213\n",
            "Step 750, Loss: 2.706850051879883\n",
            "Step 760, Loss: 1.8100552558898926\n",
            "Step 770, Loss: 2.2804839611053467\n",
            "Step 780, Loss: 1.736057996749878\n",
            "Step 790, Loss: 2.2255823612213135\n",
            "Step 800, Loss: 2.0832910537719727\n",
            "Step 810, Loss: 2.0027706623077393\n",
            "Step 820, Loss: 2.677649736404419\n",
            "Step 830, Loss: 2.623551368713379\n",
            "Step 840, Loss: 1.7848796844482422\n",
            "Step 850, Loss: 2.662899971008301\n",
            "Step 860, Loss: 2.0910115242004395\n",
            "Step 870, Loss: 2.7912065982818604\n",
            "Step 880, Loss: 2.066446542739868\n",
            "Step 890, Loss: 2.650761365890503\n",
            "Step 900, Loss: 2.150128126144409\n",
            "Step 910, Loss: 2.6889543533325195\n",
            "Step 920, Loss: 2.841369152069092\n",
            "Step 930, Loss: 2.135301113128662\n",
            "Step 940, Loss: 2.5149405002593994\n",
            "Step 950, Loss: 1.2438299655914307\n",
            "Step 960, Loss: 1.980897307395935\n",
            "Step 970, Loss: 1.8774902820587158\n",
            "Step 980, Loss: 1.9337947368621826\n",
            "Обученная модель сохранена в /content/drive/MyDrive/Стажировка/Semantic_2/bert_model.pt\n"
          ]
        }
      ]
    },
    {
      "cell_type": "markdown",
      "metadata": {
        "id": "jWoH2GXbFPjD"
      },
      "source": [
        "Оценка модели."
      ]
    },
    {
      "cell_type": "code",
      "source": [
        "import torch\n",
        "from sklearn.metrics import classification_report\n",
        "\n",
        "# Функция для оценки модели\n",
        "def evaluate_bert_model(model, val_dataloader, device):\n",
        "    model.eval()  # Переключение модели в режим оценки\n",
        "    predictions, true_labels = [], []\n",
        "\n",
        "    # Без вычисления градиентов для ускорения и экономии памяти\n",
        "    with torch.no_grad():\n",
        "        for batch in val_dataloader:\n",
        "            # Перенос данных на устройство\n",
        "            b_input_ids, b_input_mask, b_labels = tuple(t.to(device) for t in batch)\n",
        "\n",
        "            # Получение логитов от модели\n",
        "            outputs = model(b_input_ids, token_type_ids=None, attention_mask=b_input_mask)\n",
        "            logits = outputs.logits\n",
        "\n",
        "            # Определение предсказанных меток\n",
        "            predictions.extend(torch.argmax(logits, dim=1).tolist())\n",
        "            true_labels.extend(b_labels.tolist())\n",
        "\n",
        "    return predictions, true_labels\n",
        "\n",
        "# Оценка модели\n",
        "val_predictions, val_true_labels = evaluate_bert_model(model, val_dataloader, device)\n",
        "\n",
        "# Получение уникальных классов в проверочной выборке\n",
        "unique_classes = sorted(set(val_true_labels))\n",
        "\n",
        "# Проверка и вывод отчета по метрикам\n",
        "if len(val_predictions) == len(val_true_labels):\n",
        "    report = classification_report(\n",
        "        val_true_labels,\n",
        "        val_predictions,\n",
        "        labels=unique_classes,\n",
        "        target_names=[str(i) for i in unique_classes]\n",
        "    )\n",
        "    print(report)\n",
        "else:\n",
        "    print(\"Ошибка: количество предсказаний и истинных меток не совпадает.\")\n"
      ],
      "metadata": {
        "colab": {
          "base_uri": "https://localhost:8080/"
        },
        "id": "m8rQ6CdomYVz",
        "outputId": "d493bec7-80fa-40ca-85f0-96613e48c99a"
      },
      "execution_count": null,
      "outputs": [
        {
          "output_type": "stream",
          "name": "stdout",
          "text": [
            "              precision    recall  f1-score   support\n",
            "\n",
            "           0       0.54      0.76      0.63       177\n",
            "           4       0.00      0.00      0.00         1\n",
            "           5       0.00      0.00      0.00         1\n",
            "          10       0.45      0.50      0.47       109\n",
            "          11       0.00      0.00      0.00         1\n",
            "          14       0.00      0.00      0.00         1\n",
            "          15       0.00      0.00      0.00         2\n",
            "          17       0.59      0.85      0.70        26\n",
            "          18       0.00      0.00      0.00         2\n",
            "          19       0.78      0.89      0.83        47\n",
            "          20       0.75      0.84      0.79        45\n",
            "          21       0.00      0.00      0.00        58\n",
            "          22       1.00      0.09      0.17        11\n",
            "          23       0.00      0.00      0.00        33\n",
            "          24       0.72      0.55      0.62        33\n",
            "          25       0.65      0.89      0.75       187\n",
            "          26       0.00      0.00      0.00        61\n",
            "          27       0.00      0.00      0.00       115\n",
            "          28       0.49      0.61      0.54       122\n",
            "          29       0.44      0.68      0.54       171\n",
            "          30       0.00      0.00      0.00        32\n",
            "          31       0.00      0.00      0.00         4\n",
            "          32       0.25      0.05      0.08        65\n",
            "          33       0.27      0.34      0.30       175\n",
            "          34       0.35      0.76      0.48       119\n",
            "          35       0.40      0.32      0.36       141\n",
            "          36       0.09      0.06      0.07        17\n",
            "          37       0.47      0.38      0.42       100\n",
            "          38       0.69      0.76      0.72        29\n",
            "          39       0.23      0.40      0.30       173\n",
            "          40       0.09      0.03      0.05       119\n",
            "          41       0.00      0.00      0.00        85\n",
            "          42       0.57      0.38      0.46        21\n",
            "          43       0.64      0.88      0.74       163\n",
            "          44       0.46      0.72      0.56        47\n",
            "          45       0.00      0.00      0.00        35\n",
            "          46       0.40      0.09      0.15        90\n",
            "          47       0.32      0.50      0.39       185\n",
            "          48       0.21      0.24      0.22       151\n",
            "          49       0.00      0.00      0.00        85\n",
            "          50       0.29      0.35      0.32        65\n",
            "          51       0.00      0.00      0.00        15\n",
            "          52       0.00      0.00      0.00        21\n",
            "          53       0.57      0.82      0.67       151\n",
            "          54       0.67      0.72      0.69        25\n",
            "          55       0.48      0.81      0.61       168\n",
            "          56       0.00      0.00      0.00         5\n",
            "          57       0.07      0.03      0.04       161\n",
            "          58       0.00      0.00      0.00         9\n",
            "          59       0.38      0.12      0.18        51\n",
            "          60       0.00      0.00      0.00         7\n",
            "          61       0.38      0.41      0.39       111\n",
            "          62       0.00      0.00      0.00         2\n",
            "          63       0.00      0.00      0.00        15\n",
            "          64       0.00      0.00      0.00         6\n",
            "          65       0.61      0.72      0.66       155\n",
            "          66       0.45      0.92      0.61       155\n",
            "          67       0.00      0.00      0.00        17\n",
            "          68       0.56      0.16      0.25        31\n",
            "          70       0.00      0.00      0.00         1\n",
            "          71       0.00      0.00      0.00        13\n",
            "          72       1.00      0.15      0.26        79\n",
            "          73       0.00      0.00      0.00        19\n",
            "          74       0.82      0.67      0.74        75\n",
            "          75       0.00      0.00      0.00         7\n",
            "          76       0.00      0.00      0.00         2\n",
            "          77       0.00      0.00      0.00         5\n",
            "          78       0.00      0.00      0.00         2\n",
            "          79       0.29      0.15      0.20        13\n",
            "          80       0.00      0.00      0.00         7\n",
            "          81       0.00      0.00      0.00         8\n",
            "          82       0.00      0.00      0.00        16\n",
            "          83       0.00      0.00      0.00         3\n",
            "          84       0.00      0.00      0.00         8\n",
            "          85       0.00      0.00      0.00         2\n",
            "          89       0.00      0.00      0.00         8\n",
            "          90       0.00      0.00      0.00         8\n",
            "          91       1.00      0.25      0.40         4\n",
            "\n",
            "    accuracy                           0.45      4489\n",
            "   macro avg       0.25      0.24      0.22      4489\n",
            "weighted avg       0.37      0.45      0.38      4489\n",
            "\n"
          ]
        },
        {
          "output_type": "stream",
          "name": "stderr",
          "text": [
            "/usr/local/lib/python3.10/dist-packages/sklearn/metrics/_classification.py:1471: UndefinedMetricWarning: Precision and F-score are ill-defined and being set to 0.0 in labels with no predicted samples. Use `zero_division` parameter to control this behavior.\n",
            "  _warn_prf(average, modifier, msg_start, len(result))\n",
            "/usr/local/lib/python3.10/dist-packages/sklearn/metrics/_classification.py:1471: UndefinedMetricWarning: Precision and F-score are ill-defined and being set to 0.0 in labels with no predicted samples. Use `zero_division` parameter to control this behavior.\n",
            "  _warn_prf(average, modifier, msg_start, len(result))\n",
            "/usr/local/lib/python3.10/dist-packages/sklearn/metrics/_classification.py:1471: UndefinedMetricWarning: Precision and F-score are ill-defined and being set to 0.0 in labels with no predicted samples. Use `zero_division` parameter to control this behavior.\n",
            "  _warn_prf(average, modifier, msg_start, len(result))\n"
          ]
        }
      ]
    },
    {
      "cell_type": "code",
      "source": [
        "import matplotlib.pyplot as plt\n",
        "import numpy as np\n",
        "\n",
        "# Данные метрик по классам\n",
        "classes = np.array([\n",
        "    0, 4, 5, 10, 11, 14, 15, 17, 18, 19, 20, 21, 22, 23, 24, 25, 26, 27, 28, 29, 30, 31, 32, 33, 34, 35, 36, 37, 38, 39,\n",
        "    40, 41, 42, 43, 44, 45, 46, 47, 48, 49, 50, 51, 52, 53, 54, 55, 56, 57, 58, 59, 60, 61, 62, 63, 64, 65, 66, 67, 68,\n",
        "    70, 71, 72, 73, 74, 75, 76, 77, 78, 79, 80, 81, 82, 83, 84, 85, 89, 90, 91\n",
        "])\n",
        "\n",
        "precision = np.array([\n",
        "    0.54, 0.00, 0.00, 0.45, 0.00, 0.00, 0.00, 0.59, 0.00, 0.78, 0.75, 0.00, 1.00, 0.00, 0.72, 0.65, 0.00, 0.00, 0.49,\n",
        "    0.44, 0.00, 0.00, 0.25, 0.27, 0.35, 0.40, 0.09, 0.47, 0.69, 0.23, 0.09, 0.00, 0.57, 0.64, 0.46, 0.00, 0.40, 0.32,\n",
        "    0.21, 0.00, 0.29, 0.00, 0.00, 0.57, 0.67, 0.48, 0.00, 0.07, 0.00, 0.38, 0.00, 0.38, 0.00, 0.00, 0.00, 0.61, 0.45,\n",
        "    0.00, 0.56, 0.00, 0.00, 1.00, 0.00, 0.82, 0.00, 0.00, 0.00, 0.00, 0.29, 0.00, 0.00, 0.00, 0.00, 0.00, 0.00, 0.00,\n",
        "    0.00, 1.00\n",
        "])\n",
        "\n",
        "recall = np.array([\n",
        "    0.76, 0.00, 0.00, 0.50, 0.00, 0.00, 0.00, 0.85, 0.00, 0.89, 0.84, 0.00, 0.09, 0.00, 0.55, 0.89, 0.00, 0.00, 0.61,\n",
        "    0.68, 0.00, 0.00, 0.05, 0.34, 0.76, 0.32, 0.06, 0.38, 0.76, 0.40, 0.03, 0.00, 0.38, 0.88, 0.72, 0.00, 0.09, 0.50,\n",
        "    0.24, 0.00, 0.35, 0.00, 0.00, 0.82, 0.72, 0.81, 0.00, 0.03, 0.00, 0.12, 0.00, 0.41, 0.00, 0.00, 0.00, 0.72, 0.92,\n",
        "    0.00, 0.16, 0.00, 0.00, 0.15, 0.00, 0.67, 0.00, 0.00, 0.00, 0.00, 0.15, 0.00, 0.00, 0.00, 0.00, 0.00, 0.00, 0.00,\n",
        "    0.00, 0.25\n",
        "])\n",
        "\n",
        "f1_score = np.array([\n",
        "    0.63, 0.00, 0.00, 0.47, 0.00, 0.00, 0.00, 0.70, 0.00, 0.83, 0.79, 0.00, 0.17, 0.00, 0.62, 0.75, 0.00, 0.00, 0.54,\n",
        "    0.54, 0.00, 0.00, 0.08, 0.30, 0.48, 0.36, 0.07, 0.42, 0.72, 0.30, 0.05, 0.00, 0.46, 0.74, 0.56, 0.00, 0.15, 0.39,\n",
        "    0.22, 0.00, 0.32, 0.00, 0.00, 0.67, 0.69, 0.61, 0.00, 0.04, 0.00, 0.18, 0.00, 0.39, 0.00, 0.00, 0.00, 0.66, 0.61,\n",
        "    0.00, 0.25, 0.00, 0.00, 0.26, 0.00, 0.74, 0.00, 0.00, 0.00, 0.00, 0.20, 0.00, 0.00, 0.00, 0.00, 0.00, 0.00, 0.00,\n",
        "    0.00, 0.40\n",
        "])\n",
        "\n",
        "support = np.array([\n",
        "    177, 1, 1, 109, 1, 1, 2, 26, 2, 47, 45, 58, 11, 33, 33, 187, 61, 115, 122, 171, 32, 4, 65, 175, 119, 141, 17, 100,\n",
        "    29, 173, 119, 85, 21, 163, 47, 35, 90, 185, 151, 85, 65, 15, 21, 151, 25, 168, 5, 161, 9, 51, 7, 111, 2, 15, 6, 155,\n",
        "    155, 17, 31, 1, 13, 79, 19, 75, 7, 2, 5, 2, 13, 7, 8, 16, 3, 8, 2, 8, 8, 4\n",
        "])\n",
        "\n",
        "# Построение графиков\n",
        "plt.figure(figsize=(15, 6))\n",
        "\n",
        "# График точности\n",
        "plt.subplot(1, 3, 1)\n",
        "plt.bar(classes, precision, color='b', alpha=0.7, label='Precision')\n",
        "plt.xlabel('Class')\n",
        "plt.ylabel('Score')\n",
        "plt.title('Precision by Class')\n",
        "plt.xticks(rotation=90)\n",
        "\n",
        "# График полноты\n",
        "plt.subplot(1, 3, 2)\n",
        "plt.bar(classes, recall, color='g', alpha=0.7, label='Recall')\n",
        "plt.xlabel('Class')\n",
        "plt.ylabel('Score')\n",
        "plt.title('Recall by Class')\n",
        "plt.xticks(rotation=90)\n",
        "\n",
        "# График F1-оценки\n",
        "plt.subplot(1, 3, 3)\n",
        "plt.bar(classes, f1_score, color='r', alpha=0.7, label='F1 Score')\n",
        "plt.xlabel('Class')\n",
        "plt.ylabel('Score')\n",
        "plt.title('F1 Score by Class')\n",
        "plt.xticks(rotation=90)\n",
        "\n",
        "plt.tight_layout()\n",
        "plt.show\n"
      ],
      "metadata": {
        "colab": {
          "base_uri": "https://localhost:8080/",
          "height": 746
        },
        "id": "D7d3DVkqpNmS",
        "outputId": "1952ac5b-2246-44e2-dda5-a59d3d665e4e"
      },
      "execution_count": null,
      "outputs": [
        {
          "output_type": "execute_result",
          "data": {
            "text/plain": [
              "<function matplotlib.pyplot.show(close=None, block=None)>"
            ],
            "text/html": [
              "<div style=\"max-width:800px; border: 1px solid var(--colab-border-color);\"><style>\n",
              "      pre.function-repr-contents {\n",
              "        overflow-x: auto;\n",
              "        padding: 8px 12px;\n",
              "        max-height: 500px;\n",
              "      }\n",
              "\n",
              "      pre.function-repr-contents.function-repr-contents-collapsed {\n",
              "        cursor: pointer;\n",
              "        max-height: 100px;\n",
              "      }\n",
              "    </style>\n",
              "    <pre style=\"white-space: initial; background:\n",
              "         var(--colab-secondary-surface-color); padding: 8px 12px;\n",
              "         border-bottom: 1px solid var(--colab-border-color);\"><b>matplotlib.pyplot.show</b><br/>def show(*args, **kwargs)</pre><pre class=\"function-repr-contents function-repr-contents-collapsed\" style=\"\"><a class=\"filepath\" style=\"display:none\" href=\"#\">/usr/local/lib/python3.10/dist-packages/matplotlib/pyplot.py</a>Display all open figures.\n",
              "\n",
              "Parameters\n",
              "----------\n",
              "block : bool, optional\n",
              "    Whether to wait for all figures to be closed before returning.\n",
              "\n",
              "    If `True` block and run the GUI main loop until all figure windows\n",
              "    are closed.\n",
              "\n",
              "    If `False` ensure that all figure windows are displayed and return\n",
              "    immediately.  In this case, you are responsible for ensuring\n",
              "    that the event loop is running to have responsive figures.\n",
              "\n",
              "    Defaults to True in non-interactive mode and to False in interactive\n",
              "    mode (see `.pyplot.isinteractive`).\n",
              "\n",
              "See Also\n",
              "--------\n",
              "ion : Enable interactive mode, which shows / updates the figure after\n",
              "      every plotting command, so that calling ``show()`` is not necessary.\n",
              "ioff : Disable interactive mode.\n",
              "savefig : Save the figure to an image file instead of showing it on screen.\n",
              "\n",
              "Notes\n",
              "-----\n",
              "**Saving figures to file and showing a window at the same time**\n",
              "\n",
              "If you want an image file as well as a user interface window, use\n",
              "`.pyplot.savefig` before `.pyplot.show`. At the end of (a blocking)\n",
              "``show()`` the figure is closed and thus unregistered from pyplot. Calling\n",
              "`.pyplot.savefig` afterwards would save a new and thus empty figure. This\n",
              "limitation of command order does not apply if the show is non-blocking or\n",
              "if you keep a reference to the figure and use `.Figure.savefig`.\n",
              "\n",
              "**Auto-show in jupyter notebooks**\n",
              "\n",
              "The jupyter backends (activated via ``%matplotlib inline``,\n",
              "``%matplotlib notebook``, or ``%matplotlib widget``), call ``show()`` at\n",
              "the end of every cell by default. Thus, you usually don&#x27;t have to call it\n",
              "explicitly there.</pre>\n",
              "      <script>\n",
              "      if (google.colab.kernel.accessAllowed && google.colab.files && google.colab.files.view) {\n",
              "        for (const element of document.querySelectorAll('.filepath')) {\n",
              "          element.style.display = 'block'\n",
              "          element.onclick = (event) => {\n",
              "            event.preventDefault();\n",
              "            event.stopPropagation();\n",
              "            google.colab.files.view(element.textContent, 401);\n",
              "          };\n",
              "        }\n",
              "      }\n",
              "      for (const element of document.querySelectorAll('.function-repr-contents')) {\n",
              "        element.onclick = (event) => {\n",
              "          event.preventDefault();\n",
              "          event.stopPropagation();\n",
              "          element.classList.toggle('function-repr-contents-collapsed');\n",
              "        };\n",
              "      }\n",
              "      </script>\n",
              "      </div>"
            ]
          },
          "metadata": {},
          "execution_count": 5
        },
        {
          "output_type": "display_data",
          "data": {
            "text/plain": [
              "<Figure size 1500x600 with 3 Axes>"
            ],
            "image/png": "[encoded data removed]"
          },
          "metadata": {}
        }
      ]
    },
    {
      "cell_type": "code",
      "source": [
        "import pandas as pd\n",
        "\n",
        "# Путь к файлу\n",
        "file_path = \"/content/drive/MyDrive/Стажировка/Semantic_2/processed_data.parquet\"\n",
        "\n",
        "# Загрузка данных из файла\n",
        "df = pd.read_parquet(file_path)\n",
        "\n",
        "# Удаление дубликатов, чтобы отображать уникальные пары названий классов и их кодов\n",
        "unique_classes = df[['Portal User Group', 'portal_user_group_code']].drop_duplicates()\n",
        "\n",
        "# Убедитесь, что коды классов являются числами\n",
        "unique_classes['portal_user_group_code'] = unique_classes['portal_user_group_code'].astype(int)\n",
        "\n",
        "# Сортировка по коду класса\n",
        "unique_classes = unique_classes.sort_values(by='portal_user_group_code')\n",
        "\n",
        "# Вывод на экран с выравниванием\n",
        "print(f\"{'Class Name':<50} {'Class Code'}\")\n",
        "print(\"-\" * 60)\n",
        "for _, row in unique_classes.iterrows():\n",
        "    print(f\"{row['Portal User Group']:<50} {row['portal_user_group_code']:>10}\")\n"
      ],
      "metadata": {
        "colab": {
          "base_uri": "https://localhost:8080/"
        },
        "id": "41zNb54kl6dr",
        "outputId": "6ad32998-796a-455a-b7e0-8aabd4f58989"
      },
      "execution_count": null,
      "outputs": [
        {
          "output_type": "stream",
          "name": "stdout",
          "text": [
            "Class Name                                         Class Code\n",
            "------------------------------------------------------------\n",
            "MARKETING ACTIONS                                           1\n",
            "DEP3                                                        3\n",
            "DEP3 Sri-Lanka                                              5\n",
            "MICE                                                        6\n",
            "INFO CLAIM                                                  7\n",
            "PRODUCT CLAIM                                               9\n",
            "ACCOUNTING                                                 11\n",
            "MANAGEMENT CLAIM                                           12\n",
            "CTM Gift Card                                              14\n",
            "ELITE CLAIM                                                16\n",
            "CRM                                                        17\n",
            "DEP3 Seychelles                                            18\n",
            "REGION SALES Khabarovsk                                    21\n",
            "PRODUCT BAHRAIN                                            23\n",
            "REGION SALES Pyatigorsk                                    24\n",
            "REGION FLIGHT Saint-Petersburg                             26\n",
            "VISA                                                       27\n",
            "REGION SALES Kemerovo                                      28\n",
            "REGION SALES Arkhangelsk                                   29\n",
            "CHARTER AVIA                                               30\n",
            "REGION BOOKING Kazan                                       31\n",
            "REGION SALES Murmansk                                      32\n",
            "REGION BOOKING Saint-Petersburg                            33\n",
            "REGION SALES Ufa                                           34\n",
            "FINANCE                                                    36\n",
            "REGION SALES Irkutsk                                       37\n",
            "CLAIM                                                      38\n",
            "CTM1                                                       41\n",
            "REGION FLIGHT Kazan                                        42\n",
            "REGION SALES Tumen                                         44\n",
            "REGION SALES Krasnodar                                     45\n",
            "REGION SALES Voronezh                                      47\n",
            "PRODUCT CUBA                                               48\n",
            "ACCOUNTING RETURN                                          49\n",
            "BELARUS                                                    51\n",
            "REGION SALES Surgut                                        52\n",
            "REGION SALES Omsk                                          54\n",
            "REGION SALES Krasnoyarsk                                   55\n",
            "REGION SALES Nizhniy Novgorod                              56\n",
            "RESERVATION                                                57\n",
            "CTM CoralBonus                                             58\n",
            "CHARTER AVIA VYPISKA                                       59\n",
            "DEP3 Mauritius                                             60\n",
            "PRODUCT UAE                                                62\n",
            "MNENIE                                                     63\n",
            "REGION SALES Rostov on Don                                 64\n",
            "REGION SALES Belgorod                                      65\n",
            "ACCOUNTING NON-CASH                                        66\n",
            "ACCOUNTING VZAIM                                           67\n",
            "RESERVATION 2                                              68\n",
            "ACCOUNTING ATM                                             70\n",
            "ACCOUNTING NOTE                                            72\n",
            "PRODUCT THAILAND                                           73\n",
            "PRODUCT EGYPT                                              74\n",
            "CONFIRM 2                                                  75\n",
            "RESERVATION 1                                              76\n",
            "DEP3 Kenia                                                 77\n",
            "ONLINE SALES                                               78\n",
            "CTM Franch                                                 79\n",
            "REGION SALES Kaliningrad                                   80\n",
            "DEP3 Indonesia                                             81\n",
            "PRODUCT SKI                                                82\n",
            "DEP3 Tanzania                                              83\n",
            "PRODUCT TANZANIA                                           84\n",
            "CONFIRM 1                                                  85\n",
            "ACCOUNTING MIR                                             86\n",
            "GUEST RELATIONS                                            87\n",
            "PRODUCT VIETNAM                                            88\n",
            "CONFIRM                                                    89\n",
            "ACCOUNTING PAYMENTS                                        90\n",
            "RESERVATION 3                                              91\n",
            "PRODUCT MEXICO                                             92\n",
            "#TEST#CORAL#RUSSIA#                                        93\n",
            "PRODUCT DOMINICAN REP.                                     94\n",
            "MARKETING CLAIM                                            95\n",
            "CORAL BUSINESS SCHOOL                                      96\n",
            "PRODUCT INDIA                                              97\n",
            "MINIMIZATION                                               98\n",
            "HEADS OF REGIONAL SALES                                    99\n",
            "SALES HEADS                                               100\n",
            "CONFIRM 3                                                 101\n",
            "DEP3 CLAIM                                                102\n",
            "PRODUCT GREECE                                            103\n",
            "DEP3 Qatar                                                104\n",
            "DIRECT SALES                                              105\n",
            "VISA HELP                                                 106\n",
            "SFC                                                       107\n",
            "DIGITAL SALE                                              108\n",
            "PRODUCT CYPRUS                                            109\n",
            "PRODUCT SPAIN                                             110\n",
            "BOOKING CLAIM                                             111\n",
            "PRODUCT MOROCCO                                           112\n",
            "BOOKING B2C                                               113\n",
            "DOMESTIC  Claim                                           114\n",
            "CTM SunmarBonus                                           115\n",
            "ODEONBEDS                                                 116\n",
            "ROBOT ELITE                                               117\n"
          ]
        }
      ]
    },
    {
      "cell_type": "markdown",
      "source": [
        "## Основные метрики\n",
        "\n",
        "1. **Precision (Точность)**: Это доля правильно предсказанных положительных наблюдений среди всех предсказанных положительных наблюдений. Высокая точность означает, что модель редко предсказывает положительный класс ошибочно.\n",
        "\n",
        "   - Формула: \\(\\text{Precision} = \\frac{\\text{True Positives}}{\\text{True Positives} + \\text{False Positives}}\\)\n",
        "\n",
        "2. **Recall (Полнота)**: Это доля правильно предсказанных положительных наблюдений среди всех фактически положительных наблюдений. Высокая полнота означает, что модель захватывает большинство положительных случаев.\n",
        "\n",
        "   - Формула: \\(\\text{Recall} = \\frac{\\text{True Positives}}{\\text{True Positives} + \\text{False Negatives}}\\)\n",
        "\n",
        "3. **F1-score**: Это среднее гармоническое значение точности и полноты. F1-score учитывает как ложные положительные, так и ложные отрицательные срабатывания, и особенно полезен, когда классы не сбалансированы.\n",
        "\n",
        "   - Формула: \\(\\text{F1} = 2 \\cdot \\frac{\\text{Precision} \\cdot \\text{Recall}}{\\text{Precision} + \\text{Recall}}\\)\n",
        "\n",
        "4. **Support (Поддержка)**: Это количество истинных вхождений каждого класса в валидационной выборке. Оно показывает, насколько класс представлен в данных.\n",
        "\n",
        "### Интерпретация результатов\n",
        "\n",
        "- **Точность (Precision)** и **Полнота (Recall)** для большинства классов близки к нулю, что указывает на проблемы с точностью и полнотой предсказаний модели. Это часто бывает, если модель не обучена должным образом или классы не сбалансированы.\n",
        "  \n",
        "- **F1-score** низкий для большинства классов, что указывает на низкую согласованность между точностью и полнотой.\n",
        "  \n",
        "- Некоторые классы имеют F1-score выше, например, класс `19`, `20`, `25`, что говорит о том, что для этих классов модель работает лучше.\n",
        "\n",
        "- **Support** показывает, что у вас есть классы с очень малым количеством данных (например, 1 или 2), что может вызвать проблемы в обучении, так как модель может не иметь достаточных данных для обучения по этим классам.\n",
        "\n",
        "- **Accuracy (Точность классификации)**: 0.45, что означает, что модель правильно предсказала около 45% всех данных. Это довольно низкое значение для многих приложений, но может быть приемлемым в некоторых случаях в зависимости от задачи и сложности.\n",
        "\n",
        "- **Macro avg** и **Weighted avg**: Эти средние значения вычисляются для всех классов. Макро-среднее (`macro avg`) берет среднее значение по всем классам, не взвешивая их по численности. Взвешенное среднее (`weighted avg`) учитывает поддержку (численность) каждого класса.\n",
        "\n",
        "### Заключение\n",
        "\n",
        "1. **Низкая точность и полнота** для большинства классов свидетельствуют о том, что модель может нуждаться в доработке или пересмотре подхода к обучению. Это может включать улучшение данных, увеличение количества данных или применение других методов предобработки.\n",
        "\n",
        "2. **Классы с низкой поддержкой**: Такие классы следует пересмотреть. Возможно, их стоит исключить из обучения, если они не представляют интерес, или необходимо добавить больше данных для этих классов.\n",
        "\n",
        "3. **Дисбаланс классов**: Попробуйте использовать методы борьбы с дисбалансом классов, такие как взвешенные потери или oversampling/undersampling."
      ],
      "metadata": {
        "id": "uWwNVX_ZtVQ0"
      }
    },
    {
      "cell_type": "markdown",
      "metadata": {
        "id": "3CTZz5xz16G2"
      },
      "source": [
        "**Общий план для классификации текстов.**\n",
        "1. Загрузка данных.\n",
        "2. Предобработка данных.\n",
        "3. Очистка и нормализация текста с помощью pymorphy2.\n",
        "\n",
        "Токенизация\n",
        "* Определение границ предложений и словоформ.\n",
        "* Используется SpaCy.\n",
        "\n",
        "Лексический анализ\n",
        "* Идентификация семантически и синтаксически значимых последовательностей.\n",
        "* Используется SpaCy.\n",
        "\n",
        "Морфологический анализ\n",
        "* Определение вероятных лемм для каждой словоформы, стемминг.\n",
        "* Используется SpaCy.\n",
        "\n",
        "Синтаксический анализ\n",
        "* Определение границ именных и глагольных групп, числовых и вводных конструкций.\n",
        "* Установление связей между группами.\n",
        "* Используется SpaCy.\n",
        "\n",
        "Семантический анализ\n",
        "* Выделение сущностей, построение семантической сети, фильтрация контента.\n",
        "* Извлечение мнений, анализ тональности.\n",
        "* Используется SpaCy.\n",
        "\n",
        "4. Преобразование текста в числовые представления\n",
        "\n",
        "Bag of Words (BoW)\n",
        "* Представление текста в виде вектора, где каждый элемент соответствует количеству вхождений определенного слова.\n",
        "* Используются Scikit-learn.\n",
        "\n",
        "TF-IDF\n",
        "* Взвешивание слов в зависимости от их частоты в документе и в корпусе текстов.\n",
        "* Используются TfidfVectorizer из библиотеки Scikit-learn.\n",
        "\n",
        "Word Embeddings\n",
        "* Представление слов в виде плотных векторов, которые учитывают контекст.\n",
        "* Используются предобученные модели, такие как Word2Vec.\n",
        "\n",
        "5. Построение и обучение модели.\n",
        "\n",
        "6. Оценка модели.\n",
        "\n",
        "7. Мультиклассовая классификация с использованием BERT\n",
        "* Загрузка предобученной модели BERT.\n",
        "* Токенизация текста с использованием BERT.\n",
        " *Обучение модели на размеченных данных.\n",
        "* Предсказание классов для новых текстов."
      ]
    }
  ],
  "metadata": {
    "colab": {
      "machine_shape": "hm",
      "provenance": [],
      "include_colab_link": true
    },
    "kernelspec": {
      "display_name": "Python 3",
      "name": "python3"
    },
    "language_info": {
      "name": "python"
    },
    "widgets": {
      "application/vnd.jupyter.widget-state+json": {
        "7e2e6c28e7a1480ba6b0322c637e29c7": {
          "model_module": "@jupyter-widgets/controls",
          "model_name": "HBoxModel",
          "model_module_version": "1.5.0",
          "state": {
            "_dom_classes": [],
            "_model_module": "@jupyter-widgets/controls",
            "_model_module_version": "1.5.0",
            "_model_name": "HBoxModel",
            "_view_count": null,
            "_view_module": "@jupyter-widgets/controls",
            "_view_module_version": "1.5.0",
            "_view_name": "HBoxView",
            "box_style": "",
            "children": [
              "IPY_MODEL_9648cff2da8d4c799ab69c281eca1fb8",
              "IPY_MODEL_a1a1fd01ebec4051b0b64c1007248344",
              "IPY_MODEL_917a765a209e4720b27adaa2f6f52b83"
            ],
            "layout": "IPY_MODEL_3ef7d348b43840c099387bdc62e24b45"
          }
        },
        "9648cff2da8d4c799ab69c281eca1fb8": {
          "model_module": "@jupyter-widgets/controls",
          "model_name": "HTMLModel",
          "model_module_version": "1.5.0",
          "state": {
            "_dom_classes": [],
            "_model_module": "@jupyter-widgets/controls",
            "_model_module_version": "1.5.0",
            "_model_name": "HTMLModel",
            "_view_count": null,
            "_view_module": "@jupyter-widgets/controls",
            "_view_module_version": "1.5.0",
            "_view_name": "HTMLView",
            "description": "",
            "description_tooltip": null,
            "layout": "IPY_MODEL_06cd3bb4365545b9aa39e4ccb4fb4f09",
            "placeholder": "​",
            "style": "IPY_MODEL_923c48a3fa5e44cf9e041543741e34d1",
            "value": "tokenizer_config.json: 100%"
          }
        },
        "a1a1fd01ebec4051b0b64c1007248344": {
          "model_module": "@jupyter-widgets/controls",
          "model_name": "FloatProgressModel",
          "model_module_version": "1.5.0",
          "state": {
            "_dom_classes": [],
            "_model_module": "@jupyter-widgets/controls",
            "_model_module_version": "1.5.0",
            "_model_name": "FloatProgressModel",
            "_view_count": null,
            "_view_module": "@jupyter-widgets/controls",
            "_view_module_version": "1.5.0",
            "_view_name": "ProgressView",
            "bar_style": "success",
            "description": "",
            "description_tooltip": null,
            "layout": "IPY_MODEL_c092e580b42f426eb4a0a90581ddb508",
            "max": 48,
            "min": 0,
            "orientation": "horizontal",
            "style": "IPY_MODEL_7c97944ab4f14822924aa4958098c52d",
            "value": 48
          }
        },
        "917a765a209e4720b27adaa2f6f52b83": {
          "model_module": "@jupyter-widgets/controls",
          "model_name": "HTMLModel",
          "model_module_version": "1.5.0",
          "state": {
            "_dom_classes": [],
            "_model_module": "@jupyter-widgets/controls",
            "_model_module_version": "1.5.0",
            "_model_name": "HTMLModel",
            "_view_count": null,
            "_view_module": "@jupyter-widgets/controls",
            "_view_module_version": "1.5.0",
            "_view_name": "HTMLView",
            "description": "",
            "description_tooltip": null,
            "layout": "IPY_MODEL_313690dcc5f146a9bd9db2accd8421d7",
            "placeholder": "​",
            "style": "IPY_MODEL_f50c4a1f87044f9c865c2b0c29773bfb",
            "value": " 48.0/48.0 [00:00&lt;00:00, 4.54kB/s]"
          }
        },
        "3ef7d348b43840c099387bdc62e24b45": {
          "model_module": "@jupyter-widgets/base",
          "model_name": "LayoutModel",
          "model_module_version": "1.2.0",
          "state": {
            "_model_module": "@jupyter-widgets/base",
            "_model_module_version": "1.2.0",
            "_model_name": "LayoutModel",
            "_view_count": null,
            "_view_module": "@jupyter-widgets/base",
            "_view_module_version": "1.2.0",
            "_view_name": "LayoutView",
            "align_content": null,
            "align_items": null,
            "align_self": null,
            "border": null,
            "bottom": null,
            "display": null,
            "flex": null,
            "flex_flow": null,
            "grid_area": null,
            "grid_auto_columns": null,
            "grid_auto_flow": null,
            "grid_auto_rows": null,
            "grid_column": null,
            "grid_gap": null,
            "grid_row": null,
            "grid_template_areas": null,
            "grid_template_columns": null,
            "grid_template_rows": null,
            "height": null,
            "justify_content": null,
            "justify_items": null,
            "left": null,
            "margin": null,
            "max_height": null,
            "max_width": null,
            "min_height": null,
            "min_width": null,
            "object_fit": null,
            "object_position": null,
            "order": null,
            "overflow": null,
            "overflow_x": null,
            "overflow_y": null,
            "padding": null,
            "right": null,
            "top": null,
            "visibility": null,
            "width": null
          }
        },
        "06cd3bb4365545b9aa39e4ccb4fb4f09": {
          "model_module": "@jupyter-widgets/base",
          "model_name": "LayoutModel",
          "model_module_version": "1.2.0",
          "state": {
            "_model_module": "@jupyter-widgets/base",
            "_model_module_version": "1.2.0",
            "_model_name": "LayoutModel",
            "_view_count": null,
            "_view_module": "@jupyter-widgets/base",
            "_view_module_version": "1.2.0",
            "_view_name": "LayoutView",
            "align_content": null,
            "align_items": null,
            "align_self": null,
            "border": null,
            "bottom": null,
            "display": null,
            "flex": null,
            "flex_flow": null,
            "grid_area": null,
            "grid_auto_columns": null,
            "grid_auto_flow": null,
            "grid_auto_rows": null,
            "grid_column": null,
            "grid_gap": null,
            "grid_row": null,
            "grid_template_areas": null,
            "grid_template_columns": null,
            "grid_template_rows": null,
            "height": null,
            "justify_content": null,
            "justify_items": null,
            "left": null,
            "margin": null,
            "max_height": null,
            "max_width": null,
            "min_height": null,
            "min_width": null,
            "object_fit": null,
            "object_position": null,
            "order": null,
            "overflow": null,
            "overflow_x": null,
            "overflow_y": null,
            "padding": null,
            "right": null,
            "top": null,
            "visibility": null,
            "width": null
          }
        },
        "923c48a3fa5e44cf9e041543741e34d1": {
          "model_module": "@jupyter-widgets/controls",
          "model_name": "DescriptionStyleModel",
          "model_module_version": "1.5.0",
          "state": {
            "_model_module": "@jupyter-widgets/controls",
            "_model_module_version": "1.5.0",
            "_model_name": "DescriptionStyleModel",
            "_view_count": null,
            "_view_module": "@jupyter-widgets/base",
            "_view_module_version": "1.2.0",
            "_view_name": "StyleView",
            "description_width": ""
          }
        },
        "c092e580b42f426eb4a0a90581ddb508": {
          "model_module": "@jupyter-widgets/base",
          "model_name": "LayoutModel",
          "model_module_version": "1.2.0",
          "state": {
            "_model_module": "@jupyter-widgets/base",
            "_model_module_version": "1.2.0",
            "_model_name": "LayoutModel",
            "_view_count": null,
            "_view_module": "@jupyter-widgets/base",
            "_view_module_version": "1.2.0",
            "_view_name": "LayoutView",
            "align_content": null,
            "align_items": null,
            "align_self": null,
            "border": null,
            "bottom": null,
            "display": null,
            "flex": null,
            "flex_flow": null,
            "grid_area": null,
            "grid_auto_columns": null,
            "grid_auto_flow": null,
            "grid_auto_rows": null,
            "grid_column": null,
            "grid_gap": null,
            "grid_row": null,
            "grid_template_areas": null,
            "grid_template_columns": null,
            "grid_template_rows": null,
            "height": null,
            "justify_content": null,
            "justify_items": null,
            "left": null,
            "margin": null,
            "max_height": null,
            "max_width": null,
            "min_height": null,
            "min_width": null,
            "object_fit": null,
            "object_position": null,
            "order": null,
            "overflow": null,
            "overflow_x": null,
            "overflow_y": null,
            "padding": null,
            "right": null,
            "top": null,
            "visibility": null,
            "width": null
          }
        },
        "7c97944ab4f14822924aa4958098c52d": {
          "model_module": "@jupyter-widgets/controls",
          "model_name": "ProgressStyleModel",
          "model_module_version": "1.5.0",
          "state": {
            "_model_module": "@jupyter-widgets/controls",
            "_model_module_version": "1.5.0",
            "_model_name": "ProgressStyleModel",
            "_view_count": null,
            "_view_module": "@jupyter-widgets/base",
            "_view_module_version": "1.2.0",
            "_view_name": "StyleView",
            "bar_color": null,
            "description_width": ""
          }
        },
        "313690dcc5f146a9bd9db2accd8421d7": {
          "model_module": "@jupyter-widgets/base",
          "model_name": "LayoutModel",
          "model_module_version": "1.2.0",
          "state": {
            "_model_module": "@jupyter-widgets/base",
            "_model_module_version": "1.2.0",
            "_model_name": "LayoutModel",
            "_view_count": null,
            "_view_module": "@jupyter-widgets/base",
            "_view_module_version": "1.2.0",
            "_view_name": "LayoutView",
            "align_content": null,
            "align_items": null,
            "align_self": null,
            "border": null,
            "bottom": null,
            "display": null,
            "flex": null,
            "flex_flow": null,
            "grid_area": null,
            "grid_auto_columns": null,
            "grid_auto_flow": null,
            "grid_auto_rows": null,
            "grid_column": null,
            "grid_gap": null,
            "grid_row": null,
            "grid_template_areas": null,
            "grid_template_columns": null,
            "grid_template_rows": null,
            "height": null,
            "justify_content": null,
            "justify_items": null,
            "left": null,
            "margin": null,
            "max_height": null,
            "max_width": null,
            "min_height": null,
            "min_width": null,
            "object_fit": null,
            "object_position": null,
            "order": null,
            "overflow": null,
            "overflow_x": null,
            "overflow_y": null,
            "padding": null,
            "right": null,
            "top": null,
            "visibility": null,
            "width": null
          }
        },
        "f50c4a1f87044f9c865c2b0c29773bfb": {
          "model_module": "@jupyter-widgets/controls",
          "model_name": "DescriptionStyleModel",
          "model_module_version": "1.5.0",
          "state": {
            "_model_module": "@jupyter-widgets/controls",
            "_model_module_version": "1.5.0",
            "_model_name": "DescriptionStyleModel",
            "_view_count": null,
            "_view_module": "@jupyter-widgets/base",
            "_view_module_version": "1.2.0",
            "_view_name": "StyleView",
            "description_width": ""
          }
        },
        "6334e70fd56a4b24ae6c8fd0586efa7d": {
          "model_module": "@jupyter-widgets/controls",
          "model_name": "HBoxModel",
          "model_module_version": "1.5.0",
          "state": {
            "_dom_classes": [],
            "_model_module": "@jupyter-widgets/controls",
            "_model_module_version": "1.5.0",
            "_model_name": "HBoxModel",
            "_view_count": null,
            "_view_module": "@jupyter-widgets/controls",
            "_view_module_version": "1.5.0",
            "_view_name": "HBoxView",
            "box_style": "",
            "children": [
              "IPY_MODEL_7cfb9d822bf64baf90468e4421df9bd7",
              "IPY_MODEL_485819a0260244e79fa62ccaf0a74312",
              "IPY_MODEL_819853add47049bf9e253b2dfa71f3e4"
            ],
            "layout": "IPY_MODEL_d9001141b1b34de6b897ed24bf8b78b9"
          }
        },
        "7cfb9d822bf64baf90468e4421df9bd7": {
          "model_module": "@jupyter-widgets/controls",
          "model_name": "HTMLModel",
          "model_module_version": "1.5.0",
          "state": {
            "_dom_classes": [],
            "_model_module": "@jupyter-widgets/controls",
            "_model_module_version": "1.5.0",
            "_model_name": "HTMLModel",
            "_view_count": null,
            "_view_module": "@jupyter-widgets/controls",
            "_view_module_version": "1.5.0",
            "_view_name": "HTMLView",
            "description": "",
            "description_tooltip": null,
            "layout": "IPY_MODEL_21b6fe2877ad44469f60d341f0a60352",
            "placeholder": "​",
            "style": "IPY_MODEL_0ee66635bd034f348882d7e01e0fdcc9",
            "value": "vocab.txt: 100%"
          }
        },
        "485819a0260244e79fa62ccaf0a74312": {
          "model_module": "@jupyter-widgets/controls",
          "model_name": "FloatProgressModel",
          "model_module_version": "1.5.0",
          "state": {
            "_dom_classes": [],
            "_model_module": "@jupyter-widgets/controls",
            "_model_module_version": "1.5.0",
            "_model_name": "FloatProgressModel",
            "_view_count": null,
            "_view_module": "@jupyter-widgets/controls",
            "_view_module_version": "1.5.0",
            "_view_name": "ProgressView",
            "bar_style": "success",
            "description": "",
            "description_tooltip": null,
            "layout": "IPY_MODEL_6def9f768bc945a5aee70ef4b217bc83",
            "max": 231508,
            "min": 0,
            "orientation": "horizontal",
            "style": "IPY_MODEL_9691a64e03d640a0b5cbf88a26024d5d",
            "value": 231508
          }
        },
        "819853add47049bf9e253b2dfa71f3e4": {
          "model_module": "@jupyter-widgets/controls",
          "model_name": "HTMLModel",
          "model_module_version": "1.5.0",
          "state": {
            "_dom_classes": [],
            "_model_module": "@jupyter-widgets/controls",
            "_model_module_version": "1.5.0",
            "_model_name": "HTMLModel",
            "_view_count": null,
            "_view_module": "@jupyter-widgets/controls",
            "_view_module_version": "1.5.0",
            "_view_name": "HTMLView",
            "description": "",
            "description_tooltip": null,
            "layout": "IPY_MODEL_fc4c7e4ba9d64934a2aa1cf407ab7a90",
            "placeholder": "​",
            "style": "IPY_MODEL_1852174935cb48d895bf97528e2ea8ec",
            "value": " 232k/232k [00:00&lt;00:00, 5.13MB/s]"
          }
        },
        "d9001141b1b34de6b897ed24bf8b78b9": {
          "model_module": "@jupyter-widgets/base",
          "model_name": "LayoutModel",
          "model_module_version": "1.2.0",
          "state": {
            "_model_module": "@jupyter-widgets/base",
            "_model_module_version": "1.2.0",
            "_model_name": "LayoutModel",
            "_view_count": null,
            "_view_module": "@jupyter-widgets/base",
            "_view_module_version": "1.2.0",
            "_view_name": "LayoutView",
            "align_content": null,
            "align_items": null,
            "align_self": null,
            "border": null,
            "bottom": null,
            "display": null,
            "flex": null,
            "flex_flow": null,
            "grid_area": null,
            "grid_auto_columns": null,
            "grid_auto_flow": null,
            "grid_auto_rows": null,
            "grid_column": null,
            "grid_gap": null,
            "grid_row": null,
            "grid_template_areas": null,
            "grid_template_columns": null,
            "grid_template_rows": null,
            "height": null,
            "justify_content": null,
            "justify_items": null,
            "left": null,
            "margin": null,
            "max_height": null,
            "max_width": null,
            "min_height": null,
            "min_width": null,
            "object_fit": null,
            "object_position": null,
            "order": null,
            "overflow": null,
            "overflow_x": null,
            "overflow_y": null,
            "padding": null,
            "right": null,
            "top": null,
            "visibility": null,
            "width": null
          }
        },
        "21b6fe2877ad44469f60d341f0a60352": {
          "model_module": "@jupyter-widgets/base",
          "model_name": "LayoutModel",
          "model_module_version": "1.2.0",
          "state": {
            "_model_module": "@jupyter-widgets/base",
            "_model_module_version": "1.2.0",
            "_model_name": "LayoutModel",
            "_view_count": null,
            "_view_module": "@jupyter-widgets/base",
            "_view_module_version": "1.2.0",
            "_view_name": "LayoutView",
            "align_content": null,
            "align_items": null,
            "align_self": null,
            "border": null,
            "bottom": null,
            "display": null,
            "flex": null,
            "flex_flow": null,
            "grid_area": null,
            "grid_auto_columns": null,
            "grid_auto_flow": null,
            "grid_auto_rows": null,
            "grid_column": null,
            "grid_gap": null,
            "grid_row": null,
            "grid_template_areas": null,
            "grid_template_columns": null,
            "grid_template_rows": null,
            "height": null,
            "justify_content": null,
            "justify_items": null,
            "left": null,
            "margin": null,
            "max_height": null,
            "max_width": null,
            "min_height": null,
            "min_width": null,
            "object_fit": null,
            "object_position": null,
            "order": null,
            "overflow": null,
            "overflow_x": null,
            "overflow_y": null,
            "padding": null,
            "right": null,
            "top": null,
            "visibility": null,
            "width": null
          }
        },
        "0ee66635bd034f348882d7e01e0fdcc9": {
          "model_module": "@jupyter-widgets/controls",
          "model_name": "DescriptionStyleModel",
          "model_module_version": "1.5.0",
          "state": {
            "_model_module": "@jupyter-widgets/controls",
            "_model_module_version": "1.5.0",
            "_model_name": "DescriptionStyleModel",
            "_view_count": null,
            "_view_module": "@jupyter-widgets/base",
            "_view_module_version": "1.2.0",
            "_view_name": "StyleView",
            "description_width": ""
          }
        },
        "6def9f768bc945a5aee70ef4b217bc83": {
          "model_module": "@jupyter-widgets/base",
          "model_name": "LayoutModel",
          "model_module_version": "1.2.0",
          "state": {
            "_model_module": "@jupyter-widgets/base",
            "_model_module_version": "1.2.0",
            "_model_name": "LayoutModel",
            "_view_count": null,
            "_view_module": "@jupyter-widgets/base",
            "_view_module_version": "1.2.0",
            "_view_name": "LayoutView",
            "align_content": null,
            "align_items": null,
            "align_self": null,
            "border": null,
            "bottom": null,
            "display": null,
            "flex": null,
            "flex_flow": null,
            "grid_area": null,
            "grid_auto_columns": null,
            "grid_auto_flow": null,
            "grid_auto_rows": null,
            "grid_column": null,
            "grid_gap": null,
            "grid_row": null,
            "grid_template_areas": null,
            "grid_template_columns": null,
            "grid_template_rows": null,
            "height": null,
            "justify_content": null,
            "justify_items": null,
            "left": null,
            "margin": null,
            "max_height": null,
            "max_width": null,
            "min_height": null,
            "min_width": null,
            "object_fit": null,
            "object_position": null,
            "order": null,
            "overflow": null,
            "overflow_x": null,
            "overflow_y": null,
            "padding": null,
            "right": null,
            "top": null,
            "visibility": null,
            "width": null
          }
        },
        "9691a64e03d640a0b5cbf88a26024d5d": {
          "model_module": "@jupyter-widgets/controls",
          "model_name": "ProgressStyleModel",
          "model_module_version": "1.5.0",
          "state": {
            "_model_module": "@jupyter-widgets/controls",
            "_model_module_version": "1.5.0",
            "_model_name": "ProgressStyleModel",
            "_view_count": null,
            "_view_module": "@jupyter-widgets/base",
            "_view_module_version": "1.2.0",
            "_view_name": "StyleView",
            "bar_color": null,
            "description_width": ""
          }
        },
        "fc4c7e4ba9d64934a2aa1cf407ab7a90": {
          "model_module": "@jupyter-widgets/base",
          "model_name": "LayoutModel",
          "model_module_version": "1.2.0",
          "state": {
            "_model_module": "@jupyter-widgets/base",
            "_model_module_version": "1.2.0",
            "_model_name": "LayoutModel",
            "_view_count": null,
            "_view_module": "@jupyter-widgets/base",
            "_view_module_version": "1.2.0",
            "_view_name": "LayoutView",
            "align_content": null,
            "align_items": null,
            "align_self": null,
            "border": null,
            "bottom": null,
            "display": null,
            "flex": null,
            "flex_flow": null,
            "grid_area": null,
            "grid_auto_columns": null,
            "grid_auto_flow": null,
            "grid_auto_rows": null,
            "grid_column": null,
            "grid_gap": null,
            "grid_row": null,
            "grid_template_areas": null,
            "grid_template_columns": null,
            "grid_template_rows": null,
            "height": null,
            "justify_content": null,
            "justify_items": null,
            "left": null,
            "margin": null,
            "max_height": null,
            "max_width": null,
            "min_height": null,
            "min_width": null,
            "object_fit": null,
            "object_position": null,
            "order": null,
            "overflow": null,
            "overflow_x": null,
            "overflow_y": null,
            "padding": null,
            "right": null,
            "top": null,
            "visibility": null,
            "width": null
          }
        },
        "1852174935cb48d895bf97528e2ea8ec": {
          "model_module": "@jupyter-widgets/controls",
          "model_name": "DescriptionStyleModel",
          "model_module_version": "1.5.0",
          "state": {
            "_model_module": "@jupyter-widgets/controls",
            "_model_module_version": "1.5.0",
            "_model_name": "DescriptionStyleModel",
            "_view_count": null,
            "_view_module": "@jupyter-widgets/base",
            "_view_module_version": "1.2.0",
            "_view_name": "StyleView",
            "description_width": ""
          }
        },
        "b815458186144ecb980fec85ae62c720": {
          "model_module": "@jupyter-widgets/controls",
          "model_name": "HBoxModel",
          "model_module_version": "1.5.0",
          "state": {
            "_dom_classes": [],
            "_model_module": "@jupyter-widgets/controls",
            "_model_module_version": "1.5.0",
            "_model_name": "HBoxModel",
            "_view_count": null,
            "_view_module": "@jupyter-widgets/controls",
            "_view_module_version": "1.5.0",
            "_view_name": "HBoxView",
            "box_style": "",
            "children": [
              "IPY_MODEL_daa5a6bbe2d44e52a146f80f99ba8218",
              "IPY_MODEL_57a95ab9a9cd48f3bfcfca8e53fa7a6a",
              "IPY_MODEL_72dc0c4bb75c4f9cb0f6d95e43bd16ef"
            ],
            "layout": "IPY_MODEL_2c478dc284bc4d89ba5b81c2641ca2ab"
          }
        },
        "daa5a6bbe2d44e52a146f80f99ba8218": {
          "model_module": "@jupyter-widgets/controls",
          "model_name": "HTMLModel",
          "model_module_version": "1.5.0",
          "state": {
            "_dom_classes": [],
            "_model_module": "@jupyter-widgets/controls",
            "_model_module_version": "1.5.0",
            "_model_name": "HTMLModel",
            "_view_count": null,
            "_view_module": "@jupyter-widgets/controls",
            "_view_module_version": "1.5.0",
            "_view_name": "HTMLView",
            "description": "",
            "description_tooltip": null,
            "layout": "IPY_MODEL_75f5cec7d42946f7afc5261f5d781bf0",
            "placeholder": "​",
            "style": "IPY_MODEL_5a084600a16646d9a25a227bdc4b7d93",
            "value": "tokenizer.json: 100%"
          }
        },
        "57a95ab9a9cd48f3bfcfca8e53fa7a6a": {
          "model_module": "@jupyter-widgets/controls",
          "model_name": "FloatProgressModel",
          "model_module_version": "1.5.0",
          "state": {
            "_dom_classes": [],
            "_model_module": "@jupyter-widgets/controls",
            "_model_module_version": "1.5.0",
            "_model_name": "FloatProgressModel",
            "_view_count": null,
            "_view_module": "@jupyter-widgets/controls",
            "_view_module_version": "1.5.0",
            "_view_name": "ProgressView",
            "bar_style": "success",
            "description": "",
            "description_tooltip": null,
            "layout": "IPY_MODEL_6a52b8832cab4d718b5272db4b9f58fc",
            "max": 466062,
            "min": 0,
            "orientation": "horizontal",
            "style": "IPY_MODEL_f7753f1d47e74b5bad6ab4d9babc6071",
            "value": 466062
          }
        },
        "72dc0c4bb75c4f9cb0f6d95e43bd16ef": {
          "model_module": "@jupyter-widgets/controls",
          "model_name": "HTMLModel",
          "model_module_version": "1.5.0",
          "state": {
            "_dom_classes": [],
            "_model_module": "@jupyter-widgets/controls",
            "_model_module_version": "1.5.0",
            "_model_name": "HTMLModel",
            "_view_count": null,
            "_view_module": "@jupyter-widgets/controls",
            "_view_module_version": "1.5.0",
            "_view_name": "HTMLView",
            "description": "",
            "description_tooltip": null,
            "layout": "IPY_MODEL_fa489ce38300492faf86b93e7123ac76",
            "placeholder": "​",
            "style": "IPY_MODEL_4e0f09ce1fea47c3ab92defe28a5e32c",
            "value": " 466k/466k [00:00&lt;00:00, 22.2MB/s]"
          }
        },
        "2c478dc284bc4d89ba5b81c2641ca2ab": {
          "model_module": "@jupyter-widgets/base",
          "model_name": "LayoutModel",
          "model_module_version": "1.2.0",
          "state": {
            "_model_module": "@jupyter-widgets/base",
            "_model_module_version": "1.2.0",
            "_model_name": "LayoutModel",
            "_view_count": null,
            "_view_module": "@jupyter-widgets/base",
            "_view_module_version": "1.2.0",
            "_view_name": "LayoutView",
            "align_content": null,
            "align_items": null,
            "align_self": null,
            "border": null,
            "bottom": null,
            "display": null,
            "flex": null,
            "flex_flow": null,
            "grid_area": null,
            "grid_auto_columns": null,
            "grid_auto_flow": null,
            "grid_auto_rows": null,
            "grid_column": null,
            "grid_gap": null,
            "grid_row": null,
            "grid_template_areas": null,
            "grid_template_columns": null,
            "grid_template_rows": null,
            "height": null,
            "justify_content": null,
            "justify_items": null,
            "left": null,
            "margin": null,
            "max_height": null,
            "max_width": null,
            "min_height": null,
            "min_width": null,
            "object_fit": null,
            "object_position": null,
            "order": null,
            "overflow": null,
            "overflow_x": null,
            "overflow_y": null,
            "padding": null,
            "right": null,
            "top": null,
            "visibility": null,
            "width": null
          }
        },
        "75f5cec7d42946f7afc5261f5d781bf0": {
          "model_module": "@jupyter-widgets/base",
          "model_name": "LayoutModel",
          "model_module_version": "1.2.0",
          "state": {
            "_model_module": "@jupyter-widgets/base",
            "_model_module_version": "1.2.0",
            "_model_name": "LayoutModel",
            "_view_count": null,
            "_view_module": "@jupyter-widgets/base",
            "_view_module_version": "1.2.0",
            "_view_name": "LayoutView",
            "align_content": null,
            "align_items": null,
            "align_self": null,
            "border": null,
            "bottom": null,
            "display": null,
            "flex": null,
            "flex_flow": null,
            "grid_area": null,
            "grid_auto_columns": null,
            "grid_auto_flow": null,
            "grid_auto_rows": null,
            "grid_column": null,
            "grid_gap": null,
            "grid_row": null,
            "grid_template_areas": null,
            "grid_template_columns": null,
            "grid_template_rows": null,
            "height": null,
            "justify_content": null,
            "justify_items": null,
            "left": null,
            "margin": null,
            "max_height": null,
            "max_width": null,
            "min_height": null,
            "min_width": null,
            "object_fit": null,
            "object_position": null,
            "order": null,
            "overflow": null,
            "overflow_x": null,
            "overflow_y": null,
            "padding": null,
            "right": null,
            "top": null,
            "visibility": null,
            "width": null
          }
        },
        "5a084600a16646d9a25a227bdc4b7d93": {
          "model_module": "@jupyter-widgets/controls",
          "model_name": "DescriptionStyleModel",
          "model_module_version": "1.5.0",
          "state": {
            "_model_module": "@jupyter-widgets/controls",
            "_model_module_version": "1.5.0",
            "_model_name": "DescriptionStyleModel",
            "_view_count": null,
            "_view_module": "@jupyter-widgets/base",
            "_view_module_version": "1.2.0",
            "_view_name": "StyleView",
            "description_width": ""
          }
        },
        "6a52b8832cab4d718b5272db4b9f58fc": {
          "model_module": "@jupyter-widgets/base",
          "model_name": "LayoutModel",
          "model_module_version": "1.2.0",
          "state": {
            "_model_module": "@jupyter-widgets/base",
            "_model_module_version": "1.2.0",
            "_model_name": "LayoutModel",
            "_view_count": null,
            "_view_module": "@jupyter-widgets/base",
            "_view_module_version": "1.2.0",
            "_view_name": "LayoutView",
            "align_content": null,
            "align_items": null,
            "align_self": null,
            "border": null,
            "bottom": null,
            "display": null,
            "flex": null,
            "flex_flow": null,
            "grid_area": null,
            "grid_auto_columns": null,
            "grid_auto_flow": null,
            "grid_auto_rows": null,
            "grid_column": null,
            "grid_gap": null,
            "grid_row": null,
            "grid_template_areas": null,
            "grid_template_columns": null,
            "grid_template_rows": null,
            "height": null,
            "justify_content": null,
            "justify_items": null,
            "left": null,
            "margin": null,
            "max_height": null,
            "max_width": null,
            "min_height": null,
            "min_width": null,
            "object_fit": null,
            "object_position": null,
            "order": null,
            "overflow": null,
            "overflow_x": null,
            "overflow_y": null,
            "padding": null,
            "right": null,
            "top": null,
            "visibility": null,
            "width": null
          }
        },
        "f7753f1d47e74b5bad6ab4d9babc6071": {
          "model_module": "@jupyter-widgets/controls",
          "model_name": "ProgressStyleModel",
          "model_module_version": "1.5.0",
          "state": {
            "_model_module": "@jupyter-widgets/controls",
            "_model_module_version": "1.5.0",
            "_model_name": "ProgressStyleModel",
            "_view_count": null,
            "_view_module": "@jupyter-widgets/base",
            "_view_module_version": "1.2.0",
            "_view_name": "StyleView",
            "bar_color": null,
            "description_width": ""
          }
        },
        "fa489ce38300492faf86b93e7123ac76": {
          "model_module": "@jupyter-widgets/base",
          "model_name": "LayoutModel",
          "model_module_version": "1.2.0",
          "state": {
            "_model_module": "@jupyter-widgets/base",
            "_model_module_version": "1.2.0",
            "_model_name": "LayoutModel",
            "_view_count": null,
            "_view_module": "@jupyter-widgets/base",
            "_view_module_version": "1.2.0",
            "_view_name": "LayoutView",
            "align_content": null,
            "align_items": null,
            "align_self": null,
            "border": null,
            "bottom": null,
            "display": null,
            "flex": null,
            "flex_flow": null,
            "grid_area": null,
            "grid_auto_columns": null,
            "grid_auto_flow": null,
            "grid_auto_rows": null,
            "grid_column": null,
            "grid_gap": null,
            "grid_row": null,
            "grid_template_areas": null,
            "grid_template_columns": null,
            "grid_template_rows": null,
            "height": null,
            "justify_content": null,
            "justify_items": null,
            "left": null,
            "margin": null,
            "max_height": null,
            "max_width": null,
            "min_height": null,
            "min_width": null,
            "object_fit": null,
            "object_position": null,
            "order": null,
            "overflow": null,
            "overflow_x": null,
            "overflow_y": null,
            "padding": null,
            "right": null,
            "top": null,
            "visibility": null,
            "width": null
          }
        },
        "4e0f09ce1fea47c3ab92defe28a5e32c": {
          "model_module": "@jupyter-widgets/controls",
          "model_name": "DescriptionStyleModel",
          "model_module_version": "1.5.0",
          "state": {
            "_model_module": "@jupyter-widgets/controls",
            "_model_module_version": "1.5.0",
            "_model_name": "DescriptionStyleModel",
            "_view_count": null,
            "_view_module": "@jupyter-widgets/base",
            "_view_module_version": "1.2.0",
            "_view_name": "StyleView",
            "description_width": ""
          }
        },
        "17b554d05c8846568307c98410c64466": {
          "model_module": "@jupyter-widgets/controls",
          "model_name": "HBoxModel",
          "model_module_version": "1.5.0",
          "state": {
            "_dom_classes": [],
            "_model_module": "@jupyter-widgets/controls",
            "_model_module_version": "1.5.0",
            "_model_name": "HBoxModel",
            "_view_count": null,
            "_view_module": "@jupyter-widgets/controls",
            "_view_module_version": "1.5.0",
            "_view_name": "HBoxView",
            "box_style": "",
            "children": [
              "IPY_MODEL_a02ac67b678b449ab4a6907199897cf4",
              "IPY_MODEL_f92356036328436b9b8c0c03e71e3058",
              "IPY_MODEL_6b81a6cfb1e846e58d841dc268b00e4f"
            ],
            "layout": "IPY_MODEL_6ff208cf6e004720a67298f1151dcf20"
          }
        },
        "a02ac67b678b449ab4a6907199897cf4": {
          "model_module": "@jupyter-widgets/controls",
          "model_name": "HTMLModel",
          "model_module_version": "1.5.0",
          "state": {
            "_dom_classes": [],
            "_model_module": "@jupyter-widgets/controls",
            "_model_module_version": "1.5.0",
            "_model_name": "HTMLModel",
            "_view_count": null,
            "_view_module": "@jupyter-widgets/controls",
            "_view_module_version": "1.5.0",
            "_view_name": "HTMLView",
            "description": "",
            "description_tooltip": null,
            "layout": "IPY_MODEL_000e3fd891884290aa2adfbdccea827b",
            "placeholder": "​",
            "style": "IPY_MODEL_1b7b225bf44447a383dc8c6abb9a42c1",
            "value": "config.json: 100%"
          }
        },
        "f92356036328436b9b8c0c03e71e3058": {
          "model_module": "@jupyter-widgets/controls",
          "model_name": "FloatProgressModel",
          "model_module_version": "1.5.0",
          "state": {
            "_dom_classes": [],
            "_model_module": "@jupyter-widgets/controls",
            "_model_module_version": "1.5.0",
            "_model_name": "FloatProgressModel",
            "_view_count": null,
            "_view_module": "@jupyter-widgets/controls",
            "_view_module_version": "1.5.0",
            "_view_name": "ProgressView",
            "bar_style": "success",
            "description": "",
            "description_tooltip": null,
            "layout": "IPY_MODEL_122ddcc7c7ac4d7f8343bfcca28fb9e2",
            "max": 570,
            "min": 0,
            "orientation": "horizontal",
            "style": "IPY_MODEL_702203c835394b90b6ab86d18e41d1fe",
            "value": 570
          }
        },
        "6b81a6cfb1e846e58d841dc268b00e4f": {
          "model_module": "@jupyter-widgets/controls",
          "model_name": "HTMLModel",
          "model_module_version": "1.5.0",
          "state": {
            "_dom_classes": [],
            "_model_module": "@jupyter-widgets/controls",
            "_model_module_version": "1.5.0",
            "_model_name": "HTMLModel",
            "_view_count": null,
            "_view_module": "@jupyter-widgets/controls",
            "_view_module_version": "1.5.0",
            "_view_name": "HTMLView",
            "description": "",
            "description_tooltip": null,
            "layout": "IPY_MODEL_3d6efca31a2d4363bcde83d99835e281",
            "placeholder": "​",
            "style": "IPY_MODEL_2373427c0201482ca6230d4bc26a03f4",
            "value": " 570/570 [00:00&lt;00:00, 58.4kB/s]"
          }
        },
        "6ff208cf6e004720a67298f1151dcf20": {
          "model_module": "@jupyter-widgets/base",
          "model_name": "LayoutModel",
          "model_module_version": "1.2.0",
          "state": {
            "_model_module": "@jupyter-widgets/base",
            "_model_module_version": "1.2.0",
            "_model_name": "LayoutModel",
            "_view_count": null,
            "_view_module": "@jupyter-widgets/base",
            "_view_module_version": "1.2.0",
            "_view_name": "LayoutView",
            "align_content": null,
            "align_items": null,
            "align_self": null,
            "border": null,
            "bottom": null,
            "display": null,
            "flex": null,
            "flex_flow": null,
            "grid_area": null,
            "grid_auto_columns": null,
            "grid_auto_flow": null,
            "grid_auto_rows": null,
            "grid_column": null,
            "grid_gap": null,
            "grid_row": null,
            "grid_template_areas": null,
            "grid_template_columns": null,
            "grid_template_rows": null,
            "height": null,
            "justify_content": null,
            "justify_items": null,
            "left": null,
            "margin": null,
            "max_height": null,
            "max_width": null,
            "min_height": null,
            "min_width": null,
            "object_fit": null,
            "object_position": null,
            "order": null,
            "overflow": null,
            "overflow_x": null,
            "overflow_y": null,
            "padding": null,
            "right": null,
            "top": null,
            "visibility": null,
            "width": null
          }
        },
        "000e3fd891884290aa2adfbdccea827b": {
          "model_module": "@jupyter-widgets/base",
          "model_name": "LayoutModel",
          "model_module_version": "1.2.0",
          "state": {
            "_model_module": "@jupyter-widgets/base",
            "_model_module_version": "1.2.0",
            "_model_name": "LayoutModel",
            "_view_count": null,
            "_view_module": "@jupyter-widgets/base",
            "_view_module_version": "1.2.0",
            "_view_name": "LayoutView",
            "align_content": null,
            "align_items": null,
            "align_self": null,
            "border": null,
            "bottom": null,
            "display": null,
            "flex": null,
            "flex_flow": null,
            "grid_area": null,
            "grid_auto_columns": null,
            "grid_auto_flow": null,
            "grid_auto_rows": null,
            "grid_column": null,
            "grid_gap": null,
            "grid_row": null,
            "grid_template_areas": null,
            "grid_template_columns": null,
            "grid_template_rows": null,
            "height": null,
            "justify_content": null,
            "justify_items": null,
            "left": null,
            "margin": null,
            "max_height": null,
            "max_width": null,
            "min_height": null,
            "min_width": null,
            "object_fit": null,
            "object_position": null,
            "order": null,
            "overflow": null,
            "overflow_x": null,
            "overflow_y": null,
            "padding": null,
            "right": null,
            "top": null,
            "visibility": null,
            "width": null
          }
        },
        "1b7b225bf44447a383dc8c6abb9a42c1": {
          "model_module": "@jupyter-widgets/controls",
          "model_name": "DescriptionStyleModel",
          "model_module_version": "1.5.0",
          "state": {
            "_model_module": "@jupyter-widgets/controls",
            "_model_module_version": "1.5.0",
            "_model_name": "DescriptionStyleModel",
            "_view_count": null,
            "_view_module": "@jupyter-widgets/base",
            "_view_module_version": "1.2.0",
            "_view_name": "StyleView",
            "description_width": ""
          }
        },
        "122ddcc7c7ac4d7f8343bfcca28fb9e2": {
          "model_module": "@jupyter-widgets/base",
          "model_name": "LayoutModel",
          "model_module_version": "1.2.0",
          "state": {
            "_model_module": "@jupyter-widgets/base",
            "_model_module_version": "1.2.0",
            "_model_name": "LayoutModel",
            "_view_count": null,
            "_view_module": "@jupyter-widgets/base",
            "_view_module_version": "1.2.0",
            "_view_name": "LayoutView",
            "align_content": null,
            "align_items": null,
            "align_self": null,
            "border": null,
            "bottom": null,
            "display": null,
            "flex": null,
            "flex_flow": null,
            "grid_area": null,
            "grid_auto_columns": null,
            "grid_auto_flow": null,
            "grid_auto_rows": null,
            "grid_column": null,
            "grid_gap": null,
            "grid_row": null,
            "grid_template_areas": null,
            "grid_template_columns": null,
            "grid_template_rows": null,
            "height": null,
            "justify_content": null,
            "justify_items": null,
            "left": null,
            "margin": null,
            "max_height": null,
            "max_width": null,
            "min_height": null,
            "min_width": null,
            "object_fit": null,
            "object_position": null,
            "order": null,
            "overflow": null,
            "overflow_x": null,
            "overflow_y": null,
            "padding": null,
            "right": null,
            "top": null,
            "visibility": null,
            "width": null
          }
        },
        "702203c835394b90b6ab86d18e41d1fe": {
          "model_module": "@jupyter-widgets/controls",
          "model_name": "ProgressStyleModel",
          "model_module_version": "1.5.0",
          "state": {
            "_model_module": "@jupyter-widgets/controls",
            "_model_module_version": "1.5.0",
            "_model_name": "ProgressStyleModel",
            "_view_count": null,
            "_view_module": "@jupyter-widgets/base",
            "_view_module_version": "1.2.0",
            "_view_name": "StyleView",
            "bar_color": null,
            "description_width": ""
          }
        },
        "3d6efca31a2d4363bcde83d99835e281": {
          "model_module": "@jupyter-widgets/base",
          "model_name": "LayoutModel",
          "model_module_version": "1.2.0",
          "state": {
            "_model_module": "@jupyter-widgets/base",
            "_model_module_version": "1.2.0",
            "_model_name": "LayoutModel",
            "_view_count": null,
            "_view_module": "@jupyter-widgets/base",
            "_view_module_version": "1.2.0",
            "_view_name": "LayoutView",
            "align_content": null,
            "align_items": null,
            "align_self": null,
            "border": null,
            "bottom": null,
            "display": null,
            "flex": null,
            "flex_flow": null,
            "grid_area": null,
            "grid_auto_columns": null,
            "grid_auto_flow": null,
            "grid_auto_rows": null,
            "grid_column": null,
            "grid_gap": null,
            "grid_row": null,
            "grid_template_areas": null,
            "grid_template_columns": null,
            "grid_template_rows": null,
            "height": null,
            "justify_content": null,
            "justify_items": null,
            "left": null,
            "margin": null,
            "max_height": null,
            "max_width": null,
            "min_height": null,
            "min_width": null,
            "object_fit": null,
            "object_position": null,
            "order": null,
            "overflow": null,
            "overflow_x": null,
            "overflow_y": null,
            "padding": null,
            "right": null,
            "top": null,
            "visibility": null,
            "width": null
          }
        },
        "2373427c0201482ca6230d4bc26a03f4": {
          "model_module": "@jupyter-widgets/controls",
          "model_name": "DescriptionStyleModel",
          "model_module_version": "1.5.0",
          "state": {
            "_model_module": "@jupyter-widgets/controls",
            "_model_module_version": "1.5.0",
            "_model_name": "DescriptionStyleModel",
            "_view_count": null,
            "_view_module": "@jupyter-widgets/base",
            "_view_module_version": "1.2.0",
            "_view_name": "StyleView",
            "description_width": ""
          }
        },
        "7ff6ca969a984151baa7d58703ec5fe9": {
          "model_module": "@jupyter-widgets/controls",
          "model_name": "HBoxModel",
          "model_module_version": "1.5.0",
          "state": {
            "_dom_classes": [],
            "_model_module": "@jupyter-widgets/controls",
            "_model_module_version": "1.5.0",
            "_model_name": "HBoxModel",
            "_view_count": null,
            "_view_module": "@jupyter-widgets/controls",
            "_view_module_version": "1.5.0",
            "_view_name": "HBoxView",
            "box_style": "",
            "children": [
              "IPY_MODEL_13d7fd4dce0d4cd186a49e245a137e9b",
              "IPY_MODEL_63e4a44bcf5e4992b26fc98001e7f82c",
              "IPY_MODEL_4cfefa4e282b4875af173def0b3ed0f7"
            ],
            "layout": "IPY_MODEL_88c727250b6c4e628202fdb4e3562834"
          }
        },
        "13d7fd4dce0d4cd186a49e245a137e9b": {
          "model_module": "@jupyter-widgets/controls",
          "model_name": "HTMLModel",
          "model_module_version": "1.5.0",
          "state": {
            "_dom_classes": [],
            "_model_module": "@jupyter-widgets/controls",
            "_model_module_version": "1.5.0",
            "_model_name": "HTMLModel",
            "_view_count": null,
            "_view_module": "@jupyter-widgets/controls",
            "_view_module_version": "1.5.0",
            "_view_name": "HTMLView",
            "description": "",
            "description_tooltip": null,
            "layout": "IPY_MODEL_8c70464d2fe2424aab34bbba71ae4383",
            "placeholder": "​",
            "style": "IPY_MODEL_8bf60bb97a7a47cb802a421ea53ab025",
            "value": "model.safetensors: 100%"
          }
        },
        "63e4a44bcf5e4992b26fc98001e7f82c": {
          "model_module": "@jupyter-widgets/controls",
          "model_name": "FloatProgressModel",
          "model_module_version": "1.5.0",
          "state": {
            "_dom_classes": [],
            "_model_module": "@jupyter-widgets/controls",
            "_model_module_version": "1.5.0",
            "_model_name": "FloatProgressModel",
            "_view_count": null,
            "_view_module": "@jupyter-widgets/controls",
            "_view_module_version": "1.5.0",
            "_view_name": "ProgressView",
            "bar_style": "success",
            "description": "",
            "description_tooltip": null,
            "layout": "IPY_MODEL_7f9069e753e04144b29bd3a61fc5bb64",
            "max": 440449768,
            "min": 0,
            "orientation": "horizontal",
            "style": "IPY_MODEL_9a292d246b98469499285dcb45535c80",
            "value": 440449768
          }
        },
        "4cfefa4e282b4875af173def0b3ed0f7": {
          "model_module": "@jupyter-widgets/controls",
          "model_name": "HTMLModel",
          "model_module_version": "1.5.0",
          "state": {
            "_dom_classes": [],
            "_model_module": "@jupyter-widgets/controls",
            "_model_module_version": "1.5.0",
            "_model_name": "HTMLModel",
            "_view_count": null,
            "_view_module": "@jupyter-widgets/controls",
            "_view_module_version": "1.5.0",
            "_view_name": "HTMLView",
            "description": "",
            "description_tooltip": null,
            "layout": "IPY_MODEL_18068133196749079bd7fca29a866224",
            "placeholder": "​",
            "style": "IPY_MODEL_eec102c6b5084ddd86de2f6383cb48f3",
            "value": " 440M/440M [00:02&lt;00:00, 194MB/s]"
          }
        },
        "88c727250b6c4e628202fdb4e3562834": {
          "model_module": "@jupyter-widgets/base",
          "model_name": "LayoutModel",
          "model_module_version": "1.2.0",
          "state": {
            "_model_module": "@jupyter-widgets/base",
            "_model_module_version": "1.2.0",
            "_model_name": "LayoutModel",
            "_view_count": null,
            "_view_module": "@jupyter-widgets/base",
            "_view_module_version": "1.2.0",
            "_view_name": "LayoutView",
            "align_content": null,
            "align_items": null,
            "align_self": null,
            "border": null,
            "bottom": null,
            "display": null,
            "flex": null,
            "flex_flow": null,
            "grid_area": null,
            "grid_auto_columns": null,
            "grid_auto_flow": null,
            "grid_auto_rows": null,
            "grid_column": null,
            "grid_gap": null,
            "grid_row": null,
            "grid_template_areas": null,
            "grid_template_columns": null,
            "grid_template_rows": null,
            "height": null,
            "justify_content": null,
            "justify_items": null,
            "left": null,
            "margin": null,
            "max_height": null,
            "max_width": null,
            "min_height": null,
            "min_width": null,
            "object_fit": null,
            "object_position": null,
            "order": null,
            "overflow": null,
            "overflow_x": null,
            "overflow_y": null,
            "padding": null,
            "right": null,
            "top": null,
            "visibility": null,
            "width": null
          }
        },
        "8c70464d2fe2424aab34bbba71ae4383": {
          "model_module": "@jupyter-widgets/base",
          "model_name": "LayoutModel",
          "model_module_version": "1.2.0",
          "state": {
            "_model_module": "@jupyter-widgets/base",
            "_model_module_version": "1.2.0",
            "_model_name": "LayoutModel",
            "_view_count": null,
            "_view_module": "@jupyter-widgets/base",
            "_view_module_version": "1.2.0",
            "_view_name": "LayoutView",
            "align_content": null,
            "align_items": null,
            "align_self": null,
            "border": null,
            "bottom": null,
            "display": null,
            "flex": null,
            "flex_flow": null,
            "grid_area": null,
            "grid_auto_columns": null,
            "grid_auto_flow": null,
            "grid_auto_rows": null,
            "grid_column": null,
            "grid_gap": null,
            "grid_row": null,
            "grid_template_areas": null,
            "grid_template_columns": null,
            "grid_template_rows": null,
            "height": null,
            "justify_content": null,
            "justify_items": null,
            "left": null,
            "margin": null,
            "max_height": null,
            "max_width": null,
            "min_height": null,
            "min_width": null,
            "object_fit": null,
            "object_position": null,
            "order": null,
            "overflow": null,
            "overflow_x": null,
            "overflow_y": null,
            "padding": null,
            "right": null,
            "top": null,
            "visibility": null,
            "width": null
          }
        },
        "8bf60bb97a7a47cb802a421ea53ab025": {
          "model_module": "@jupyter-widgets/controls",
          "model_name": "DescriptionStyleModel",
          "model_module_version": "1.5.0",
          "state": {
            "_model_module": "@jupyter-widgets/controls",
            "_model_module_version": "1.5.0",
            "_model_name": "DescriptionStyleModel",
            "_view_count": null,
            "_view_module": "@jupyter-widgets/base",
            "_view_module_version": "1.2.0",
            "_view_name": "StyleView",
            "description_width": ""
          }
        },
        "7f9069e753e04144b29bd3a61fc5bb64": {
          "model_module": "@jupyter-widgets/base",
          "model_name": "LayoutModel",
          "model_module_version": "1.2.0",
          "state": {
            "_model_module": "@jupyter-widgets/base",
            "_model_module_version": "1.2.0",
            "_model_name": "LayoutModel",
            "_view_count": null,
            "_view_module": "@jupyter-widgets/base",
            "_view_module_version": "1.2.0",
            "_view_name": "LayoutView",
            "align_content": null,
            "align_items": null,
            "align_self": null,
            "border": null,
            "bottom": null,
            "display": null,
            "flex": null,
            "flex_flow": null,
            "grid_area": null,
            "grid_auto_columns": null,
            "grid_auto_flow": null,
            "grid_auto_rows": null,
            "grid_column": null,
            "grid_gap": null,
            "grid_row": null,
            "grid_template_areas": null,
            "grid_template_columns": null,
            "grid_template_rows": null,
            "height": null,
            "justify_content": null,
            "justify_items": null,
            "left": null,
            "margin": null,
            "max_height": null,
            "max_width": null,
            "min_height": null,
            "min_width": null,
            "object_fit": null,
            "object_position": null,
            "order": null,
            "overflow": null,
            "overflow_x": null,
            "overflow_y": null,
            "padding": null,
            "right": null,
            "top": null,
            "visibility": null,
            "width": null
          }
        },
        "9a292d246b98469499285dcb45535c80": {
          "model_module": "@jupyter-widgets/controls",
          "model_name": "ProgressStyleModel",
          "model_module_version": "1.5.0",
          "state": {
            "_model_module": "@jupyter-widgets/controls",
            "_model_module_version": "1.5.0",
            "_model_name": "ProgressStyleModel",
            "_view_count": null,
            "_view_module": "@jupyter-widgets/base",
            "_view_module_version": "1.2.0",
            "_view_name": "StyleView",
            "bar_color": null,
            "description_width": ""
          }
        },
        "18068133196749079bd7fca29a866224": {
          "model_module": "@jupyter-widgets/base",
          "model_name": "LayoutModel",
          "model_module_version": "1.2.0",
          "state": {
            "_model_module": "@jupyter-widgets/base",
            "_model_module_version": "1.2.0",
            "_model_name": "LayoutModel",
            "_view_count": null,
            "_view_module": "@jupyter-widgets/base",
            "_view_module_version": "1.2.0",
            "_view_name": "LayoutView",
            "align_content": null,
            "align_items": null,
            "align_self": null,
            "border": null,
            "bottom": null,
            "display": null,
            "flex": null,
            "flex_flow": null,
            "grid_area": null,
            "grid_auto_columns": null,
            "grid_auto_flow": null,
            "grid_auto_rows": null,
            "grid_column": null,
            "grid_gap": null,
            "grid_row": null,
            "grid_template_areas": null,
            "grid_template_columns": null,
            "grid_template_rows": null,
            "height": null,
            "justify_content": null,
            "justify_items": null,
            "left": null,
            "margin": null,
            "max_height": null,
            "max_width": null,
            "min_height": null,
            "min_width": null,
            "object_fit": null,
            "object_position": null,
            "order": null,
            "overflow": null,
            "overflow_x": null,
            "overflow_y": null,
            "padding": null,
            "right": null,
            "top": null,
            "visibility": null,
            "width": null
          }
        },
        "eec102c6b5084ddd86de2f6383cb48f3": {
          "model_module": "@jupyter-widgets/controls",
          "model_name": "DescriptionStyleModel",
          "model_module_version": "1.5.0",
          "state": {
            "_model_module": "@jupyter-widgets/controls",
            "_model_module_version": "1.5.0",
            "_model_name": "DescriptionStyleModel",
            "_view_count": null,
            "_view_module": "@jupyter-widgets/base",
            "_view_module_version": "1.2.0",
            "_view_name": "StyleView",
            "description_width": ""
          }
        }
      }
    }
  },
  "nbformat": 4,
  "nbformat_minor": 0
}