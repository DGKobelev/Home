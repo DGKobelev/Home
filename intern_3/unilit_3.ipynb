{
  "nbformat": 4,
  "nbformat_minor": 0,
  "metadata": {
    "colab": {
      "provenance": [],
      "authorship_tag": "ABX9TyO0GMs0Uo3bru/9htoEBlZQ",
      "include_colab_link": true
    },
    "kernelspec": {
      "name": "python3",
      "display_name": "Python 3"
    },
    "language_info": {
      "name": "python"
    }
  },
  "cells": [
    {
      "cell_type": "markdown",
      "metadata": {
        "id": "view-in-github",
        "colab_type": "text"
      },
      "source": [
        "<a href=\"https://colab.research.google.com/github/DGKobelev/Home/blob/main/intern_3/unilit_3.ipynb\" target=\"_parent\"><img src=\"https://colab.research.google.com/assets/colab-badge.svg\" alt=\"Open In Colab\"/></a>"
      ]
    },
    {
      "cell_type": "code",
      "execution_count": null,
      "metadata": {
        "id": "IxoHqaytSMJd",
        "colab": {
          "base_uri": "https://localhost:8080/"
        },
        "outputId": "0aa7c631-3417-46aa-cfab-127647e40e1c"
      },
      "outputs": [
        {
          "output_type": "stream",
          "name": "stdout",
          "text": [
            "Mounted at /content/drive\n"
          ]
        }
      ],
      "source": [
        "from google.colab import drive\n",
        "drive.mount('/content/drive')\n"
      ]
    },
    {
      "cell_type": "markdown",
      "source": [
        "Загрузка файлов (основного файла с рекомендациями и файла с сообщениями).\n",
        "\n",
        "Предварительная обработка данных (переименование колонок, приведение текста к нижнему регистру и т.д.)."
      ],
      "metadata": {
        "id": "lZ8zeIuu_Jc5"
      }
    },
    {
      "cell_type": "code",
      "source": [
        "# Импорт необходимых библиотек\n",
        "import pandas as pd\n",
        "\n",
        "# Загрузка основного файла с рекомендациями\n",
        "selection_file_path = '/content/drive/MyDrive/Unilit/selection.xlsx'\n",
        "selection_data = pd.read_excel(selection_file_path, sheet_name='Лист1')\n",
        "\n",
        "# Загрузка файла с новыми сообщениями\n",
        "obrascheniya_file_path = '/content/drive/MyDrive/Unilit/Копия Обращения2.xlsx'\n",
        "obrascheniya_data = pd.read_excel(obrascheniya_file_path, sheet_name='Лист1')\n",
        "\n",
        "# Переименование колонок для упрощения работы, если это необходимо\n",
        "selection_data.columns = ['Суть обращения', 'Комментарии инженера']\n",
        "obrascheniya_data.columns = ['Суть обращения', 'Комментарии инженера']\n",
        "\n",
        "# Извлечение только колонки \"Суть обращения\" из файла с сообщениями об ошибках\n",
        "new_issues = obrascheniya_data[['Суть обращения']]\n",
        "\n",
        "# Приведение текста к нижнему регистру для унификации\n",
        "selection_data['Суть обращения'] = selection_data['Суть обращения'].str.lower()\n",
        "new_issues.loc[:, 'Суть обращения'] = new_issues['Суть обращения'].str.lower()\n",
        "\n",
        "# Сохранение подготовленных данных в новые файлы на Google Диске\n",
        "selection_data.to_csv('/content/drive/MyDrive/Unilit/prepared_selection_data.csv', index=False)\n",
        "new_issues.to_csv('/content/drive/MyDrive/Unilit/prepared_new_issues.csv', index=False)\n",
        "\n",
        "print(\"Данные успешно подготовлены и сохранены.\")\n"
      ],
      "metadata": {
        "colab": {
          "base_uri": "https://localhost:8080/"
        },
        "id": "NJb1tX5P8zbI",
        "outputId": "1f61444c-5923-438d-d356-2ddf3cf667b8"
      },
      "execution_count": null,
      "outputs": [
        {
          "output_type": "stream",
          "name": "stdout",
          "text": [
            "Данные успешно подготовлены и сохранены.\n"
          ]
        }
      ]
    },
    {
      "cell_type": "markdown",
      "source": [
        "Выделим основные категории."
      ],
      "metadata": {
        "id": "FQKnUej9_ZaW"
      }
    },
    {
      "cell_type": "code",
      "source": [
        "# Импорт библиотек\n",
        "import pandas as pd\n",
        "\n",
        "# Загрузка подготовленного основного файла\n",
        "selection_data = pd.read_csv('/content/drive/MyDrive/Unilit/prepared_selection_data.csv')\n",
        "\n",
        "# Определение основных категорий с учетом новых добавленных категорий\n",
        "categories = {\n",
        "    'автоматический режим': ['автоматический режим', 'авто'],\n",
        "    'связь с объектами': ['связь', 'контроллер', 'sim-карта', 'подстанция'],\n",
        "    'фотореле': ['фотореле', 'освещенность'],\n",
        "    'dali': ['dali', 'модуль управления'],\n",
        "    'счетчик': ['счетчик']\n",
        "}\n",
        "\n",
        "# Функция для присвоения категории на основе ключевых слов\n",
        "def categorize_issue(issue):\n",
        "    for category, keywords in categories.items():\n",
        "        if any(keyword in issue for keyword in keywords):\n",
        "            return category\n",
        "    return 'другое'  # Для случаев, которые не попадают под известные категории\n",
        "\n",
        "# Применение функции для создания нового столбца \"Категория\"\n",
        "selection_data['Категория'] = selection_data['Суть обращения'].apply(categorize_issue)\n",
        "\n",
        "# Сохранение обновленного файла с категориями\n",
        "selection_data.to_csv('/content/drive/MyDrive/Unilit/selection_data_with_categories.csv', index=False)\n",
        "\n",
        "print(\"Категории успешно присвоены и сохранены.\")\n"
      ],
      "metadata": {
        "colab": {
          "base_uri": "https://localhost:8080/"
        },
        "id": "TVXaG8arB6CV",
        "outputId": "8d41cb02-0c7b-4671-ae88-01ddb25ad150"
      },
      "execution_count": null,
      "outputs": [
        {
          "output_type": "stream",
          "name": "stdout",
          "text": [
            "Категории успешно присвоены и сохранены.\n"
          ]
        }
      ]
    },
    {
      "cell_type": "markdown",
      "source": [
        "Ссопоставление базового файла с каждым сообщением файла на основе обычного смысла. Используем текстовую симметричную близость, чтобы автоматически искать подходящие категории для каждого сообщения."
      ],
      "metadata": {
        "id": "FPY1Cc4cJorF"
      }
    },
    {
      "cell_type": "code",
      "source": [
        "# Импорт необходимых библиотек\n",
        "import pandas as pd\n",
        "\n",
        "# Загрузка данных\n",
        "selection_data = pd.read_csv('/content/drive/MyDrive/Unilit/selection_data_with_categories.csv')\n",
        "new_issues = pd.read_csv('/content/drive/MyDrive/Unilit/prepared_new_issues.csv')\n",
        "\n",
        "# Преобразование текста в нижний регистр для унификации поиска\n",
        "selection_data['Суть обращения'] = selection_data['Суть обращения'].str.lower()\n",
        "new_issues['Суть обращения'] = new_issues['Суть обращения'].str.lower()\n",
        "\n",
        "# Функция для поиска ключевых слов и присвоения категорий\n",
        "def assign_category(issue, selection_data):\n",
        "    for _, row in selection_data.iterrows():\n",
        "        keywords = row['Суть обращения'].split()  # Разделяем на слова как ключевые слова\n",
        "        if any(keyword in issue for keyword in keywords):\n",
        "            return row['Категория']  # Возвращаем категорию, если нашли совпадение по ключевому слову\n",
        "    return 'другое'  # Если совпадений не найдено, присваиваем \"другое\"\n",
        "\n",
        "# Применение функции для каждого нового сообщения\n",
        "new_issues['Категория'] = new_issues['Суть обращения'].apply(lambda issue: assign_category(issue, selection_data))\n",
        "\n",
        "# Сохранение результатов в новый файл\n",
        "new_issues.to_csv('/content/drive/MyDrive/Unilit/new_issues_with_assigned_categories.csv', index=False)\n",
        "\n",
        "print(\"Категории успешно присвоены на основе ключевых слов и сохранены в файл.\")\n"
      ],
      "metadata": {
        "colab": {
          "base_uri": "https://localhost:8080/"
        },
        "id": "BDLfF9SvSIjx",
        "outputId": "2c5b6bbd-4029-44cd-ef04-ec05f3beb86c"
      },
      "execution_count": null,
      "outputs": [
        {
          "output_type": "stream",
          "name": "stdout",
          "text": [
            "Категории успешно присвоены на основе ключевых слов и сохранены в файл.\n"
          ]
        }
      ]
    }
  ]
}